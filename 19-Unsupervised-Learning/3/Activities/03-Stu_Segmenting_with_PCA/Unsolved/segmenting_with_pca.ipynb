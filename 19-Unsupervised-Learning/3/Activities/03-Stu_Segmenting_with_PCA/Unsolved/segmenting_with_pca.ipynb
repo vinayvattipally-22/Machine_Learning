{
 "cells": [
  {
   "cell_type": "code",
   "execution_count": 34,
   "metadata": {},
   "outputs": [],
   "source": [
    "# Import the modules\n",
    "import pandas as pd\n",
    "import hvplot.pandas\n",
    "from pathlib import Path\n",
    "from sklearn.cluster import KMeans"
   ]
  },
  {
   "attachments": {},
   "cell_type": "markdown",
   "metadata": {},
   "source": [
    "### Read in the CSV file and prepare the Pandas DataFrame"
   ]
  },
  {
   "cell_type": "code",
   "execution_count": 2,
   "metadata": {},
   "outputs": [
    {
     "data": {
      "text/html": [
       "<div>\n",
       "<style scoped>\n",
       "    .dataframe tbody tr th:only-of-type {\n",
       "        vertical-align: middle;\n",
       "    }\n",
       "\n",
       "    .dataframe tbody tr th {\n",
       "        vertical-align: top;\n",
       "    }\n",
       "\n",
       "    .dataframe thead th {\n",
       "        text-align: right;\n",
       "    }\n",
       "</style>\n",
       "<table border=\"1\" class=\"dataframe\">\n",
       "  <thead>\n",
       "    <tr style=\"text-align: right;\">\n",
       "      <th></th>\n",
       "      <th>feature_1</th>\n",
       "      <th>feature_2</th>\n",
       "      <th>feature_3</th>\n",
       "      <th>feature_4</th>\n",
       "      <th>feature_5</th>\n",
       "      <th>feature_6</th>\n",
       "      <th>feature_7</th>\n",
       "      <th>feature_8</th>\n",
       "      <th>feature_9</th>\n",
       "      <th>feature_10</th>\n",
       "    </tr>\n",
       "  </thead>\n",
       "  <tbody>\n",
       "    <tr>\n",
       "      <th>0</th>\n",
       "      <td>1.148534</td>\n",
       "      <td>4.606077</td>\n",
       "      <td>2.699069</td>\n",
       "      <td>-2.661824</td>\n",
       "      <td>1.526433</td>\n",
       "      <td>1.236671</td>\n",
       "      <td>0.211421</td>\n",
       "      <td>1.482896</td>\n",
       "      <td>-4.445627</td>\n",
       "      <td>-1.936831</td>\n",
       "    </tr>\n",
       "    <tr>\n",
       "      <th>1</th>\n",
       "      <td>-1.149410</td>\n",
       "      <td>-1.650549</td>\n",
       "      <td>2.530167</td>\n",
       "      <td>-3.227088</td>\n",
       "      <td>0.572138</td>\n",
       "      <td>4.162600</td>\n",
       "      <td>-0.291679</td>\n",
       "      <td>-1.237575</td>\n",
       "      <td>3.604765</td>\n",
       "      <td>-1.635689</td>\n",
       "    </tr>\n",
       "    <tr>\n",
       "      <th>2</th>\n",
       "      <td>0.332427</td>\n",
       "      <td>-0.887985</td>\n",
       "      <td>-0.309216</td>\n",
       "      <td>0.399891</td>\n",
       "      <td>0.828492</td>\n",
       "      <td>3.641945</td>\n",
       "      <td>-0.916946</td>\n",
       "      <td>-1.978024</td>\n",
       "      <td>1.056772</td>\n",
       "      <td>-1.882747</td>\n",
       "    </tr>\n",
       "    <tr>\n",
       "      <th>3</th>\n",
       "      <td>2.245599</td>\n",
       "      <td>3.826309</td>\n",
       "      <td>0.264039</td>\n",
       "      <td>0.095471</td>\n",
       "      <td>1.984380</td>\n",
       "      <td>0.373991</td>\n",
       "      <td>-0.280279</td>\n",
       "      <td>1.602786</td>\n",
       "      <td>-5.993331</td>\n",
       "      <td>-2.258925</td>\n",
       "    </tr>\n",
       "    <tr>\n",
       "      <th>4</th>\n",
       "      <td>0.705503</td>\n",
       "      <td>-1.312329</td>\n",
       "      <td>0.895406</td>\n",
       "      <td>-0.405408</td>\n",
       "      <td>1.116187</td>\n",
       "      <td>3.699562</td>\n",
       "      <td>-1.427985</td>\n",
       "      <td>-1.494409</td>\n",
       "      <td>1.156908</td>\n",
       "      <td>-1.434964</td>\n",
       "    </tr>\n",
       "  </tbody>\n",
       "</table>\n",
       "</div>"
      ],
      "text/plain": [
       "   feature_1  feature_2  feature_3  feature_4  feature_5  feature_6  \\\n",
       "0   1.148534   4.606077   2.699069  -2.661824   1.526433   1.236671   \n",
       "1  -1.149410  -1.650549   2.530167  -3.227088   0.572138   4.162600   \n",
       "2   0.332427  -0.887985  -0.309216   0.399891   0.828492   3.641945   \n",
       "3   2.245599   3.826309   0.264039   0.095471   1.984380   0.373991   \n",
       "4   0.705503  -1.312329   0.895406  -0.405408   1.116187   3.699562   \n",
       "\n",
       "   feature_7  feature_8  feature_9  feature_10  \n",
       "0   0.211421   1.482896  -4.445627   -1.936831  \n",
       "1  -0.291679  -1.237575   3.604765   -1.635689  \n",
       "2  -0.916946  -1.978024   1.056772   -1.882747  \n",
       "3  -0.280279   1.602786  -5.993331   -2.258925  \n",
       "4  -1.427985  -1.494409   1.156908   -1.434964  "
      ]
     },
     "execution_count": 2,
     "metadata": {},
     "output_type": "execute_result"
    }
   ],
   "source": [
    "# Read the csv file into a pandas DataFrame\n",
    "customers_transformed_df = pd.read_csv(\n",
    "    Path(\"../Resources/customers.csv\")\n",
    ")\n",
    "\n",
    "# Review the DataFrame\n",
    "customers_transformed_df.head()"
   ]
  },
  {
   "attachments": {},
   "cell_type": "markdown",
   "metadata": {},
   "source": [
    "### Step 1: Use PCA to reduce the dimensionality of the transformed customers DataFrame to 2 principal components"
   ]
  },
  {
   "cell_type": "code",
   "execution_count": 3,
   "metadata": {},
   "outputs": [],
   "source": [
    "# Import the PCA module\n",
    "from sklearn.decomposition import PCA"
   ]
  },
  {
   "cell_type": "code",
   "execution_count": 43,
   "metadata": {},
   "outputs": [],
   "source": [
    "# Instantiate the PCA instance and declare the number of PCA variables\n",
    "pca = PCA(n_components=5)"
   ]
  },
  {
   "cell_type": "code",
   "execution_count": 44,
   "metadata": {},
   "outputs": [
    {
     "data": {
      "text/plain": [
       "array([[-4.72382358, -0.60489964, -1.60870571, -1.88467437, -2.08414805],\n",
       "       [ 5.85571568, -1.98331135, -0.27090238,  0.7410195 , -0.0132483 ],\n",
       "       [ 2.43063042, -3.15456594,  3.94758905,  1.13151819, -0.89219366],\n",
       "       [-6.96050326, -1.35772617,  1.89108841, -1.24852565, -1.17304177],\n",
       "       [ 2.47746793, -3.29412896,  2.43745187,  1.95241841, -0.40796253]])"
      ]
     },
     "execution_count": 44,
     "metadata": {},
     "output_type": "execute_result"
    }
   ],
   "source": [
    "# Fit the PCA model on the transformed credit card DataFrame\n",
    "customers_pca = pca.fit_transform(customers_transformed_df)\n",
    "\n",
    "# Review the first 5 rows of the array of list data\n",
    "customers_pca[:5]"
   ]
  },
  {
   "attachments": {},
   "cell_type": "markdown",
   "metadata": {},
   "source": [
    "### Step 2: Using the explained_variance_ratio_ function from PCA, calculate the percentage of the total variance that is captured by the two PCA variables."
   ]
  },
  {
   "cell_type": "code",
   "execution_count": 45,
   "metadata": {},
   "outputs": [
    {
     "data": {
      "text/plain": [
       "0.8533994303627388"
      ]
     },
     "execution_count": 45,
     "metadata": {},
     "output_type": "execute_result"
    }
   ],
   "source": [
    "# Calculate the PCA explained variance ratio\n",
    "pca.explained_variance_ratio_\n",
    "\n",
    "pca.explained_variance_ratio_[:2].sum()\n"
   ]
  },
  {
   "attachments": {},
   "cell_type": "markdown",
   "metadata": {},
   "source": [
    "**Question:** What is the explained variance ratio captured by the two PCA variables?\n",
    "    \n",
    "**Answer:** About 85% of the total variance is condensed into the 2 PCA variables."
   ]
  },
  {
   "attachments": {},
   "cell_type": "markdown",
   "metadata": {},
   "source": [
    "### Step 3: Using the customer_pca data, create a Pandas DataFrame called customers_pca_df. The columns of the DataFrame should be called \"PCA1\" and \"PCA2\"."
   ]
  },
  {
   "cell_type": "code",
   "execution_count": 46,
   "metadata": {},
   "outputs": [
    {
     "data": {
      "text/html": [
       "<div>\n",
       "<style scoped>\n",
       "    .dataframe tbody tr th:only-of-type {\n",
       "        vertical-align: middle;\n",
       "    }\n",
       "\n",
       "    .dataframe tbody tr th {\n",
       "        vertical-align: top;\n",
       "    }\n",
       "\n",
       "    .dataframe thead th {\n",
       "        text-align: right;\n",
       "    }\n",
       "</style>\n",
       "<table border=\"1\" class=\"dataframe\">\n",
       "  <thead>\n",
       "    <tr style=\"text-align: right;\">\n",
       "      <th></th>\n",
       "      <th>PCA_1</th>\n",
       "      <th>PCA_2</th>\n",
       "      <th>PCA_3</th>\n",
       "      <th>PCA_4</th>\n",
       "      <th>PCA_5</th>\n",
       "    </tr>\n",
       "  </thead>\n",
       "  <tbody>\n",
       "    <tr>\n",
       "      <th>0</th>\n",
       "      <td>-4.723824</td>\n",
       "      <td>-0.604900</td>\n",
       "      <td>-1.608706</td>\n",
       "      <td>-1.884674</td>\n",
       "      <td>-2.084148</td>\n",
       "    </tr>\n",
       "    <tr>\n",
       "      <th>1</th>\n",
       "      <td>5.855716</td>\n",
       "      <td>-1.983311</td>\n",
       "      <td>-0.270902</td>\n",
       "      <td>0.741019</td>\n",
       "      <td>-0.013248</td>\n",
       "    </tr>\n",
       "    <tr>\n",
       "      <th>2</th>\n",
       "      <td>2.430630</td>\n",
       "      <td>-3.154566</td>\n",
       "      <td>3.947589</td>\n",
       "      <td>1.131518</td>\n",
       "      <td>-0.892194</td>\n",
       "    </tr>\n",
       "    <tr>\n",
       "      <th>3</th>\n",
       "      <td>-6.960503</td>\n",
       "      <td>-1.357726</td>\n",
       "      <td>1.891088</td>\n",
       "      <td>-1.248526</td>\n",
       "      <td>-1.173042</td>\n",
       "    </tr>\n",
       "    <tr>\n",
       "      <th>4</th>\n",
       "      <td>2.477468</td>\n",
       "      <td>-3.294129</td>\n",
       "      <td>2.437452</td>\n",
       "      <td>1.952418</td>\n",
       "      <td>-0.407963</td>\n",
       "    </tr>\n",
       "  </tbody>\n",
       "</table>\n",
       "</div>"
      ],
      "text/plain": [
       "      PCA_1     PCA_2     PCA_3     PCA_4     PCA_5\n",
       "0 -4.723824 -0.604900 -1.608706 -1.884674 -2.084148\n",
       "1  5.855716 -1.983311 -0.270902  0.741019 -0.013248\n",
       "2  2.430630 -3.154566  3.947589  1.131518 -0.892194\n",
       "3 -6.960503 -1.357726  1.891088 -1.248526 -1.173042\n",
       "4  2.477468 -3.294129  2.437452  1.952418 -0.407963"
      ]
     },
     "execution_count": 46,
     "metadata": {},
     "output_type": "execute_result"
    }
   ],
   "source": [
    "# Create the PCA DataFrame\n",
    "column_headers = [f\"PCA_{i}\" for i in range(1, 6)]\n",
    "customers_pca_df = pd.DataFrame(\n",
    "    data=customers_pca, columns=column_headers\n",
    ")\n",
    "\n",
    "# customers_pca_df = pd.DataFrame(\n",
    "#     data=customers_pca, columns=[\"PCA1\", \"PCA2\"]\n",
    "# )\n",
    "\n",
    "# Review the PCA DataFrame\n",
    "customers_pca_df.head()"
   ]
  },
  {
   "attachments": {},
   "cell_type": "markdown",
   "metadata": {},
   "source": [
    "### Step 4: Using the customers_pca_df Dataframe, utilize the elbow method to determine the optimal value of k."
   ]
  },
  {
   "cell_type": "code",
   "execution_count": 8,
   "metadata": {},
   "outputs": [],
   "source": [
    "# Create a a list to store inertia values and the values of k\n",
    "inertia = []\n",
    "k = list(range(1, 10))\n"
   ]
  },
  {
   "cell_type": "code",
   "execution_count": 49,
   "metadata": {},
   "outputs": [
    {
     "name": "stderr",
     "output_type": "stream",
     "text": [
      "c:\\Users\\vinay\\anaconda3\\envs\\dev\\lib\\site-packages\\sklearn\\cluster\\_kmeans.py:1412: FutureWarning: The default value of `n_init` will change from 10 to 'auto' in 1.4. Set the value of `n_init` explicitly to suppress the warning\n",
      "  super()._check_params_vs_input(X, default_n_init=10)\n",
      "c:\\Users\\vinay\\anaconda3\\envs\\dev\\lib\\site-packages\\sklearn\\cluster\\_kmeans.py:1412: FutureWarning: The default value of `n_init` will change from 10 to 'auto' in 1.4. Set the value of `n_init` explicitly to suppress the warning\n",
      "  super()._check_params_vs_input(X, default_n_init=10)\n",
      "c:\\Users\\vinay\\anaconda3\\envs\\dev\\lib\\site-packages\\sklearn\\cluster\\_kmeans.py:1412: FutureWarning: The default value of `n_init` will change from 10 to 'auto' in 1.4. Set the value of `n_init` explicitly to suppress the warning\n",
      "  super()._check_params_vs_input(X, default_n_init=10)\n",
      "c:\\Users\\vinay\\anaconda3\\envs\\dev\\lib\\site-packages\\sklearn\\cluster\\_kmeans.py:1412: FutureWarning: The default value of `n_init` will change from 10 to 'auto' in 1.4. Set the value of `n_init` explicitly to suppress the warning\n",
      "  super()._check_params_vs_input(X, default_n_init=10)\n",
      "c:\\Users\\vinay\\anaconda3\\envs\\dev\\lib\\site-packages\\sklearn\\cluster\\_kmeans.py:1412: FutureWarning: The default value of `n_init` will change from 10 to 'auto' in 1.4. Set the value of `n_init` explicitly to suppress the warning\n",
      "  super()._check_params_vs_input(X, default_n_init=10)\n",
      "c:\\Users\\vinay\\anaconda3\\envs\\dev\\lib\\site-packages\\sklearn\\cluster\\_kmeans.py:1412: FutureWarning: The default value of `n_init` will change from 10 to 'auto' in 1.4. Set the value of `n_init` explicitly to suppress the warning\n",
      "  super()._check_params_vs_input(X, default_n_init=10)\n",
      "c:\\Users\\vinay\\anaconda3\\envs\\dev\\lib\\site-packages\\sklearn\\cluster\\_kmeans.py:1412: FutureWarning: The default value of `n_init` will change from 10 to 'auto' in 1.4. Set the value of `n_init` explicitly to suppress the warning\n",
      "  super()._check_params_vs_input(X, default_n_init=10)\n",
      "c:\\Users\\vinay\\anaconda3\\envs\\dev\\lib\\site-packages\\sklearn\\cluster\\_kmeans.py:1412: FutureWarning: The default value of `n_init` will change from 10 to 'auto' in 1.4. Set the value of `n_init` explicitly to suppress the warning\n",
      "  super()._check_params_vs_input(X, default_n_init=10)\n",
      "c:\\Users\\vinay\\anaconda3\\envs\\dev\\lib\\site-packages\\sklearn\\cluster\\_kmeans.py:1412: FutureWarning: The default value of `n_init` will change from 10 to 'auto' in 1.4. Set the value of `n_init` explicitly to suppress the warning\n",
      "  super()._check_params_vs_input(X, default_n_init=10)\n",
      "c:\\Users\\vinay\\anaconda3\\envs\\dev\\lib\\site-packages\\sklearn\\cluster\\_kmeans.py:1412: FutureWarning: The default value of `n_init` will change from 10 to 'auto' in 1.4. Set the value of `n_init` explicitly to suppress the warning\n",
      "  super()._check_params_vs_input(X, default_n_init=10)\n"
     ]
    }
   ],
   "source": [
    "# Create a for-loop where each value of k is evaluated using the K-means algorithm\n",
    "# Fit the model using the service_ratings DataFrame\n",
    "# Append the value of the computed inertia from the `inertia_` attribute of the KMeans model instance\n",
    "small_pca_df = customers_pca_df.copy()\n",
    "for i in k:\n",
    "    k_model = KMeans(n_clusters=i, random_state=1)\n",
    "    k_model.fit(small_pca_df)\n",
    "    inertia.append(k_model.inertia_)\n"
   ]
  },
  {
   "cell_type": "code",
   "execution_count": 10,
   "metadata": {},
   "outputs": [
    {
     "data": {
      "text/html": [
       "<div>\n",
       "<style scoped>\n",
       "    .dataframe tbody tr th:only-of-type {\n",
       "        vertical-align: middle;\n",
       "    }\n",
       "\n",
       "    .dataframe tbody tr th {\n",
       "        vertical-align: top;\n",
       "    }\n",
       "\n",
       "    .dataframe thead th {\n",
       "        text-align: right;\n",
       "    }\n",
       "</style>\n",
       "<table border=\"1\" class=\"dataframe\">\n",
       "  <thead>\n",
       "    <tr style=\"text-align: right;\">\n",
       "      <th></th>\n",
       "      <th>k</th>\n",
       "      <th>inertia</th>\n",
       "    </tr>\n",
       "  </thead>\n",
       "  <tbody>\n",
       "    <tr>\n",
       "      <th>0</th>\n",
       "      <td>1</td>\n",
       "      <td>49585.714978</td>\n",
       "    </tr>\n",
       "    <tr>\n",
       "      <th>1</th>\n",
       "      <td>2</td>\n",
       "      <td>23750.955470</td>\n",
       "    </tr>\n",
       "    <tr>\n",
       "      <th>2</th>\n",
       "      <td>3</td>\n",
       "      <td>8773.667775</td>\n",
       "    </tr>\n",
       "    <tr>\n",
       "      <th>3</th>\n",
       "      <td>4</td>\n",
       "      <td>6840.237425</td>\n",
       "    </tr>\n",
       "    <tr>\n",
       "      <th>4</th>\n",
       "      <td>5</td>\n",
       "      <td>5378.277271</td>\n",
       "    </tr>\n",
       "  </tbody>\n",
       "</table>\n",
       "</div>"
      ],
      "text/plain": [
       "   k       inertia\n",
       "0  1  49585.714978\n",
       "1  2  23750.955470\n",
       "2  3   8773.667775\n",
       "3  4   6840.237425\n",
       "4  5   5378.277271"
      ]
     },
     "execution_count": 10,
     "metadata": {},
     "output_type": "execute_result"
    }
   ],
   "source": [
    "# Define a DataFrame to hold the values for k and the corresponding inertia\n",
    "elbow_data = {\"k\": k, \"inertia\": inertia}\n",
    "\n",
    "# Create the DataFrame from the elbow data\n",
    "df_elbow = pd.DataFrame(elbow_data)\n",
    "\n",
    "# Review the DataFrame\n",
    "df_elbow.head()\n"
   ]
  },
  {
   "cell_type": "code",
   "execution_count": 51,
   "metadata": {},
   "outputs": [
    {
     "data": {
      "text/plain": [
       "<Axes: title={'center': 'Elbow Curve'}, xlabel='k'>"
      ]
     },
     "execution_count": 51,
     "metadata": {},
     "output_type": "execute_result"
    },
    {
     "data": {
      "image/png": "[encoded data removed]",
      "text/plain": [
       "<Figure size 640x480 with 1 Axes>"
      ]
     },
     "metadata": {},
     "output_type": "display_data"
    }
   ],
   "source": [
    "# Plot the DataFrame\n",
    "df_elbow.hvplot.line(\n",
    "                    x=\"k\", \n",
    "                    y=\"inertia\", \n",
    "                    title=\"Elbow Curve\", \n",
    "                    xticks=k\n",
    ")\n",
    "df_elbow.plot(\n",
    "    x=\"k\", \n",
    "    y=\"inertia\", \n",
    "    title=\"Elbow Curve\", \n",
    "    xticks=k\n",
    ")"
   ]
  },
  {
   "attachments": {},
   "cell_type": "markdown",
   "metadata": {},
   "source": [
    "### Step 5: Segment the `customers_pca_df`  DataFrame using the K-means algorithm."
   ]
  },
  {
   "cell_type": "code",
   "execution_count": 52,
   "metadata": {},
   "outputs": [
    {
     "name": "stderr",
     "output_type": "stream",
     "text": [
      "c:\\Users\\vinay\\anaconda3\\envs\\dev\\lib\\site-packages\\sklearn\\cluster\\_kmeans.py:1412: FutureWarning: The default value of `n_init` will change from 10 to 'auto' in 1.4. Set the value of `n_init` explicitly to suppress the warning\n",
      "  super()._check_params_vs_input(X, default_n_init=10)\n"
     ]
    },
    {
     "data": {
      "text/html": [
       "<div>\n",
       "<style scoped>\n",
       "    .dataframe tbody tr th:only-of-type {\n",
       "        vertical-align: middle;\n",
       "    }\n",
       "\n",
       "    .dataframe tbody tr th {\n",
       "        vertical-align: top;\n",
       "    }\n",
       "\n",
       "    .dataframe thead th {\n",
       "        text-align: right;\n",
       "    }\n",
       "</style>\n",
       "<table border=\"1\" class=\"dataframe\">\n",
       "  <thead>\n",
       "    <tr style=\"text-align: right;\">\n",
       "      <th></th>\n",
       "      <th>PCA_1</th>\n",
       "      <th>PCA_2</th>\n",
       "      <th>PCA_3</th>\n",
       "      <th>PCA_4</th>\n",
       "      <th>PCA_5</th>\n",
       "      <th>class</th>\n",
       "    </tr>\n",
       "  </thead>\n",
       "  <tbody>\n",
       "    <tr>\n",
       "      <th>0</th>\n",
       "      <td>-4.723824</td>\n",
       "      <td>-0.604900</td>\n",
       "      <td>-1.608706</td>\n",
       "      <td>-1.884674</td>\n",
       "      <td>-2.084148</td>\n",
       "      <td>0</td>\n",
       "    </tr>\n",
       "    <tr>\n",
       "      <th>1</th>\n",
       "      <td>5.855716</td>\n",
       "      <td>-1.983311</td>\n",
       "      <td>-0.270902</td>\n",
       "      <td>0.741019</td>\n",
       "      <td>-0.013248</td>\n",
       "      <td>1</td>\n",
       "    </tr>\n",
       "    <tr>\n",
       "      <th>2</th>\n",
       "      <td>2.430630</td>\n",
       "      <td>-3.154566</td>\n",
       "      <td>3.947589</td>\n",
       "      <td>1.131518</td>\n",
       "      <td>-0.892194</td>\n",
       "      <td>1</td>\n",
       "    </tr>\n",
       "    <tr>\n",
       "      <th>3</th>\n",
       "      <td>-6.960503</td>\n",
       "      <td>-1.357726</td>\n",
       "      <td>1.891088</td>\n",
       "      <td>-1.248526</td>\n",
       "      <td>-1.173042</td>\n",
       "      <td>0</td>\n",
       "    </tr>\n",
       "    <tr>\n",
       "      <th>4</th>\n",
       "      <td>2.477468</td>\n",
       "      <td>-3.294129</td>\n",
       "      <td>2.437452</td>\n",
       "      <td>1.952418</td>\n",
       "      <td>-0.407963</td>\n",
       "      <td>1</td>\n",
       "    </tr>\n",
       "  </tbody>\n",
       "</table>\n",
       "</div>"
      ],
      "text/plain": [
       "      PCA_1     PCA_2     PCA_3     PCA_4     PCA_5  class\n",
       "0 -4.723824 -0.604900 -1.608706 -1.884674 -2.084148      0\n",
       "1  5.855716 -1.983311 -0.270902  0.741019 -0.013248      1\n",
       "2  2.430630 -3.154566  3.947589  1.131518 -0.892194      1\n",
       "3 -6.960503 -1.357726  1.891088 -1.248526 -1.173042      0\n",
       "4  2.477468 -3.294129  2.437452  1.952418 -0.407963      1"
      ]
     },
     "execution_count": 52,
     "metadata": {},
     "output_type": "execute_result"
    }
   ],
   "source": [
    "# Define the model Kmeans model using the optimal value of k for the number of clusters.\n",
    "model = KMeans(n_clusters=4, random_state=1)\n",
    "\n",
    "# Fit the model\n",
    "model.fit(small_pca_df)\n",
    "\n",
    "# Make predictions\n",
    "predictions = model.predict(small_pca_df)\n",
    "\n",
    "# Create a copy of the customers_pca_df DataFrame\n",
    "cluster_df = small_pca_df.copy()\n",
    "\n",
    "# Add a class column with the labels\n",
    "cluster_df[\"class\"] = model.labels_\n",
    "\n",
    "# Review the DataFrame\n",
    "cluster_df.head()"
   ]
  },
  {
   "cell_type": "code",
   "execution_count": 53,
   "metadata": {},
   "outputs": [
    {
     "ename": "KeyError",
     "evalue": "'PCA_1'",
     "output_type": "error",
     "traceback": [
      "\u001b[1;31m---------------------------------------------------------------------------\u001b[0m",
      "\u001b[1;31mKeyError\u001b[0m                                  Traceback (most recent call last)",
      "File \u001b[1;32mc:\\Users\\vinay\\anaconda3\\envs\\dev\\lib\\site-packages\\pandas\\core\\indexes\\base.py:3653\u001b[0m, in \u001b[0;36mIndex.get_loc\u001b[1;34m(self, key)\u001b[0m\n\u001b[0;32m   3652\u001b[0m \u001b[39mtry\u001b[39;00m:\n\u001b[1;32m-> 3653\u001b[0m     \u001b[39mreturn\u001b[39;00m \u001b[39mself\u001b[39;49m\u001b[39m.\u001b[39;49m_engine\u001b[39m.\u001b[39;49mget_loc(casted_key)\n\u001b[0;32m   3654\u001b[0m \u001b[39mexcept\u001b[39;00m \u001b[39mKeyError\u001b[39;00m \u001b[39mas\u001b[39;00m err:\n",
      "File \u001b[1;32mc:\\Users\\vinay\\anaconda3\\envs\\dev\\lib\\site-packages\\pandas\\_libs\\index.pyx:147\u001b[0m, in \u001b[0;36mpandas._libs.index.IndexEngine.get_loc\u001b[1;34m()\u001b[0m\n",
      "File \u001b[1;32mc:\\Users\\vinay\\anaconda3\\envs\\dev\\lib\\site-packages\\pandas\\_libs\\index.pyx:155\u001b[0m, in \u001b[0;36mpandas._libs.index.IndexEngine.get_loc\u001b[1;34m()\u001b[0m\n",
      "File \u001b[1;32mpandas\\_libs\\index_class_helper.pxi:70\u001b[0m, in \u001b[0;36mpandas._libs.index.Int64Engine._check_type\u001b[1;34m()\u001b[0m\n",
      "\u001b[1;31mKeyError\u001b[0m: 'PCA_1'",
      "\nThe above exception was the direct cause of the following exception:\n",
      "\u001b[1;31mKeyError\u001b[0m                                  Traceback (most recent call last)",
      "\u001b[1;32mc:\\Users\\vinay\\ut\\Bootcamp\\UTOR-VIRT-DATA-PT-08-2023-U-LOLC\\CLASS_A\\19-Unsupervised-Learning\\3\\Activities\\03-Stu_Segmenting_with_PCA\\Unsolved\\segmenting_with_pca.ipynb Cell 20\u001b[0m line \u001b[0;36m8\n\u001b[0;32m      <a href='vscode-notebook-cell:/c%3A/Users/vinay/ut/Bootcamp/UTOR-VIRT-DATA-PT-08-2023-U-LOLC/CLASS_A/19-Unsupervised-Learning/3/Activities/03-Stu_Segmenting_with_PCA/Unsolved/segmenting_with_pca.ipynb#X25sZmlsZQ%3D%3D?line=0'>1</a>\u001b[0m \u001b[39m# Plot the clusters\u001b[39;00m\n\u001b[0;32m      <a href='vscode-notebook-cell:/c%3A/Users/vinay/ut/Bootcamp/UTOR-VIRT-DATA-PT-08-2023-U-LOLC/CLASS_A/19-Unsupervised-Learning/3/Activities/03-Stu_Segmenting_with_PCA/Unsolved/segmenting_with_pca.ipynb#X25sZmlsZQ%3D%3D?line=1'>2</a>\u001b[0m \u001b[39m# cluster_df.hvplot.scatter(\u001b[39;00m\n\u001b[0;32m      <a href='vscode-notebook-cell:/c%3A/Users/vinay/ut/Bootcamp/UTOR-VIRT-DATA-PT-08-2023-U-LOLC/CLASS_A/19-Unsupervised-Learning/3/Activities/03-Stu_Segmenting_with_PCA/Unsolved/segmenting_with_pca.ipynb#X25sZmlsZQ%3D%3D?line=2'>3</a>\u001b[0m \u001b[39m#                             x=\"PCA1\", \u001b[39;00m\n\u001b[1;32m   (...)\u001b[0m\n\u001b[0;32m      <a href='vscode-notebook-cell:/c%3A/Users/vinay/ut/Bootcamp/UTOR-VIRT-DATA-PT-08-2023-U-LOLC/CLASS_A/19-Unsupervised-Learning/3/Activities/03-Stu_Segmenting_with_PCA/Unsolved/segmenting_with_pca.ipynb#X25sZmlsZQ%3D%3D?line=5'>6</a>\u001b[0m \u001b[39m#                             hover_cols=[\"class\"]\u001b[39;00m\n\u001b[0;32m      <a href='vscode-notebook-cell:/c%3A/Users/vinay/ut/Bootcamp/UTOR-VIRT-DATA-PT-08-2023-U-LOLC/CLASS_A/19-Unsupervised-Learning/3/Activities/03-Stu_Segmenting_with_PCA/Unsolved/segmenting_with_pca.ipynb#X25sZmlsZQ%3D%3D?line=6'>7</a>\u001b[0m \u001b[39m# )\u001b[39;00m\n\u001b[1;32m----> <a href='vscode-notebook-cell:/c%3A/Users/vinay/ut/Bootcamp/UTOR-VIRT-DATA-PT-08-2023-U-LOLC/CLASS_A/19-Unsupervised-Learning/3/Activities/03-Stu_Segmenting_with_PCA/Unsolved/segmenting_with_pca.ipynb#X25sZmlsZQ%3D%3D?line=7'>8</a>\u001b[0m cluster_df\u001b[39m.\u001b[39;49mplot(\n\u001b[0;32m      <a href='vscode-notebook-cell:/c%3A/Users/vinay/ut/Bootcamp/UTOR-VIRT-DATA-PT-08-2023-U-LOLC/CLASS_A/19-Unsupervised-Learning/3/Activities/03-Stu_Segmenting_with_PCA/Unsolved/segmenting_with_pca.ipynb#X25sZmlsZQ%3D%3D?line=8'>9</a>\u001b[0m     kind\u001b[39m=\u001b[39;49m\u001b[39m\"\u001b[39;49m\u001b[39mscatter\u001b[39;49m\u001b[39m\"\u001b[39;49m,\n\u001b[0;32m     <a href='vscode-notebook-cell:/c%3A/Users/vinay/ut/Bootcamp/UTOR-VIRT-DATA-PT-08-2023-U-LOLC/CLASS_A/19-Unsupervised-Learning/3/Activities/03-Stu_Segmenting_with_PCA/Unsolved/segmenting_with_pca.ipynb#X25sZmlsZQ%3D%3D?line=9'>10</a>\u001b[0m     x\u001b[39m=\u001b[39;49m \u001b[39m\"\u001b[39;49m\u001b[39mPCA_1\u001b[39;49m\u001b[39m\"\u001b[39;49m, \n\u001b[0;32m     <a href='vscode-notebook-cell:/c%3A/Users/vinay/ut/Bootcamp/UTOR-VIRT-DATA-PT-08-2023-U-LOLC/CLASS_A/19-Unsupervised-Learning/3/Activities/03-Stu_Segmenting_with_PCA/Unsolved/segmenting_with_pca.ipynb#X25sZmlsZQ%3D%3D?line=10'>11</a>\u001b[0m     y\u001b[39m=\u001b[39;49m\u001b[39m\"\u001b[39;49m\u001b[39mPCA_2\u001b[39;49m\u001b[39m\"\u001b[39;49m, \n\u001b[0;32m     <a href='vscode-notebook-cell:/c%3A/Users/vinay/ut/Bootcamp/UTOR-VIRT-DATA-PT-08-2023-U-LOLC/CLASS_A/19-Unsupervised-Learning/3/Activities/03-Stu_Segmenting_with_PCA/Unsolved/segmenting_with_pca.ipynb#X25sZmlsZQ%3D%3D?line=11'>12</a>\u001b[0m     by\u001b[39m=\u001b[39;49m\u001b[39m\"\u001b[39;49m\u001b[39mclass\u001b[39;49m\u001b[39m\"\u001b[39;49m,\n\u001b[0;32m     <a href='vscode-notebook-cell:/c%3A/Users/vinay/ut/Bootcamp/UTOR-VIRT-DATA-PT-08-2023-U-LOLC/CLASS_A/19-Unsupervised-Learning/3/Activities/03-Stu_Segmenting_with_PCA/Unsolved/segmenting_with_pca.ipynb#X25sZmlsZQ%3D%3D?line=12'>13</a>\u001b[0m     hover_cols\u001b[39m=\u001b[39;49m[\u001b[39m\"\u001b[39;49m\u001b[39mclass\u001b[39;49m\u001b[39m\"\u001b[39;49m]\n\u001b[0;32m     <a href='vscode-notebook-cell:/c%3A/Users/vinay/ut/Bootcamp/UTOR-VIRT-DATA-PT-08-2023-U-LOLC/CLASS_A/19-Unsupervised-Learning/3/Activities/03-Stu_Segmenting_with_PCA/Unsolved/segmenting_with_pca.ipynb#X25sZmlsZQ%3D%3D?line=13'>14</a>\u001b[0m )\n",
      "File \u001b[1;32mc:\\Users\\vinay\\anaconda3\\envs\\dev\\lib\\site-packages\\pandas\\plotting\\_core.py:920\u001b[0m, in \u001b[0;36mPlotAccessor.__call__\u001b[1;34m(self, *args, **kwargs)\u001b[0m\n\u001b[0;32m    918\u001b[0m \u001b[39mif\u001b[39;00m kind \u001b[39min\u001b[39;00m \u001b[39mself\u001b[39m\u001b[39m.\u001b[39m_dataframe_kinds:\n\u001b[0;32m    919\u001b[0m     \u001b[39mif\u001b[39;00m \u001b[39misinstance\u001b[39m(data, ABCDataFrame):\n\u001b[1;32m--> 920\u001b[0m         \u001b[39mreturn\u001b[39;00m plot_backend\u001b[39m.\u001b[39mplot(data, x\u001b[39m=\u001b[39mx, y\u001b[39m=\u001b[39my, kind\u001b[39m=\u001b[39mkind, \u001b[39m*\u001b[39m\u001b[39m*\u001b[39mkwargs)\n\u001b[0;32m    921\u001b[0m     \u001b[39melse\u001b[39;00m:\n\u001b[0;32m    922\u001b[0m         \u001b[39mraise\u001b[39;00m \u001b[39mValueError\u001b[39;00m(\u001b[39mf\u001b[39m\u001b[39m\"\u001b[39m\u001b[39mplot kind \u001b[39m\u001b[39m{\u001b[39;00mkind\u001b[39m}\u001b[39;00m\u001b[39m can only be used for data frames\u001b[39m\u001b[39m\"\u001b[39m)\n",
      "File \u001b[1;32mc:\\Users\\vinay\\anaconda3\\envs\\dev\\lib\\site-packages\\pandas\\plotting\\_matplotlib\\__init__.py:71\u001b[0m, in \u001b[0;36mplot\u001b[1;34m(data, kind, **kwargs)\u001b[0m\n\u001b[0;32m     69\u001b[0m         kwargs[\u001b[39m\"\u001b[39m\u001b[39max\u001b[39m\u001b[39m\"\u001b[39m] \u001b[39m=\u001b[39m \u001b[39mgetattr\u001b[39m(ax, \u001b[39m\"\u001b[39m\u001b[39mleft_ax\u001b[39m\u001b[39m\"\u001b[39m, ax)\n\u001b[0;32m     70\u001b[0m plot_obj \u001b[39m=\u001b[39m PLOT_CLASSES[kind](data, \u001b[39m*\u001b[39m\u001b[39m*\u001b[39mkwargs)\n\u001b[1;32m---> 71\u001b[0m plot_obj\u001b[39m.\u001b[39;49mgenerate()\n\u001b[0;32m     72\u001b[0m plot_obj\u001b[39m.\u001b[39mdraw()\n\u001b[0;32m     73\u001b[0m \u001b[39mreturn\u001b[39;00m plot_obj\u001b[39m.\u001b[39mresult\n",
      "File \u001b[1;32mc:\\Users\\vinay\\anaconda3\\envs\\dev\\lib\\site-packages\\pandas\\plotting\\_matplotlib\\core.py:448\u001b[0m, in \u001b[0;36mMPLPlot.generate\u001b[1;34m(self)\u001b[0m\n\u001b[0;32m    446\u001b[0m \u001b[39mself\u001b[39m\u001b[39m.\u001b[39m_compute_plot_data()\n\u001b[0;32m    447\u001b[0m \u001b[39mself\u001b[39m\u001b[39m.\u001b[39m_setup_subplots()\n\u001b[1;32m--> 448\u001b[0m \u001b[39mself\u001b[39;49m\u001b[39m.\u001b[39;49m_make_plot()\n\u001b[0;32m    449\u001b[0m \u001b[39mself\u001b[39m\u001b[39m.\u001b[39m_add_table()\n\u001b[0;32m    450\u001b[0m \u001b[39mself\u001b[39m\u001b[39m.\u001b[39m_make_legend()\n",
      "File \u001b[1;32mc:\\Users\\vinay\\anaconda3\\envs\\dev\\lib\\site-packages\\pandas\\plotting\\_matplotlib\\core.py:1259\u001b[0m, in \u001b[0;36mScatterPlot._make_plot\u001b[1;34m(self)\u001b[0m\n\u001b[0;32m   1256\u001b[0m \u001b[39melse\u001b[39;00m:\n\u001b[0;32m   1257\u001b[0m     label \u001b[39m=\u001b[39m \u001b[39mNone\u001b[39;00m\n\u001b[0;32m   1258\u001b[0m scatter \u001b[39m=\u001b[39m ax\u001b[39m.\u001b[39mscatter(\n\u001b[1;32m-> 1259\u001b[0m     data[x]\u001b[39m.\u001b[39mvalues,\n\u001b[0;32m   1260\u001b[0m     data[y]\u001b[39m.\u001b[39mvalues,\n\u001b[0;32m   1261\u001b[0m     c\u001b[39m=\u001b[39mc_values,\n\u001b[0;32m   1262\u001b[0m     label\u001b[39m=\u001b[39mlabel,\n\u001b[0;32m   1263\u001b[0m     cmap\u001b[39m=\u001b[39mcmap,\n\u001b[0;32m   1264\u001b[0m     norm\u001b[39m=\u001b[39mnorm,\n\u001b[0;32m   1265\u001b[0m     \u001b[39m*\u001b[39m\u001b[39m*\u001b[39m\u001b[39mself\u001b[39m\u001b[39m.\u001b[39mkwds,\n\u001b[0;32m   1266\u001b[0m )\n\u001b[0;32m   1267\u001b[0m \u001b[39mif\u001b[39;00m cb:\n\u001b[0;32m   1268\u001b[0m     cbar_label \u001b[39m=\u001b[39m c \u001b[39mif\u001b[39;00m c_is_column \u001b[39melse\u001b[39;00m \u001b[39m\"\u001b[39m\u001b[39m\"\u001b[39m\n",
      "File \u001b[1;32mc:\\Users\\vinay\\anaconda3\\envs\\dev\\lib\\site-packages\\pandas\\core\\frame.py:3760\u001b[0m, in \u001b[0;36mDataFrame.__getitem__\u001b[1;34m(self, key)\u001b[0m\n\u001b[0;32m   3758\u001b[0m \u001b[39mif\u001b[39;00m is_single_key:\n\u001b[0;32m   3759\u001b[0m     \u001b[39mif\u001b[39;00m \u001b[39mself\u001b[39m\u001b[39m.\u001b[39mcolumns\u001b[39m.\u001b[39mnlevels \u001b[39m>\u001b[39m \u001b[39m1\u001b[39m:\n\u001b[1;32m-> 3760\u001b[0m         \u001b[39mreturn\u001b[39;00m \u001b[39mself\u001b[39;49m\u001b[39m.\u001b[39;49m_getitem_multilevel(key)\n\u001b[0;32m   3761\u001b[0m     indexer \u001b[39m=\u001b[39m \u001b[39mself\u001b[39m\u001b[39m.\u001b[39mcolumns\u001b[39m.\u001b[39mget_loc(key)\n\u001b[0;32m   3762\u001b[0m     \u001b[39mif\u001b[39;00m is_integer(indexer):\n",
      "File \u001b[1;32mc:\\Users\\vinay\\anaconda3\\envs\\dev\\lib\\site-packages\\pandas\\core\\frame.py:3815\u001b[0m, in \u001b[0;36mDataFrame._getitem_multilevel\u001b[1;34m(self, key)\u001b[0m\n\u001b[0;32m   3813\u001b[0m \u001b[39mdef\u001b[39;00m \u001b[39m_getitem_multilevel\u001b[39m(\u001b[39mself\u001b[39m, key):\n\u001b[0;32m   3814\u001b[0m     \u001b[39m# self.columns is a MultiIndex\u001b[39;00m\n\u001b[1;32m-> 3815\u001b[0m     loc \u001b[39m=\u001b[39m \u001b[39mself\u001b[39;49m\u001b[39m.\u001b[39;49mcolumns\u001b[39m.\u001b[39;49mget_loc(key)\n\u001b[0;32m   3816\u001b[0m     \u001b[39mif\u001b[39;00m \u001b[39misinstance\u001b[39m(loc, (\u001b[39mslice\u001b[39m, np\u001b[39m.\u001b[39mndarray)):\n\u001b[0;32m   3817\u001b[0m         new_columns \u001b[39m=\u001b[39m \u001b[39mself\u001b[39m\u001b[39m.\u001b[39mcolumns[loc]\n",
      "File \u001b[1;32mc:\\Users\\vinay\\anaconda3\\envs\\dev\\lib\\site-packages\\pandas\\core\\indexes\\multi.py:2812\u001b[0m, in \u001b[0;36mMultiIndex.get_loc\u001b[1;34m(self, key)\u001b[0m\n\u001b[0;32m   2809\u001b[0m     \u001b[39mreturn\u001b[39;00m mask\n\u001b[0;32m   2811\u001b[0m \u001b[39mif\u001b[39;00m \u001b[39mnot\u001b[39;00m \u001b[39misinstance\u001b[39m(key, \u001b[39mtuple\u001b[39m):\n\u001b[1;32m-> 2812\u001b[0m     loc \u001b[39m=\u001b[39m \u001b[39mself\u001b[39;49m\u001b[39m.\u001b[39;49m_get_level_indexer(key, level\u001b[39m=\u001b[39;49m\u001b[39m0\u001b[39;49m)\n\u001b[0;32m   2813\u001b[0m     \u001b[39mreturn\u001b[39;00m _maybe_to_slice(loc)\n\u001b[0;32m   2815\u001b[0m keylen \u001b[39m=\u001b[39m \u001b[39mlen\u001b[39m(key)\n",
      "File \u001b[1;32mc:\\Users\\vinay\\anaconda3\\envs\\dev\\lib\\site-packages\\pandas\\core\\indexes\\multi.py:3160\u001b[0m, in \u001b[0;36mMultiIndex._get_level_indexer\u001b[1;34m(self, key, level, indexer)\u001b[0m\n\u001b[0;32m   3157\u001b[0m         \u001b[39mreturn\u001b[39;00m \u001b[39mslice\u001b[39m(i, j, step)\n\u001b[0;32m   3159\u001b[0m \u001b[39melse\u001b[39;00m:\n\u001b[1;32m-> 3160\u001b[0m     idx \u001b[39m=\u001b[39m \u001b[39mself\u001b[39;49m\u001b[39m.\u001b[39;49m_get_loc_single_level_index(level_index, key)\n\u001b[0;32m   3162\u001b[0m     \u001b[39mif\u001b[39;00m level \u001b[39m>\u001b[39m \u001b[39m0\u001b[39m \u001b[39mor\u001b[39;00m \u001b[39mself\u001b[39m\u001b[39m.\u001b[39m_lexsort_depth \u001b[39m==\u001b[39m \u001b[39m0\u001b[39m:\n\u001b[0;32m   3163\u001b[0m         \u001b[39m# Desired level is not sorted\u001b[39;00m\n\u001b[0;32m   3164\u001b[0m         \u001b[39mif\u001b[39;00m \u001b[39misinstance\u001b[39m(idx, \u001b[39mslice\u001b[39m):\n\u001b[0;32m   3165\u001b[0m             \u001b[39m# test_get_loc_partial_timestamp_multiindex\u001b[39;00m\n",
      "File \u001b[1;32mc:\\Users\\vinay\\anaconda3\\envs\\dev\\lib\\site-packages\\pandas\\core\\indexes\\multi.py:2752\u001b[0m, in \u001b[0;36mMultiIndex._get_loc_single_level_index\u001b[1;34m(self, level_index, key)\u001b[0m\n\u001b[0;32m   2750\u001b[0m     \u001b[39mreturn\u001b[39;00m \u001b[39m-\u001b[39m\u001b[39m1\u001b[39m\n\u001b[0;32m   2751\u001b[0m \u001b[39melse\u001b[39;00m:\n\u001b[1;32m-> 2752\u001b[0m     \u001b[39mreturn\u001b[39;00m level_index\u001b[39m.\u001b[39;49mget_loc(key)\n",
      "File \u001b[1;32mc:\\Users\\vinay\\anaconda3\\envs\\dev\\lib\\site-packages\\pandas\\core\\indexes\\base.py:3655\u001b[0m, in \u001b[0;36mIndex.get_loc\u001b[1;34m(self, key)\u001b[0m\n\u001b[0;32m   3653\u001b[0m     \u001b[39mreturn\u001b[39;00m \u001b[39mself\u001b[39m\u001b[39m.\u001b[39m_engine\u001b[39m.\u001b[39mget_loc(casted_key)\n\u001b[0;32m   3654\u001b[0m \u001b[39mexcept\u001b[39;00m \u001b[39mKeyError\u001b[39;00m \u001b[39mas\u001b[39;00m err:\n\u001b[1;32m-> 3655\u001b[0m     \u001b[39mraise\u001b[39;00m \u001b[39mKeyError\u001b[39;00m(key) \u001b[39mfrom\u001b[39;00m \u001b[39merr\u001b[39;00m\n\u001b[0;32m   3656\u001b[0m \u001b[39mexcept\u001b[39;00m \u001b[39mTypeError\u001b[39;00m:\n\u001b[0;32m   3657\u001b[0m     \u001b[39m# If we have a listlike key, _check_indexing_error will raise\u001b[39;00m\n\u001b[0;32m   3658\u001b[0m     \u001b[39m#  InvalidIndexError. Otherwise we fall through and re-raise\u001b[39;00m\n\u001b[0;32m   3659\u001b[0m     \u001b[39m#  the TypeError.\u001b[39;00m\n\u001b[0;32m   3660\u001b[0m     \u001b[39mself\u001b[39m\u001b[39m.\u001b[39m_check_indexing_error(key)\n",
      "\u001b[1;31mKeyError\u001b[0m: 'PCA_1'"
     ]
    },
    {
     "data": {
      "image/png": "[encoded data removed]",
      "text/plain": [
       "<Figure size 640x480 with 1 Axes>"
      ]
     },
     "metadata": {},
     "output_type": "display_data"
    }
   ],
   "source": [
    "# Plot the clusters\n",
    "# cluster_df.hvplot.scatter(\n",
    "#                             x=\"PCA1\", \n",
    "#                             y=\"PCA2\", \n",
    "#                             by=\"class\", \n",
    "#                             hover_cols=[\"class\"]\n",
    "# )\n",
    "cluster_df.plot(\n",
    "    kind=\"scatter\",\n",
    "    x= \"PCA_1\", \n",
    "    y=\"PCA_2\", \n",
    "    by=\"class\",\n",
    "    hover_cols=[\"class\"]\n",
    ")\n"
   ]
  },
  {
   "attachments": {},
   "cell_type": "markdown",
   "metadata": {},
   "source": [
    "### Step 6: Segment the `customers_transformed_df` DataFrame with all factors using the K-means algorithm"
   ]
  },
  {
   "cell_type": "code",
   "execution_count": 54,
   "metadata": {},
   "outputs": [
    {
     "name": "stderr",
     "output_type": "stream",
     "text": [
      "c:\\Users\\vinay\\anaconda3\\envs\\dev\\lib\\site-packages\\sklearn\\cluster\\_kmeans.py:1412: FutureWarning: The default value of `n_init` will change from 10 to 'auto' in 1.4. Set the value of `n_init` explicitly to suppress the warning\n",
      "  super()._check_params_vs_input(X, default_n_init=10)\n"
     ]
    },
    {
     "data": {
      "text/html": [
       "<div>\n",
       "<style scoped>\n",
       "    .dataframe tbody tr th:only-of-type {\n",
       "        vertical-align: middle;\n",
       "    }\n",
       "\n",
       "    .dataframe tbody tr th {\n",
       "        vertical-align: top;\n",
       "    }\n",
       "\n",
       "    .dataframe thead th {\n",
       "        text-align: right;\n",
       "    }\n",
       "</style>\n",
       "<table border=\"1\" class=\"dataframe\">\n",
       "  <thead>\n",
       "    <tr style=\"text-align: right;\">\n",
       "      <th></th>\n",
       "      <th>feature_1</th>\n",
       "      <th>feature_2</th>\n",
       "      <th>feature_3</th>\n",
       "      <th>feature_4</th>\n",
       "      <th>feature_5</th>\n",
       "      <th>feature_6</th>\n",
       "      <th>feature_7</th>\n",
       "      <th>feature_8</th>\n",
       "      <th>feature_9</th>\n",
       "      <th>feature_10</th>\n",
       "      <th>class</th>\n",
       "    </tr>\n",
       "  </thead>\n",
       "  <tbody>\n",
       "    <tr>\n",
       "      <th>0</th>\n",
       "      <td>1.148534</td>\n",
       "      <td>4.606077</td>\n",
       "      <td>2.699069</td>\n",
       "      <td>-2.661824</td>\n",
       "      <td>1.526433</td>\n",
       "      <td>1.236671</td>\n",
       "      <td>0.211421</td>\n",
       "      <td>1.482896</td>\n",
       "      <td>-4.445627</td>\n",
       "      <td>-1.936831</td>\n",
       "      <td>0</td>\n",
       "    </tr>\n",
       "    <tr>\n",
       "      <th>1</th>\n",
       "      <td>-1.149410</td>\n",
       "      <td>-1.650549</td>\n",
       "      <td>2.530167</td>\n",
       "      <td>-3.227088</td>\n",
       "      <td>0.572138</td>\n",
       "      <td>4.162600</td>\n",
       "      <td>-0.291679</td>\n",
       "      <td>-1.237575</td>\n",
       "      <td>3.604765</td>\n",
       "      <td>-1.635689</td>\n",
       "      <td>1</td>\n",
       "    </tr>\n",
       "    <tr>\n",
       "      <th>2</th>\n",
       "      <td>0.332427</td>\n",
       "      <td>-0.887985</td>\n",
       "      <td>-0.309216</td>\n",
       "      <td>0.399891</td>\n",
       "      <td>0.828492</td>\n",
       "      <td>3.641945</td>\n",
       "      <td>-0.916946</td>\n",
       "      <td>-1.978024</td>\n",
       "      <td>1.056772</td>\n",
       "      <td>-1.882747</td>\n",
       "      <td>1</td>\n",
       "    </tr>\n",
       "    <tr>\n",
       "      <th>3</th>\n",
       "      <td>2.245599</td>\n",
       "      <td>3.826309</td>\n",
       "      <td>0.264039</td>\n",
       "      <td>0.095471</td>\n",
       "      <td>1.984380</td>\n",
       "      <td>0.373991</td>\n",
       "      <td>-0.280279</td>\n",
       "      <td>1.602786</td>\n",
       "      <td>-5.993331</td>\n",
       "      <td>-2.258925</td>\n",
       "      <td>0</td>\n",
       "    </tr>\n",
       "    <tr>\n",
       "      <th>4</th>\n",
       "      <td>0.705503</td>\n",
       "      <td>-1.312329</td>\n",
       "      <td>0.895406</td>\n",
       "      <td>-0.405408</td>\n",
       "      <td>1.116187</td>\n",
       "      <td>3.699562</td>\n",
       "      <td>-1.427985</td>\n",
       "      <td>-1.494409</td>\n",
       "      <td>1.156908</td>\n",
       "      <td>-1.434964</td>\n",
       "      <td>1</td>\n",
       "    </tr>\n",
       "  </tbody>\n",
       "</table>\n",
       "</div>"
      ],
      "text/plain": [
       "   feature_1  feature_2  feature_3  feature_4  feature_5  feature_6  \\\n",
       "0   1.148534   4.606077   2.699069  -2.661824   1.526433   1.236671   \n",
       "1  -1.149410  -1.650549   2.530167  -3.227088   0.572138   4.162600   \n",
       "2   0.332427  -0.887985  -0.309216   0.399891   0.828492   3.641945   \n",
       "3   2.245599   3.826309   0.264039   0.095471   1.984380   0.373991   \n",
       "4   0.705503  -1.312329   0.895406  -0.405408   1.116187   3.699562   \n",
       "\n",
       "   feature_7  feature_8  feature_9  feature_10  class  \n",
       "0   0.211421   1.482896  -4.445627   -1.936831      0  \n",
       "1  -0.291679  -1.237575   3.604765   -1.635689      1  \n",
       "2  -0.916946  -1.978024   1.056772   -1.882747      1  \n",
       "3  -0.280279   1.602786  -5.993331   -2.258925      0  \n",
       "4  -1.427985  -1.494409   1.156908   -1.434964      1  "
      ]
     },
     "execution_count": 54,
     "metadata": {},
     "output_type": "execute_result"
    }
   ],
   "source": [
    "# Define the model Kmeans model using k=3 clusters\n",
    "model = KMeans(n_clusters=3, random_state=1)\n",
    "\n",
    "# Fit the model\n",
    "model.fit(customers_pca_df)\n",
    "\n",
    "# Make predictions\n",
    "predictions = model.predict(customers_pca_df)\n",
    "\n",
    "# Create a copy of the customers_transformed_df DataFrame\n",
    "clustered_df = customers_transformed_df.copy()\n",
    "\n",
    "# Add a class column with the labels\n",
    "clustered_df[\"class\"] = model.labels_\n",
    "\n",
    "# Display sample data\n",
    "clustered_df.head()"
   ]
  },
  {
   "cell_type": "code",
   "execution_count": 55,
   "metadata": {},
   "outputs": [
    {
     "ename": "KeyError",
     "evalue": "'feature_1'",
     "output_type": "error",
     "traceback": [
      "\u001b[1;31m---------------------------------------------------------------------------\u001b[0m",
      "\u001b[1;31mKeyError\u001b[0m                                  Traceback (most recent call last)",
      "File \u001b[1;32mc:\\Users\\vinay\\anaconda3\\envs\\dev\\lib\\site-packages\\pandas\\core\\indexes\\base.py:3653\u001b[0m, in \u001b[0;36mIndex.get_loc\u001b[1;34m(self, key)\u001b[0m\n\u001b[0;32m   3652\u001b[0m \u001b[39mtry\u001b[39;00m:\n\u001b[1;32m-> 3653\u001b[0m     \u001b[39mreturn\u001b[39;00m \u001b[39mself\u001b[39;49m\u001b[39m.\u001b[39;49m_engine\u001b[39m.\u001b[39;49mget_loc(casted_key)\n\u001b[0;32m   3654\u001b[0m \u001b[39mexcept\u001b[39;00m \u001b[39mKeyError\u001b[39;00m \u001b[39mas\u001b[39;00m err:\n",
      "File \u001b[1;32mc:\\Users\\vinay\\anaconda3\\envs\\dev\\lib\\site-packages\\pandas\\_libs\\index.pyx:147\u001b[0m, in \u001b[0;36mpandas._libs.index.IndexEngine.get_loc\u001b[1;34m()\u001b[0m\n",
      "File \u001b[1;32mc:\\Users\\vinay\\anaconda3\\envs\\dev\\lib\\site-packages\\pandas\\_libs\\index.pyx:155\u001b[0m, in \u001b[0;36mpandas._libs.index.IndexEngine.get_loc\u001b[1;34m()\u001b[0m\n",
      "File \u001b[1;32mpandas\\_libs\\index_class_helper.pxi:70\u001b[0m, in \u001b[0;36mpandas._libs.index.Int64Engine._check_type\u001b[1;34m()\u001b[0m\n",
      "\u001b[1;31mKeyError\u001b[0m: 'feature_1'",
      "\nThe above exception was the direct cause of the following exception:\n",
      "\u001b[1;31mKeyError\u001b[0m                                  Traceback (most recent call last)",
      "\u001b[1;32mc:\\Users\\vinay\\ut\\Bootcamp\\UTOR-VIRT-DATA-PT-08-2023-U-LOLC\\CLASS_A\\19-Unsupervised-Learning\\3\\Activities\\03-Stu_Segmenting_with_PCA\\Unsolved\\segmenting_with_pca.ipynb Cell 23\u001b[0m line \u001b[0;36m8\n\u001b[0;32m      <a href='vscode-notebook-cell:/c%3A/Users/vinay/ut/Bootcamp/UTOR-VIRT-DATA-PT-08-2023-U-LOLC/CLASS_A/19-Unsupervised-Learning/3/Activities/03-Stu_Segmenting_with_PCA/Unsolved/segmenting_with_pca.ipynb#X31sZmlsZQ%3D%3D?line=0'>1</a>\u001b[0m \u001b[39m# Plot the clusters using the first two feature columns\u001b[39;00m\n\u001b[0;32m      <a href='vscode-notebook-cell:/c%3A/Users/vinay/ut/Bootcamp/UTOR-VIRT-DATA-PT-08-2023-U-LOLC/CLASS_A/19-Unsupervised-Learning/3/Activities/03-Stu_Segmenting_with_PCA/Unsolved/segmenting_with_pca.ipynb#X31sZmlsZQ%3D%3D?line=1'>2</a>\u001b[0m \u001b[39m# clustered_df.hvplot.scatter(\u001b[39;00m\n\u001b[0;32m      <a href='vscode-notebook-cell:/c%3A/Users/vinay/ut/Bootcamp/UTOR-VIRT-DATA-PT-08-2023-U-LOLC/CLASS_A/19-Unsupervised-Learning/3/Activities/03-Stu_Segmenting_with_PCA/Unsolved/segmenting_with_pca.ipynb#X31sZmlsZQ%3D%3D?line=2'>3</a>\u001b[0m \u001b[39m#                             x=\"feature_1\", \u001b[39;00m\n\u001b[1;32m   (...)\u001b[0m\n\u001b[0;32m      <a href='vscode-notebook-cell:/c%3A/Users/vinay/ut/Bootcamp/UTOR-VIRT-DATA-PT-08-2023-U-LOLC/CLASS_A/19-Unsupervised-Learning/3/Activities/03-Stu_Segmenting_with_PCA/Unsolved/segmenting_with_pca.ipynb#X31sZmlsZQ%3D%3D?line=5'>6</a>\u001b[0m \u001b[39m#                             hover_cols=[\"class\"]\u001b[39;00m\n\u001b[0;32m      <a href='vscode-notebook-cell:/c%3A/Users/vinay/ut/Bootcamp/UTOR-VIRT-DATA-PT-08-2023-U-LOLC/CLASS_A/19-Unsupervised-Learning/3/Activities/03-Stu_Segmenting_with_PCA/Unsolved/segmenting_with_pca.ipynb#X31sZmlsZQ%3D%3D?line=6'>7</a>\u001b[0m \u001b[39m# )\u001b[39;00m\n\u001b[1;32m----> <a href='vscode-notebook-cell:/c%3A/Users/vinay/ut/Bootcamp/UTOR-VIRT-DATA-PT-08-2023-U-LOLC/CLASS_A/19-Unsupervised-Learning/3/Activities/03-Stu_Segmenting_with_PCA/Unsolved/segmenting_with_pca.ipynb#X31sZmlsZQ%3D%3D?line=7'>8</a>\u001b[0m clustered_df\u001b[39m.\u001b[39;49mplot(\n\u001b[0;32m      <a href='vscode-notebook-cell:/c%3A/Users/vinay/ut/Bootcamp/UTOR-VIRT-DATA-PT-08-2023-U-LOLC/CLASS_A/19-Unsupervised-Learning/3/Activities/03-Stu_Segmenting_with_PCA/Unsolved/segmenting_with_pca.ipynb#X31sZmlsZQ%3D%3D?line=8'>9</a>\u001b[0m     kind\u001b[39m=\u001b[39;49m\u001b[39m\"\u001b[39;49m\u001b[39mscatter\u001b[39;49m\u001b[39m\"\u001b[39;49m,\n\u001b[0;32m     <a href='vscode-notebook-cell:/c%3A/Users/vinay/ut/Bootcamp/UTOR-VIRT-DATA-PT-08-2023-U-LOLC/CLASS_A/19-Unsupervised-Learning/3/Activities/03-Stu_Segmenting_with_PCA/Unsolved/segmenting_with_pca.ipynb#X31sZmlsZQ%3D%3D?line=9'>10</a>\u001b[0m     x\u001b[39m=\u001b[39;49m \u001b[39m\"\u001b[39;49m\u001b[39mfeature_1\u001b[39;49m\u001b[39m\"\u001b[39;49m, \n\u001b[0;32m     <a href='vscode-notebook-cell:/c%3A/Users/vinay/ut/Bootcamp/UTOR-VIRT-DATA-PT-08-2023-U-LOLC/CLASS_A/19-Unsupervised-Learning/3/Activities/03-Stu_Segmenting_with_PCA/Unsolved/segmenting_with_pca.ipynb#X31sZmlsZQ%3D%3D?line=10'>11</a>\u001b[0m     y\u001b[39m=\u001b[39;49m\u001b[39m\"\u001b[39;49m\u001b[39mfeature_2\u001b[39;49m\u001b[39m\"\u001b[39;49m, \n\u001b[0;32m     <a href='vscode-notebook-cell:/c%3A/Users/vinay/ut/Bootcamp/UTOR-VIRT-DATA-PT-08-2023-U-LOLC/CLASS_A/19-Unsupervised-Learning/3/Activities/03-Stu_Segmenting_with_PCA/Unsolved/segmenting_with_pca.ipynb#X31sZmlsZQ%3D%3D?line=11'>12</a>\u001b[0m     by\u001b[39m=\u001b[39;49m\u001b[39m\"\u001b[39;49m\u001b[39mclass\u001b[39;49m\u001b[39m\"\u001b[39;49m,\n\u001b[0;32m     <a href='vscode-notebook-cell:/c%3A/Users/vinay/ut/Bootcamp/UTOR-VIRT-DATA-PT-08-2023-U-LOLC/CLASS_A/19-Unsupervised-Learning/3/Activities/03-Stu_Segmenting_with_PCA/Unsolved/segmenting_with_pca.ipynb#X31sZmlsZQ%3D%3D?line=12'>13</a>\u001b[0m     cmap\u001b[39m=\u001b[39;49m \u001b[39m'\u001b[39;49m\u001b[39mtab20\u001b[39;49m\u001b[39m'\u001b[39;49m\n\u001b[0;32m     <a href='vscode-notebook-cell:/c%3A/Users/vinay/ut/Bootcamp/UTOR-VIRT-DATA-PT-08-2023-U-LOLC/CLASS_A/19-Unsupervised-Learning/3/Activities/03-Stu_Segmenting_with_PCA/Unsolved/segmenting_with_pca.ipynb#X31sZmlsZQ%3D%3D?line=13'>14</a>\u001b[0m )\n",
      "File \u001b[1;32mc:\\Users\\vinay\\anaconda3\\envs\\dev\\lib\\site-packages\\pandas\\plotting\\_core.py:920\u001b[0m, in \u001b[0;36mPlotAccessor.__call__\u001b[1;34m(self, *args, **kwargs)\u001b[0m\n\u001b[0;32m    918\u001b[0m \u001b[39mif\u001b[39;00m kind \u001b[39min\u001b[39;00m \u001b[39mself\u001b[39m\u001b[39m.\u001b[39m_dataframe_kinds:\n\u001b[0;32m    919\u001b[0m     \u001b[39mif\u001b[39;00m \u001b[39misinstance\u001b[39m(data, ABCDataFrame):\n\u001b[1;32m--> 920\u001b[0m         \u001b[39mreturn\u001b[39;00m plot_backend\u001b[39m.\u001b[39mplot(data, x\u001b[39m=\u001b[39mx, y\u001b[39m=\u001b[39my, kind\u001b[39m=\u001b[39mkind, \u001b[39m*\u001b[39m\u001b[39m*\u001b[39mkwargs)\n\u001b[0;32m    921\u001b[0m     \u001b[39melse\u001b[39;00m:\n\u001b[0;32m    922\u001b[0m         \u001b[39mraise\u001b[39;00m \u001b[39mValueError\u001b[39;00m(\u001b[39mf\u001b[39m\u001b[39m\"\u001b[39m\u001b[39mplot kind \u001b[39m\u001b[39m{\u001b[39;00mkind\u001b[39m}\u001b[39;00m\u001b[39m can only be used for data frames\u001b[39m\u001b[39m\"\u001b[39m)\n",
      "File \u001b[1;32mc:\\Users\\vinay\\anaconda3\\envs\\dev\\lib\\site-packages\\pandas\\plotting\\_matplotlib\\__init__.py:71\u001b[0m, in \u001b[0;36mplot\u001b[1;34m(data, kind, **kwargs)\u001b[0m\n\u001b[0;32m     69\u001b[0m         kwargs[\u001b[39m\"\u001b[39m\u001b[39max\u001b[39m\u001b[39m\"\u001b[39m] \u001b[39m=\u001b[39m \u001b[39mgetattr\u001b[39m(ax, \u001b[39m\"\u001b[39m\u001b[39mleft_ax\u001b[39m\u001b[39m\"\u001b[39m, ax)\n\u001b[0;32m     70\u001b[0m plot_obj \u001b[39m=\u001b[39m PLOT_CLASSES[kind](data, \u001b[39m*\u001b[39m\u001b[39m*\u001b[39mkwargs)\n\u001b[1;32m---> 71\u001b[0m plot_obj\u001b[39m.\u001b[39;49mgenerate()\n\u001b[0;32m     72\u001b[0m plot_obj\u001b[39m.\u001b[39mdraw()\n\u001b[0;32m     73\u001b[0m \u001b[39mreturn\u001b[39;00m plot_obj\u001b[39m.\u001b[39mresult\n",
      "File \u001b[1;32mc:\\Users\\vinay\\anaconda3\\envs\\dev\\lib\\site-packages\\pandas\\plotting\\_matplotlib\\core.py:448\u001b[0m, in \u001b[0;36mMPLPlot.generate\u001b[1;34m(self)\u001b[0m\n\u001b[0;32m    446\u001b[0m \u001b[39mself\u001b[39m\u001b[39m.\u001b[39m_compute_plot_data()\n\u001b[0;32m    447\u001b[0m \u001b[39mself\u001b[39m\u001b[39m.\u001b[39m_setup_subplots()\n\u001b[1;32m--> 448\u001b[0m \u001b[39mself\u001b[39;49m\u001b[39m.\u001b[39;49m_make_plot()\n\u001b[0;32m    449\u001b[0m \u001b[39mself\u001b[39m\u001b[39m.\u001b[39m_add_table()\n\u001b[0;32m    450\u001b[0m \u001b[39mself\u001b[39m\u001b[39m.\u001b[39m_make_legend()\n",
      "File \u001b[1;32mc:\\Users\\vinay\\anaconda3\\envs\\dev\\lib\\site-packages\\pandas\\plotting\\_matplotlib\\core.py:1259\u001b[0m, in \u001b[0;36mScatterPlot._make_plot\u001b[1;34m(self)\u001b[0m\n\u001b[0;32m   1256\u001b[0m \u001b[39melse\u001b[39;00m:\n\u001b[0;32m   1257\u001b[0m     label \u001b[39m=\u001b[39m \u001b[39mNone\u001b[39;00m\n\u001b[0;32m   1258\u001b[0m scatter \u001b[39m=\u001b[39m ax\u001b[39m.\u001b[39mscatter(\n\u001b[1;32m-> 1259\u001b[0m     data[x]\u001b[39m.\u001b[39mvalues,\n\u001b[0;32m   1260\u001b[0m     data[y]\u001b[39m.\u001b[39mvalues,\n\u001b[0;32m   1261\u001b[0m     c\u001b[39m=\u001b[39mc_values,\n\u001b[0;32m   1262\u001b[0m     label\u001b[39m=\u001b[39mlabel,\n\u001b[0;32m   1263\u001b[0m     cmap\u001b[39m=\u001b[39mcmap,\n\u001b[0;32m   1264\u001b[0m     norm\u001b[39m=\u001b[39mnorm,\n\u001b[0;32m   1265\u001b[0m     \u001b[39m*\u001b[39m\u001b[39m*\u001b[39m\u001b[39mself\u001b[39m\u001b[39m.\u001b[39mkwds,\n\u001b[0;32m   1266\u001b[0m )\n\u001b[0;32m   1267\u001b[0m \u001b[39mif\u001b[39;00m cb:\n\u001b[0;32m   1268\u001b[0m     cbar_label \u001b[39m=\u001b[39m c \u001b[39mif\u001b[39;00m c_is_column \u001b[39melse\u001b[39;00m \u001b[39m\"\u001b[39m\u001b[39m\"\u001b[39m\n",
      "File \u001b[1;32mc:\\Users\\vinay\\anaconda3\\envs\\dev\\lib\\site-packages\\pandas\\core\\frame.py:3760\u001b[0m, in \u001b[0;36mDataFrame.__getitem__\u001b[1;34m(self, key)\u001b[0m\n\u001b[0;32m   3758\u001b[0m \u001b[39mif\u001b[39;00m is_single_key:\n\u001b[0;32m   3759\u001b[0m     \u001b[39mif\u001b[39;00m \u001b[39mself\u001b[39m\u001b[39m.\u001b[39mcolumns\u001b[39m.\u001b[39mnlevels \u001b[39m>\u001b[39m \u001b[39m1\u001b[39m:\n\u001b[1;32m-> 3760\u001b[0m         \u001b[39mreturn\u001b[39;00m \u001b[39mself\u001b[39;49m\u001b[39m.\u001b[39;49m_getitem_multilevel(key)\n\u001b[0;32m   3761\u001b[0m     indexer \u001b[39m=\u001b[39m \u001b[39mself\u001b[39m\u001b[39m.\u001b[39mcolumns\u001b[39m.\u001b[39mget_loc(key)\n\u001b[0;32m   3762\u001b[0m     \u001b[39mif\u001b[39;00m is_integer(indexer):\n",
      "File \u001b[1;32mc:\\Users\\vinay\\anaconda3\\envs\\dev\\lib\\site-packages\\pandas\\core\\frame.py:3815\u001b[0m, in \u001b[0;36mDataFrame._getitem_multilevel\u001b[1;34m(self, key)\u001b[0m\n\u001b[0;32m   3813\u001b[0m \u001b[39mdef\u001b[39;00m \u001b[39m_getitem_multilevel\u001b[39m(\u001b[39mself\u001b[39m, key):\n\u001b[0;32m   3814\u001b[0m     \u001b[39m# self.columns is a MultiIndex\u001b[39;00m\n\u001b[1;32m-> 3815\u001b[0m     loc \u001b[39m=\u001b[39m \u001b[39mself\u001b[39;49m\u001b[39m.\u001b[39;49mcolumns\u001b[39m.\u001b[39;49mget_loc(key)\n\u001b[0;32m   3816\u001b[0m     \u001b[39mif\u001b[39;00m \u001b[39misinstance\u001b[39m(loc, (\u001b[39mslice\u001b[39m, np\u001b[39m.\u001b[39mndarray)):\n\u001b[0;32m   3817\u001b[0m         new_columns \u001b[39m=\u001b[39m \u001b[39mself\u001b[39m\u001b[39m.\u001b[39mcolumns[loc]\n",
      "File \u001b[1;32mc:\\Users\\vinay\\anaconda3\\envs\\dev\\lib\\site-packages\\pandas\\core\\indexes\\multi.py:2812\u001b[0m, in \u001b[0;36mMultiIndex.get_loc\u001b[1;34m(self, key)\u001b[0m\n\u001b[0;32m   2809\u001b[0m     \u001b[39mreturn\u001b[39;00m mask\n\u001b[0;32m   2811\u001b[0m \u001b[39mif\u001b[39;00m \u001b[39mnot\u001b[39;00m \u001b[39misinstance\u001b[39m(key, \u001b[39mtuple\u001b[39m):\n\u001b[1;32m-> 2812\u001b[0m     loc \u001b[39m=\u001b[39m \u001b[39mself\u001b[39;49m\u001b[39m.\u001b[39;49m_get_level_indexer(key, level\u001b[39m=\u001b[39;49m\u001b[39m0\u001b[39;49m)\n\u001b[0;32m   2813\u001b[0m     \u001b[39mreturn\u001b[39;00m _maybe_to_slice(loc)\n\u001b[0;32m   2815\u001b[0m keylen \u001b[39m=\u001b[39m \u001b[39mlen\u001b[39m(key)\n",
      "File \u001b[1;32mc:\\Users\\vinay\\anaconda3\\envs\\dev\\lib\\site-packages\\pandas\\core\\indexes\\multi.py:3160\u001b[0m, in \u001b[0;36mMultiIndex._get_level_indexer\u001b[1;34m(self, key, level, indexer)\u001b[0m\n\u001b[0;32m   3157\u001b[0m         \u001b[39mreturn\u001b[39;00m \u001b[39mslice\u001b[39m(i, j, step)\n\u001b[0;32m   3159\u001b[0m \u001b[39melse\u001b[39;00m:\n\u001b[1;32m-> 3160\u001b[0m     idx \u001b[39m=\u001b[39m \u001b[39mself\u001b[39;49m\u001b[39m.\u001b[39;49m_get_loc_single_level_index(level_index, key)\n\u001b[0;32m   3162\u001b[0m     \u001b[39mif\u001b[39;00m level \u001b[39m>\u001b[39m \u001b[39m0\u001b[39m \u001b[39mor\u001b[39;00m \u001b[39mself\u001b[39m\u001b[39m.\u001b[39m_lexsort_depth \u001b[39m==\u001b[39m \u001b[39m0\u001b[39m:\n\u001b[0;32m   3163\u001b[0m         \u001b[39m# Desired level is not sorted\u001b[39;00m\n\u001b[0;32m   3164\u001b[0m         \u001b[39mif\u001b[39;00m \u001b[39misinstance\u001b[39m(idx, \u001b[39mslice\u001b[39m):\n\u001b[0;32m   3165\u001b[0m             \u001b[39m# test_get_loc_partial_timestamp_multiindex\u001b[39;00m\n",
      "File \u001b[1;32mc:\\Users\\vinay\\anaconda3\\envs\\dev\\lib\\site-packages\\pandas\\core\\indexes\\multi.py:2752\u001b[0m, in \u001b[0;36mMultiIndex._get_loc_single_level_index\u001b[1;34m(self, level_index, key)\u001b[0m\n\u001b[0;32m   2750\u001b[0m     \u001b[39mreturn\u001b[39;00m \u001b[39m-\u001b[39m\u001b[39m1\u001b[39m\n\u001b[0;32m   2751\u001b[0m \u001b[39melse\u001b[39;00m:\n\u001b[1;32m-> 2752\u001b[0m     \u001b[39mreturn\u001b[39;00m level_index\u001b[39m.\u001b[39;49mget_loc(key)\n",
      "File \u001b[1;32mc:\\Users\\vinay\\anaconda3\\envs\\dev\\lib\\site-packages\\pandas\\core\\indexes\\base.py:3655\u001b[0m, in \u001b[0;36mIndex.get_loc\u001b[1;34m(self, key)\u001b[0m\n\u001b[0;32m   3653\u001b[0m     \u001b[39mreturn\u001b[39;00m \u001b[39mself\u001b[39m\u001b[39m.\u001b[39m_engine\u001b[39m.\u001b[39mget_loc(casted_key)\n\u001b[0;32m   3654\u001b[0m \u001b[39mexcept\u001b[39;00m \u001b[39mKeyError\u001b[39;00m \u001b[39mas\u001b[39;00m err:\n\u001b[1;32m-> 3655\u001b[0m     \u001b[39mraise\u001b[39;00m \u001b[39mKeyError\u001b[39;00m(key) \u001b[39mfrom\u001b[39;00m \u001b[39merr\u001b[39;00m\n\u001b[0;32m   3656\u001b[0m \u001b[39mexcept\u001b[39;00m \u001b[39mTypeError\u001b[39;00m:\n\u001b[0;32m   3657\u001b[0m     \u001b[39m# If we have a listlike key, _check_indexing_error will raise\u001b[39;00m\n\u001b[0;32m   3658\u001b[0m     \u001b[39m#  InvalidIndexError. Otherwise we fall through and re-raise\u001b[39;00m\n\u001b[0;32m   3659\u001b[0m     \u001b[39m#  the TypeError.\u001b[39;00m\n\u001b[0;32m   3660\u001b[0m     \u001b[39mself\u001b[39m\u001b[39m.\u001b[39m_check_indexing_error(key)\n",
      "\u001b[1;31mKeyError\u001b[0m: 'feature_1'"
     ]
    },
    {
     "data": {
      "image/png": "[encoded data removed]",
      "text/plain": [
       "<Figure size 640x480 with 1 Axes>"
      ]
     },
     "metadata": {},
     "output_type": "display_data"
    }
   ],
   "source": [
    "# Plot the clusters using the first two feature columns\n",
    "# clustered_df.hvplot.scatter(\n",
    "#                             x=\"feature_1\", \n",
    "#                             y=\"feature_2\", \n",
    "#                             by=\"class\", \n",
    "#                             hover_cols=[\"class\"]\n",
    "# )\n",
    "clustered_df.plot(\n",
    "    kind=\"scatter\",\n",
    "    x= \"feature_1\", \n",
    "    y=\"feature_2\", \n",
    "    by=\"class\",\n",
    "    cmap= 'tab20'\n",
    ")\n"
   ]
  },
  {
   "cell_type": "code",
   "execution_count": 58,
   "metadata": {},
   "outputs": [
    {
     "data": {
      "text/plain": [
       "<mpl_toolkits.mplot3d.art3d.Path3DCollection at 0x1ae07320d90>"
      ]
     },
     "execution_count": 58,
     "metadata": {},
     "output_type": "execute_result"
    },
    {
     "data": {
      "image/png": "[encoded data removed]",
      "text/plain": [
       "<Figure size 640x480 with 1 Axes>"
      ]
     },
     "metadata": {},
     "output_type": "display_data"
    }
   ],
   "source": [
    "import matplotlib.pyplot as plt\n",
    "fig = plt.figure()\n",
    "ax = fig.add_subplot(111, projection='3d')\n",
    "ax.scatter(\n",
    "    xs=clustered_df[\"feature_1\"], \n",
    "    ys=clustered_df[\"feature_2\"], \n",
    "    zs=clustered_df[\"feature_3\"], \n",
    "    c=clustered_df[\"class\"],\n",
    "    cmap= 'tab20'\n",
    ")"
   ]
  },
  {
   "cell_type": "code",
   "execution_count": 60,
   "metadata": {},
   "outputs": [
    {
     "data": {
      "text/html": [
       "<div>\n",
       "<style scoped>\n",
       "    .dataframe tbody tr th:only-of-type {\n",
       "        vertical-align: middle;\n",
       "    }\n",
       "\n",
       "    .dataframe tbody tr th {\n",
       "        vertical-align: top;\n",
       "    }\n",
       "\n",
       "    .dataframe thead th {\n",
       "        text-align: right;\n",
       "    }\n",
       "</style>\n",
       "<table border=\"1\" class=\"dataframe\">\n",
       "  <thead>\n",
       "    <tr style=\"text-align: right;\">\n",
       "      <th>class</th>\n",
       "      <th>0</th>\n",
       "      <th>1</th>\n",
       "      <th>2</th>\n",
       "    </tr>\n",
       "    <tr>\n",
       "      <th>class</th>\n",
       "      <th></th>\n",
       "      <th></th>\n",
       "      <th></th>\n",
       "    </tr>\n",
       "  </thead>\n",
       "  <tbody>\n",
       "    <tr>\n",
       "      <th>0</th>\n",
       "      <td>509</td>\n",
       "      <td>0</td>\n",
       "      <td>0</td>\n",
       "    </tr>\n",
       "    <tr>\n",
       "      <th>1</th>\n",
       "      <td>0</td>\n",
       "      <td>294</td>\n",
       "      <td>0</td>\n",
       "    </tr>\n",
       "    <tr>\n",
       "      <th>2</th>\n",
       "      <td>0</td>\n",
       "      <td>0</td>\n",
       "      <td>197</td>\n",
       "    </tr>\n",
       "  </tbody>\n",
       "</table>\n",
       "</div>"
      ],
      "text/plain": [
       "class    0    1    2\n",
       "class               \n",
       "0      509    0    0\n",
       "1        0  294    0\n",
       "2        0    0  197"
      ]
     },
     "execution_count": 60,
     "metadata": {},
     "output_type": "execute_result"
    }
   ],
   "source": [
    "pd.crosstab(clustered_df[\"class\"], clustered_df[\"class\"])"
   ]
  },
  {
   "attachments": {},
   "cell_type": "markdown",
   "metadata": {},
   "source": [
    "### Step 7: What is the difference between the segmentation results of the PCA DataFrame and the full-factored DataFrame?"
   ]
  },
  {
   "attachments": {},
   "cell_type": "markdown",
   "metadata": {},
   "source": [
    "**Answer:** It appears that the customer segmentation information using the DataFrame with all of the factors yielded similar results that the PCA analysis. The data is grouped in clear customer segments in both cases."
   ]
  }
 ],
 "metadata": {
  "kernelspec": {
   "display_name": "Python 3 (ipykernel)",
   "language": "python",
   "name": "python3"
  },
  "language_info": {
   "codemirror_mode": {
    "name": "ipython",
    "version": 3
   },
   "file_extension": ".py",
   "mimetype": "text/x-python",
   "name": "python",
   "nbconvert_exporter": "python",
   "pygments_lexer": "ipython3",
   "version": "3.10.13"
  }
 },
 "nbformat": 4,
 "nbformat_minor": 4
}
