{
 "cells": [
  {
   "cell_type": "code",
   "execution_count": 1,
   "metadata": {},
   "outputs": [
    {
     "data": {
      "application/javascript": "(function(root) {\n  function now() {\n    return new Date();\n  }\n\n  var force = true;\n  var py_version = '3.2.1'.replace('rc', '-rc.').replace('.dev', '-dev.');\n  var is_dev = py_version.indexOf(\"+\") !== -1 || py_version.indexOf(\"-\") !== -1;\n  var reloading = false;\n  var Bokeh = root.Bokeh;\n  var bokeh_loaded = Bokeh != null && (Bokeh.version === py_version || (Bokeh.versions !== undefined && Bokeh.versions.has(py_version)));\n\n  if (typeof (root._bokeh_timeout) === \"undefined\" || force) {\n    root._bokeh_timeout = Date.now() + 5000;\n    root._bokeh_failed_load = false;\n  }\n\n  function run_callbacks() {\n    try {\n      root._bokeh_onload_callbacks.forEach(function(callback) {\n        if (callback != null)\n          callback();\n      });\n    } finally {\n      delete root._bokeh_onload_callbacks;\n    }\n    console.debug(\"Bokeh: all callbacks have finished\");\n  }\n\n  function load_libs(css_urls, js_urls, js_modules, js_exports, callback) {\n    if (css_urls == null) css_urls = [];\n    if (js_urls == null) js_urls = [];\n    if (js_modules == null) js_modules = [];\n    if (js_exports == null) js_exports = {};\n\n    root._bokeh_onload_callbacks.push(callback);\n\n    if (root._bokeh_is_loading > 0) {\n      console.debug(\"Bokeh: BokehJS is being loaded, scheduling callback at\", now());\n      return null;\n    }\n    if (js_urls.length === 0 && js_modules.length === 0 && Object.keys(js_exports).length === 0) {\n      run_callbacks();\n      return null;\n    }\n    if (!reloading) {\n      console.debug(\"Bokeh: BokehJS not loaded, scheduling load and callback at\", now());\n    }\n\n    function on_load() {\n      root._bokeh_is_loading--;\n      if (root._bokeh_is_loading === 0) {\n        console.debug(\"Bokeh: all BokehJS libraries/stylesheets loaded\");\n        run_callbacks()\n      }\n    }\n    window._bokeh_on_load = on_load\n\n    function on_error() {\n      console.error(\"failed to load \" + url);\n    }\n\n    var skip = [];\n    if (window.requirejs) {\n      window.requirejs.config({'packages': {}, 'paths': {'jspanel': 'https://cdn.jsdelivr.net/npm/jspanel4@4.12.0/dist/jspanel', 'jspanel-modal': 'https://cdn.jsdelivr.net/npm/jspanel4@4.12.0/dist/extensions/modal/jspanel.modal', 'jspanel-tooltip': 'https://cdn.jsdelivr.net/npm/jspanel4@4.12.0/dist/extensions/tooltip/jspanel.tooltip', 'jspanel-hint': 'https://cdn.jsdelivr.net/npm/jspanel4@4.12.0/dist/extensions/hint/jspanel.hint', 'jspanel-layout': 'https://cdn.jsdelivr.net/npm/jspanel4@4.12.0/dist/extensions/layout/jspanel.layout', 'jspanel-contextmenu': 'https://cdn.jsdelivr.net/npm/jspanel4@4.12.0/dist/extensions/contextmenu/jspanel.contextmenu', 'jspanel-dock': 'https://cdn.jsdelivr.net/npm/jspanel4@4.12.0/dist/extensions/dock/jspanel.dock', 'gridstack': 'https://cdn.jsdelivr.net/npm/gridstack@7.2.3/dist/gridstack-all', 'notyf': 'https://cdn.jsdelivr.net/npm/notyf@3/notyf.min'}, 'shim': {'jspanel': {'exports': 'jsPanel'}, 'gridstack': {'exports': 'GridStack'}}});\n      require([\"jspanel\"], function(jsPanel) {\n\twindow.jsPanel = jsPanel\n\ton_load()\n      })\n      require([\"jspanel-modal\"], function() {\n\ton_load()\n      })\n      require([\"jspanel-tooltip\"], function() {\n\ton_load()\n      })\n      require([\"jspanel-hint\"], function() {\n\ton_load()\n      })\n      require([\"jspanel-layout\"], function() {\n\ton_load()\n      })\n      require([\"jspanel-contextmenu\"], function() {\n\ton_load()\n      })\n      require([\"jspanel-dock\"], function() {\n\ton_load()\n      })\n      require([\"gridstack\"], function(GridStack) {\n\twindow.GridStack = GridStack\n\ton_load()\n      })\n      require([\"notyf\"], function() {\n\ton_load()\n      })\n      root._bokeh_is_loading = css_urls.length + 9;\n    } else {\n      root._bokeh_is_loading = css_urls.length + js_urls.length + js_modules.length + Object.keys(js_exports).length;\n    }\n\n    var existing_stylesheets = []\n    var links = document.getElementsByTagName('link')\n    for (var i = 0; i < links.length; i++) {\n      var link = links[i]\n      if (link.href != null) {\n\texisting_stylesheets.push(link.href)\n      }\n    }\n    for (var i = 0; i < css_urls.length; i++) {\n      var url = css_urls[i];\n      if (existing_stylesheets.indexOf(url) !== -1) {\n\ton_load()\n\tcontinue;\n      }\n      const element = document.createElement(\"link\");\n      element.onload = on_load;\n      element.onerror = on_error;\n      element.rel = \"stylesheet\";\n      element.type = \"text/css\";\n      element.href = url;\n      console.debug(\"Bokeh: injecting link tag for BokehJS stylesheet: \", url);\n      document.body.appendChild(element);\n    }    if (((window['jsPanel'] !== undefined) && (!(window['jsPanel'] instanceof HTMLElement))) || window.requirejs) {\n      var urls = ['https://cdn.holoviz.org/panel/1.2.3/dist/bundled/floatpanel/jspanel4@4.12.0/dist/jspanel.js', 'https://cdn.holoviz.org/panel/1.2.3/dist/bundled/floatpanel/jspanel4@4.12.0/dist/extensions/modal/jspanel.modal.js', 'https://cdn.holoviz.org/panel/1.2.3/dist/bundled/floatpanel/jspanel4@4.12.0/dist/extensions/tooltip/jspanel.tooltip.js', 'https://cdn.holoviz.org/panel/1.2.3/dist/bundled/floatpanel/jspanel4@4.12.0/dist/extensions/hint/jspanel.hint.js', 'https://cdn.holoviz.org/panel/1.2.3/dist/bundled/floatpanel/jspanel4@4.12.0/dist/extensions/layout/jspanel.layout.js', 'https://cdn.holoviz.org/panel/1.2.3/dist/bundled/floatpanel/jspanel4@4.12.0/dist/extensions/contextmenu/jspanel.contextmenu.js', 'https://cdn.holoviz.org/panel/1.2.3/dist/bundled/floatpanel/jspanel4@4.12.0/dist/extensions/dock/jspanel.dock.js'];\n      for (var i = 0; i < urls.length; i++) {\n        skip.push(urls[i])\n      }\n    }    if (((window['GridStack'] !== undefined) && (!(window['GridStack'] instanceof HTMLElement))) || window.requirejs) {\n      var urls = ['https://cdn.holoviz.org/panel/1.2.3/dist/bundled/gridstack/gridstack@7.2.3/dist/gridstack-all.js'];\n      for (var i = 0; i < urls.length; i++) {\n        skip.push(urls[i])\n      }\n    }    if (((window['Notyf'] !== undefined) && (!(window['Notyf'] instanceof HTMLElement))) || window.requirejs) {\n      var urls = ['https://cdn.holoviz.org/panel/1.2.3/dist/bundled/notificationarea/notyf@3/notyf.min.js'];\n      for (var i = 0; i < urls.length; i++) {\n        skip.push(urls[i])\n      }\n    }    var existing_scripts = []\n    var scripts = document.getElementsByTagName('script')\n    for (var i = 0; i < scripts.length; i++) {\n      var script = scripts[i]\n      if (script.src != null) {\n\texisting_scripts.push(script.src)\n      }\n    }\n    for (var i = 0; i < js_urls.length; i++) {\n      var url = js_urls[i];\n      if (skip.indexOf(url) !== -1 || existing_scripts.indexOf(url) !== -1) {\n\tif (!window.requirejs) {\n\t  on_load();\n\t}\n\tcontinue;\n      }\n      var element = document.createElement('script');\n      element.onload = on_load;\n      element.onerror = on_error;\n      element.async = false;\n      element.src = url;\n      console.debug(\"Bokeh: injecting script tag for BokehJS library: \", url);\n      document.head.appendChild(element);\n    }\n    for (var i = 0; i < js_modules.length; i++) {\n      var url = js_modules[i];\n      if (skip.indexOf(url) !== -1 || existing_scripts.indexOf(url) !== -1) {\n\tif (!window.requirejs) {\n\t  on_load();\n\t}\n\tcontinue;\n      }\n      var element = document.createElement('script');\n      element.onload = on_load;\n      element.onerror = on_error;\n      element.async = false;\n      element.src = url;\n      element.type = \"module\";\n      console.debug(\"Bokeh: injecting script tag for BokehJS library: \", url);\n      document.head.appendChild(element);\n    }\n    for (const name in js_exports) {\n      var url = js_exports[name];\n      if (skip.indexOf(url) >= 0 || root[name] != null) {\n\tif (!window.requirejs) {\n\t  on_load();\n\t}\n\tcontinue;\n      }\n      var element = document.createElement('script');\n      element.onerror = on_error;\n      element.async = false;\n      element.type = \"module\";\n      console.debug(\"Bokeh: injecting script tag for BokehJS library: \", url);\n      element.textContent = `\n      import ${name} from \"${url}\"\n      window.${name} = ${name}\n      window._bokeh_on_load()\n      `\n      document.head.appendChild(element);\n    }\n    if (!js_urls.length && !js_modules.length) {\n      on_load()\n    }\n  };\n\n  function inject_raw_css(css) {\n    const element = document.createElement(\"style\");\n    element.appendChild(document.createTextNode(css));\n    document.body.appendChild(element);\n  }\n\n  var js_urls = [\"https://cdn.bokeh.org/bokeh/release/bokeh-3.2.1.min.js\", \"https://cdn.bokeh.org/bokeh/release/bokeh-gl-3.2.1.min.js\", \"https://cdn.bokeh.org/bokeh/release/bokeh-widgets-3.2.1.min.js\", \"https://cdn.bokeh.org/bokeh/release/bokeh-tables-3.2.1.min.js\", \"https://cdn.holoviz.org/panel/1.2.3/dist/panel.min.js\"];\n  var js_modules = [];\n  var js_exports = {};\n  var css_urls = [];\n  var inline_js = [    function(Bokeh) {\n      Bokeh.set_log_level(\"info\");\n    },\nfunction(Bokeh) {} // ensure no trailing comma for IE\n  ];\n\n  function run_inline_js() {\n    if ((root.Bokeh !== undefined) || (force === true)) {\n      for (var i = 0; i < inline_js.length; i++) {\n        inline_js[i].call(root, root.Bokeh);\n      }\n      // Cache old bokeh versions\n      if (Bokeh != undefined && !reloading) {\n\tvar NewBokeh = root.Bokeh;\n\tif (Bokeh.versions === undefined) {\n\t  Bokeh.versions = new Map();\n\t}\n\tif (NewBokeh.version !== Bokeh.version) {\n\t  Bokeh.versions.set(NewBokeh.version, NewBokeh)\n\t}\n\troot.Bokeh = Bokeh;\n      }} else if (Date.now() < root._bokeh_timeout) {\n      setTimeout(run_inline_js, 100);\n    } else if (!root._bokeh_failed_load) {\n      console.log(\"Bokeh: BokehJS failed to load within specified timeout.\");\n      root._bokeh_failed_load = true;\n    }\n    root._bokeh_is_initializing = false\n  }\n\n  function load_or_wait() {\n    // Implement a backoff loop that tries to ensure we do not load multiple\n    // versions of Bokeh and its dependencies at the same time.\n    // In recent versions we use the root._bokeh_is_initializing flag\n    // to determine whether there is an ongoing attempt to initialize\n    // bokeh, however for backward compatibility we also try to ensure\n    // that we do not start loading a newer (Panel>=1.0 and Bokeh>3) version\n    // before older versions are fully initialized.\n    if (root._bokeh_is_initializing && Date.now() > root._bokeh_timeout) {\n      root._bokeh_is_initializing = false;\n      root._bokeh_onload_callbacks = undefined;\n      console.log(\"Bokeh: BokehJS was loaded multiple times but one version failed to initialize.\");\n      load_or_wait();\n    } else if (root._bokeh_is_initializing || (typeof root._bokeh_is_initializing === \"undefined\" && root._bokeh_onload_callbacks !== undefined)) {\n      setTimeout(load_or_wait, 100);\n    } else {\n      Bokeh = root.Bokeh;\n      bokeh_loaded = Bokeh != null && (Bokeh.version === py_version || (Bokeh.versions !== undefined && Bokeh.versions.has(py_version)));\n      root._bokeh_is_initializing = true\n      root._bokeh_onload_callbacks = []\n      if (!reloading && (!bokeh_loaded || is_dev)) {\n\troot.Bokeh = undefined;\n      }\n      load_libs(css_urls, js_urls, js_modules, js_exports, function() {\n\tconsole.debug(\"Bokeh: BokehJS plotting callback run at\", now());\n\trun_inline_js();\n      });\n    }\n  }\n  // Give older versions of the autoload script a head-start to ensure\n  // they initialize before we start loading newer version.\n  setTimeout(load_or_wait, 100)\n}(window));",
      "application/vnd.holoviews_load.v0+json": ""
     },
     "metadata": {},
     "output_type": "display_data"
    },
    {
     "data": {
      "application/javascript": "\nif ((window.PyViz === undefined) || (window.PyViz instanceof HTMLElement)) {\n  window.PyViz = {comms: {}, comm_status:{}, kernels:{}, receivers: {}, plot_index: []}\n}\n\n\n    function JupyterCommManager() {\n    }\n\n    JupyterCommManager.prototype.register_target = function(plot_id, comm_id, msg_handler) {\n      if (window.comm_manager || ((window.Jupyter !== undefined) && (Jupyter.notebook.kernel != null))) {\n        var comm_manager = window.comm_manager || Jupyter.notebook.kernel.comm_manager;\n        comm_manager.register_target(comm_id, function(comm) {\n          comm.on_msg(msg_handler);\n        });\n      } else if ((plot_id in window.PyViz.kernels) && (window.PyViz.kernels[plot_id])) {\n        window.PyViz.kernels[plot_id].registerCommTarget(comm_id, function(comm) {\n          comm.onMsg = msg_handler;\n        });\n      } else if (typeof google != 'undefined' && google.colab.kernel != null) {\n        google.colab.kernel.comms.registerTarget(comm_id, (comm) => {\n          var messages = comm.messages[Symbol.asyncIterator]();\n          function processIteratorResult(result) {\n            var message = result.value;\n            console.log(message)\n            var content = {data: message.data, comm_id};\n            var buffers = []\n            for (var buffer of message.buffers || []) {\n              buffers.push(new DataView(buffer))\n            }\n            var metadata = message.metadata || {};\n            var msg = {content, buffers, metadata}\n            msg_handler(msg);\n            return messages.next().then(processIteratorResult);\n          }\n          return messages.next().then(processIteratorResult);\n        })\n      }\n    }\n\n    JupyterCommManager.prototype.get_client_comm = function(plot_id, comm_id, msg_handler) {\n      if (comm_id in window.PyViz.comms) {\n        return window.PyViz.comms[comm_id];\n      } else if (window.comm_manager || ((window.Jupyter !== undefined) && (Jupyter.notebook.kernel != null))) {\n        var comm_manager = window.comm_manager || Jupyter.notebook.kernel.comm_manager;\n        var comm = comm_manager.new_comm(comm_id, {}, {}, {}, comm_id);\n        if (msg_handler) {\n          comm.on_msg(msg_handler);\n        }\n      } else if ((plot_id in window.PyViz.kernels) && (window.PyViz.kernels[plot_id])) {\n        var comm = window.PyViz.kernels[plot_id].connectToComm(comm_id);\n        comm.open();\n        if (msg_handler) {\n          comm.onMsg = msg_handler;\n        }\n      } else if (typeof google != 'undefined' && google.colab.kernel != null) {\n        var comm_promise = google.colab.kernel.comms.open(comm_id)\n        comm_promise.then((comm) => {\n          window.PyViz.comms[comm_id] = comm;\n          if (msg_handler) {\n            var messages = comm.messages[Symbol.asyncIterator]();\n            function processIteratorResult(result) {\n              var message = result.value;\n              var content = {data: message.data};\n              var metadata = message.metadata || {comm_id};\n              var msg = {content, metadata}\n              msg_handler(msg);\n              return messages.next().then(processIteratorResult);\n            }\n            return messages.next().then(processIteratorResult);\n          }\n        }) \n        var sendClosure = (data, metadata, buffers, disposeOnDone) => {\n          return comm_promise.then((comm) => {\n            comm.send(data, metadata, buffers, disposeOnDone);\n          });\n        };\n        var comm = {\n          send: sendClosure\n        };\n      }\n      window.PyViz.comms[comm_id] = comm;\n      return comm;\n    }\n    window.PyViz.comm_manager = new JupyterCommManager();\n    \n\n\nvar JS_MIME_TYPE = 'application/javascript';\nvar HTML_MIME_TYPE = 'text/html';\nvar EXEC_MIME_TYPE = 'application/vnd.holoviews_exec.v0+json';\nvar CLASS_NAME = 'output';\n\n/**\n * Render data to the DOM node\n */\nfunction render(props, node) {\n  var div = document.createElement(\"div\");\n  var script = document.createElement(\"script\");\n  node.appendChild(div);\n  node.appendChild(script);\n}\n\n/**\n * Handle when a new output is added\n */\nfunction handle_add_output(event, handle) {\n  var output_area = handle.output_area;\n  var output = handle.output;\n  if ((output.data == undefined) || (!output.data.hasOwnProperty(EXEC_MIME_TYPE))) {\n    return\n  }\n  var id = output.metadata[EXEC_MIME_TYPE][\"id\"];\n  var toinsert = output_area.element.find(\".\" + CLASS_NAME.split(' ')[0]);\n  if (id !== undefined) {\n    var nchildren = toinsert.length;\n    var html_node = toinsert[nchildren-1].children[0];\n    html_node.innerHTML = output.data[HTML_MIME_TYPE];\n    var scripts = [];\n    var nodelist = html_node.querySelectorAll(\"script\");\n    for (var i in nodelist) {\n      if (nodelist.hasOwnProperty(i)) {\n        scripts.push(nodelist[i])\n      }\n    }\n\n    scripts.forEach( function (oldScript) {\n      var newScript = document.createElement(\"script\");\n      var attrs = [];\n      var nodemap = oldScript.attributes;\n      for (var j in nodemap) {\n        if (nodemap.hasOwnProperty(j)) {\n          attrs.push(nodemap[j])\n        }\n      }\n      attrs.forEach(function(attr) { newScript.setAttribute(attr.name, attr.value) });\n      newScript.appendChild(document.createTextNode(oldScript.innerHTML));\n      oldScript.parentNode.replaceChild(newScript, oldScript);\n    });\n    if (JS_MIME_TYPE in output.data) {\n      toinsert[nchildren-1].children[1].textContent = output.data[JS_MIME_TYPE];\n    }\n    output_area._hv_plot_id = id;\n    if ((window.Bokeh !== undefined) && (id in Bokeh.index)) {\n      window.PyViz.plot_index[id] = Bokeh.index[id];\n    } else {\n      window.PyViz.plot_index[id] = null;\n    }\n  } else if (output.metadata[EXEC_MIME_TYPE][\"server_id\"] !== undefined) {\n    var bk_div = document.createElement(\"div\");\n    bk_div.innerHTML = output.data[HTML_MIME_TYPE];\n    var script_attrs = bk_div.children[0].attributes;\n    for (var i = 0; i < script_attrs.length; i++) {\n      toinsert[toinsert.length - 1].childNodes[1].setAttribute(script_attrs[i].name, script_attrs[i].value);\n    }\n    // store reference to server id on output_area\n    output_area._bokeh_server_id = output.metadata[EXEC_MIME_TYPE][\"server_id\"];\n  }\n}\n\n/**\n * Handle when an output is cleared or removed\n */\nfunction handle_clear_output(event, handle) {\n  var id = handle.cell.output_area._hv_plot_id;\n  var server_id = handle.cell.output_area._bokeh_server_id;\n  if (((id === undefined) || !(id in PyViz.plot_index)) && (server_id !== undefined)) { return; }\n  var comm = window.PyViz.comm_manager.get_client_comm(\"hv-extension-comm\", \"hv-extension-comm\", function () {});\n  if (server_id !== null) {\n    comm.send({event_type: 'server_delete', 'id': server_id});\n    return;\n  } else if (comm !== null) {\n    comm.send({event_type: 'delete', 'id': id});\n  }\n  delete PyViz.plot_index[id];\n  if ((window.Bokeh !== undefined) & (id in window.Bokeh.index)) {\n    var doc = window.Bokeh.index[id].model.document\n    doc.clear();\n    const i = window.Bokeh.documents.indexOf(doc);\n    if (i > -1) {\n      window.Bokeh.documents.splice(i, 1);\n    }\n  }\n}\n\n/**\n * Handle kernel restart event\n */\nfunction handle_kernel_cleanup(event, handle) {\n  delete PyViz.comms[\"hv-extension-comm\"];\n  window.PyViz.plot_index = {}\n}\n\n/**\n * Handle update_display_data messages\n */\nfunction handle_update_output(event, handle) {\n  handle_clear_output(event, {cell: {output_area: handle.output_area}})\n  handle_add_output(event, handle)\n}\n\nfunction register_renderer(events, OutputArea) {\n  function append_mime(data, metadata, element) {\n    // create a DOM node to render to\n    var toinsert = this.create_output_subarea(\n    metadata,\n    CLASS_NAME,\n    EXEC_MIME_TYPE\n    );\n    this.keyboard_manager.register_events(toinsert);\n    // Render to node\n    var props = {data: data, metadata: metadata[EXEC_MIME_TYPE]};\n    render(props, toinsert[0]);\n    element.append(toinsert);\n    return toinsert\n  }\n\n  events.on('output_added.OutputArea', handle_add_output);\n  events.on('output_updated.OutputArea', handle_update_output);\n  events.on('clear_output.CodeCell', handle_clear_output);\n  events.on('delete.Cell', handle_clear_output);\n  events.on('kernel_ready.Kernel', handle_kernel_cleanup);\n\n  OutputArea.prototype.register_mime_type(EXEC_MIME_TYPE, append_mime, {\n    safe: true,\n    index: 0\n  });\n}\n\nif (window.Jupyter !== undefined) {\n  try {\n    var events = require('base/js/events');\n    var OutputArea = require('notebook/js/outputarea').OutputArea;\n    if (OutputArea.prototype.mime_types().indexOf(EXEC_MIME_TYPE) == -1) {\n      register_renderer(events, OutputArea);\n    }\n  } catch(err) {\n  }\n}\n",
      "application/vnd.holoviews_load.v0+json": ""
     },
     "metadata": {},
     "output_type": "display_data"
    },
    {
     "data": {
      "text/html": [
       "<style>*[data-root-id],\n",
       "*[data-root-id] > * {\n",
       "  box-sizing: border-box;\n",
       "  font-family: var(--jp-ui-font-family);\n",
       "  font-size: var(--jp-ui-font-size1);\n",
       "  color: var(--vscode-editor-foreground, var(--jp-ui-font-color1));\n",
       "}\n",
       "\n",
       "/* Override VSCode background color */\n",
       ".cell-output-ipywidget-background:has(\n",
       "    > .cell-output-ipywidget-background > .lm-Widget > *[data-root-id]\n",
       "  ),\n",
       ".cell-output-ipywidget-background:has(> .lm-Widget > *[data-root-id]) {\n",
       "  background-color: transparent !important;\n",
       "}\n",
       "</style>"
      ]
     },
     "metadata": {},
     "output_type": "display_data"
    }
   ],
   "source": [
    "# Import the required modules\n",
    "import pandas as pd\n",
    "from pathlib import Path\n",
    "import hvplot.pandas"
   ]
  },
  {
   "cell_type": "markdown",
   "metadata": {},
   "source": [
    "## Load the Credit Card Data into a Pandas DataFrame"
   ]
  },
  {
   "cell_type": "code",
   "execution_count": 2,
   "metadata": {},
   "outputs": [],
   "source": [
    "# Read in the CSV file as a Pandas Dataframe\n",
    "ccinfo_df = pd.read_csv(\n",
    "    Path(\"../Resources/cc_info_default.csv\")\n",
    ")"
   ]
  },
  {
   "cell_type": "code",
   "execution_count": 3,
   "metadata": {},
   "outputs": [
    {
     "data": {
      "text/html": [
       "<div>\n",
       "<style scoped>\n",
       "    .dataframe tbody tr th:only-of-type {\n",
       "        vertical-align: middle;\n",
       "    }\n",
       "\n",
       "    .dataframe tbody tr th {\n",
       "        vertical-align: top;\n",
       "    }\n",
       "\n",
       "    .dataframe thead th {\n",
       "        text-align: right;\n",
       "    }\n",
       "</style>\n",
       "<table border=\"1\" class=\"dataframe\">\n",
       "  <thead>\n",
       "    <tr style=\"text-align: right;\">\n",
       "      <th></th>\n",
       "      <th>limit_bal</th>\n",
       "      <th>education</th>\n",
       "      <th>marriage</th>\n",
       "      <th>age</th>\n",
       "      <th>bill_amt</th>\n",
       "      <th>pay_amt</th>\n",
       "      <th>default</th>\n",
       "    </tr>\n",
       "  </thead>\n",
       "  <tbody>\n",
       "    <tr>\n",
       "      <th>0</th>\n",
       "      <td>20000</td>\n",
       "      <td>secondary</td>\n",
       "      <td>yes</td>\n",
       "      <td>24</td>\n",
       "      <td>7704</td>\n",
       "      <td>689</td>\n",
       "      <td>1</td>\n",
       "    </tr>\n",
       "    <tr>\n",
       "      <th>1</th>\n",
       "      <td>120000</td>\n",
       "      <td>secondary</td>\n",
       "      <td>no</td>\n",
       "      <td>26</td>\n",
       "      <td>17077</td>\n",
       "      <td>5000</td>\n",
       "      <td>1</td>\n",
       "    </tr>\n",
       "    <tr>\n",
       "      <th>2</th>\n",
       "      <td>90000</td>\n",
       "      <td>secondary</td>\n",
       "      <td>no</td>\n",
       "      <td>34</td>\n",
       "      <td>101653</td>\n",
       "      <td>11018</td>\n",
       "      <td>0</td>\n",
       "    </tr>\n",
       "    <tr>\n",
       "      <th>3</th>\n",
       "      <td>50000</td>\n",
       "      <td>secondary</td>\n",
       "      <td>yes</td>\n",
       "      <td>37</td>\n",
       "      <td>231334</td>\n",
       "      <td>8388</td>\n",
       "      <td>0</td>\n",
       "    </tr>\n",
       "    <tr>\n",
       "      <th>4</th>\n",
       "      <td>50000</td>\n",
       "      <td>secondary</td>\n",
       "      <td>yes</td>\n",
       "      <td>57</td>\n",
       "      <td>109339</td>\n",
       "      <td>59049</td>\n",
       "      <td>0</td>\n",
       "    </tr>\n",
       "  </tbody>\n",
       "</table>\n",
       "</div>"
      ],
      "text/plain": [
       "   limit_bal  education marriage  age  bill_amt  pay_amt  default\n",
       "0      20000  secondary      yes   24      7704      689        1\n",
       "1     120000  secondary       no   26     17077     5000        1\n",
       "2      90000  secondary       no   34    101653    11018        0\n",
       "3      50000  secondary      yes   37    231334     8388        0\n",
       "4      50000  secondary      yes   57    109339    59049        0"
      ]
     },
     "execution_count": 3,
     "metadata": {},
     "output_type": "execute_result"
    }
   ],
   "source": [
    "# Review the DataFrame\n",
    "ccinfo_df.head()\n"
   ]
  },
  {
   "cell_type": "code",
   "execution_count": 4,
   "metadata": {},
   "outputs": [
    {
     "name": "stdout",
     "output_type": "stream",
     "text": [
      "<class 'pandas.core.frame.DataFrame'>\n",
      "RangeIndex: 4999 entries, 0 to 4998\n",
      "Data columns (total 7 columns):\n",
      " #   Column     Non-Null Count  Dtype \n",
      "---  ------     --------------  ----- \n",
      " 0   limit_bal  4999 non-null   int64 \n",
      " 1   education  4999 non-null   object\n",
      " 2   marriage   4999 non-null   object\n",
      " 3   age        4999 non-null   int64 \n",
      " 4   bill_amt   4999 non-null   int64 \n",
      " 5   pay_amt    4999 non-null   int64 \n",
      " 6   default    4999 non-null   int64 \n",
      "dtypes: int64(5), object(2)\n",
      "memory usage: 273.5+ KB\n"
     ]
    }
   ],
   "source": [
    "# Review the info\n",
    "ccinfo_df.info()\n"
   ]
  },
  {
   "cell_type": "markdown",
   "metadata": {},
   "source": [
    "## Transform \"education\" column with get_dummies"
   ]
  },
  {
   "cell_type": "code",
   "execution_count": 5,
   "metadata": {},
   "outputs": [
    {
     "data": {
      "text/plain": [
       "array(['secondary', 'primary', 'post-grad', 'other'], dtype=object)"
      ]
     },
     "execution_count": 5,
     "metadata": {},
     "output_type": "execute_result"
    }
   ],
   "source": [
    "# Verify the categories of the \"education\" column\n",
    "ccinfo_df[\"education\"].unique()\n",
    "\n",
    "\n"
   ]
  },
  {
   "cell_type": "code",
   "execution_count": 7,
   "metadata": {},
   "outputs": [
    {
     "data": {
      "text/html": [
       "<div>\n",
       "<style scoped>\n",
       "    .dataframe tbody tr th:only-of-type {\n",
       "        vertical-align: middle;\n",
       "    }\n",
       "\n",
       "    .dataframe tbody tr th {\n",
       "        vertical-align: top;\n",
       "    }\n",
       "\n",
       "    .dataframe thead th {\n",
       "        text-align: right;\n",
       "    }\n",
       "</style>\n",
       "<table border=\"1\" class=\"dataframe\">\n",
       "  <thead>\n",
       "    <tr style=\"text-align: right;\">\n",
       "      <th></th>\n",
       "      <th>limit_bal</th>\n",
       "      <th>marriage</th>\n",
       "      <th>age</th>\n",
       "      <th>bill_amt</th>\n",
       "      <th>pay_amt</th>\n",
       "      <th>default</th>\n",
       "      <th>education_other</th>\n",
       "      <th>education_post-grad</th>\n",
       "      <th>education_primary</th>\n",
       "      <th>education_secondary</th>\n",
       "    </tr>\n",
       "  </thead>\n",
       "  <tbody>\n",
       "    <tr>\n",
       "      <th>0</th>\n",
       "      <td>20000</td>\n",
       "      <td>yes</td>\n",
       "      <td>24</td>\n",
       "      <td>7704</td>\n",
       "      <td>689</td>\n",
       "      <td>1</td>\n",
       "      <td>False</td>\n",
       "      <td>False</td>\n",
       "      <td>False</td>\n",
       "      <td>True</td>\n",
       "    </tr>\n",
       "    <tr>\n",
       "      <th>1</th>\n",
       "      <td>120000</td>\n",
       "      <td>no</td>\n",
       "      <td>26</td>\n",
       "      <td>17077</td>\n",
       "      <td>5000</td>\n",
       "      <td>1</td>\n",
       "      <td>False</td>\n",
       "      <td>False</td>\n",
       "      <td>False</td>\n",
       "      <td>True</td>\n",
       "    </tr>\n",
       "    <tr>\n",
       "      <th>2</th>\n",
       "      <td>90000</td>\n",
       "      <td>no</td>\n",
       "      <td>34</td>\n",
       "      <td>101653</td>\n",
       "      <td>11018</td>\n",
       "      <td>0</td>\n",
       "      <td>False</td>\n",
       "      <td>False</td>\n",
       "      <td>False</td>\n",
       "      <td>True</td>\n",
       "    </tr>\n",
       "    <tr>\n",
       "      <th>3</th>\n",
       "      <td>50000</td>\n",
       "      <td>yes</td>\n",
       "      <td>37</td>\n",
       "      <td>231334</td>\n",
       "      <td>8388</td>\n",
       "      <td>0</td>\n",
       "      <td>False</td>\n",
       "      <td>False</td>\n",
       "      <td>False</td>\n",
       "      <td>True</td>\n",
       "    </tr>\n",
       "    <tr>\n",
       "      <th>4</th>\n",
       "      <td>50000</td>\n",
       "      <td>yes</td>\n",
       "      <td>57</td>\n",
       "      <td>109339</td>\n",
       "      <td>59049</td>\n",
       "      <td>0</td>\n",
       "      <td>False</td>\n",
       "      <td>False</td>\n",
       "      <td>False</td>\n",
       "      <td>True</td>\n",
       "    </tr>\n",
       "  </tbody>\n",
       "</table>\n",
       "</div>"
      ],
      "text/plain": [
       "   limit_bal marriage  age  bill_amt  pay_amt  default  education_other  \\\n",
       "0      20000      yes   24      7704      689        1            False   \n",
       "1     120000       no   26     17077     5000        1            False   \n",
       "2      90000       no   34    101653    11018        0            False   \n",
       "3      50000      yes   37    231334     8388        0            False   \n",
       "4      50000      yes   57    109339    59049        0            False   \n",
       "\n",
       "   education_post-grad  education_primary  education_secondary  \n",
       "0                False              False                 True  \n",
       "1                False              False                 True  \n",
       "2                False              False                 True  \n",
       "3                False              False                 True  \n",
       "4                False              False                 True  "
      ]
     },
     "execution_count": 7,
     "metadata": {},
     "output_type": "execute_result"
    }
   ],
   "source": [
    "# Transform the education column using get_dummies\n",
    "card_dummies = pd.get_dummies(ccinfo_df, columns=[\"education\"])\n",
    "\n",
    "# Display the transformed data\n",
    "card_dummies.head()\n"
   ]
  },
  {
   "cell_type": "code",
   "execution_count": 8,
   "metadata": {},
   "outputs": [
    {
     "data": {
      "text/html": [
       "<div>\n",
       "<style scoped>\n",
       "    .dataframe tbody tr th:only-of-type {\n",
       "        vertical-align: middle;\n",
       "    }\n",
       "\n",
       "    .dataframe tbody tr th {\n",
       "        vertical-align: top;\n",
       "    }\n",
       "\n",
       "    .dataframe thead th {\n",
       "        text-align: right;\n",
       "    }\n",
       "</style>\n",
       "<table border=\"1\" class=\"dataframe\">\n",
       "  <thead>\n",
       "    <tr style=\"text-align: right;\">\n",
       "      <th></th>\n",
       "      <th>limit_bal</th>\n",
       "      <th>marriage</th>\n",
       "      <th>age</th>\n",
       "      <th>bill_amt</th>\n",
       "      <th>pay_amt</th>\n",
       "      <th>default</th>\n",
       "      <th>limit_bal</th>\n",
       "      <th>marriage</th>\n",
       "      <th>age</th>\n",
       "      <th>bill_amt</th>\n",
       "      <th>pay_amt</th>\n",
       "      <th>default</th>\n",
       "      <th>education_other</th>\n",
       "      <th>education_post-grad</th>\n",
       "      <th>education_primary</th>\n",
       "      <th>education_secondary</th>\n",
       "    </tr>\n",
       "  </thead>\n",
       "  <tbody>\n",
       "    <tr>\n",
       "      <th>0</th>\n",
       "      <td>20000</td>\n",
       "      <td>yes</td>\n",
       "      <td>24</td>\n",
       "      <td>7704</td>\n",
       "      <td>689</td>\n",
       "      <td>1</td>\n",
       "      <td>20000</td>\n",
       "      <td>yes</td>\n",
       "      <td>24</td>\n",
       "      <td>7704</td>\n",
       "      <td>689</td>\n",
       "      <td>1</td>\n",
       "      <td>False</td>\n",
       "      <td>False</td>\n",
       "      <td>False</td>\n",
       "      <td>True</td>\n",
       "    </tr>\n",
       "    <tr>\n",
       "      <th>1</th>\n",
       "      <td>120000</td>\n",
       "      <td>no</td>\n",
       "      <td>26</td>\n",
       "      <td>17077</td>\n",
       "      <td>5000</td>\n",
       "      <td>1</td>\n",
       "      <td>120000</td>\n",
       "      <td>no</td>\n",
       "      <td>26</td>\n",
       "      <td>17077</td>\n",
       "      <td>5000</td>\n",
       "      <td>1</td>\n",
       "      <td>False</td>\n",
       "      <td>False</td>\n",
       "      <td>False</td>\n",
       "      <td>True</td>\n",
       "    </tr>\n",
       "    <tr>\n",
       "      <th>2</th>\n",
       "      <td>90000</td>\n",
       "      <td>no</td>\n",
       "      <td>34</td>\n",
       "      <td>101653</td>\n",
       "      <td>11018</td>\n",
       "      <td>0</td>\n",
       "      <td>90000</td>\n",
       "      <td>no</td>\n",
       "      <td>34</td>\n",
       "      <td>101653</td>\n",
       "      <td>11018</td>\n",
       "      <td>0</td>\n",
       "      <td>False</td>\n",
       "      <td>False</td>\n",
       "      <td>False</td>\n",
       "      <td>True</td>\n",
       "    </tr>\n",
       "    <tr>\n",
       "      <th>3</th>\n",
       "      <td>50000</td>\n",
       "      <td>yes</td>\n",
       "      <td>37</td>\n",
       "      <td>231334</td>\n",
       "      <td>8388</td>\n",
       "      <td>0</td>\n",
       "      <td>50000</td>\n",
       "      <td>yes</td>\n",
       "      <td>37</td>\n",
       "      <td>231334</td>\n",
       "      <td>8388</td>\n",
       "      <td>0</td>\n",
       "      <td>False</td>\n",
       "      <td>False</td>\n",
       "      <td>False</td>\n",
       "      <td>True</td>\n",
       "    </tr>\n",
       "    <tr>\n",
       "      <th>4</th>\n",
       "      <td>50000</td>\n",
       "      <td>yes</td>\n",
       "      <td>57</td>\n",
       "      <td>109339</td>\n",
       "      <td>59049</td>\n",
       "      <td>0</td>\n",
       "      <td>50000</td>\n",
       "      <td>yes</td>\n",
       "      <td>57</td>\n",
       "      <td>109339</td>\n",
       "      <td>59049</td>\n",
       "      <td>0</td>\n",
       "      <td>False</td>\n",
       "      <td>False</td>\n",
       "      <td>False</td>\n",
       "      <td>True</td>\n",
       "    </tr>\n",
       "  </tbody>\n",
       "</table>\n",
       "</div>"
      ],
      "text/plain": [
       "   limit_bal marriage  age  bill_amt  pay_amt  default  limit_bal marriage  \\\n",
       "0      20000      yes   24      7704      689        1      20000      yes   \n",
       "1     120000       no   26     17077     5000        1     120000       no   \n",
       "2      90000       no   34    101653    11018        0      90000       no   \n",
       "3      50000      yes   37    231334     8388        0      50000      yes   \n",
       "4      50000      yes   57    109339    59049        0      50000      yes   \n",
       "\n",
       "   age  bill_amt  pay_amt  default  education_other  education_post-grad  \\\n",
       "0   24      7704      689        1            False                False   \n",
       "1   26     17077     5000        1            False                False   \n",
       "2   34    101653    11018        0            False                False   \n",
       "3   37    231334     8388        0            False                False   \n",
       "4   57    109339    59049        0            False                False   \n",
       "\n",
       "   education_primary  education_secondary  \n",
       "0              False                 True  \n",
       "1              False                 True  \n",
       "2              False                 True  \n",
       "3              False                 True  \n",
       "4              False                 True  "
      ]
     },
     "execution_count": 8,
     "metadata": {},
     "output_type": "execute_result"
    }
   ],
   "source": [
    "# Concatenate the df_shopping_transformed and the card_dummies DataFrames\n",
    "ccinfo_df = pd.concat([ccinfo_df, card_dummies], axis=\"columns\")\n",
    "\n",
    "# Drop the original education column\n",
    "ccinfo_df.drop(columns=[\"education\"], inplace=True)\n",
    "\n",
    "# Display the DataFrame\n",
    "ccinfo_df.head()\n"
   ]
  },
  {
   "cell_type": "markdown",
   "metadata": {},
   "source": [
    "## Transform \"marriage\" column with encoding function"
   ]
  },
  {
   "cell_type": "code",
   "execution_count": 11,
   "metadata": {},
   "outputs": [
    {
     "ename": "SyntaxError",
     "evalue": "expected ':' (270752167.py, line 5)",
     "output_type": "error",
     "traceback": [
      "\u001b[1;36m  Cell \u001b[1;32mIn[11], line 5\u001b[1;36m\u001b[0m\n\u001b[1;33m    else 0\u001b[0m\n\u001b[1;37m         ^\u001b[0m\n\u001b[1;31mSyntaxError\u001b[0m\u001b[1;31m:\u001b[0m expected ':'\n"
     ]
    }
   ],
   "source": [
    "# Encoding the marriage column using a custom function\n",
    "def encode_marriage(marriage):\n",
    "    if marriage == \"yes\":\n",
    "        return 1\n",
    "    else 0\n",
    "     \n",
    "\n",
    "# Call the encode_marriage function on the marriage column\n",
    "ccinfo_df[\"marriage\"] = ccinfo_df[\"marriage\"].apply(encode_marriage)\n",
    "\n",
    "\n",
    "# Review the DataFrame \n",
    "ccinfo_df.head()\n",
    "\n"
   ]
  },
  {
   "cell_type": "markdown",
   "metadata": {},
   "source": [
    "## Apply the Standard Scaler to \"limit_bal\", \"bill_amt\", \"pay_amt\""
   ]
  },
  {
   "cell_type": "code",
   "execution_count": 9,
   "metadata": {},
   "outputs": [],
   "source": [
    "# Import the module\n",
    "module =\n"
   ]
  },
  {
   "cell_type": "code",
   "execution_count": 10,
   "metadata": {},
   "outputs": [
    {
     "data": {
      "text/plain": [
       "array([[-1.1173411 , -0.66070266, -0.5427793 ],\n",
       "       [-0.3499424 , -0.63637003, -0.46399421],\n",
       "       [-0.58016201, -0.41680786, -0.35401308],\n",
       "       ...,\n",
       "       [ 0.26397655,  1.1152494 , -0.16349243],\n",
       "       [ 1.10811512,  3.33813208,  0.76045505],\n",
       "       [-0.04298292, -0.66917611, -0.4872953 ]])"
      ]
     },
     "execution_count": 10,
     "metadata": {},
     "output_type": "execute_result"
    }
   ],
   "source": [
    "# Scaling the numeric columns\n",
    "\n",
    "\n",
    "# Review the scaled data\n",
    "\n"
   ]
  },
  {
   "cell_type": "code",
   "execution_count": 11,
   "metadata": {},
   "outputs": [
    {
     "data": {
      "text/html": [
       "<div>\n",
       "<style scoped>\n",
       "    .dataframe tbody tr th:only-of-type {\n",
       "        vertical-align: middle;\n",
       "    }\n",
       "\n",
       "    .dataframe tbody tr th {\n",
       "        vertical-align: top;\n",
       "    }\n",
       "\n",
       "    .dataframe thead th {\n",
       "        text-align: right;\n",
       "    }\n",
       "</style>\n",
       "<table border=\"1\" class=\"dataframe\">\n",
       "  <thead>\n",
       "    <tr style=\"text-align: right;\">\n",
       "      <th></th>\n",
       "      <th>limit_bal</th>\n",
       "      <th>marriage</th>\n",
       "      <th>age</th>\n",
       "      <th>bill_amt</th>\n",
       "      <th>pay_amt</th>\n",
       "      <th>default</th>\n",
       "      <th>other</th>\n",
       "      <th>post-grad</th>\n",
       "      <th>primary</th>\n",
       "      <th>secondary</th>\n",
       "    </tr>\n",
       "  </thead>\n",
       "  <tbody>\n",
       "    <tr>\n",
       "      <th>0</th>\n",
       "      <td>-1.117341</td>\n",
       "      <td>1</td>\n",
       "      <td>24</td>\n",
       "      <td>-0.660703</td>\n",
       "      <td>-0.542779</td>\n",
       "      <td>1</td>\n",
       "      <td>0</td>\n",
       "      <td>0</td>\n",
       "      <td>0</td>\n",
       "      <td>1</td>\n",
       "    </tr>\n",
       "    <tr>\n",
       "      <th>1</th>\n",
       "      <td>-0.349942</td>\n",
       "      <td>0</td>\n",
       "      <td>26</td>\n",
       "      <td>-0.636370</td>\n",
       "      <td>-0.463994</td>\n",
       "      <td>1</td>\n",
       "      <td>0</td>\n",
       "      <td>0</td>\n",
       "      <td>0</td>\n",
       "      <td>1</td>\n",
       "    </tr>\n",
       "    <tr>\n",
       "      <th>2</th>\n",
       "      <td>-0.580162</td>\n",
       "      <td>0</td>\n",
       "      <td>34</td>\n",
       "      <td>-0.416808</td>\n",
       "      <td>-0.354013</td>\n",
       "      <td>0</td>\n",
       "      <td>0</td>\n",
       "      <td>0</td>\n",
       "      <td>0</td>\n",
       "      <td>1</td>\n",
       "    </tr>\n",
       "    <tr>\n",
       "      <th>3</th>\n",
       "      <td>-0.887121</td>\n",
       "      <td>1</td>\n",
       "      <td>37</td>\n",
       "      <td>-0.080152</td>\n",
       "      <td>-0.402077</td>\n",
       "      <td>0</td>\n",
       "      <td>0</td>\n",
       "      <td>0</td>\n",
       "      <td>0</td>\n",
       "      <td>1</td>\n",
       "    </tr>\n",
       "    <tr>\n",
       "      <th>4</th>\n",
       "      <td>-0.887121</td>\n",
       "      <td>1</td>\n",
       "      <td>57</td>\n",
       "      <td>-0.396855</td>\n",
       "      <td>0.523771</td>\n",
       "      <td>0</td>\n",
       "      <td>0</td>\n",
       "      <td>0</td>\n",
       "      <td>0</td>\n",
       "      <td>1</td>\n",
       "    </tr>\n",
       "  </tbody>\n",
       "</table>\n",
       "</div>"
      ],
      "text/plain": [
       "   limit_bal  marriage  age  bill_amt   pay_amt  default  other  post-grad  \\\n",
       "0  -1.117341         1   24 -0.660703 -0.542779        1      0          0   \n",
       "1  -0.349942         0   26 -0.636370 -0.463994        1      0          0   \n",
       "2  -0.580162         0   34 -0.416808 -0.354013        0      0          0   \n",
       "3  -0.887121         1   37 -0.080152 -0.402077        0      0          0   \n",
       "4  -0.887121         1   57 -0.396855  0.523771        0      0          0   \n",
       "\n",
       "   primary  secondary  \n",
       "0        0          1  \n",
       "1        0          1  \n",
       "2        0          1  \n",
       "3        0          1  \n",
       "4        0          1  "
      ]
     },
     "execution_count": 11,
     "metadata": {},
     "output_type": "execute_result"
    }
   ],
   "source": [
    "# Create a DataFrame of the scaled data\n",
    "\n",
    "\n",
    "# Replace the original data with the columns of information from the scaled Data\n",
    "\n",
    "\n",
    "# Review the DataFrame\n",
    "\n"
   ]
  },
  {
   "cell_type": "markdown",
   "metadata": {},
   "source": [
    "## Elbow Method to find k"
   ]
  },
  {
   "cell_type": "code",
   "execution_count": 12,
   "metadata": {},
   "outputs": [],
   "source": [
    "# Import the KMeans module from SKLearn\n",
    "from sklearn.cluster import KMeans"
   ]
  },
  {
   "cell_type": "code",
   "execution_count": 13,
   "metadata": {},
   "outputs": [],
   "source": [
    "# Create a a list to store inertia values and the values of k\n",
    "\n"
   ]
  },
  {
   "cell_type": "code",
   "execution_count": 14,
   "metadata": {},
   "outputs": [],
   "source": [
    "# Create a for-loop where each value of k is evaluated using the K-means algorithm\n",
    "# Fit the model using the service_ratings DataFrame\n",
    "# Append the value of the computed inertia from the `inertia_` attribute of the KMeans model instance\n",
    "\n",
    "\n",
    "    "
   ]
  },
  {
   "cell_type": "code",
   "execution_count": 15,
   "metadata": {},
   "outputs": [
    {
     "data": {
      "text/html": [
       "<div>\n",
       "<style scoped>\n",
       "    .dataframe tbody tr th:only-of-type {\n",
       "        vertical-align: middle;\n",
       "    }\n",
       "\n",
       "    .dataframe tbody tr th {\n",
       "        vertical-align: top;\n",
       "    }\n",
       "\n",
       "    .dataframe thead th {\n",
       "        text-align: right;\n",
       "    }\n",
       "</style>\n",
       "<table border=\"1\" class=\"dataframe\">\n",
       "  <thead>\n",
       "    <tr style=\"text-align: right;\">\n",
       "      <th></th>\n",
       "      <th>k</th>\n",
       "      <th>inertia</th>\n",
       "    </tr>\n",
       "  </thead>\n",
       "  <tbody>\n",
       "    <tr>\n",
       "      <th>0</th>\n",
       "      <td>1</td>\n",
       "      <td>449413.376075</td>\n",
       "    </tr>\n",
       "    <tr>\n",
       "      <th>1</th>\n",
       "      <td>2</td>\n",
       "      <td>152036.470987</td>\n",
       "    </tr>\n",
       "    <tr>\n",
       "      <th>2</th>\n",
       "      <td>3</td>\n",
       "      <td>83362.744848</td>\n",
       "    </tr>\n",
       "    <tr>\n",
       "      <th>3</th>\n",
       "      <td>4</td>\n",
       "      <td>58548.383261</td>\n",
       "    </tr>\n",
       "    <tr>\n",
       "      <th>4</th>\n",
       "      <td>5</td>\n",
       "      <td>45451.282971</td>\n",
       "    </tr>\n",
       "  </tbody>\n",
       "</table>\n",
       "</div>"
      ],
      "text/plain": [
       "   k        inertia\n",
       "0  1  449413.376075\n",
       "1  2  152036.470987\n",
       "2  3   83362.744848\n",
       "3  4   58548.383261\n",
       "4  5   45451.282971"
      ]
     },
     "execution_count": 15,
     "metadata": {},
     "output_type": "execute_result"
    }
   ],
   "source": [
    "# Define a DataFrame to hold the values for k and the corresponding inertia\n",
    "\n",
    "\n",
    "# Review the DataFrame\n",
    "\n"
   ]
  },
  {
   "cell_type": "code",
   "execution_count": 16,
   "metadata": {},
   "outputs": [
    {
     "data": {},
     "metadata": {},
     "output_type": "display_data"
    },
    {
     "data": {
      "application/vnd.holoviews_exec.v0+json": "",
      "text/html": [
       "<div id='1002'>\n",
       "  <div class=\"bk-root\" id=\"13c5c4d4-1684-4877-8eae-acc8dbf8c516\" data-root-id=\"1002\"></div>\n",
       "</div>\n",
       "<script type=\"application/javascript\">(function(root) {\n",
       "  function embed_document(root) {\n",
       "    var docs_json = {\"f93dc1a6-f72b-4819-b5cc-14c02cb2e64e\":{\"defs\":[{\"extends\":null,\"module\":null,\"name\":\"ReactiveHTML1\",\"overrides\":[],\"properties\":[]},{\"extends\":null,\"module\":null,\"name\":\"FlexBox1\",\"overrides\":[],\"properties\":[{\"default\":\"flex-start\",\"kind\":null,\"name\":\"align_content\"},{\"default\":\"flex-start\",\"kind\":null,\"name\":\"align_items\"},{\"default\":\"row\",\"kind\":null,\"name\":\"flex_direction\"},{\"default\":\"wrap\",\"kind\":null,\"name\":\"flex_wrap\"},{\"default\":\"flex-start\",\"kind\":null,\"name\":\"justify_content\"}]},{\"extends\":null,\"module\":null,\"name\":\"GridStack1\",\"overrides\":[],\"properties\":[{\"default\":\"warn\",\"kind\":null,\"name\":\"mode\"},{\"default\":null,\"kind\":null,\"name\":\"ncols\"},{\"default\":null,\"kind\":null,\"name\":\"nrows\"},{\"default\":true,\"kind\":null,\"name\":\"allow_resize\"},{\"default\":true,\"kind\":null,\"name\":\"allow_drag\"},{\"default\":[],\"kind\":null,\"name\":\"state\"}]},{\"extends\":null,\"module\":null,\"name\":\"click1\",\"overrides\":[],\"properties\":[{\"default\":\"\",\"kind\":null,\"name\":\"terminal_output\"},{\"default\":\"\",\"kind\":null,\"name\":\"debug_name\"},{\"default\":0,\"kind\":null,\"name\":\"clears\"}]},{\"extends\":null,\"module\":null,\"name\":\"NotificationAreaBase1\",\"overrides\":[],\"properties\":[{\"default\":\"bottom-right\",\"kind\":null,\"name\":\"position\"},{\"default\":0,\"kind\":null,\"name\":\"_clear\"}]},{\"extends\":null,\"module\":null,\"name\":\"NotificationArea1\",\"overrides\":[],\"properties\":[{\"default\":[],\"kind\":null,\"name\":\"notifications\"},{\"default\":\"bottom-right\",\"kind\":null,\"name\":\"position\"},{\"default\":0,\"kind\":null,\"name\":\"_clear\"},{\"default\":[{\"background\":\"#ffc107\",\"icon\":{\"className\":\"fas fa-exclamation-triangle\",\"color\":\"white\",\"tagName\":\"i\"},\"type\":\"warning\"},{\"background\":\"#007bff\",\"icon\":{\"className\":\"fas fa-info-circle\",\"color\":\"white\",\"tagName\":\"i\"},\"type\":\"info\"}],\"kind\":null,\"name\":\"types\"}]},{\"extends\":null,\"module\":null,\"name\":\"Notification\",\"overrides\":[],\"properties\":[{\"default\":null,\"kind\":null,\"name\":\"background\"},{\"default\":3000,\"kind\":null,\"name\":\"duration\"},{\"default\":null,\"kind\":null,\"name\":\"icon\"},{\"default\":\"\",\"kind\":null,\"name\":\"message\"},{\"default\":null,\"kind\":null,\"name\":\"notification_type\"},{\"default\":false,\"kind\":null,\"name\":\"_destroyed\"}]},{\"extends\":null,\"module\":null,\"name\":\"TemplateActions1\",\"overrides\":[],\"properties\":[{\"default\":0,\"kind\":null,\"name\":\"open_modal\"},{\"default\":0,\"kind\":null,\"name\":\"close_modal\"}]},{\"extends\":null,\"module\":null,\"name\":\"MaterialTemplateActions1\",\"overrides\":[],\"properties\":[{\"default\":0,\"kind\":null,\"name\":\"open_modal\"},{\"default\":0,\"kind\":null,\"name\":\"close_modal\"}]}],\"roots\":{\"references\":[{\"attributes\":{},\"id\":\"1037\",\"type\":\"Selection\"},{\"attributes\":{\"active_drag\":{\"id\":\"1024\"},\"active_scroll\":{\"id\":\"1025\"},\"tools\":[{\"id\":\"1005\"},{\"id\":\"1023\"},{\"id\":\"1024\"},{\"id\":\"1025\"},{\"id\":\"1026\"},{\"id\":\"1027\"}]},\"id\":\"1029\",\"type\":\"Toolbar\"},{\"attributes\":{\"below\":[{\"id\":\"1015\"}],\"center\":[{\"id\":\"1018\"},{\"id\":\"1022\"}],\"height\":300,\"left\":[{\"id\":\"1019\"}],\"margin\":[5,5,5,5],\"min_border_bottom\":10,\"min_border_left\":10,\"min_border_right\":10,\"min_border_top\":10,\"renderers\":[{\"id\":\"1042\"}],\"sizing_mode\":\"fixed\",\"title\":{\"id\":\"1007\"},\"toolbar\":{\"id\":\"1029\"},\"width\":700,\"x_range\":{\"id\":\"1003\"},\"x_scale\":{\"id\":\"1011\"},\"y_range\":{\"id\":\"1004\"},\"y_scale\":{\"id\":\"1013\"}},\"id\":\"1006\",\"subtype\":\"Figure\",\"type\":\"Plot\"},{\"attributes\":{},\"id\":\"1023\",\"type\":\"SaveTool\"},{\"attributes\":{\"data\":{\"inertia\":{\"__ndarray__\":\"dNwZgRVuG0EvypTEI48CQa485eorWvRANH6tQ4yW7EC6XxkOaTHmQAHSMBVxZuJAB4X5jpAa4EBHOyD+EFHdQD0UmLyGONtAovWzFkmS2UA=\",\"dtype\":\"float64\",\"order\":\"little\",\"shape\":[10]},\"k\":[1,2,3,4,5,6,7,8,9,10]},\"selected\":{\"id\":\"1037\"},\"selection_policy\":{\"id\":\"1064\"}},\"id\":\"1036\",\"type\":\"ColumnDataSource\"},{\"attributes\":{},\"id\":\"1024\",\"type\":\"PanTool\"},{\"attributes\":{\"children\":[{\"id\":\"1006\"}],\"height\":300,\"margin\":[0,0,0,0],\"name\":\"Row00860\",\"sizing_mode\":\"fixed\",\"tags\":[\"embedded\"],\"width\":700},\"id\":\"1002\",\"type\":\"Row\"},{\"attributes\":{},\"id\":\"1025\",\"type\":\"WheelZoomTool\"},{\"attributes\":{\"source\":{\"id\":\"1036\"}},\"id\":\"1043\",\"type\":\"CDSView\"},{\"attributes\":{\"overlay\":{\"id\":\"1028\"}},\"id\":\"1026\",\"type\":\"BoxZoomTool\"},{\"attributes\":{},\"id\":\"1011\",\"type\":\"LinearScale\"},{\"attributes\":{\"line_color\":\"#30a2da\",\"line_width\":2,\"x\":{\"field\":\"k\"},\"y\":{\"field\":\"inertia\"}},\"id\":\"1044\",\"type\":\"Line\"},{\"attributes\":{\"coordinates\":null,\"group\":null,\"text\":\"Elbow Curve\",\"text_color\":\"black\",\"text_font_size\":\"12pt\"},\"id\":\"1007\",\"type\":\"Title\"},{\"attributes\":{},\"id\":\"1064\",\"type\":\"UnionRenderers\"},{\"attributes\":{},\"id\":\"1027\",\"type\":\"ResetTool\"},{\"attributes\":{\"coordinates\":null,\"data_source\":{\"id\":\"1036\"},\"glyph\":{\"id\":\"1039\"},\"group\":null,\"hover_glyph\":null,\"muted_glyph\":{\"id\":\"1041\"},\"nonselection_glyph\":{\"id\":\"1040\"},\"selection_glyph\":{\"id\":\"1044\"},\"view\":{\"id\":\"1043\"}},\"id\":\"1042\",\"type\":\"GlyphRenderer\"},{\"attributes\":{\"axis\":{\"id\":\"1019\"},\"coordinates\":null,\"dimension\":1,\"grid_line_color\":null,\"group\":null,\"ticker\":null},\"id\":\"1022\",\"type\":\"Grid\"},{\"attributes\":{\"bottom_units\":\"screen\",\"coordinates\":null,\"fill_alpha\":0.5,\"fill_color\":\"lightgrey\",\"group\":null,\"left_units\":\"screen\",\"level\":\"overlay\",\"line_alpha\":1.0,\"line_color\":\"black\",\"line_dash\":[4,4],\"line_width\":2,\"right_units\":\"screen\",\"syncable\":false,\"top_units\":\"screen\"},\"id\":\"1028\",\"type\":\"BoxAnnotation\"},{\"attributes\":{\"end\":10.0,\"reset_end\":10.0,\"reset_start\":1.0,\"start\":1.0,\"tags\":[[[\"k\",\"k\",null]]]},\"id\":\"1003\",\"type\":\"Range1d\"},{\"attributes\":{},\"id\":\"1013\",\"type\":\"LinearScale\"},{\"attributes\":{\"callback\":null,\"renderers\":[{\"id\":\"1042\"}],\"tags\":[\"hv_created\"],\"tooltips\":[[\"k\",\"@{k}\"],[\"inertia\",\"@{inertia}\"]]},\"id\":\"1005\",\"type\":\"HoverTool\"},{\"attributes\":{\"axis_label\":\"k\",\"coordinates\":null,\"formatter\":{\"id\":\"1047\"},\"group\":null,\"major_label_policy\":{\"id\":\"1048\"},\"ticker\":{\"id\":\"1045\"}},\"id\":\"1015\",\"type\":\"LinearAxis\"},{\"attributes\":{},\"id\":\"1052\",\"type\":\"BasicTickFormatter\"},{\"attributes\":{},\"id\":\"1047\",\"type\":\"BasicTickFormatter\"},{\"attributes\":{\"axis\":{\"id\":\"1015\"},\"coordinates\":null,\"grid_line_color\":null,\"group\":null,\"ticker\":null},\"id\":\"1018\",\"type\":\"Grid\"},{\"attributes\":{\"line_color\":\"#30a2da\",\"line_width\":2,\"x\":{\"field\":\"k\"},\"y\":{\"field\":\"inertia\"}},\"id\":\"1039\",\"type\":\"Line\"},{\"attributes\":{\"line_alpha\":0.1,\"line_color\":\"#30a2da\",\"line_width\":2,\"x\":{\"field\":\"k\"},\"y\":{\"field\":\"inertia\"}},\"id\":\"1040\",\"type\":\"Line\"},{\"attributes\":{},\"id\":\"1020\",\"type\":\"BasicTicker\"},{\"attributes\":{\"axis_label\":\"inertia\",\"coordinates\":null,\"formatter\":{\"id\":\"1052\"},\"group\":null,\"major_label_policy\":{\"id\":\"1053\"},\"ticker\":{\"id\":\"1020\"}},\"id\":\"1019\",\"type\":\"LinearAxis\"},{\"attributes\":{},\"id\":\"1053\",\"type\":\"AllLabels\"},{\"attributes\":{\"end\":491736.19948166853,\"reset_end\":491736.19948166853,\"reset_start\":-16137.68139577446,\"start\":-16137.68139577446,\"tags\":[[[\"inertia\",\"inertia\",null]]]},\"id\":\"1004\",\"type\":\"Range1d\"},{\"attributes\":{\"ticks\":[1,2,3,4,5,6,7,8,9,10]},\"id\":\"1045\",\"type\":\"FixedTicker\"},{\"attributes\":{\"line_alpha\":0.2,\"line_color\":\"#30a2da\",\"line_width\":2,\"x\":{\"field\":\"k\"},\"y\":{\"field\":\"inertia\"}},\"id\":\"1041\",\"type\":\"Line\"},{\"attributes\":{},\"id\":\"1048\",\"type\":\"AllLabels\"}],\"root_ids\":[\"1002\"]},\"title\":\"Bokeh Application\",\"version\":\"2.4.3\"}};\n",
       "    var render_items = [{\"docid\":\"f93dc1a6-f72b-4819-b5cc-14c02cb2e64e\",\"root_ids\":[\"1002\"],\"roots\":{\"1002\":\"13c5c4d4-1684-4877-8eae-acc8dbf8c516\"}}];\n",
       "    root.Bokeh.embed.embed_items_notebook(docs_json, render_items);\n",
       "    for (const render_item of render_items) {\n",
       "      for (const root_id of render_item.root_ids) {\n",
       "\tconst id_el = document.getElementById(root_id)\n",
       "\tif (id_el.children.length && (id_el.children[0].className === 'bk-root')) {\n",
       "\t  const root_el = id_el.children[0]\n",
       "\t  root_el.id = root_el.id + '-rendered'\n",
       "\t}\n",
       "      }\n",
       "    }\n",
       "  }\n",
       "  if (root.Bokeh !== undefined && root.Bokeh.Panel !== undefined) {\n",
       "    embed_document(root);\n",
       "  } else {\n",
       "    var attempts = 0;\n",
       "    var timer = setInterval(function(root) {\n",
       "      if (root.Bokeh !== undefined && root.Bokeh.Panel !== undefined) {\n",
       "        clearInterval(timer);\n",
       "        embed_document(root);\n",
       "      } else if (document.readyState == \"complete\") {\n",
       "        attempts++;\n",
       "        if (attempts > 200) {\n",
       "          clearInterval(timer);\n",
       "          console.log(\"Bokeh: ERROR: Unable to run BokehJS code because BokehJS library is missing\");\n",
       "        }\n",
       "      }\n",
       "    }, 25, root)\n",
       "  }\n",
       "})(window);</script>"
      ],
      "text/plain": [
       ":Curve   [k]   (inertia)"
      ]
     },
     "execution_count": 16,
     "metadata": {
      "application/vnd.holoviews_exec.v0+json": {
       "id": "1002"
      }
     },
     "output_type": "execute_result"
    }
   ],
   "source": [
    "# Plot the DataFrame\n",
    "\n"
   ]
  },
  {
   "cell_type": "markdown",
   "metadata": {},
   "source": [
    "## Kmeans algo to cluster data"
   ]
  },
  {
   "cell_type": "code",
   "execution_count": 17,
   "metadata": {},
   "outputs": [],
   "source": [
    "# Define the model with 3 clusters\n",
    "\n",
    "\n",
    "# Fit the model\n",
    "\n",
    "\n",
    "# Make predictions\n",
    "\n",
    "\n",
    "# Create a copy of the preprocessed data\n",
    "\n",
    "\n",
    "# Add a class column with the labels\n"
   ]
  },
  {
   "cell_type": "code",
   "execution_count": 18,
   "metadata": {
    "scrolled": true
   },
   "outputs": [
    {
     "data": {},
     "metadata": {},
     "output_type": "display_data"
    },
    {
     "data": {
      "application/vnd.holoviews_exec.v0+json": "",
      "text/html": [
       "<div id='1113'>\n",
       "  <div class=\"bk-root\" id=\"b4721542-707a-4540-88b9-3f1222ce28d3\" data-root-id=\"1113\"></div>\n",
       "</div>\n",
       "<script type=\"application/javascript\">(function(root) {\n",
       "  function embed_document(root) {\n",
       "    var docs_json = {\"d3a1c394-d321-4e6e-bf16-5f3e33a66fd1\":{\"defs\":[{\"extends\":null,\"module\":null,\"name\":\"ReactiveHTML1\",\"overrides\":[],\"properties\":[]},{\"extends\":null,\"module\":null,\"name\":\"FlexBox1\",\"overrides\":[],\"properties\":[{\"default\":\"flex-start\",\"kind\":null,\"name\":\"align_content\"},{\"default\":\"flex-start\",\"kind\":null,\"name\":\"align_items\"},{\"default\":\"row\",\"kind\":null,\"name\":\"flex_direction\"},{\"default\":\"wrap\",\"kind\":null,\"name\":\"flex_wrap\"},{\"default\":\"flex-start\",\"kind\":null,\"name\":\"justify_content\"}]},{\"extends\":null,\"module\":null,\"name\":\"GridStack1\",\"overrides\":[],\"properties\":[{\"default\":\"warn\",\"kind\":null,\"name\":\"mode\"},{\"default\":null,\"kind\":null,\"name\":\"ncols\"},{\"default\":null,\"kind\":null,\"name\":\"nrows\"},{\"default\":true,\"kind\":null,\"name\":\"allow_resize\"},{\"default\":true,\"kind\":null,\"name\":\"allow_drag\"},{\"default\":[],\"kind\":null,\"name\":\"state\"}]},{\"extends\":null,\"module\":null,\"name\":\"click1\",\"overrides\":[],\"properties\":[{\"default\":\"\",\"kind\":null,\"name\":\"terminal_output\"},{\"default\":\"\",\"kind\":null,\"name\":\"debug_name\"},{\"default\":0,\"kind\":null,\"name\":\"clears\"}]},{\"extends\":null,\"module\":null,\"name\":\"NotificationAreaBase1\",\"overrides\":[],\"properties\":[{\"default\":\"bottom-right\",\"kind\":null,\"name\":\"position\"},{\"default\":0,\"kind\":null,\"name\":\"_clear\"}]},{\"extends\":null,\"module\":null,\"name\":\"NotificationArea1\",\"overrides\":[],\"properties\":[{\"default\":[],\"kind\":null,\"name\":\"notifications\"},{\"default\":\"bottom-right\",\"kind\":null,\"name\":\"position\"},{\"default\":0,\"kind\":null,\"name\":\"_clear\"},{\"default\":[{\"background\":\"#ffc107\",\"icon\":{\"className\":\"fas fa-exclamation-triangle\",\"color\":\"white\",\"tagName\":\"i\"},\"type\":\"warning\"},{\"background\":\"#007bff\",\"icon\":{\"className\":\"fas fa-info-circle\",\"color\":\"white\",\"tagName\":\"i\"},\"type\":\"info\"}],\"kind\":null,\"name\":\"types\"}]},{\"extends\":null,\"module\":null,\"name\":\"Notification\",\"overrides\":[],\"properties\":[{\"default\":null,\"kind\":null,\"name\":\"background\"},{\"default\":3000,\"kind\":null,\"name\":\"duration\"},{\"default\":null,\"kind\":null,\"name\":\"icon\"},{\"default\":\"\",\"kind\":null,\"name\":\"message\"},{\"default\":null,\"kind\":null,\"name\":\"notification_type\"},{\"default\":false,\"kind\":null,\"name\":\"_destroyed\"}]},{\"extends\":null,\"module\":null,\"name\":\"TemplateActions1\",\"overrides\":[],\"properties\":[{\"default\":0,\"kind\":null,\"name\":\"open_modal\"},{\"default\":0,\"kind\":null,\"name\":\"close_modal\"}]},{\"extends\":null,\"module\":null,\"name\":\"MaterialTemplateActions1\",\"overrides\":[],\"properties\":[{\"default\":0,\"kind\":null,\"name\":\"open_modal\"},{\"default\":0,\"kind\":null,\"name\":\"close_modal\"}]}],\"roots\":{\"references\":[{\"attributes\":{\"data\":{\"age\":[57,51,49,47,54,58,46,49,45,46,51,57,56,45,44,44,49,45,44,53,63,52,47,48,52,51,55,46,51,47,60,56,45,57,47,46,50,56,47,47,48,47,50,45,44,50,75,46,48,48,49,48,58,44,46,46,46,55,49,53,46,55,58,45,56,61,54,46,58,73,44,51,48,52,48,49,55,44,53,51,53,48,56,59,44,48,47,49,46,53,56,47,45,46,50,44,52,52,56,47,53,52,45,60,49,53,53,46,59,53,56,46,48,45,49,47,56,44,49,44,46,56,45,47,46,49,49,49,48,47,45,57,50,51,51,46,58,52,53,44,51,48,44,44,51,45,51,50,58,48,53,55,57,49,52,46,52,45,49,57,55,55,51,50,46,45,48,46,46,60,44,59,51,46,47,54,49,53,54,44,45,46,57,45,57,67,54,52,49,53,67,49,56,55,61,44,66,47,47,50,46,46,47,54,44,54,54,52,44,44,47,52,47,48,44,52,59,48,62,55,50,66,45,44,44,48,50,49,51,54,50,46,47,54,57,45,45,50,52,46,50,44,57,46,53,54,48,53,49,47,48,49,45,51,48,48,49,53,49,49,49,46,47,44,50,54,58,52,51,44,45,45,58,44,52,44,54,44,51,50,54,50,45,44,44,52,48,48,54,70,53,48,49,50,44,48,44,48,47,52,50,48,44,56,45,46,47,70,52,49,50,48,44,53,51,44,63,48,47,50,49,47,44,72,48,44,45,55,51,51,49,50,44,61,46,54,53,47,45,51,64,45,44,54,54,53,46,56,56,47,48,48,60,44,47,58,46,53,44,54,61,51,48,53,45,54,46,46,47,65,44,51,49,49,53,45,50,57,53,50,49,65,67,52,59,52,49,51,53,47,55,46,51,48,55,50,50,49,55,54,47,53,71,49,44,44,52,57,66,49,55,49,51,54,62,52,48,49,53,53,55,55,57,50,47,47,45,53,45,58,63,50,49,50,50,45,48,44,56,48,53,56,49,49,54,46,44,44,47,56,47,46,60,53,52,45,50,46,54,52,44,49,66,44,51,47,47,49,47,50,51,47,67,47,49,45,48,55,54,44,57,44,51,44,56,47,53,51,46,47,45,44,48,47,49,46,49,51,48,54,59,48,46,49,49,62,47,51,47,44,44,45,58,46,55,45,49,46,53,45,46,60,51,44,48,44,47,47,47,47,44,49,47,51,47,47,57,53,55,47,46,55,47,49,50,44,46,46,46,44,45,49,49,60,45,57,57,60,47,51,47,46,44,47,48,46,53,49,49,45,50,44,48,53,48,48,46,49,46,47,56,52,52,44,44,50,59,44,45,49,54,48,44,60,47,45,48,45,44,50,48,47,44,46,44,54,49,52,46,51,46,59,49,48,52,49,59,52,44,57,48,59,50,44,56,45,47,65,46,62,45,59,48,52,47,53,52,51,47,46,44,45,59,50,49,44,44,48,51,48,48,45,44,45,46,63,50,54,46,46,48,55,55,58,49,50,44,50,46,51,52,53,45,45,59,56,50,44,50,45,46,53,57,46,45,56,54,48,51,47,51,66,49,57,59,46,55,48,50,64,44,44,51,47,51,44,48,46,47,46,53,52,47,44,47,45,45,57,53,66,48,46,46,45,44,48,59,46,46,48,48,53,54,48,50,48,44,48,49,52,52,51,50,45,49,48,46,44,50,44,45,44,44,49,57,56,53,47,48,44,64,52,47,56,46,47,49,44,48,45,50,60,49,58,45,60,44,50,44,46,49,45,54,46,49,51,63,45,47,47,52,51,48,46,44,44,45,44,51,51,46,48,46,50,45,46,52,51,46,46,44,52,49,49,57,55,44,66,44,57,51,46,50,52,52,49,44,52,48,56,49,51,44,49,49,45,49,58,50,57,44,51,54,52,53,49,44,54,47,52,51,45,59,54,50,48,46,50,48,47,51,49,44,46,49,45,56,44,49,47,52,45,47,45,46,52,54,52,44,45,50,45,65,51,46,56,44,44,64,48,45,60,58,55,50,54,49,45,46,46,45,49,51,52,48,46,44,45,47,50,44,44,50,44,54,46,45,50,47,52,57,44,44,53,47,48,44,58,45,46,44,46,46,45,52,48,45,56,60,58,45,56,44,51,45,44,44,50,48,53,56,52,44,44,49,45,53,49,57,48,52,48,54,55,54,53,52,49,47,50,50,46,57,45,53,49,45,46,59,51,51,46,56,44,45,63,44,50,58,45,44],\"customer_segments\":[0,0,0,0,0,0,0,0,0,0,0,0,0,0,0,0,0,0,0,0,0,0,0,0,0,0,0,0,0,0,0,0,0,0,0,0,0,0,0,0,0,0,0,0,0,0,0,0,0,0,0,0,0,0,0,0,0,0,0,0,0,0,0,0,0,0,0,0,0,0,0,0,0,0,0,0,0,0,0,0,0,0,0,0,0,0,0,0,0,0,0,0,0,0,0,0,0,0,0,0,0,0,0,0,0,0,0,0,0,0,0,0,0,0,0,0,0,0,0,0,0,0,0,0,0,0,0,0,0,0,0,0,0,0,0,0,0,0,0,0,0,0,0,0,0,0,0,0,0,0,0,0,0,0,0,0,0,0,0,0,0,0,0,0,0,0,0,0,0,0,0,0,0,0,0,0,0,0,0,0,0,0,0,0,0,0,0,0,0,0,0,0,0,0,0,0,0,0,0,0,0,0,0,0,0,0,0,0,0,0,0,0,0,0,0,0,0,0,0,0,0,0,0,0,0,0,0,0,0,0,0,0,0,0,0,0,0,0,0,0,0,0,0,0,0,0,0,0,0,0,0,0,0,0,0,0,0,0,0,0,0,0,0,0,0,0,0,0,0,0,0,0,0,0,0,0,0,0,0,0,0,0,0,0,0,0,0,0,0,0,0,0,0,0,0,0,0,0,0,0,0,0,0,0,0,0,0,0,0,0,0,0,0,0,0,0,0,0,0,0,0,0,0,0,0,0,0,0,0,0,0,0,0,0,0,0,0,0,0,0,0,0,0,0,0,0,0,0,0,0,0,0,0,0,0,0,0,0,0,0,0,0,0,0,0,0,0,0,0,0,0,0,0,0,0,0,0,0,0,0,0,0,0,0,0,0,0,0,0,0,0,0,0,0,0,0,0,0,0,0,0,0,0,0,0,0,0,0,0,0,0,0,0,0,0,0,0,0,0,0,0,0,0,0,0,0,0,0,0,0,0,0,0,0,0,0,0,0,0,0,0,0,0,0,0,0,0,0,0,0,0,0,0,0,0,0,0,0,0,0,0,0,0,0,0,0,0,0,0,0,0,0,0,0,0,0,0,0,0,0,0,0,0,0,0,0,0,0,0,0,0,0,0,0,0,0,0,0,0,0,0,0,0,0,0,0,0,0,0,0,0,0,0,0,0,0,0,0,0,0,0,0,0,0,0,0,0,0,0,0,0,0,0,0,0,0,0,0,0,0,0,0,0,0,0,0,0,0,0,0,0,0,0,0,0,0,0,0,0,0,0,0,0,0,0,0,0,0,0,0,0,0,0,0,0,0,0,0,0,0,0,0,0,0,0,0,0,0,0,0,0,0,0,0,0,0,0,0,0,0,0,0,0,0,0,0,0,0,0,0,0,0,0,0,0,0,0,0,0,0,0,0,0,0,0,0,0,0,0,0,0,0,0,0,0,0,0,0,0,0,0,0,0,0,0,0,0,0,0,0,0,0,0,0,0,0,0,0,0,0,0,0,0,0,0,0,0,0,0,0,0,0,0,0,0,0,0,0,0,0,0,0,0,0,0,0,0,0,0,0,0,0,0,0,0,0,0,0,0,0,0,0,0,0,0,0,0,0,0,0,0,0,0,0,0,0,0,0,0,0,0,0,0,0,0,0,0,0,0,0,0,0,0,0,0,0,0,0,0,0,0,0,0,0,0,0,0,0,0,0,0,0,0,0,0,0,0,0,0,0,0,0,0,0,0,0,0,0,0,0,0,0,0,0,0,0,0,0,0,0,0,0,0,0,0,0,0,0,0,0,0,0,0,0,0,0,0,0,0,0,0,0,0,0,0,0,0,0,0,0,0,0,0,0,0,0,0,0,0,0,0,0,0,0,0,0,0,0,0,0,0,0,0,0,0,0,0,0,0,0,0,0,0,0,0,0,0,0,0,0,0,0,0,0,0,0,0,0,0,0,0,0,0,0,0,0,0,0,0,0,0,0,0,0,0,0,0,0,0,0,0,0,0,0,0,0,0,0,0,0,0,0,0,0,0,0,0,0,0,0,0,0,0,0,0,0,0,0,0,0,0,0,0,0,0,0,0,0,0,0,0,0,0,0,0,0,0,0,0,0,0,0,0,0,0,0,0,0,0,0,0,0,0,0,0,0,0,0,0,0,0,0,0,0,0,0,0,0,0,0,0,0,0,0,0,0,0,0,0,0,0,0,0,0,0,0,0,0,0,0,0,0,0,0,0,0,0,0,0,0,0],\"limit_bal\":{\"__ndarray__\":\"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\",\"dtype\":\"float64\",\"order\":\"little\",\"shape\":[991]}},\"selected\":{\"id\":\"1156\"},\"selection_policy\":{\"id\":\"1170\"}},\"id\":\"1155\",\"type\":\"ColumnDataSource\"},{\"attributes\":{\"fill_alpha\":{\"value\":0.1},\"fill_color\":{\"value\":\"#30a2da\"},\"hatch_alpha\":{\"value\":0.1},\"hatch_color\":{\"value\":\"#30a2da\"},\"line_alpha\":{\"value\":0.1},\"line_color\":{\"value\":\"#30a2da\"},\"size\":{\"value\":5.477225575051661},\"x\":{\"field\":\"limit_bal\"},\"y\":{\"field\":\"age\"}},\"id\":\"1159\",\"type\":\"Scatter\"},{\"attributes\":{\"fill_color\":{\"value\":\"#fc4f30\"},\"hatch_color\":{\"value\":\"#fc4f30\"},\"line_color\":{\"value\":\"#fc4f30\"},\"size\":{\"value\":5.477225575051661},\"x\":{\"field\":\"limit_bal\"},\"y\":{\"field\":\"age\"}},\"id\":\"1179\",\"type\":\"Scatter\"},{\"attributes\":{},\"id\":\"1133\",\"type\":\"BasicTicker\"},{\"attributes\":{\"axis_label\":\"age\",\"coordinates\":null,\"formatter\":{\"id\":\"1153\"},\"group\":null,\"major_label_policy\":{\"id\":\"1154\"},\"ticker\":{\"id\":\"1133\"}},\"id\":\"1132\",\"type\":\"LinearAxis\"},{\"attributes\":{\"label\":{\"value\":\"1\"},\"renderers\":[{\"id\":\"1182\"}]},\"id\":\"1196\",\"type\":\"LegendItem\"},{\"attributes\":{\"below\":[{\"id\":\"1128\"}],\"center\":[{\"id\":\"1131\"},{\"id\":\"1135\"}],\"height\":300,\"left\":[{\"id\":\"1132\"}],\"margin\":[5,5,5,5],\"min_border_bottom\":10,\"min_border_left\":10,\"min_border_right\":10,\"min_border_top\":10,\"renderers\":[{\"id\":\"1161\"},{\"id\":\"1182\"},{\"id\":\"1204\"}],\"right\":[{\"id\":\"1173\"}],\"sizing_mode\":\"fixed\",\"title\":{\"id\":\"1120\"},\"toolbar\":{\"id\":\"1142\"},\"width\":700,\"x_range\":{\"id\":\"1114\"},\"x_scale\":{\"id\":\"1124\"},\"y_range\":{\"id\":\"1115\"},\"y_scale\":{\"id\":\"1126\"}},\"id\":\"1119\",\"subtype\":\"Figure\",\"type\":\"Plot\"},{\"attributes\":{\"end\":6.728762411532733,\"reset_end\":6.728762411532733,\"reset_start\":-1.5196772680064357,\"start\":-1.5196772680064357,\"tags\":[[[\"limit_bal\",\"limit_bal\",null]]]},\"id\":\"1114\",\"type\":\"Range1d\"},{\"attributes\":{\"angle\":{\"value\":0.0},\"fill_alpha\":{\"value\":1.0},\"fill_color\":{\"value\":\"#fc4f30\"},\"hatch_alpha\":{\"value\":1.0},\"hatch_color\":{\"value\":\"#fc4f30\"},\"hatch_scale\":{\"value\":12.0},\"hatch_weight\":{\"value\":1.0},\"line_alpha\":{\"value\":1.0},\"line_cap\":{\"value\":\"butt\"},\"line_color\":{\"value\":\"#fc4f30\"},\"line_dash\":{\"value\":[]},\"line_dash_offset\":{\"value\":0},\"line_join\":{\"value\":\"bevel\"},\"line_width\":{\"value\":1},\"marker\":{\"value\":\"circle\"},\"size\":{\"value\":5.477225575051661},\"x\":{\"field\":\"limit_bal\"},\"y\":{\"field\":\"age\"}},\"id\":\"1197\",\"type\":\"Scatter\"},{\"attributes\":{},\"id\":\"1177\",\"type\":\"Selection\"},{\"attributes\":{\"coordinates\":null,\"data_source\":{\"id\":\"1198\"},\"glyph\":{\"id\":\"1201\"},\"group\":null,\"hover_glyph\":null,\"muted_glyph\":{\"id\":\"1203\"},\"nonselection_glyph\":{\"id\":\"1202\"},\"selection_glyph\":{\"id\":\"1221\"},\"view\":{\"id\":\"1205\"}},\"id\":\"1204\",\"type\":\"GlyphRenderer\"},{\"attributes\":{},\"id\":\"1156\",\"type\":\"Selection\"},{\"attributes\":{\"fill_alpha\":{\"value\":0.2},\"fill_color\":{\"value\":\"#30a2da\"},\"hatch_alpha\":{\"value\":0.2},\"hatch_color\":{\"value\":\"#30a2da\"},\"line_alpha\":{\"value\":0.2},\"line_color\":{\"value\":\"#30a2da\"},\"size\":{\"value\":5.477225575051661},\"x\":{\"field\":\"limit_bal\"},\"y\":{\"field\":\"age\"}},\"id\":\"1160\",\"type\":\"Scatter\"},{\"attributes\":{},\"id\":\"1170\",\"type\":\"UnionRenderers\"},{\"attributes\":{\"data\":{\"age\":[34,37,37,35,34,41,39,39,40,33,40,33,37,42,43,34,34,34,39,37,33,33,35,39,37,35,43,38,36,38,35,41,41,34,38,37,40,35,36,41,34,34,33,34,41,34,37,41,34,35,37,37,35,38,34,36,34,34,38,43,41,38,43,39,42,36,36,38,40,35,33,37,37,34,33,35,41,39,40,40,33,43,38,37,37,34,33,36,40,33,38,33,43,36,36,34,37,36,40,36,38,34,40,36,43,41,34,40,37,40,43,34,36,39,36,43,34,34,40,35,40,36,34,43,37,36,42,43,38,39,38,42,41,37,38,41,35,36,38,38,33,36,37,34,42,37,42,39,39,41,38,36,38,38,41,35,41,34,38,37,38,40,43,42,39,36,34,43,41,38,38,35,33,35,43,35,34,42,35,40,38,36,34,41,41,42,33,34,42,38,35,40,33,36,35,33,42,43,34,35,43,36,43,34,36,36,34,43,37,37,33,37,39,39,37,39,41,40,42,39,42,33,39,33,40,37,43,35,35,34,34,41,42,40,35,40,41,40,35,37,34,34,41,40,38,42,42,33,35,34,39,33,38,34,37,33,38,34,34,43,36,35,33,35,35,40,35,33,33,42,38,35,40,34,35,37,36,36,37,39,33,39,33,37,34,43,33,39,38,34,42,37,37,43,41,35,35,39,34,40,38,40,33,43,43,38,34,37,37,36,36,40,39,33,40,36,34,36,34,37,37,33,42,39,41,34,35,41,43,36,36,42,33,39,36,43,33,39,39,38,40,36,36,37,34,38,36,36,40,37,35,33,38,41,33,40,33,35,39,42,36,42,33,42,41,33,33,34,42,43,40,35,33,40,35,39,43,41,40,35,38,41,42,35,40,41,33,33,37,34,40,41,38,35,34,34,36,41,39,35,33,36,42,39,33,36,39,38,35,38,38,38,34,37,39,36,40,33,37,43,38,42,41,37,40,33,35,35,39,35,42,35,33,37,43,34,37,34,34,36,34,43,41,34,36,41,34,37,36,37,34,43,35,42,36,41,38,41,34,38,35,40,34,39,38,41,37,42,35,42,37,36,39,36,39,39,37,35,35,36,33,36,41,38,37,33,42,37,42,33,33,37,34,33,43,42,37,36,39,39,36,39,37,40,36,41,43,36,35,34,43,43,39,33,34,33,39,36,40,37,35,38,34,34,34,42,33,41,37,38,34,37,33,40,43,36,36,38,42,40,36,33,35,35,37,33,38,37,42,43,38,35,35,35,33,36,37,34,43,38,40,34,34,39,40,34,43,39,36,40,36,42,40,36,37,40,35,40,35,36,40,33,38,37,40,36,42,42,41,33,33,36,37,41,33,40,38,38,34,34,36,33,33,37,43,41,34,33,37,34,33,36,35,35,36,39,37,40,41,35,39,38,35,37,40,36,39,40,41,39,43,33,34,39,35,35,41,34,38,40,34,33,41,36,38,41,42,42,39,37,36,42,36,38,42,37,33,35,33,33,35,36,39,35,40,34,33,39,36,41,41,41,42,37,37,38,37,43,42,40,41,35,38,40,37,35,34,42,43,43,34,33,35,34,40,33,40,35,38,42,35,36,38,36,39,41,42,39,34,39,39,38,36,40,40,42,37,35,40,40,33,40,37,34,43,33,42,37,39,36,39,41,42,34,36,37,34,35,38,41,43,33,43,39,42,34,36,42,42,36,34,43,41,41,42,38,35,38,37,35,34,36,35,36,33,37,42,39,38,43,35,37,33,37,41,41,38,36,41,38,38,43,38,35,35,34,36,36,35,36,33,37,39,33,39,35,40,37,35,41,37,33,39,35,43,38,37,33,40,43,39,39,40,41,36,38,36,33,34,41,42,34,35,41,34,33,42,39,38,35,33,41,35,42,43,39,38,43,40,35,42,35,38,33,35,39,33,36,34,36,40,35,42,41,40,35,41,38,37,34,39,33,39,36,34,41,37,34,38,36,33,38,33,35,36,42,37,35,34,33,39,40,38,41,42,43,33,34,34,35,42,41,34,43,36,34,39,39,42,37,42,39,38,36,42,34,40,33,35,42,39,41,37,37,40,35,35,41,36,38,34,43,34,38,41,40,37,43,40,36,34,42,35,42,33,36,40,36,36,37,39,35,39,33,41,39,42,40,37,40,34,38,43,43,39,36,38,35,39,35,36,41,35,40,39,39,34,33,36,33,41,33,38,38,36,43,39,38,38,38,42,37,39,34,34,37,39,39,34,41,40,35,37,42,41,36,42,37,33,35,36,37,36,36,37,40,43,37,36,37,39,33,36,38,38,35,40,42,34,34,35,33,42,38,37,36,33,35,42,33,33,38,43,37,42,39,40,33,43,37,43,40,36,33,43,38,38,37,38,34,41,37,35,38,36,34,36,36,37,37,37,34,36,37,39,38,38,40,38,41,38,37,33,40,36,37,42,36,33,38,39,40,33,36,36,33,33,41,39,34,37,41,41,42,33,39,35,35,43,43,36,37,37,33,42,35,34,37,34,40,41,41,40,39,33,39,38,42,37,38,41,37,33,35,35,43,39,38,38,39,33,34,38,34,37,34,39,36,33,33,41,38,40,33,34,33,40,42,33,40,37,39,34,40,35,43,33,39,35,41,36,37,34,39,41,33,39,36,36,36,42,33,39,35,40,42,41,41,33,39,33,41,33,41,34,42,39,37,37,41,35,36,36,34,37,38,36,37,37,43,33,43,40,37,33,43,37,37,35,43,42,40,40,40,34,33,37,35,33,40,42,36,33,34,37,37,35,37,34,40,39,41,35,40,36,42,37,34,40,36,33,41,33,36,34,34,37,33,39,42,33,41,40,35,39,40,39,41,39,37,36,35,35,33,33,42,39,39,39,35,37,37,42,40,38,40,42,37,35,35,34,35,41,38,39,41,33,35,36,36,37,35,38,35,34,34,35,41,37,35,34,34,41,36,34,37,35,35,37,36,33,37,42,36,39,33,33,34,39,39,36,38,41,38,33,36,43,43,33,37,34,39,39,43,37,37,41,36,37,41,40,38,42,40,34,39,39,43,39,37,33,34,35,40,33,42,35,42,41,39,34,38,35,35,37,33,33,38,36,39,39,36,39,43,33,34,43,43,34,35,41,43,37,36,36,33,33,43,37,43,35,42,41,35,40,40,34,38,40,34,34,35,35,42,37,33,42,33,35,36,41,39,34,43,33,43,39,35,38,42,33,33,39,39,36,39,40,35,36,38,42,36,42,34,39,40,35,43,37,35,34,37,42,39,37,34,37,33,33,43,43,36,40,38,43,34,36,41,40,43,41,33,39,33,33,42,42,34,34,34,35,40,39,42,34,33,40,41,34,34,40,33,34,43,41,43,33,41,37,36,41,39,33,33,36,38,42,35,43,41,33,34,35,35,42,39,39,37,37,33,42,34,33,39,36,35,34,43,35,40,34,37,36,34,34,40,34,41,35,37,39,36,39,34,37,38,33,34,34,34,43,35,33,36,34,36,34,42,35,41,36,35,39,37,39,42,39,39,37,42,37,34,41,41,35,38,42,35,36,37,36,39,36,36,38,35,40,39,40,39,39,42,38,36,42,42,34,34,40,39,38,40,39,37,33,36,37,37,33,33,36,38,33,39,38,41,41,43,40,33,35,43,43,35,43,36,38,35,40,42,42,35,39,43,39,41,37,40,40,35,39,36,37,36,34,42,43,35,37,36,39,37,36,33,35,42,41,41,41,36,37,42,35,39,38,33,38,34,42,34,42,43,33,36,43,41,42,37,37,33,37,40,42,36,34,40,36,35,38,40,41,35,41,38,33,43,42,38,37,33,35,43,34,36,42,39,33,33,37,33,34,42,37,33,35,41,41,37,40,34,40,42,41,33,37,43,36,33,33,38,41,42,37,34,34,43,34,33,42,35,39,38,42,38,37,35,37,35,36,34,35,33,34,42,37,36,39,36,35,43,33,36,40,36,34,40],\"customer_segments\":[2,2,2,2,2,2,2,2,2,2,2,2,2,2,2,2,2,2,2,2,2,2,2,2,2,2,2,2,2,2,2,2,2,2,2,2,2,2,2,2,2,2,2,2,2,2,2,2,2,2,2,2,2,2,2,2,2,2,2,2,2,2,2,2,2,2,2,2,2,2,2,2,2,2,2,2,2,2,2,2,2,2,2,2,2,2,2,2,2,2,2,2,2,2,2,2,2,2,2,2,2,2,2,2,2,2,2,2,2,2,2,2,2,2,2,2,2,2,2,2,2,2,2,2,2,2,2,2,2,2,2,2,2,2,2,2,2,2,2,2,2,2,2,2,2,2,2,2,2,2,2,2,2,2,2,2,2,2,2,2,2,2,2,2,2,2,2,2,2,2,2,2,2,2,2,2,2,2,2,2,2,2,2,2,2,2,2,2,2,2,2,2,2,2,2,2,2,2,2,2,2,2,2,2,2,2,2,2,2,2,2,2,2,2,2,2,2,2,2,2,2,2,2,2,2,2,2,2,2,2,2,2,2,2,2,2,2,2,2,2,2,2,2,2,2,2,2,2,2,2,2,2,2,2,2,2,2,2,2,2,2,2,2,2,2,2,2,2,2,2,2,2,2,2,2,2,2,2,2,2,2,2,2,2,2,2,2,2,2,2,2,2,2,2,2,2,2,2,2,2,2,2,2,2,2,2,2,2,2,2,2,2,2,2,2,2,2,2,2,2,2,2,2,2,2,2,2,2,2,2,2,2,2,2,2,2,2,2,2,2,2,2,2,2,2,2,2,2,2,2,2,2,2,2,2,2,2,2,2,2,2,2,2,2,2,2,2,2,2,2,2,2,2,2,2,2,2,2,2,2,2,2,2,2,2,2,2,2,2,2,2,2,2,2,2,2,2,2,2,2,2,2,2,2,2,2,2,2,2,2,2,2,2,2,2,2,2,2,2,2,2,2,2,2,2,2,2,2,2,2,2,2,2,2,2,2,2,2,2,2,2,2,2,2,2,2,2,2,2,2,2,2,2,2,2,2,2,2,2,2,2,2,2,2,2,2,2,2,2,2,2,2,2,2,2,2,2,2,2,2,2,2,2,2,2,2,2,2,2,2,2,2,2,2,2,2,2,2,2,2,2,2,2,2,2,2,2,2,2,2,2,2,2,2,2,2,2,2,2,2,2,2,2,2,2,2,2,2,2,2,2,2,2,2,2,2,2,2,2,2,2,2,2,2,2,2,2,2,2,2,2,2,2,2,2,2,2,2,2,2,2,2,2,2,2,2,2,2,2,2,2,2,2,2,2,2,2,2,2,2,2,2,2,2,2,2,2,2,2,2,2,2,2,2,2,2,2,2,2,2,2,2,2,2,2,2,2,2,2,2,2,2,2,2,2,2,2,2,2,2,2,2,2,2,2,2,2,2,2,2,2,2,2,2,2,2,2,2,2,2,2,2,2,2,2,2,2,2,2,2,2,2,2,2,2,2,2,2,2,2,2,2,2,2,2,2,2,2,2,2,2,2,2,2,2,2,2,2,2,2,2,2,2,2,2,2,2,2,2,2,2,2,2,2,2,2,2,2,2,2,2,2,2,2,2,2,2,2,2,2,2,2,2,2,2,2,2,2,2,2,2,2,2,2,2,2,2,2,2,2,2,2,2,2,2,2,2,2,2,2,2,2,2,2,2,2,2,2,2,2,2,2,2,2,2,2,2,2,2,2,2,2,2,2,2,2,2,2,2,2,2,2,2,2,2,2,2,2,2,2,2,2,2,2,2,2,2,2,2,2,2,2,2,2,2,2,2,2,2,2,2,2,2,2,2,2,2,2,2,2,2,2,2,2,2,2,2,2,2,2,2,2,2,2,2,2,2,2,2,2,2,2,2,2,2,2,2,2,2,2,2,2,2,2,2,2,2,2,2,2,2,2,2,2,2,2,2,2,2,2,2,2,2,2,2,2,2,2,2,2,2,2,2,2,2,2,2,2,2,2,2,2,2,2,2,2,2,2,2,2,2,2,2,2,2,2,2,2,2,2,2,2,2,2,2,2,2,2,2,2,2,2,2,2,2,2,2,2,2,2,2,2,2,2,2,2,2,2,2,2,2,2,2,2,2,2,2,2,2,2,2,2,2,2,2,2,2,2,2,2,2,2,2,2,2,2,2,2,2,2,2,2,2,2,2,2,2,2,2,2,2,2,2,2,2,2,2,2,2,2,2,2,2,2,2,2,2,2,2,2,2,2,2,2,2,2,2,2,2,2,2,2,2,2,2,2,2,2,2,2,2,2,2,2,2,2,2,2,2,2,2,2,2,2,2,2,2,2,2,2,2,2,2,2,2,2,2,2,2,2,2,2,2,2,2,2,2,2,2,2,2,2,2,2,2,2,2,2,2,2,2,2,2,2,2,2,2,2,2,2,2,2,2,2,2,2,2,2,2,2,2,2,2,2,2,2,2,2,2,2,2,2,2,2,2,2,2,2,2,2,2,2,2,2,2,2,2,2,2,2,2,2,2,2,2,2,2,2,2,2,2,2,2,2,2,2,2,2,2,2,2,2,2,2,2,2,2,2,2,2,2,2,2,2,2,2,2,2,2,2,2,2,2,2,2,2,2,2,2,2,2,2,2,2,2,2,2,2,2,2,2,2,2,2,2,2,2,2,2,2,2,2,2,2,2,2,2,2,2,2,2,2,2,2,2,2,2,2,2,2,2,2,2,2,2,2,2,2,2,2,2,2,2,2,2,2,2,2,2,2,2,2,2,2,2,2,2,2,2,2,2,2,2,2,2,2,2,2,2,2,2,2,2,2,2,2,2,2,2,2,2,2,2,2,2,2,2,2,2,2,2,2,2,2,2,2,2,2,2,2,2,2,2,2,2,2,2,2,2,2,2,2,2,2,2,2,2,2,2,2,2,2,2,2,2,2,2,2,2,2,2,2,2,2,2,2,2,2,2,2,2,2,2,2,2,2,2,2,2,2,2,2,2,2,2,2,2,2,2,2,2,2,2,2,2,2,2,2,2,2,2,2,2,2,2,2,2,2,2,2,2,2,2,2,2,2,2,2,2,2,2,2,2,2,2,2,2,2,2,2,2,2,2,2,2,2,2,2,2,2,2,2,2,2,2,2,2,2,2,2,2,2,2,2,2,2,2,2,2,2,2,2,2,2,2,2,2,2,2,2,2,2,2,2,2,2,2,2,2,2,2,2,2,2,2,2,2,2,2,2,2,2,2,2,2,2,2,2,2,2,2,2,2,2,2,2,2,2,2,2,2,2,2,2,2,2,2,2,2,2,2,2,2,2,2,2,2,2,2,2,2,2,2,2,2,2,2,2,2,2,2,2,2,2,2,2,2,2,2,2,2,2,2,2,2,2,2,2,2,2,2,2,2,2,2,2,2,2,2,2,2,2,2,2,2,2,2,2,2,2,2,2,2,2,2,2,2,2,2,2,2,2,2,2,2,2,2,2,2,2,2,2,2,2,2,2,2,2,2,2,2,2,2,2,2,2,2,2,2,2,2,2,2,2,2,2,2,2,2,2,2,2,2,2,2,2,2,2,2,2,2,2,2,2,2,2,2,2,2,2,2,2,2,2,2,2,2,2,2,2,2,2,2,2,2,2,2,2,2,2,2,2,2,2,2,2,2,2,2,2,2,2,2,2,2,2,2,2,2,2,2,2,2,2,2,2,2,2,2,2,2,2,2,2,2,2,2,2,2,2,2,2,2,2,2,2,2,2,2,2,2,2,2,2,2,2,2,2,2,2,2,2,2,2,2,2,2,2,2,2,2,2,2,2,2,2,2,2,2,2,2,2,2,2,2,2,2,2,2,2,2,2,2,2,2,2,2,2,2,2,2,2,2,2,2,2,2,2,2,2,2,2,2,2,2,2,2,2,2,2,2,2,2,2,2,2,2,2,2,2,2,2,2,2,2,2,2,2,2,2,2,2,2,2,2,2],\"limit_bal\":{\"__ndarray__\":\"qEQf66+Q4r+jsd2ZTGPsv6Ox3ZlMY+y/sEF2DqHg8b8Wztjq/eTQP6be+tKkggxAWa/BeCZ80b/X5SDQdGXWvwykZI60dQFAo7HdmUxj7L8BQelSuBfsP3wNM9h43vc/uPHEQrAlyb8le35C/nnnv2mpb78IHOC/aoRp8IRJvD9qhGnwhEm8PxbO2Or95NA/JXt+Qv55579A3Jh+X4zuP6txPCQIsAJABV8gldsBpr9Zr8F4JnzRvwFB6VK4F+w/BV8gldsBpr+oRB/rr5Div3wNM9h43vc/sEF2DqHg8b/n384WVwXlv1mvwXgmfNG/fA0z2Hje9z8BQelSuBfsP6Ox3ZlMY+y/+UOSL8fH/D8G1CqkG0XiP6Ox3ZlMY+y/DKRkjrR1AUBfCfzq1rrxP2qEafCESbw/BtQqpBtF4j8430Fbbjz/PwbUKqQbReI/kwQ4QkzO1T8Wztjq/eTQP9w/W0IlpPY/uPHEQrAlyb8Wztjq/eTQPxB0nnhNpvC/RW/az8K55D+oRB/rr5Div8KlOScRo+k/BtQqpBtF4j/n384WVwXlv2mpb78IHOC/Wa/BeCZ80b+jsd2ZTGPsv3kJDSgnpr6/GiYAhYWHBEBqhGnwhEm8P7BBdg6h4PG/kwQ4QkzO1T+TBDhCTM7VP+JMjcXz1+6/EHSeeE2m8L8QdJ54TabwvwbUKqQbReI/59/OFlcF5b9fCfzq1rrxP3wNM9h43vc/vzskVYOA8D/+1tOAKvXyP6Ox3ZlMY+y/sEF2DqHg8b8wL/MmX/fHP2QWLm6l7um/59/OFlcF5b+48cRCsCXJv6Ox3ZlMY+y/EHSeeE2m8L+wQXYOoeDxvwVfIJXbAaa/aalvvwgc4L8FXyCV2wGmv45x9vDooN8/59/OFlcF5b/X5SDQdGXWvxbO2Or95NA/JXt+Qv5557/bilBZ3hICQKOx3ZlMY+y/kwQ4QkzO1T8BQelSuBfsPxB0nnhNpvC/kwQ4QkzO1T8BQelSuBfsP787JFWDgPA/aalvvwgc4L88vXjDitgAQKOx3ZlMY+y/GiYAhYWHBED5Q5Ivx8f8P2qEafCESbw/sEF2DqHg8b9VHIAnw07bv5MEOEJMztU/ETuXmZq32j9kFi5upe7pv3kJDSgnpr6/Fs7Y6v3k0D9Zr8F4JnzRv/lDki/Hx/w/1+Ug0HRl1r+jsd2ZTGPsv2qEafCESbw/Fs7Y6v3k0D/n384WVwXlv7uo4gMgU/o/hAqK+2ku5z9VHIAnw07bv45x9vDooN8/vzskVYOA8D9qhGnwhEm8P6hEH+uvkOK/EHSeeE2m8L+jsd2ZTGPsv7jxxEKwJcm/mRFqxRoC/j95CQ0oJ6a+v9w/W0IlpPY/AUHpUrgX7D9pqW+/CBzgv2QWLm6l7um/eQkNKCemvr8aJgCFhYcEQBbO2Or95NA/e1go7zFNA0Cjsd2ZTGPsv4QKivtpLuc/jnH28Oig3z8Wztjq/eTQP5MEOEJMztU/mFxf3NNwCUBVHIAnw07bvxE7l5mat9o/Fs7Y6v3k0D+ECor7aS7nP+ffzhZXBeW/4kyNxfPX7r9Zr8F4JnzRv45x9vDooN8/aoRp8IRJvD/n384WVwXlvxE7l5mat9o/GiYAhYWHBECoRB/rr5Div1p2uplzjfs/+UOSL8fH/D9qhGnwhEm8P2QWLm6l7um/JXt+Qv55578aJgCFhYcEQEVv2s/CueQ/aalvvwgc4L+Ocfbw6KDfP/7W04Aq9fI/ETuXmZq32j+ECor7aS7nPxB0nnhNpvC/o7HdmUxj7L+wQXYOoeDxvxB0nnhNpvC/qEQf66+Q4r9Zr8F4JnzRvwVfIJXbAaa/GiYAhYWHBEDX5SDQdGXWv0DcmH5fjO4/uPHEQrAlyb88vXjDitgAQFUcgCfDTtu/Fs7Y6v3k0D8QdJ54Tabwv3wNM9h43vc/ETuXmZq32j8wL/MmX/fHPwbUKqQbReI/BV8gldsBpr/CpTknEaPpP2QWLm6l7um/fA0z2Hje9z9Fb9rPwrnkP8KlOScRo+k/3D9bQiWk9j+jsd2ZTGPsvxB0nnhNpvC/qEQf66+Q4r+jsd2ZTGPsvxE7l5mat9o/BV8gldsBpr+jsd2ZTGPsvxbO2Or95NA/vzskVYOA8D9fCfzq1rrxP6Ox3ZlMY+y/o7HdmUxj7L8MpGSOtHUBQBbO2Or95NA/ETuXmZq32j+jsd2ZTGPsvzAv8yZf98c/eQkNKCemvr8Wztjq/eTQPxbO2Or95NA/eQkNKCemvr98DTPYeN73P45x9vDooN8/o7HdmUxj7L/5Q5Ivx8f8PwFB6VK4F+w/eQkNKCemvr8MpGSOtHUBQE8PTqT0GvO/AUHpUrgX7D8FXyCV2wGmv6hEH+uvkOK/uPHEQrAlyb9Zr8F4JnzRvxB0nnhNpvC/aalvvwgc4L8QdJ54Tabwv7BBdg6h4PG//tbTgCr18j+oRB/rr5DivzAv8yZf98c/jnH28Oig3z/+1tOAKvXyP7BBdg6h4PG/uPHEQrAlyb95CQ0oJ6a+v/7W04Aq9fI/o7HdmUxj7L+oRB/rr5DivwFB6VK4F+w/+UOSL8fH/D+jsd2ZTGPsvxB0nnhNpvC/6FTZJZdIoT8le35C/nnnv3kJDSgnpr6/59/OFlcF5b98DTPYeN73PwykZI60dQFAFs7Y6v3k0D/X5SDQdGXWvwVfIJXbAaa/6FTZJZdIoT/oVNkll0ihP6Ox3ZlMY+y/vzskVYOA8D8aJgCFhYcEQKtxPCQIsAJAhAqK+2ku5z8G1CqkG0XiP+oM7E+vJAVAVRyAJ8NO278RO5eZmrfaPxbO2Or95NA/sEF2DqHg8b+jsd2ZTGPsv5MEOEJMztU/G9sKbswY+T+Ocfbw6KDfPwFB6VK4F+w/o7HdmUxj7L+TBDhCTM7VP/lDki/Hx/w/vzskVYOA8D+wQXYOoeDxvwVfIJXbAaa/Khe3r2RnEEDX5SDQdGXWvwFB6VK4F+w/6FTZJZdIoT9PD06k9BrzvzjfQVtuPP8/GiYAhYWHBEBVHIAnw07bvxomAIWFhwRASj8UulvqA0C/OyRVg4DwP6Ox3ZlMY+y/eQkNKCemvr+jsd2ZTGPsv2mpb78IHOC/hAqK+2ku5z9qhGnwhEm8P2mpb78IHOC/uPHEQrAlyb9A3Jh+X4zuP+ffzhZXBeW/GiYAhYWHBECwQXYOoeDxv3kJDSgnpr6/o7HdmUxj7L+wQXYOoeDxv45x9vDooN8/eQkNKCemvr/5Q5Ivx8f8PwbUKqQbReI/Fs7Y6v3k0D+48cRCsCXJv+ffzhZXBeW/Fs7Y6v3k0D+ECor7aS7nP1UcgCfDTtu/aoRp8IRJvD8Wztjq/eTQP6Ox3ZlMY+y/BtQqpBtF4j+epKsWfi/0PwbUKqQbReI/q3E8JAiwAkAaJgCFhYcEQGqEafCESbw/BV8gldsBpr8Wztjq/eTQP9w/W0IlpPY/RW/az8K55D+7qOIDIFP6PxomAIWFhwRAETuXmZq32j+/OyRVg4DwP1mvwXgmfNG/aoRp8IRJvD8aJgCFhYcEQFmvwXgmfNG/hAqK+2ku5z+jsd2ZTGPsvxbO2Or95NA/fA0z2Hje9z+oRB/rr5Div3wNM9h43vc/Fs7Y6v3k0D/oVNkll0ihPxB0nnhNpvC/DKRkjrR1AUDn384WVwXlv1mvwXgmfNG/BtQqpBtF4j+TBDhCTM7VPxbO2Or95NA/Xwn86ta68T9qhGnwhEm8PwykZI60dQFAFs7Y6v3k0D/5Q5Ivx8f8P+hU2SWXSKE/Fs7Y6v3k0D9kFi5upe7pv1UcgCfDTtu/qEQf66+Q4r+/OyRVg4DwP8KlOScRo+k/EHSeeE2m8L8le35C/nnnvzAv8yZf98c/sEF2DqHg8b9kFi5upe7pv787JFWDgPA/BtQqpBtF4j8Wztjq/eTQP1UcgCfDTtu/3D9bQiWk9j95CQ0oJ6a+vxomAIWFhwRA+UOSL8fH/D9VHIAnw07bv5kRasUaAv4/hAqK+2ku5z8QdJ54TabwvyV7fkL+eee/fA0z2Hje9z/oVNkll0ihP7BBdg6h4PG/u6jiAyBT+j8Wztjq/eTQPxB0nnhNpvC/VRyAJ8NO2795CQ0oJ6a+v9flINB0Zda/Fs7Y6v3k0D8Wztjq/eTQP787JFWDgPA/GiYAhYWHBECOcfbw6KDfPxbO2Or95NA/o7HdmUxj7L+jsd2ZTGPsvxbO2Or95NA/aalvvwgc4L98DTPYeN73P5MEOEJMztU/aoRp8IRJvD+rcTwkCLACQCV7fkL+eee/aoRp8IRJvD+TBDhCTM7VPxE7l5mat9o/o7HdmUxj7L+jsd2ZTGPsv3tYKO8xTQNARW/az8K55D/CpTknEaPpPxbO2Or95NA/BV8gldsBpr98DTPYeN73P9flINB0Zda/Fs7Y6v3k0D+TBDhCTM7VP3wNM9h43vc/59/OFlcF5b95CQ0oJ6a+vwbUKqQbReI/tWCWyXWUD0BpqW+/CBzgv2QWLm6l7um/59/OFlcF5b9PD06k9Brzv+hU2SWXSKE/qEQf66+Q4r9qhGnwhEm8P8KlOScRo+k/kwQ4QkzO1T95CQ0oJ6a+v3kJDSgnpr6/JXt+Qv5557/X5SDQdGXWv3kJDSgnpr6/fA0z2Hje9z+48cRCsCXJv4QKivtpLuc/GiYAhYWHBECrcTwkCLACQBbO2Or95NA/RW/az8K55D+/OyRVg4DwPxbO2Or95NA/JXt+Qv55579kFi5upe7pv6Ox3ZlMY+y/Wna6mXON+z9Fb9rPwrnkP2mpb78IHOC/fA0z2Hje9z+48cRCsCXJv7jxxEKwJcm/BV8gldsBpr/n384WVwXlvxbO2Or95NA/Fs7Y6v3k0D/X5SDQdGXWv6be+tKkggxAvzskVYOA8D8BQelSuBfsPyV7fkL+eee/Wna6mXON+z+ECor7aS7nP4QKivtpLuc/Xwn86ta68T/CpTknEaPpP9w/W0IlpPY/VRyAJ8NO278aJgCFhYcEQHwNM9h43vc/sEF2DqHg8b8RO5eZmrfaP2QWLm6l7um/nqSrFn4v9D98DTPYeN73PxB0nnhNpvC/q3E8JAiwAkC/OyRVg4DwP3kJDSgnpr6/EHSeeE2m8L+jsd2ZTGPsv6hEH+uvkOK/Fs7Y6v3k0D+TBDhCTM7VPyV7fkL+eee/kwQ4QkzO1T+TBDhCTM7VP5MEOEJMztU/Tw9OpPQa879A3Jh+X4zuP6Ox3ZlMY+y/GiYAhYWHBECjsd2ZTGPsv9flINB0Zda/aoRp8IRJvD98DTPYeN73P3wNM9h43vc/jnH28Oig3z+TBDhCTM7VPxomAIWFhwRAPXKDrNFp9T9kFi5upe7pvwVfIJXbAaa/6FTZJZdIoT98DTPYeN73P1mvwXgmfNG/jnH28Oig3z8G1CqkG0XiP18J/OrWuvE/Fs7Y6v3k0D+wQXYOoeDxv5MEOEJMztU/ON9BW248/z89coOs0Wn1P2QWLm6l7um/BV8gldsBpr+wQXYOoeDxv9flINB0Zda//tbTgCr18j+jsd2ZTGPsv3wNM9h43vc/GiYAhYWHBEBVHIAnw07bv2mpb78IHOC/o7HdmUxj7L8G1CqkG0XiP3kJDSgnpr6/AUHpUrgX7D95CQ0oJ6a+v1UcgCfDTtu/jnH28Oig3z+jsd2ZTGPsv5MEOEJMztU/1+Ug0HRl1r8G1CqkG0XiP6Ox3ZlMY+y/DKRkjrR1AUCjsd2ZTGPsvwbUKqQbReI/e1go7zFNA0B5CQ0oJ6a+v6Ox3ZlMY+y/hAqK+2ku5z/CpTknEaPpP1p2uplzjfs/kwQ4QkzO1T8wL/MmX/fHP1mvwXgmfNG//tbTgCr18j+wQXYOoeDxv6hEH+uvkOK/6FTZJZdIoT9qhGnwhEm8PxbO2Or95NA/aalvvwgc4L/n384WVwXlvxB0nnhNpvC/JXt+Qv55578Wztjq/eTQPwbUKqQbReI/o7HdmUxj7L8QdJ54Tabwv787JFWDgPA/EHSeeE2m8L8aJgCFhYcEQAFB6VK4F+w/qEQf66+Q4r8Wztjq/eTQP7BBdg6h4PG/ETuXmZq32j88vXjDitgAQFp2uplzjfs/sEF2DqHg8b8le35C/nnnv45x9vDooN8/jnH28Oig3z8Wztjq/eTQP2qEafCESbw/Wna6mXON+z/oVNkll0ihP6Ox3ZlMY+y/RW/az8K55D9kFi5upe7pv08PTqT0GvO/JXt+Qv55579Fb9rPwrnkP1mvwXgmfNG/aalvvwgc4L9Zr8F4JnzRv7uo4gMgU/o/aoRp8IRJvD+ECor7aS7nP08PTqT0GvO/ZBYubqXu6b9Zr8F4JnzRv1mvwXgmfNG/59/OFlcF5b9A3Jh+X4zuPxomAIWFhwRA59/OFlcF5b/iTI3F89fuvwykZI60dQFA+UOSL8fH/D9adrqZc437P9flINB0Zda/Fs7Y6v3k0D8BQelSuBfsPwFB6VK4F+w/BV8gldsBpr+48cRCsCXJv7BBdg6h4PG/aalvvwgc4L95CQ0oJ6a+vwVfIJXbAaa/aoRp8IRJvD+ECor7aS7nP7uo4gMgU/o/sEF2DqHg8b8Wztjq/eTQP6Ox3ZlMY+y/QNyYfl+M7j9VHIAnw07bvxbO2Or95NA/59/OFlcF5b+wQXYOoeDxv2qEafCESbw/hAqK+2ku5z95CQ0oJ6a+v1nBr7As/AZAo7HdmUxj7L9PD06k9BrzvzjfQVtuPP8/BV8gldsBpr+48cRCsCXJv6Ox3ZlMY+y/qEQf66+Q4r95CQ0oJ6a+v08PTqT0GvO/6FTZJZdIoT+TBDhCTM7VP1mvwXgmfNG/BV8gldsBpr8aJgCFhYcEQFUcgCfDTtu/GiYAhYWHBECYXF/c03AJQD1yg6zRafU/fA0z2Hje9z8QdJ54Tabwv3wNM9h43vc/aalvvwgc4L8MpGSOtHUBQIQKivtpLuc/ETuXmZq32j+wQXYOoeDxv7BBdg6h4PG/o7HdmUxj7L+ECor7aS7nP7BBdg6h4PG/24pQWd4SAkBA3Jh+X4zuPxE7l5mat9o//tbTgCr18j+oRB/rr5Div2mpb78IHOC/PXKDrNFp9T8G1CqkG0XiP08PTqT0GvO/ETuXmZq32j9pqW+/CBzgvxB0nnhNpvC/eQkNKCemvr/oVNkll0ihPxbO2Or95NA/Fs7Y6v3k0D+wQXYOoeDxvxbO2Or95NA/GiYAhYWHBEB5CQ0oJ6a+v+ffzhZXBeW/59/OFlcF5b+jsd2ZTGPsv7jxxEKwJcm/o7HdmUxj7L9fCfzq1rrxP2qEafCESbw/uPHEQrAlyb+jsd2ZTGPsv/7W04Aq9fI/sEF2DqHg8b+jsd2ZTGPsv787JFWDgPA/sEF2DqHg8b8QdJ54Tabwv1p2uplzjfs/Fs7Y6v3k0D/n384WVwXlv6Ox3ZlMY+y/jnH28Oig3z+ECor7aS7nP2mpb78IHOC/uPHEQrAlyb+wQXYOoeDxvxomAIWFhwRAGiYAhYWHBEDX5SDQdGXWv2qEafCESbw/jnH28Oig3z+epKsWfi/0PxB0nnhNpvC/kwQ4QkzO1T+48cRCsCXJv7jxxEKwJcm/aalvvwgc4L/+1tOAKvXyP0Vv2s/CueQ/59/OFlcF5b+jsd2ZTGPsv4QKivtpLuc/hAqK+2ku5z+Ocfbw6KDfPwVfIJXbAaa/o7HdmUxj7L/oVNkll0ihP5MEOEJMztU/VRyAJ8NO27/n384WVwXlv6hEH+uvkOK/RW/az8K55D/n384WVwXlv3kJDSgnpr6/59/OFlcF5b+ECor7aS7nP7jxxEKwJcm/1+Ug0HRl1r/+1tOAKvXyP6Ox3ZlMY+y/o7HdmUxj7L+wQXYOoeDxv7BBdg6h4PG/fA0z2Hje9z8FXyCV2wGmv6Ox3ZlMY+y/3D9bQiWk9j+jsd2ZTGPsv787JFWDgPA/jnH28Oig3z+ECor7aS7nP7jxxEKwJcm/sEF2DqHg8b9fCfzq1rrxP+ffzhZXBeW/fA0z2Hje9z98DTPYeN73Pzy9eMOK2ABAaoRp8IRJvD+Ocfbw6KDfP8KlOScRo+k//tbTgCr18j8aJgCFhYcEQBB0nnhNpvC/Xwn86ta68T+jsd2ZTGPsvxB0nnhNpvC/GiYAhYWHBEAwL/MmX/fHP3kJDSgnpr6/sEF2DqHg8b8QdJ54Tabwv7jxxEKwJcm/o7HdmUxj7L+jsd2ZTGPsvxbO2Or95NA/vzskVYOA8D89coOs0Wn1PzcqN3InqwpADKRkjrR1AUBfCfzq1rrxP+hU2SWXSKE/aoRp8IRJvD+/OyRVg4DwPwbUKqQbReI/AUHpUrgX7D+jsd2ZTGPsv7jxxEKwJcm/Fs7Y6v3k0D+48cRCsCXJv+ffzhZXBeW/fA0z2Hje9z+Ocfbw6KDfPxB0nnhNpvC/fA0z2Hje9z+TBDhCTM7VP6Ox3ZlMY+y/Fs7Y6v3k0D+wQXYOoeDxv2qEafCESbw/jnH28Oig3z8QdJ54Tabwv6hEH+uvkOK/59/OFlcF5b+/OyRVg4DwPxomAIWFhwRA59/OFlcF5b95CQ0oJ6a+v3kJDSgnpr6/EHSeeE2m8L8Wztjq/eTQP+ffzhZXBeW/o7HdmUxj7L+oRB/rr5Div5MEOEJMztU/BtQqpBtF4j+48cRCsCXJv/lDki/Hx/w/Sj8UulvqA0CYXF/c03AJQLBBdg6h4PG/vzskVYOA8D+wQXYOoeDxvxE7l5mat9o/24pQWd4SAkCOcfbw6KDfP6Ox3ZlMY+y/4kyNxfPX7r+Ocfbw6KDfP5MEOEJMztU/GiYAhYWHBEBkFi5upe7pv45x9vDooN8/VRyAJ8NO2795CQ0oJ6a+v7BBdg6h4PG/o7HdmUxj7L+TBDhCTM7VP5MEOEJMztU/BV8gldsBpr98DTPYeN73PxB0nnhNpvC/sEF2DqHg8b9qhGnwhEm8P+ffzhZXBeW/o7HdmUxj7L8FXyCV2wGmvxB0nnhNpvC/aalvvwgc4L8FXyCV2wGmvz1yg6zRafU/EHSeeE2m8L+jsd2ZTGPsvz1yg6zRafU/24pQWd4SAkBFb9rPwrnkP2mpb78IHOC/BV8gldsBpr8Wztjq/eTQP5MEOEJMztU/VRyAJ8NO2798DTPYeN73P6Ox3ZlMY+y/nqSrFn4v9D9VHIAnw07bvzjfQVtuPP8/PXKDrNFp9T/CpTknEaPpP3wNM9h43vc/o7HdmUxj7L8Wztjq/eTQPxomAIWFhwRABtQqpBtF4j+ECor7aS7nP0Vv2s/CueQ/kwQ4QkzO1T9pqW+/CBzgv45x9vDooN8/ETuXmZq32j+jsd2ZTGPsv7jxxEKwJcm/aoRp8IRJvD8Wztjq/eTQP2QWLm6l7um/uPHEQrAlyb98DTPYeN73P2QWLm6l7um/BtQqpBtF4j+TBDhCTM7VP6Ox3ZlMY+y/sEF2DqHg8b+/OyRVg4DwPxomAIWFhwRAWa/BeCZ80b/oVNkll0ihPz1yg6zRafU/EHSeeE2m8L8Wztjq/eTQPwykZI60dQFAeQkNKCemvr+TBDhCTM7VP2mpb78IHOC/ON9BW248/z8Wztjq/eTQP5MEOEJMztU/aalvvwgc4L+48cRCsCXJv+ffzhZXBeW/o7HdmUxj7L98DTPYeN73P6Ox3ZlMY+y/uPHEQrAlyb95CQ0oJ6a+v+hU2SWXSKE/Xwn86ta68T+ECor7aS7nP6Ox3ZlMY+y/o7HdmUxj7L/X5SDQdGXWvxB0nnhNpvC/Tw9OpPQa87+7qOIDIFP6P/7W04Aq9fI/EHSeeE2m8L/n384WVwXlv3kJDSgnpr6/Fs7Y6v3k0D+wQXYOoeDxv+hU2SWXSKE/eQkNKCemvr9kFi5upe7pv0Vv2s/CueQ/3D9bQiWk9j8QdJ54TabwvwykZI60dQFAsEF2DqHg8b8QdJ54Tabwv/7W04Aq9fI/fA0z2Hje9z9kFi5upe7pvxB0nnhNpvC/6FTZJZdIoT9pqW+/CBzgv7jxxEKwJcm/Fs7Y6v3k0D8QdJ54Tabwv0Vv2s/CueQ/uPHEQrAlyb8RO5eZmrfaP+ffzhZXBeW/QNyYfl+M7j+ECor7aS7nP9flINB0Zda/fA0z2Hje9z8QdJ54TabwvyV7fkL+eee/BV8gldsBpr8wL/MmX/fHP18J/OrWuvE/aoRp8IRJvD/cP1tCJaT2PxE7l5mat9o/kwQ4QkzO1T9qhGnwhEm8P4QKivtpLuc/aoRp8IRJvD98DTPYeN73P1UcgCfDTtu/sEF2DqHg8b8Wztjq/eTQP3kJDSgnpr6/Fs7Y6v3k0D8RO5eZmrfaP2QWLm6l7um/aalvvwgc4L/X5SDQdGXWvxB0nnhNpvC/BtQqpBtF4j8QdJ54Tabwv1UcgCfDTtu/jnH28Oig3z8G1CqkG0XiPwVfIJXbAaa/kwQ4QkzO1T+jsd2ZTGPsvxB0nnhNpvC//tbTgCr18j+wQXYOoeDxvxbO2Or95NA/GiYAhYWHBEARO5eZmrfaP6Ox3ZlMY+y/JXt+Qv5557+jsd2ZTGPsv787JFWDgPA/6FTZJZdIoT/cP1tCJaT2P6txPCQIsAJAkwQ4QkzO1T+/OyRVg4DwP45x9vDooN8/GiYAhYWHBEB5CQ0oJ6a+vwykZI60dQFAVRyAJ8NO278Wztjq/eTQP5MEOEJMztU//tbTgCr18j+wQXYOoeDxv5MEOEJMztU/EHSeeE2m8L9kFi5upe7pvxomAIWFhwRAGiYAhYWHBEBpqW+/CBzgv6Ox3ZlMY+y/o7HdmUxj7L8QdJ54TabwvwVfIJXbAaa/sEF2DqHg8b8le35C/nnnv+ffzhZXBeW/sEF2DqHg8b9Fb9rPwrnkP7BBdg6h4PG/AUHpUrgX7D+jsd2ZTGPsv7jxxEKwJcm/6FTZJZdIoT+jsd2ZTGPsv+hU2SWXSKE/u6jiAyBT+j/5Q5Ivx8f8Pzy9eMOK2ABAq3E8JAiwAkBqhGnwhEm8PxE7l5mat9o/aalvvwgc4L98DTPYeN73P2qEafCESbw/Wa/BeCZ80b+jsd2ZTGPsv2mpb78IHOC/eQkNKCemvr8G1CqkG0XiP9flINB0Zda/59/OFlcF5b+jsd2ZTGPsv56kqxZ+L/Q/o7HdmUxj7L8RO5eZmrfaPxbO2Or95NA/3D9bQiWk9j8QdJ54Tabwv7BBdg6h4PG/aalvvwgc4L9pqW+/CBzgv9flINB0Zda/6FTZJZdIoT8MpGSOtHUBQL87JFWDgPA/vzskVYOA8D8BQelSuBfsP+hU2SWXSKE/ZBYubqXu6b+7qOIDIFP6PyV7fkL+eee/aoRp8IRJvD+epKsWfi/0P3tYKO8xTQNAkwQ4QkzO1T+jsd2ZTGPsv45x9vDooN8/Fs7Y6v3k0D+jsd2ZTGPsv2zWjPhgOwBAsEF2DqHg8b9fCfzq1rrxPxB0nnhNpvC/e1go7zFNA0CTBDhCTM7VP+ffzhZXBeW/AUHpUrgX7D/5Q5Ivx8f8P+ffzhZXBeW/o7HdmUxj7L/+1tOAKvXyP3wNM9h43vc/o7HdmUxj7L8BQelSuBfsP/lDki/Hx/w/fA0z2Hje9z+epKsWfi/0P9w/W0IlpPY/GiYAhYWHBEA8vXjDitgAQGmpb78IHOC/PL14w4rYAEBkFi5upe7pv1UcgCfDTtu/59/OFlcF5b8Wztjq/eTQP2mpb78IHOC/kwQ4QkzO1T+48cRCsCXJvwbUKqQbReI/kwQ4QkzO1T+48cRCsCXJvxbO2Or95NA/6FTZJZdIoT8le35C/nnnv6hEH+uvkOK/hAqK+2ku5z98DTPYeN73P9uKUFneEgJAvzskVYOA8D9adrqZc437PwFB6VK4F+w/AUHpUrgX7D+jsd2ZTGPsv3wNM9h43vc/sEF2DqHg8b+oRB/rr5Div45x9vDooN8/qEQf66+Q4r9s1oz4YDsAQFUcgCfDTtu/sEF2DqHg8b+wQXYOoeDxv08PTqT0GvO/aoRp8IRJvD9kFi5upe7pvxbO2Or95NA/vzskVYOA8D9adrqZc437P3wNM9h43vc/Xwn86ta68T8Wztjq/eTQPxbO2Or95NA/1+Ug0HRl1r9kFi5upe7pvxbO2Or95NA/Xwn86ta68T9A3Jh+X4zuP5MEOEJMztU/Tw9OpPQa87/oVNkll0ihPxE7l5mat9o/aoRp8IRJvD88vXjDitgAQPlDki/Hx/w/59/OFlcF5b8FXyCV2wGmv6Ox3ZlMY+y/JXt+Qv55579Zr8F4JnzRv787JFWDgPA/AUHpUrgX7D/CpTknEaPpP7uo4gMgU/o/59/OFlcF5b8FXyCV2wGmvxvbCm7MGPk/EHSeeE2m8L9qhGnwhEm8P2mpb78IHOC/Fs7Y6v3k0D83KjdyJ6sKQBbO2Or95NA/o7HdmUxj7L9Zr8F4JnzRvxomAIWFhwRA/tbTgCr18j/X5SDQdGXWv0DcmH5fjO4/EHSeeE2m8L9kFi5upe7pv0Vv2s/CueQ/ZBYubqXu6b97WCjvMU0DQJkRasUaAv4/aalvvwgc4L8Wztjq/eTQP9flINB0Zda/eQkNKCemvr9fCfzq1rrxPzjfQVtuPP8/GiYAhYWHBECoRB/rr5Div7BBdg6h4PG/EHSeeE2m8L+48cRCsCXJvzjfQVtuPP8/3D9bQiWk9j/5Q5Ivx8f8P1UcgCfDTtu/Fs7Y6v3k0D8aJgCFhYcEQNw/W0IlpPY/qEQf66+Q4r+TBDhCTM7VP5IKLZX5tRBAGiYAhYWHBEB5CQ0oJ6a+vz1yg6zRafU/Fs7Y6v3k0D9Zr8F4JnzRv+ffzhZXBeW/ZBYubqXu6b95CQ0oJ6a+vwbUKqQbReI/BtQqpBtF4j8BQelSuBfsPxbO2Or95NA/VRyAJ8NO27+/OyRVg4DwP9flINB0Zda/Fs7Y6v3k0D95CQ0oJ6a+v5MEOEJMztU/eQkNKCemvr/n384WVwXlv6Ox3ZlMY+y/o7HdmUxj7L/n384WVwXlv2QWLm6l7um/Fs7Y6v3k0D89coOs0Wn1P0Vv2s/CueQ/eQkNKCemvr8RO5eZmrfaP7rz1xrZwQVAo7HdmUxj7L8aJgCFhYcEQKOx3ZlMY+y/BtQqpBtF4j+ECor7aS7nPzy9eMOK2ABAo7HdmUxj7L+TBDhCTM7VPyV7fkL+eee/Xwn86ta68T8MpGSOtHUBQHwNM9h43vc/Kaibe1aZB0C48cRCsCXJv6Ox3ZlMY+y/ZBYubqXu6b8le35C/nnnv3wNM9h43vc/BV8gldsBpr9pqW+/CBzgv6hEH+uvkOK/hAqK+2ku5z9pqW+/CBzgv+ffzhZXBeW/uPHEQrAlyb+oRB/rr5Div7BBdg6h4PG/o7HdmUxj7L/n384WVwXlv2mpb78IHOC/Fs7Y6v3k0D+oRB/rr5Div+ffzhZXBeW/e1go7zFNA0COcfbw6KDfPxbO2Or95NA/aoRp8IRJvD8wL/MmX/fHPxomAIWFhwRAo7HdmUxj7L9pqW+/CBzgv5MEOEJMztU/kwQ4QkzO1T8aJgCFhYcEQKOx3ZlMY+y/BtQqpBtF4j8aJgCFhYcEQHkJDSgnpr6/q3E8JAiwAkAaJgCFhYcEQLBBdg6h4PG/Wna6mXON+z+TBDhCTM7VP9w/W0IlpPY/eQkNKCemvr+TBDhCTM7VP5MEOEJMztU/o7HdmUxj7L89coOs0Wn1P9flINB0Zda/hAqK+2ku5z+wQXYOoeDxv7jxxEKwJcm/aalvvwgc4L+jsd2ZTGPsvxomAIWFhwRA59/OFlcF5b8RO5eZmrfaPxB0nnhNpvC/ETuXmZq32j+Ocfbw6KDfPwFB6VK4F+w/59/OFlcF5b9qhGnwhEm8P2qEafCESbw/vzskVYOA8D+ECor7aS7nP5MEOEJMztU/fA0z2Hje9z/n384WVwXlvxB0nnhNpvC/GiYAhYWHBEB8DTPYeN73P3kJDSgnpr6/59/OFlcF5b9qhGnwhEm8P0DcmH5fjO4/ZBYubqXu6b9pqW+/CBzgvxB0nnhNpvC/RW/az8K55D8FXyCV2wGmv5kRasUaAv4/aalvvwgc4L8x2AQrTfARQOffzhZXBeW/eQkNKCemvr8BQelSuBfsP0DcmH5fjO4/RW/az8K55D8Wztjq/eTQP0DcmH5fjO4/uPHEQrAlyb/cP1tCJaT2P4QKivtpLuc/ETuXmZq32j/qDOxPryQFQGmpb78IHOC/QNyYfl+M7j8BQelSuBfsP2qEafCESbw/jnH28Oig3z+Ocfbw6KDfP7jxxEKwJcm/59/OFlcF5b/5Q5Ivx8f8PxbO2Or95NA/bNaM+GA7AEARO5eZmrfaPxE7l5mat9o/59/OFlcF5b+/OyRVg4DwP2QWLm6l7um/Fs7Y6v3k0D8RO5eZmrfaPxbO2Or95NA/Fs7Y6v3k0D8G1CqkG0XiP45x9vDooN8/o7HdmUxj7L9pqW+/CBzgv45x9vDooN8/o7HdmUxj7L9s1oz4YDsAQLBBdg6h4PG/Fs7Y6v3k0D/oVNkll0ihPxB0nnhNpvC/BV8gldsBpr9kFi5upe7pv+ffzhZXBeW/EHSeeE2m8L/+1tOAKvXyP787JFWDgPA/Wna6mXON+z8Wztjq/eTQP1p2uplzjfs/JXt+Qv5557+/OyRVg4DwPxbO2Or95NA/6FTZJZdIoT/+1tOAKvXyP6Ox3ZlMY+y/u6jiAyBT+j+48cRCsCXJv4QKivtpLuc/aoRp8IRJvD+Ocfbw6KDfP7BBdg6h4PG/Fs7Y6v3k0D8RO5eZmrfaPwbUKqQbReI/aalvvwgc4L/X5SDQdGXWv3kJDSgnpr6/GiYAhYWHBEDCpTknEaPpP5kRasUaAv4/GiYAhYWHBEB5CQ0oJ6a+v1mvwXgmfNG/VRyAJ8NO27+7qOIDIFP6P6Ox3ZlMY+y/kwQ4QkzO1T8G1CqkG0XiPz1yg6zRafU/Xwn86ta68T8aJgCFhYcEQJMEOEJMztU/Fs7Y6v3k0D8RO5eZmrfaP6Ox3ZlMY+y/6FTZJZdIoT8Wztjq/eTQP45x9vDooN8/sEF2DqHg8b9VHIAnw07bv2mpb78IHOC/hAqK+2ku5z98DTPYeN73P0Vv2s/CueQ/BtQqpBtF4j9Fb9rPwrnkP3kJDSgnpr6/fA0z2Hje9z+48cRCsCXJv0Vv2s/CueQ/sEF2DqHg8b98DTPYeN73PwVfIJXbAaa/eQkNKCemvr8FXyCV2wGmv7jxxEKwJcm/o7HdmUxj7L8Wztjq/eTQP3wNM9h43vc/ZBYubqXu6b+oRB/rr5Div45x9vDooN8/RW/az8K55D9fCfzq1rrxP3kJDSgnpr6/Fs7Y6v3k0D+jsd2ZTGPsv3kJDSgnpr6/59/OFlcF5b9Zr8F4JnzRvwbUKqQbReI/ON9BW248/z+wQXYOoeDxv2qEafCESbw/jnH28Oig3z+jsd2ZTGPsv7jxxEKwJcm/1+Ug0HRl1r9kFi5upe7pvwbUKqQbReI/wqU5JxGj6T8Wztjq/eTQPwykZI60dQFAEHSeeE2m8L+jsd2ZTGPsvxbO2Or95NA/Fs7Y6v3k0D/+1tOAKvXyP08PTqT0GvO/Fs7Y6v3k0D95CQ0oJ6a+vxbO2Or95NA/u6jiAyBT+j95CQ0oJ6a+v6hEH+uvkOK/ETuXmZq32j8MpGSOtHUBQLjxxEKwJcm/hAqK+2ku5z9fCfzq1rrxP3kJDSgnpr6/3D9bQiWk9j9fCfzq1rrxP08PTqT0GvO/QNyYfl+M7j8G1CqkG0XiP787JFWDgPA/qEQf66+Q4r/n384WVwXlv+ffzhZXBeW/VRyAJ8NO27+jsd2ZTGPsv787JFWDgPA/eQkNKCemvr8QdJ54Tabwv2mpb78IHOC/wqU5JxGj6T/+1tOAKvXyP0DcmH5fjO4/hAqK+2ku5z8Wztjq/eTQP5MEOEJMztU/o7HdmUxj7L+oRB/rr5Div2qEafCESbw/aalvvwgc4L9fCfzq1rrxP6Ox3ZlMY+y/sEF2DqHg8b9KPxS6W+oDQBomAIWFhwRAFs7Y6v3k0D8QdJ54Tabwv+hU2SWXSKE/BV8gldsBpr/CpTknEaPpP+ffzhZXBeW/Wna6mXON+z9A3Jh+X4zuPxB0nnhNpvC/eQkNKCemvr9pqW+/CBzgv4QKivtpLuc/EHSeeE2m8L/oVNkll0ihPzjfQVtuPP8/eQkNKCemvr9qhGnwhEm8P0Vv2s/CueQ/vzskVYOA8D/X5SDQdGXWv56kqxZ+L/Q/u6jiAyBT+j95CQ0oJ6a+v1mvwXgmfNG/G9sKbswY+T/oVNkll0ihP7BBdg6h4PG/6FTZJZdIoT8QdJ54Tabwv2qEafCESbw/AUHpUrgX7D+oRB/rr5DivxE7l5mat9o/qEQf66+Q4r9qhGnwhEm8P5MEOEJMztU/bNaM+GA7AECwQXYOoeDxv5MEOEJMztU/qEQf66+Q4r/oVNkll0ihP7uo4gMgU/o/sEF2DqHg8b9pqW+/CBzgv7jxxEKwJcm/3D9bQiWk9j/CpTknEaPpP9uKUFneEgJAFs7Y6v3k0D9VHIAnw07bv7uo4gMgU/o/GiYAhYWHBECECor7aS7nP8KlOScRo+k/EHSeeE2m8L+TBDhCTM7VP2mpb78IHOC/qEQf66+Q4r+wQXYOoeDxvwykZI60dQFAsEF2DqHg8b8le35C/nnnv7uo4gMgU/o/JXt+Qv55579pqW+/CBzgv6Ox3ZlMY+y/aalvvwgc4L8aJgCFhYcEQAFB6VK4F+w/Tw9OpPQa87+TBDhCTM7VP2qEafCESbw/EHSeeE2m8L9Zr8F4JnzRvwFB6VK4F+w/vzskVYOA8D+jsd2ZTGPsv+ffzhZXBeW/o7HdmUxj7L+rcTwkCLACQJMEOEJMztU/vzskVYOA8D8aJgCFhYcEQHkJDSgnpr6/wqU5JxGj6T+Ocfbw6KDfP8KlOScRo+k/aoRp8IRJvD8wL/MmX/fHP0Vv2s/CueQ/eQkNKCemvr8FXyCV2wGmvxE7l5mat9o/Wna6mXON+z8G1CqkG0XiPxB0nnhNpvC/1+Ug0HRl1r+rcTwkCLACQBE7l5mat9o/1+Ug0HRl1r+TBDhCTM7VPwFB6VK4F+w/o7HdmUxj7L/oVNkll0ihP787JFWDgPA/59/OFlcF5b8x2AQrTfARQKOx3ZlMY+y/EHSeeE2m8L/cP1tCJaT2P6Ox3ZlMY+y/eQkNKCemvr+TBDhCTM7VP6Ox3ZlMY+y/BtQqpBtF4j8aJgCFhYcEQAVfIJXbAaa/aalvvwgc4L+Ocfbw6KDfPwFB6VK4F+w/GiYAhYWHBEDn384WVwXlv+ffzhZXBeW/59/OFlcF5b8aJgCFhYcEQHwNM9h43vc/VRyAJ8NO278Wztjq/eTQP+hU2SWXSKE/BV8gldsBpr+7qOIDIFP6PyV7fkL+eee/BV8gldsBpr+jsd2ZTGPsvxbO2Or95NA/uvPXGtnBBUB5CQ0oJ6a+v6Ox3ZlMY+y/sEF2DqHg8b9Zr8F4JnzRvwVfIJXbAaa/RW/az8K55D/n384WVwXlv2QWLm6l7um/mRFqxRoC/j8G1CqkG0XiP6Ox3ZlMY+y/BtQqpBtF4j/iTI3F89fuvzjfQVtuPP8/aalvvwgc4L+jsd2ZTGPsv5MEOEJMztU/1+Ug0HRl1r+1YJbJdZQPQJMEOEJMztU/PXKDrNFp9T97WCjvMU0DQBE7l5mat9o/Fs7Y6v3k0D/n384WVwXlv45x9vDooN8/fA0z2Hje9z+jsd2ZTGPsv+ffzhZXBeW/sEF2DqHg8b+wQXYOoeDxv7BBdg6h4PG/59/OFlcF5b8wL/MmX/fHP6Ox3ZlMY+y/o7HdmUxj7L9kFi5upe7pv6Ox3ZlMY+y/Wa/BeCZ80b/n384WVwXlv6Ox3ZlMY+y/ETuXmZq32j+jsd2ZTGPsv3wNM9h43vc/ZBYubqXu6b+48cRCsCXJvwFB6VK4F+w/Wa/BeCZ80b/n384WVwXlvwykZI60dQFAo7HdmUxj7L+Ocfbw6KDfP+hU2SWXSKE/aalvvwgc4L95CQ0oJ6a+vxbO2Or95NA/o7HdmUxj7L92xeadzh8NQJMEOEJMztU/QNyYfl+M7j8Wztjq/eTQP0o/FLpb6gNAFs7Y6v3k0D/n384WVwXlv+JMjcXz1+6/VRyAJ8NO27/n384WVwXlv0Vv2s/CueQ/JXt+Qv555798DTPYeN73PzjfQVtuPP8/aalvvwgc4L8G1CqkG0XiP1p2uplzjfs/59/OFlcF5b+TBDhCTM7VP0DcmH5fjO4/4kyNxfPX7r9kFi5upe7pv+hU2SWXSKE/o7HdmUxj7L8FXyCV2wGmv4QKivtpLuc/G9sKbswY+T8QdJ54Tabwv6Ox3ZlMY+y/aoRp8IRJvD8QdJ54Tabwv3kJDSgnpr6/sEF2DqHg8b98DTPYeN73PwFB6VK4F+w/PXKDrNFp9T8BQelSuBfsP5MEOEJMztU/aoRp8IRJvD+48cRCsCXJv1UcgCfDTtu/59/OFlcF5b9pqW+/CBzgv2mpb78IHOC/BtQqpBtF4j+/OyRVg4DwP+ffzhZXBeW/GiYAhYWHBECwQXYOoeDxv2qEafCESbw/BV8gldsBpr8=\",\"dtype\":\"float64\",\"order\":\"little\",\"shape\":[1756]}},\"selected\":{\"id\":\"1199\"},\"selection_policy\":{\"id\":\"1217\"}},\"id\":\"1198\",\"type\":\"ColumnDataSource\"},{\"attributes\":{\"source\":{\"id\":\"1155\"}},\"id\":\"1162\",\"type\":\"CDSView\"},{\"attributes\":{\"fill_alpha\":{\"value\":0.2},\"fill_color\":{\"value\":\"#e5ae38\"},\"hatch_alpha\":{\"value\":0.2},\"hatch_color\":{\"value\":\"#e5ae38\"},\"line_alpha\":{\"value\":0.2},\"line_color\":{\"value\":\"#e5ae38\"},\"size\":{\"value\":5.477225575051661},\"x\":{\"field\":\"limit_bal\"},\"y\":{\"field\":\"age\"}},\"id\":\"1203\",\"type\":\"Scatter\"},{\"attributes\":{\"end\":80.4,\"reset_end\":80.4,\"reset_start\":15.6,\"start\":15.6,\"tags\":[[[\"age\",\"age\",null]]]},\"id\":\"1115\",\"type\":\"Range1d\"},{\"attributes\":{\"coordinates\":null,\"data_source\":{\"id\":\"1155\"},\"glyph\":{\"id\":\"1158\"},\"group\":null,\"hover_glyph\":null,\"muted_glyph\":{\"id\":\"1160\"},\"nonselection_glyph\":{\"id\":\"1159\"},\"selection_glyph\":{\"id\":\"1175\"},\"view\":{\"id\":\"1162\"}},\"id\":\"1161\",\"type\":\"GlyphRenderer\"},{\"attributes\":{},\"id\":\"1136\",\"type\":\"SaveTool\"},{\"attributes\":{},\"id\":\"1217\",\"type\":\"UnionRenderers\"},{\"attributes\":{},\"id\":\"1137\",\"type\":\"PanTool\"},{\"attributes\":{},\"id\":\"1151\",\"type\":\"AllLabels\"},{\"attributes\":{},\"id\":\"1138\",\"type\":\"WheelZoomTool\"},{\"attributes\":{},\"id\":\"1193\",\"type\":\"UnionRenderers\"},{\"attributes\":{\"coordinates\":null,\"group\":null,\"text_color\":\"black\",\"text_font_size\":\"12pt\"},\"id\":\"1120\",\"type\":\"Title\"},{\"attributes\":{\"active_drag\":{\"id\":\"1137\"},\"active_scroll\":{\"id\":\"1138\"},\"tools\":[{\"id\":\"1116\"},{\"id\":\"1136\"},{\"id\":\"1137\"},{\"id\":\"1138\"},{\"id\":\"1139\"},{\"id\":\"1140\"}]},\"id\":\"1142\",\"type\":\"Toolbar\"},{\"attributes\":{\"fill_color\":{\"value\":\"#30a2da\"},\"hatch_color\":{\"value\":\"#30a2da\"},\"line_color\":{\"value\":\"#30a2da\"},\"size\":{\"value\":5.477225575051661},\"x\":{\"field\":\"limit_bal\"},\"y\":{\"field\":\"age\"}},\"id\":\"1158\",\"type\":\"Scatter\"},{\"attributes\":{\"overlay\":{\"id\":\"1141\"}},\"id\":\"1139\",\"type\":\"BoxZoomTool\"},{\"attributes\":{},\"id\":\"1153\",\"type\":\"BasicTickFormatter\"},{\"attributes\":{\"fill_color\":{\"value\":\"#e5ae38\"},\"hatch_color\":{\"value\":\"#e5ae38\"},\"line_color\":{\"value\":\"#e5ae38\"},\"size\":{\"value\":5.477225575051661},\"x\":{\"field\":\"limit_bal\"},\"y\":{\"field\":\"age\"}},\"id\":\"1201\",\"type\":\"Scatter\"},{\"attributes\":{},\"id\":\"1154\",\"type\":\"AllLabels\"},{\"attributes\":{},\"id\":\"1124\",\"type\":\"LinearScale\"},{\"attributes\":{\"angle\":{\"value\":0.0},\"fill_alpha\":{\"value\":1.0},\"fill_color\":{\"value\":\"#30a2da\"},\"hatch_alpha\":{\"value\":1.0},\"hatch_color\":{\"value\":\"#30a2da\"},\"hatch_scale\":{\"value\":12.0},\"hatch_weight\":{\"value\":1.0},\"line_alpha\":{\"value\":1.0},\"line_cap\":{\"value\":\"butt\"},\"line_color\":{\"value\":\"#30a2da\"},\"line_dash\":{\"value\":[]},\"line_dash_offset\":{\"value\":0},\"line_join\":{\"value\":\"bevel\"},\"line_width\":{\"value\":1},\"marker\":{\"value\":\"circle\"},\"size\":{\"value\":5.477225575051661},\"x\":{\"field\":\"limit_bal\"},\"y\":{\"field\":\"age\"}},\"id\":\"1175\",\"type\":\"Scatter\"},{\"attributes\":{\"fill_alpha\":{\"value\":0.1},\"fill_color\":{\"value\":\"#fc4f30\"},\"hatch_alpha\":{\"value\":0.1},\"hatch_color\":{\"value\":\"#fc4f30\"},\"line_alpha\":{\"value\":0.1},\"line_color\":{\"value\":\"#fc4f30\"},\"size\":{\"value\":5.477225575051661},\"x\":{\"field\":\"limit_bal\"},\"y\":{\"field\":\"age\"}},\"id\":\"1180\",\"type\":\"Scatter\"},{\"attributes\":{},\"id\":\"1199\",\"type\":\"Selection\"},{\"attributes\":{\"fill_alpha\":{\"value\":0.1},\"fill_color\":{\"value\":\"#e5ae38\"},\"hatch_alpha\":{\"value\":0.1},\"hatch_color\":{\"value\":\"#e5ae38\"},\"line_alpha\":{\"value\":0.1},\"line_color\":{\"value\":\"#e5ae38\"},\"size\":{\"value\":5.477225575051661},\"x\":{\"field\":\"limit_bal\"},\"y\":{\"field\":\"age\"}},\"id\":\"1202\",\"type\":\"Scatter\"},{\"attributes\":{\"source\":{\"id\":\"1176\"}},\"id\":\"1183\",\"type\":\"CDSView\"},{\"attributes\":{},\"id\":\"1150\",\"type\":\"BasicTickFormatter\"},{\"attributes\":{},\"id\":\"1140\",\"type\":\"ResetTool\"},{\"attributes\":{\"source\":{\"id\":\"1198\"}},\"id\":\"1205\",\"type\":\"CDSView\"},{\"attributes\":{\"label\":{\"value\":\"2\"},\"renderers\":[{\"id\":\"1204\"}]},\"id\":\"1220\",\"type\":\"LegendItem\"},{\"attributes\":{\"bottom_units\":\"screen\",\"coordinates\":null,\"fill_alpha\":0.5,\"fill_color\":\"lightgrey\",\"group\":null,\"left_units\":\"screen\",\"level\":\"overlay\",\"line_alpha\":1.0,\"line_color\":\"black\",\"line_dash\":[4,4],\"line_width\":2,\"right_units\":\"screen\",\"syncable\":false,\"top_units\":\"screen\"},\"id\":\"1141\",\"type\":\"BoxAnnotation\"},{\"attributes\":{\"axis_label\":\"limit_bal\",\"coordinates\":null,\"formatter\":{\"id\":\"1150\"},\"group\":null,\"major_label_policy\":{\"id\":\"1151\"},\"ticker\":{\"id\":\"1129\"}},\"id\":\"1128\",\"type\":\"LinearAxis\"},{\"attributes\":{\"data\":{\"age\":[24,26,29,23,28,30,29,23,24,29,26,23,23,27,30,26,27,32,30,22,25,31,25,22,30,29,22,32,24,25,29,29,28,29,30,29,22,31,29,32,32,24,25,22,26,30,32,27,23,27,22,32,30,22,26,24,31,24,24,28,26,27,23,23,22,27,24,28,23,29,29,28,27,23,32,25,26,30,27,27,27,22,30,22,24,29,30,30,22,29,24,25,32,31,32,27,29,24,24,22,22,31,26,26,24,24,27,31,28,23,24,24,23,26,27,31,28,27,32,27,25,26,28,26,28,29,25,29,29,25,23,27,32,28,26,31,27,30,28,32,25,22,27,29,31,29,25,27,26,27,27,27,23,29,29,27,24,28,32,28,27,28,30,31,31,30,29,26,29,26,29,31,26,26,30,26,24,23,30,32,24,32,30,28,30,31,29,28,25,29,30,29,27,22,30,25,29,29,25,27,31,23,32,27,31,30,24,29,30,32,31,27,25,27,29,32,27,25,23,23,32,26,27,28,30,26,32,26,28,32,32,29,31,26,28,31,32,30,28,28,23,28,30,26,31,28,23,23,32,22,31,27,28,32,27,27,26,21,23,30,26,25,28,24,31,25,28,27,24,32,29,24,28,26,29,23,28,31,28,26,25,25,29,31,30,32,29,31,24,28,31,24,29,23,25,28,27,24,24,23,25,31,28,32,28,31,31,24,32,26,22,27,28,23,28,22,32,27,30,28,25,28,31,29,28,27,32,27,29,30,29,31,27,22,30,22,26,24,30,31,27,22,22,27,29,29,26,28,31,25,25,30,31,25,26,25,26,26,30,31,24,24,29,28,32,26,26,26,32,31,29,27,28,32,26,29,29,27,32,30,29,22,25,28,29,23,26,24,29,24,30,24,22,27,24,28,24,27,30,23,23,22,31,32,23,32,23,25,29,29,27,26,31,32,25,27,30,23,30,30,24,28,32,27,31,28,30,25,27,30,26,27,27,25,32,30,32,23,24,24,24,27,22,24,29,32,30,29,32,32,25,24,23,29,27,32,30,31,30,24,28,27,32,30,30,22,25,28,26,24,29,23,25,27,25,29,23,25,29,28,30,29,27,31,31,26,25,31,31,27,23,23,24,26,22,23,30,24,31,23,29,25,30,27,29,32,30,25,23,28,31,29,31,29,26,29,24,28,29,24,27,24,30,26,29,29,23,28,31,31,25,25,24,32,31,30,30,30,29,23,26,24,25,23,28,32,29,25,27,24,29,27,29,29,23,30,24,29,29,23,29,23,26,30,26,32,30,22,24,24,26,21,22,23,22,30,27,32,26,29,22,30,28,26,28,24,29,27,32,32,26,26,26,31,30,31,26,29,24,23,30,29,29,22,30,26,25,23,28,24,31,24,32,31,31,25,28,28,29,32,26,31,23,22,26,29,30,28,27,29,22,32,30,29,25,22,27,30,28,24,26,31,27,22,22,30,26,23,23,24,23,25,26,25,31,30,25,25,24,29,27,31,28,24,27,27,32,29,32,31,29,23,24,24,25,23,25,25,26,32,24,26,27,24,27,23,29,21,29,26,30,31,25,32,22,32,28,29,28,25,27,30,24,30,27,24,31,25,27,27,27,25,27,32,25,29,24,27,25,28,22,22,30,32,23,29,28,31,30,29,23,27,23,24,25,32,31,29,29,30,27,31,26,26,23,30,32,25,26,29,26,31,31,32,29,27,29,27,26,30,31,29,28,31,22,27,31,30,32,31,24,31,29,24,30,28,22,23,24,27,25,25,31,30,29,24,32,29,30,26,26,29,27,27,29,26,31,27,29,23,25,29,32,29,22,29,31,24,27,29,27,32,26,27,26,27,24,26,27,26,25,28,26,28,22,25,27,25,26,26,29,27,28,31,31,31,30,27,27,23,32,29,30,23,30,32,24,32,32,24,22,31,26,30,28,30,27,30,32,24,24,23,29,23,31,26,32,22,32,29,31,25,28,31,32,26,30,30,30,31,32,22,32,29,29,31,29,28,26,32,30,28,26,22,26,24,28,24,27,30,26,30,27,31,28,22,31,25,32,26,29,30,26,25,27,31,26,29,24,25,28,24,32,22,23,32,26,27,22,31,30,32,31,24,30,27,25,32,22,29,28,32,26,25,28,27,30,28,30,26,23,26,29,29,27,24,28,31,23,23,28,24,30,23,28,22,31,27,28,27,29,30,31,26,31,27,27,23,22,27,28,26,29,30,24,25,25,29,25,30,30,29,29,31,31,27,24,22,29,23,22,30,30,21,32,27,30,21,25,24,32,32,31,24,29,25,30,26,24,27,22,28,32,32,30,32,30,32,24,25,28,30,26,25,27,26,24,23,29,29,27,28,29,32,27,30,29,32,26,26,30,25,26,28,31,26,24,30,23,28,29,23,26,29,28,27,25,29,30,25,28,27,32,26,25,29,26,24,25,28,23,29,25,30,28,24,29,32,32,24,27,29,29,28,30,29,29,32,31,25,27,24,24,24,24,29,22,24,27,25,24,24,25,29,28,23,25,25,26,26,28,27,29,32,25,31,26,29,29,30,25,27,28,23,23,27,28,23,30,31,32,26,28,26,28,30,30,30,25,28,24,25,28,24,28,29,30,23,25,27,22,24,29,23,26,26,28,25,24,26,32,23,26,28,31,26,30,28,28,28,32,29,32,23,30,31,31,29,28,27,27,22,31,22,25,32,25,22,27,24,25,30,24,26,32,25,31,27,24,23,32,32,30,31,28,25,25,31,25,26,23,27,25,29,22,32,29,30,32,30,31,22,26,23,22,23,22,25,24,26,23,28,31,24,30,25,27,30,31,25,31,28,28,28,27,28,32,22,22,25,31,23,31,30,22,27,24,23,25,30,26,24,27,31,27,25,23,28,28,30,26,24,30,27,26,24,27,31,29,31,24,32,32,30,27,26,31,32,28,29,31,25,28,24,24,25,28,25,28,26,27,25,25,26,23,23,26,23,23,31,24,29,29,32,25,29,29,26,23,23,26,32,27,28,25,27,30,28,24,29,31,31,22,26,30,24,28,26,27,31,24,26,24,22,32,32,30,24,32,25,31,27,30,27,32,32,27,28,27,24,25,25,32,28,28,22,30,25,31,32,30,22,25,29,26,26,29,26,27,26,25,25,23,28,30,31,29,22,29,32,29,24,29,27,28,27,30,32,28,29,28,32,25,27,28,32,30,29,24,28,26,28,25,24,30,25,21,26,25,28,26,28,32,28,31,23,22,23,26,28,29,24,27,22,28,26,23,26,23,25,31,24,26,30,25,28,23,25,30,25,28,31,25,29,24,28,25,32,26,27,29,26,25,29,22,26,26,28,27,30,22,24,32,27,29,29,23,24,23,31,27,21,30,28,24,31,23,26,26,24,23,29,32,21,31,27,27,31,29,27,24,28,31,29,31,24,24,28,28,27,29,25,25,27,27,28,28,26,32,31,26,28,29,23,32,29,22,32,26,30,32,25,22,28,24,30,32,26,30,26,25,30,29,30,24,26,30,22,27,31,26,26,29,30,22,32,28,30,22,28,29,27,27,23,28,29,27,25,27,30,28,30,24,25,23,28,30,26,27,26,27,24,29,28,25,29,30,28,24,24,27,26,23,28,31,25,23,28,28,31,27,29,23,24,27,27,24,24,28,28,32,28,31,26,31,28,27,23,28,29,31,32,28,27,32,29,27,22,25,28,30,30,26,32,26,30,25,31,28,27,30,31,24,29,28,31,29,26,26,25,26,29,30,23,32,26,32,28,23,27,29,29,27,23,28,32,29,29,22,30,27,31,29,27,30,29,30,29,31,23,29,24,28,31,29,28,26,32,27,29,31,26,27,27,27,22,22,30,29,32,26,24,29,28,25,32,23,28,24,22,32,25,27,22,25,27,26,28,32,24,32,24,27,28,22,28,23,25,30,27,22,28,31,24,26,25,29,28,28,32,24,24,28,32,23,31,26,25,23,26,32,24,24,28,29,27,22,25,24,27,30,30,29,24,30,32,27,26,32,26,26,25,25,24,29,27,32,27,32,30,29,31,25,30,28,30,22,23,31,28,23,25,26,26,31,29,25,22,31,26,26,28,30,22,22,23,26,23,29,29,25,24,24,31,29,22,23,27,23,31,24,29,27,26,32,30,23,30,29,32,32,24,26,24,28,24,29,31,25,24,30,28,28,29,31,23,28,24,29,24,23,31,30,32,26,25,23,29,32,29,28,25,26,25,32,32,29,26,27,25,25,26,31,24,26,26,27,30,27,29,25,29,27,27,31,28,30,32,25,22,26,25,32,29,23,25,23,30,24,31,31,30,24,29,30,26,26,30,32,29,29,30,30,32,26,31,25,30,32,27,29,21,28,29,27,25,25,31,31,22,23,25,30,26,23,23,31,31,30,24,32,28,32,28,32,26,24,30,31,31,30,25,24,26,30,30,32,26,27,25,23,25,25,25,27,25,24,25,29,28,31,27,28,29,27,21,29,29,23,25,32,32,26,25,28,27,27,28,28,29,28,29,30,25,27,29,25,29,25,27,22,28,25,32,27,26,26,29,26,32,25,23,21,24,32,27,23,25,26,31,24,31,23,24,27,30,29,25,24,25,25,29,32,25,27,31,23,31,25,29,30,27,30,24,29,26,24,28,32,29,31,32,27,30,27,26,32,23,29,26,22,29,23,22,31,25,28,32,30,24,32,26,29,31,30,23,24,27,23,24,29,30,25,28,26,30,27,27,28,25,28,31,29,25,30,27,26,28,27,23,24,30,26,27,29,29,29,32,26,30,30,25,29,24,28,31,32,32,24,25,30,25,31,32,26,29,23,24,26,24,28,27,24,29,25,27,30,22,22,29,31,23,24,25,23,29,30,30,28,24,25,32,24,22,29,28,27,31,27,31,27,29,31,25,31,28,24,26,22,27,30,23,22,27,30,23,27,32,32,27,32,28,29,29,30,27,27,29,32,30,29,31,29,28,28,29,28,27,22,23,30,29,32,31,26,27,30,29,31,30,28,29,24,22,24,26,31,31,25,32,24,24,27,24,29,30,22,22,25,26,30,26,31,24,30,31,26,29,24,32,28,32],\"customer_segments\":[1,1,1,1,1,1,1,1,1,1,1,1,1,1,1,1,1,1,1,1,1,1,1,1,1,1,1,1,1,1,1,1,1,1,1,1,1,1,1,1,1,1,1,1,1,1,1,1,1,1,1,1,1,1,1,1,1,1,1,1,1,1,1,1,1,1,1,1,1,1,1,1,1,1,1,1,1,1,1,1,1,1,1,1,1,1,1,1,1,1,1,1,1,1,1,1,1,1,1,1,1,1,1,1,1,1,1,1,1,1,1,1,1,1,1,1,1,1,1,1,1,1,1,1,1,1,1,1,1,1,1,1,1,1,1,1,1,1,1,1,1,1,1,1,1,1,1,1,1,1,1,1,1,1,1,1,1,1,1,1,1,1,1,1,1,1,1,1,1,1,1,1,1,1,1,1,1,1,1,1,1,1,1,1,1,1,1,1,1,1,1,1,1,1,1,1,1,1,1,1,1,1,1,1,1,1,1,1,1,1,1,1,1,1,1,1,1,1,1,1,1,1,1,1,1,1,1,1,1,1,1,1,1,1,1,1,1,1,1,1,1,1,1,1,1,1,1,1,1,1,1,1,1,1,1,1,1,1,1,1,1,1,1,1,1,1,1,1,1,1,1,1,1,1,1,1,1,1,1,1,1,1,1,1,1,1,1,1,1,1,1,1,1,1,1,1,1,1,1,1,1,1,1,1,1,1,1,1,1,1,1,1,1,1,1,1,1,1,1,1,1,1,1,1,1,1,1,1,1,1,1,1,1,1,1,1,1,1,1,1,1,1,1,1,1,1,1,1,1,1,1,1,1,1,1,1,1,1,1,1,1,1,1,1,1,1,1,1,1,1,1,1,1,1,1,1,1,1,1,1,1,1,1,1,1,1,1,1,1,1,1,1,1,1,1,1,1,1,1,1,1,1,1,1,1,1,1,1,1,1,1,1,1,1,1,1,1,1,1,1,1,1,1,1,1,1,1,1,1,1,1,1,1,1,1,1,1,1,1,1,1,1,1,1,1,1,1,1,1,1,1,1,1,1,1,1,1,1,1,1,1,1,1,1,1,1,1,1,1,1,1,1,1,1,1,1,1,1,1,1,1,1,1,1,1,1,1,1,1,1,1,1,1,1,1,1,1,1,1,1,1,1,1,1,1,1,1,1,1,1,1,1,1,1,1,1,1,1,1,1,1,1,1,1,1,1,1,1,1,1,1,1,1,1,1,1,1,1,1,1,1,1,1,1,1,1,1,1,1,1,1,1,1,1,1,1,1,1,1,1,1,1,1,1,1,1,1,1,1,1,1,1,1,1,1,1,1,1,1,1,1,1,1,1,1,1,1,1,1,1,1,1,1,1,1,1,1,1,1,1,1,1,1,1,1,1,1,1,1,1,1,1,1,1,1,1,1,1,1,1,1,1,1,1,1,1,1,1,1,1,1,1,1,1,1,1,1,1,1,1,1,1,1,1,1,1,1,1,1,1,1,1,1,1,1,1,1,1,1,1,1,1,1,1,1,1,1,1,1,1,1,1,1,1,1,1,1,1,1,1,1,1,1,1,1,1,1,1,1,1,1,1,1,1,1,1,1,1,1,1,1,1,1,1,1,1,1,1,1,1,1,1,1,1,1,1,1,1,1,1,1,1,1,1,1,1,1,1,1,1,1,1,1,1,1,1,1,1,1,1,1,1,1,1,1,1,1,1,1,1,1,1,1,1,1,1,1,1,1,1,1,1,1,1,1,1,1,1,1,1,1,1,1,1,1,1,1,1,1,1,1,1,1,1,1,1,1,1,1,1,1,1,1,1,1,1,1,1,1,1,1,1,1,1,1,1,1,1,1,1,1,1,1,1,1,1,1,1,1,1,1,1,1,1,1,1,1,1,1,1,1,1,1,1,1,1,1,1,1,1,1,1,1,1,1,1,1,1,1,1,1,1,1,1,1,1,1,1,1,1,1,1,1,1,1,1,1,1,1,1,1,1,1,1,1,1,1,1,1,1,1,1,1,1,1,1,1,1,1,1,1,1,1,1,1,1,1,1,1,1,1,1,1,1,1,1,1,1,1,1,1,1,1,1,1,1,1,1,1,1,1,1,1,1,1,1,1,1,1,1,1,1,1,1,1,1,1,1,1,1,1,1,1,1,1,1,1,1,1,1,1,1,1,1,1,1,1,1,1,1,1,1,1,1,1,1,1,1,1,1,1,1,1,1,1,1,1,1,1,1,1,1,1,1,1,1,1,1,1,1,1,1,1,1,1,1,1,1,1,1,1,1,1,1,1,1,1,1,1,1,1,1,1,1,1,1,1,1,1,1,1,1,1,1,1,1,1,1,1,1,1,1,1,1,1,1,1,1,1,1,1,1,1,1,1,1,1,1,1,1,1,1,1,1,1,1,1,1,1,1,1,1,1,1,1,1,1,1,1,1,1,1,1,1,1,1,1,1,1,1,1,1,1,1,1,1,1,1,1,1,1,1,1,1,1,1,1,1,1,1,1,1,1,1,1,1,1,1,1,1,1,1,1,1,1,1,1,1,1,1,1,1,1,1,1,1,1,1,1,1,1,1,1,1,1,1,1,1,1,1,1,1,1,1,1,1,1,1,1,1,1,1,1,1,1,1,1,1,1,1,1,1,1,1,1,1,1,1,1,1,1,1,1,1,1,1,1,1,1,1,1,1,1,1,1,1,1,1,1,1,1,1,1,1,1,1,1,1,1,1,1,1,1,1,1,1,1,1,1,1,1,1,1,1,1,1,1,1,1,1,1,1,1,1,1,1,1,1,1,1,1,1,1,1,1,1,1,1,1,1,1,1,1,1,1,1,1,1,1,1,1,1,1,1,1,1,1,1,1,1,1,1,1,1,1,1,1,1,1,1,1,1,1,1,1,1,1,1,1,1,1,1,1,1,1,1,1,1,1,1,1,1,1,1,1,1,1,1,1,1,1,1,1,1,1,1,1,1,1,1,1,1,1,1,1,1,1,1,1,1,1,1,1,1,1,1,1,1,1,1,1,1,1,1,1,1,1,1,1,1,1,1,1,1,1,1,1,1,1,1,1,1,1,1,1,1,1,1,1,1,1,1,1,1,1,1,1,1,1,1,1,1,1,1,1,1,1,1,1,1,1,1,1,1,1,1,1,1,1,1,1,1,1,1,1,1,1,1,1,1,1,1,1,1,1,1,1,1,1,1,1,1,1,1,1,1,1,1,1,1,1,1,1,1,1,1,1,1,1,1,1,1,1,1,1,1,1,1,1,1,1,1,1,1,1,1,1,1,1,1,1,1,1,1,1,1,1,1,1,1,1,1,1,1,1,1,1,1,1,1,1,1,1,1,1,1,1,1,1,1,1,1,1,1,1,1,1,1,1,1,1,1,1,1,1,1,1,1,1,1,1,1,1,1,1,1,1,1,1,1,1,1,1,1,1,1,1,1,1,1,1,1,1,1,1,1,1,1,1,1,1,1,1,1,1,1,1,1,1,1,1,1,1,1,1,1,1,1,1,1,1,1,1,1,1,1,1,1,1,1,1,1,1,1,1,1,1,1,1,1,1,1,1,1,1,1,1,1,1,1,1,1,1,1,1,1,1,1,1,1,1,1,1,1,1,1,1,1,1,1,1,1,1,1,1,1,1,1,1,1,1,1,1,1,1,1,1,1,1,1,1,1,1,1,1,1,1,1,1,1,1,1,1,1,1,1,1,1,1,1,1,1,1,1,1,1,1,1,1,1,1,1,1,1,1,1,1,1,1,1,1,1,1,1,1,1,1,1,1,1,1,1,1,1,1,1,1,1,1,1,1,1,1,1,1,1,1,1,1,1,1,1,1,1,1,1,1,1,1,1,1,1,1,1,1,1,1,1,1,1,1,1,1,1,1,1,1,1,1,1,1,1,1,1,1,1,1,1,1,1,1,1,1,1,1,1,1,1,1,1,1,1,1,1,1,1,1,1,1,1,1,1,1,1,1,1,1,1,1,1,1,1,1,1,1,1,1,1,1,1,1,1,1,1,1,1,1,1,1,1,1,1,1,1,1,1,1,1,1,1,1,1,1,1,1,1,1,1,1,1,1,1,1,1,1,1,1,1,1,1,1,1,1,1,1,1,1,1,1,1,1,1,1,1,1,1,1,1,1,1,1,1,1,1,1,1,1,1,1,1,1,1,1,1,1,1,1,1,1,1,1,1,1,1,1,1,1,1,1,1,1,1,1,1,1,1,1,1,1,1,1,1,1,1,1,1,1,1,1,1,1,1,1,1,1,1,1,1,1,1,1,1,1,1,1,1,1,1,1,1,1,1,1,1,1,1,1,1,1,1,1,1,1,1,1,1,1,1,1,1,1,1,1,1,1,1,1,1,1,1,1,1,1,1,1,1,1,1,1,1,1,1,1,1,1,1,1,1,1,1,1,1,1,1,1,1,1,1,1,1,1,1,1,1,1,1,1,1,1,1,1,1,1,1,1,1,1,1,1,1,1,1,1,1,1,1,1,1,1,1,1,1,1,1,1,1,1,1,1,1,1,1,1,1,1,1,1,1,1,1,1,1,1,1,1,1,1,1,1,1,1,1,1,1,1,1,1,1,1,1,1,1,1,1,1,1,1,1,1,1,1,1,1,1,1,1,1,1,1,1,1,1,1,1,1,1,1,1,1,1,1,1,1,1,1,1,1,1,1,1,1,1,1,1,1,1,1,1,1,1,1,1,1,1,1,1,1,1,1,1,1,1,1,1,1,1,1,1,1,1,1,1,1,1,1,1,1,1,1,1,1,1,1,1,1,1,1,1,1,1,1,1,1,1,1,1,1,1,1,1,1,1,1,1,1,1,1,1,1,1,1,1,1,1,1,1,1,1,1,1,1,1,1,1,1,1,1,1,1,1,1,1,1,1,1,1,1,1,1,1,1,1,1,1,1,1,1,1,1,1,1,1,1,1,1,1,1,1,1,1,1,1,1,1,1,1,1,1,1,1,1,1,1,1,1,1,1,1,1,1,1,1,1,1,1,1,1,1,1,1,1,1,1,1,1,1,1,1,1,1,1,1,1,1,1,1,1,1,1,1,1,1,1,1,1,1,1,1,1,1,1,1],\"limit_bal\":{\"__ndarray__\":\"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\",\"dtype\":\"float64\",\"order\":\"little\",\"shape\":[2252]}},\"selected\":{\"id\":\"1177\"},\"selection_policy\":{\"id\":\"1193\"}},\"id\":\"1176\",\"type\":\"ColumnDataSource\"},{\"attributes\":{},\"id\":\"1126\",\"type\":\"LinearScale\"},{\"attributes\":{\"angle\":{\"value\":0.0},\"fill_alpha\":{\"value\":1.0},\"fill_color\":{\"value\":\"#e5ae38\"},\"hatch_alpha\":{\"value\":1.0},\"hatch_color\":{\"value\":\"#e5ae38\"},\"hatch_scale\":{\"value\":12.0},\"hatch_weight\":{\"value\":1.0},\"line_alpha\":{\"value\":1.0},\"line_cap\":{\"value\":\"butt\"},\"line_color\":{\"value\":\"#e5ae38\"},\"line_dash\":{\"value\":[]},\"line_dash_offset\":{\"value\":0},\"line_join\":{\"value\":\"bevel\"},\"line_width\":{\"value\":1},\"marker\":{\"value\":\"circle\"},\"size\":{\"value\":5.477225575051661},\"x\":{\"field\":\"limit_bal\"},\"y\":{\"field\":\"age\"}},\"id\":\"1221\",\"type\":\"Scatter\"},{\"attributes\":{\"children\":[{\"id\":\"1119\"}],\"height\":300,\"margin\":[0,0,0,0],\"name\":\"Row01020\",\"sizing_mode\":\"fixed\",\"tags\":[\"embedded\"],\"width\":700},\"id\":\"1113\",\"type\":\"Row\"},{\"attributes\":{\"click_policy\":\"mute\",\"coordinates\":null,\"group\":null,\"items\":[{\"id\":\"1174\"},{\"id\":\"1196\"},{\"id\":\"1220\"}],\"location\":[0,0],\"title\":\"customer_segments\"},\"id\":\"1173\",\"type\":\"Legend\"},{\"attributes\":{\"axis\":{\"id\":\"1132\"},\"coordinates\":null,\"dimension\":1,\"grid_line_color\":null,\"group\":null,\"ticker\":null},\"id\":\"1135\",\"type\":\"Grid\"},{\"attributes\":{\"fill_alpha\":{\"value\":0.2},\"fill_color\":{\"value\":\"#fc4f30\"},\"hatch_alpha\":{\"value\":0.2},\"hatch_color\":{\"value\":\"#fc4f30\"},\"line_alpha\":{\"value\":0.2},\"line_color\":{\"value\":\"#fc4f30\"},\"size\":{\"value\":5.477225575051661},\"x\":{\"field\":\"limit_bal\"},\"y\":{\"field\":\"age\"}},\"id\":\"1181\",\"type\":\"Scatter\"},{\"attributes\":{\"callback\":null,\"renderers\":[{\"id\":\"1161\"},{\"id\":\"1182\"},{\"id\":\"1204\"}],\"tags\":[\"hv_created\"],\"tooltips\":[[\"customer_segments\",\"@{customer_segments}\"],[\"limit_bal\",\"@{limit_bal}\"],[\"age\",\"@{age}\"]]},\"id\":\"1116\",\"type\":\"HoverTool\"},{\"attributes\":{\"coordinates\":null,\"data_source\":{\"id\":\"1176\"},\"glyph\":{\"id\":\"1179\"},\"group\":null,\"hover_glyph\":null,\"muted_glyph\":{\"id\":\"1181\"},\"nonselection_glyph\":{\"id\":\"1180\"},\"selection_glyph\":{\"id\":\"1197\"},\"view\":{\"id\":\"1183\"}},\"id\":\"1182\",\"type\":\"GlyphRenderer\"},{\"attributes\":{},\"id\":\"1129\",\"type\":\"BasicTicker\"},{\"attributes\":{\"label\":{\"value\":\"0\"},\"renderers\":[{\"id\":\"1161\"}]},\"id\":\"1174\",\"type\":\"LegendItem\"},{\"attributes\":{\"axis\":{\"id\":\"1128\"},\"coordinates\":null,\"grid_line_color\":null,\"group\":null,\"ticker\":null},\"id\":\"1131\",\"type\":\"Grid\"}],\"root_ids\":[\"1113\"]},\"title\":\"Bokeh Application\",\"version\":\"2.4.3\"}};\n",
       "    var render_items = [{\"docid\":\"d3a1c394-d321-4e6e-bf16-5f3e33a66fd1\",\"root_ids\":[\"1113\"],\"roots\":{\"1113\":\"b4721542-707a-4540-88b9-3f1222ce28d3\"}}];\n",
       "    root.Bokeh.embed.embed_items_notebook(docs_json, render_items);\n",
       "    for (const render_item of render_items) {\n",
       "      for (const root_id of render_item.root_ids) {\n",
       "\tconst id_el = document.getElementById(root_id)\n",
       "\tif (id_el.children.length && (id_el.children[0].className === 'bk-root')) {\n",
       "\t  const root_el = id_el.children[0]\n",
       "\t  root_el.id = root_el.id + '-rendered'\n",
       "\t}\n",
       "      }\n",
       "    }\n",
       "  }\n",
       "  if (root.Bokeh !== undefined && root.Bokeh.Panel !== undefined) {\n",
       "    embed_document(root);\n",
       "  } else {\n",
       "    var attempts = 0;\n",
       "    var timer = setInterval(function(root) {\n",
       "      if (root.Bokeh !== undefined && root.Bokeh.Panel !== undefined) {\n",
       "        clearInterval(timer);\n",
       "        embed_document(root);\n",
       "      } else if (document.readyState == \"complete\") {\n",
       "        attempts++;\n",
       "        if (attempts > 200) {\n",
       "          clearInterval(timer);\n",
       "          console.log(\"Bokeh: ERROR: Unable to run BokehJS code because BokehJS library is missing\");\n",
       "        }\n",
       "      }\n",
       "    }, 25, root)\n",
       "  }\n",
       "})(window);</script>"
      ],
      "text/plain": [
       ":NdOverlay   [customer_segments]\n",
       "   :Scatter   [limit_bal]   (age)"
      ]
     },
     "execution_count": 18,
     "metadata": {
      "application/vnd.holoviews_exec.v0+json": {
       "id": "1113"
      }
     },
     "output_type": "execute_result"
    }
   ],
   "source": [
    "# Plot the clusters\n"
   ]
  },
  {
   "cell_type": "code",
   "execution_count": null,
   "metadata": {},
   "outputs": [],
   "source": []
  }
 ],
 "metadata": {
  "kernelspec": {
   "display_name": "Python 3 (ipykernel)",
   "language": "python",
   "name": "python3"
  },
  "language_info": {
   "codemirror_mode": {
    "name": "ipython",
    "version": 3
   },
   "file_extension": ".py",
   "mimetype": "text/x-python",
   "name": "python",
   "nbconvert_exporter": "python",
   "pygments_lexer": "ipython3",
   "version": "3.10.13"
  }
 },
 "nbformat": 4,
 "nbformat_minor": 4
}
