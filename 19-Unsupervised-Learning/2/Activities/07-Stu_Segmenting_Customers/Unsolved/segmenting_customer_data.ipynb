{
 "cells": [
  {
   "cell_type": "code",
   "execution_count": 1,
   "metadata": {},
   "outputs": [
    {
     "data": {
      "application/javascript": "(function(root) {\n  function now() {\n    return new Date();\n  }\n\n  var force = true;\n  var py_version = '3.2.1'.replace('rc', '-rc.').replace('.dev', '-dev.');\n  var is_dev = py_version.indexOf(\"+\") !== -1 || py_version.indexOf(\"-\") !== -1;\n  var reloading = false;\n  var Bokeh = root.Bokeh;\n  var bokeh_loaded = Bokeh != null && (Bokeh.version === py_version || (Bokeh.versions !== undefined && Bokeh.versions.has(py_version)));\n\n  if (typeof (root._bokeh_timeout) === \"undefined\" || force) {\n    root._bokeh_timeout = Date.now() + 5000;\n    root._bokeh_failed_load = false;\n  }\n\n  function run_callbacks() {\n    try {\n      root._bokeh_onload_callbacks.forEach(function(callback) {\n        if (callback != null)\n          callback();\n      });\n    } finally {\n      delete root._bokeh_onload_callbacks;\n    }\n    console.debug(\"Bokeh: all callbacks have finished\");\n  }\n\n  function load_libs(css_urls, js_urls, js_modules, js_exports, callback) {\n    if (css_urls == null) css_urls = [];\n    if (js_urls == null) js_urls = [];\n    if (js_modules == null) js_modules = [];\n    if (js_exports == null) js_exports = {};\n\n    root._bokeh_onload_callbacks.push(callback);\n\n    if (root._bokeh_is_loading > 0) {\n      console.debug(\"Bokeh: BokehJS is being loaded, scheduling callback at\", now());\n      return null;\n    }\n    if (js_urls.length === 0 && js_modules.length === 0 && Object.keys(js_exports).length === 0) {\n      run_callbacks();\n      return null;\n    }\n    if (!reloading) {\n      console.debug(\"Bokeh: BokehJS not loaded, scheduling load and callback at\", now());\n    }\n\n    function on_load() {\n      root._bokeh_is_loading--;\n      if (root._bokeh_is_loading === 0) {\n        console.debug(\"Bokeh: all BokehJS libraries/stylesheets loaded\");\n        run_callbacks()\n      }\n    }\n    window._bokeh_on_load = on_load\n\n    function on_error() {\n      console.error(\"failed to load \" + url);\n    }\n\n    var skip = [];\n    if (window.requirejs) {\n      window.requirejs.config({'packages': {}, 'paths': {'jspanel': 'https://cdn.jsdelivr.net/npm/jspanel4@4.12.0/dist/jspanel', 'jspanel-modal': 'https://cdn.jsdelivr.net/npm/jspanel4@4.12.0/dist/extensions/modal/jspanel.modal', 'jspanel-tooltip': 'https://cdn.jsdelivr.net/npm/jspanel4@4.12.0/dist/extensions/tooltip/jspanel.tooltip', 'jspanel-hint': 'https://cdn.jsdelivr.net/npm/jspanel4@4.12.0/dist/extensions/hint/jspanel.hint', 'jspanel-layout': 'https://cdn.jsdelivr.net/npm/jspanel4@4.12.0/dist/extensions/layout/jspanel.layout', 'jspanel-contextmenu': 'https://cdn.jsdelivr.net/npm/jspanel4@4.12.0/dist/extensions/contextmenu/jspanel.contextmenu', 'jspanel-dock': 'https://cdn.jsdelivr.net/npm/jspanel4@4.12.0/dist/extensions/dock/jspanel.dock', 'gridstack': 'https://cdn.jsdelivr.net/npm/gridstack@7.2.3/dist/gridstack-all', 'notyf': 'https://cdn.jsdelivr.net/npm/notyf@3/notyf.min'}, 'shim': {'jspanel': {'exports': 'jsPanel'}, 'gridstack': {'exports': 'GridStack'}}});\n      require([\"jspanel\"], function(jsPanel) {\n\twindow.jsPanel = jsPanel\n\ton_load()\n      })\n      require([\"jspanel-modal\"], function() {\n\ton_load()\n      })\n      require([\"jspanel-tooltip\"], function() {\n\ton_load()\n      })\n      require([\"jspanel-hint\"], function() {\n\ton_load()\n      })\n      require([\"jspanel-layout\"], function() {\n\ton_load()\n      })\n      require([\"jspanel-contextmenu\"], function() {\n\ton_load()\n      })\n      require([\"jspanel-dock\"], function() {\n\ton_load()\n      })\n      require([\"gridstack\"], function(GridStack) {\n\twindow.GridStack = GridStack\n\ton_load()\n      })\n      require([\"notyf\"], function() {\n\ton_load()\n      })\n      root._bokeh_is_loading = css_urls.length + 9;\n    } else {\n      root._bokeh_is_loading = css_urls.length + js_urls.length + js_modules.length + Object.keys(js_exports).length;\n    }\n\n    var existing_stylesheets = []\n    var links = document.getElementsByTagName('link')\n    for (var i = 0; i < links.length; i++) {\n      var link = links[i]\n      if (link.href != null) {\n\texisting_stylesheets.push(link.href)\n      }\n    }\n    for (var i = 0; i < css_urls.length; i++) {\n      var url = css_urls[i];\n      if (existing_stylesheets.indexOf(url) !== -1) {\n\ton_load()\n\tcontinue;\n      }\n      const element = document.createElement(\"link\");\n      element.onload = on_load;\n      element.onerror = on_error;\n      element.rel = \"stylesheet\";\n      element.type = \"text/css\";\n      element.href = url;\n      console.debug(\"Bokeh: injecting link tag for BokehJS stylesheet: \", url);\n      document.body.appendChild(element);\n    }    if (((window['jsPanel'] !== undefined) && (!(window['jsPanel'] instanceof HTMLElement))) || window.requirejs) {\n      var urls = ['https://cdn.holoviz.org/panel/1.2.3/dist/bundled/floatpanel/jspanel4@4.12.0/dist/jspanel.js', 'https://cdn.holoviz.org/panel/1.2.3/dist/bundled/floatpanel/jspanel4@4.12.0/dist/extensions/modal/jspanel.modal.js', 'https://cdn.holoviz.org/panel/1.2.3/dist/bundled/floatpanel/jspanel4@4.12.0/dist/extensions/tooltip/jspanel.tooltip.js', 'https://cdn.holoviz.org/panel/1.2.3/dist/bundled/floatpanel/jspanel4@4.12.0/dist/extensions/hint/jspanel.hint.js', 'https://cdn.holoviz.org/panel/1.2.3/dist/bundled/floatpanel/jspanel4@4.12.0/dist/extensions/layout/jspanel.layout.js', 'https://cdn.holoviz.org/panel/1.2.3/dist/bundled/floatpanel/jspanel4@4.12.0/dist/extensions/contextmenu/jspanel.contextmenu.js', 'https://cdn.holoviz.org/panel/1.2.3/dist/bundled/floatpanel/jspanel4@4.12.0/dist/extensions/dock/jspanel.dock.js'];\n      for (var i = 0; i < urls.length; i++) {\n        skip.push(urls[i])\n      }\n    }    if (((window['GridStack'] !== undefined) && (!(window['GridStack'] instanceof HTMLElement))) || window.requirejs) {\n      var urls = ['https://cdn.holoviz.org/panel/1.2.3/dist/bundled/gridstack/gridstack@7.2.3/dist/gridstack-all.js'];\n      for (var i = 0; i < urls.length; i++) {\n        skip.push(urls[i])\n      }\n    }    if (((window['Notyf'] !== undefined) && (!(window['Notyf'] instanceof HTMLElement))) || window.requirejs) {\n      var urls = ['https://cdn.holoviz.org/panel/1.2.3/dist/bundled/notificationarea/notyf@3/notyf.min.js'];\n      for (var i = 0; i < urls.length; i++) {\n        skip.push(urls[i])\n      }\n    }    var existing_scripts = []\n    var scripts = document.getElementsByTagName('script')\n    for (var i = 0; i < scripts.length; i++) {\n      var script = scripts[i]\n      if (script.src != null) {\n\texisting_scripts.push(script.src)\n      }\n    }\n    for (var i = 0; i < js_urls.length; i++) {\n      var url = js_urls[i];\n      if (skip.indexOf(url) !== -1 || existing_scripts.indexOf(url) !== -1) {\n\tif (!window.requirejs) {\n\t  on_load();\n\t}\n\tcontinue;\n      }\n      var element = document.createElement('script');\n      element.onload = on_load;\n      element.onerror = on_error;\n      element.async = false;\n      element.src = url;\n      console.debug(\"Bokeh: injecting script tag for BokehJS library: \", url);\n      document.head.appendChild(element);\n    }\n    for (var i = 0; i < js_modules.length; i++) {\n      var url = js_modules[i];\n      if (skip.indexOf(url) !== -1 || existing_scripts.indexOf(url) !== -1) {\n\tif (!window.requirejs) {\n\t  on_load();\n\t}\n\tcontinue;\n      }\n      var element = document.createElement('script');\n      element.onload = on_load;\n      element.onerror = on_error;\n      element.async = false;\n      element.src = url;\n      element.type = \"module\";\n      console.debug(\"Bokeh: injecting script tag for BokehJS library: \", url);\n      document.head.appendChild(element);\n    }\n    for (const name in js_exports) {\n      var url = js_exports[name];\n      if (skip.indexOf(url) >= 0 || root[name] != null) {\n\tif (!window.requirejs) {\n\t  on_load();\n\t}\n\tcontinue;\n      }\n      var element = document.createElement('script');\n      element.onerror = on_error;\n      element.async = false;\n      element.type = \"module\";\n      console.debug(\"Bokeh: injecting script tag for BokehJS library: \", url);\n      element.textContent = `\n      import ${name} from \"${url}\"\n      window.${name} = ${name}\n      window._bokeh_on_load()\n      `\n      document.head.appendChild(element);\n    }\n    if (!js_urls.length && !js_modules.length) {\n      on_load()\n    }\n  };\n\n  function inject_raw_css(css) {\n    const element = document.createElement(\"style\");\n    element.appendChild(document.createTextNode(css));\n    document.body.appendChild(element);\n  }\n\n  var js_urls = [\"https://cdn.bokeh.org/bokeh/release/bokeh-3.2.1.min.js\", \"https://cdn.bokeh.org/bokeh/release/bokeh-gl-3.2.1.min.js\", \"https://cdn.bokeh.org/bokeh/release/bokeh-widgets-3.2.1.min.js\", \"https://cdn.bokeh.org/bokeh/release/bokeh-tables-3.2.1.min.js\", \"https://cdn.holoviz.org/panel/1.2.3/dist/panel.min.js\"];\n  var js_modules = [];\n  var js_exports = {};\n  var css_urls = [];\n  var inline_js = [    function(Bokeh) {\n      Bokeh.set_log_level(\"info\");\n    },\nfunction(Bokeh) {} // ensure no trailing comma for IE\n  ];\n\n  function run_inline_js() {\n    if ((root.Bokeh !== undefined) || (force === true)) {\n      for (var i = 0; i < inline_js.length; i++) {\n        inline_js[i].call(root, root.Bokeh);\n      }\n      // Cache old bokeh versions\n      if (Bokeh != undefined && !reloading) {\n\tvar NewBokeh = root.Bokeh;\n\tif (Bokeh.versions === undefined) {\n\t  Bokeh.versions = new Map();\n\t}\n\tif (NewBokeh.version !== Bokeh.version) {\n\t  Bokeh.versions.set(NewBokeh.version, NewBokeh)\n\t}\n\troot.Bokeh = Bokeh;\n      }} else if (Date.now() < root._bokeh_timeout) {\n      setTimeout(run_inline_js, 100);\n    } else if (!root._bokeh_failed_load) {\n      console.log(\"Bokeh: BokehJS failed to load within specified timeout.\");\n      root._bokeh_failed_load = true;\n    }\n    root._bokeh_is_initializing = false\n  }\n\n  function load_or_wait() {\n    // Implement a backoff loop that tries to ensure we do not load multiple\n    // versions of Bokeh and its dependencies at the same time.\n    // In recent versions we use the root._bokeh_is_initializing flag\n    // to determine whether there is an ongoing attempt to initialize\n    // bokeh, however for backward compatibility we also try to ensure\n    // that we do not start loading a newer (Panel>=1.0 and Bokeh>3) version\n    // before older versions are fully initialized.\n    if (root._bokeh_is_initializing && Date.now() > root._bokeh_timeout) {\n      root._bokeh_is_initializing = false;\n      root._bokeh_onload_callbacks = undefined;\n      console.log(\"Bokeh: BokehJS was loaded multiple times but one version failed to initialize.\");\n      load_or_wait();\n    } else if (root._bokeh_is_initializing || (typeof root._bokeh_is_initializing === \"undefined\" && root._bokeh_onload_callbacks !== undefined)) {\n      setTimeout(load_or_wait, 100);\n    } else {\n      Bokeh = root.Bokeh;\n      bokeh_loaded = Bokeh != null && (Bokeh.version === py_version || (Bokeh.versions !== undefined && Bokeh.versions.has(py_version)));\n      root._bokeh_is_initializing = true\n      root._bokeh_onload_callbacks = []\n      if (!reloading && (!bokeh_loaded || is_dev)) {\n\troot.Bokeh = undefined;\n      }\n      load_libs(css_urls, js_urls, js_modules, js_exports, function() {\n\tconsole.debug(\"Bokeh: BokehJS plotting callback run at\", now());\n\trun_inline_js();\n      });\n    }\n  }\n  // Give older versions of the autoload script a head-start to ensure\n  // they initialize before we start loading newer version.\n  setTimeout(load_or_wait, 100)\n}(window));",
      "application/vnd.holoviews_load.v0+json": ""
     },
     "metadata": {},
     "output_type": "display_data"
    },
    {
     "data": {
      "application/javascript": "\nif ((window.PyViz === undefined) || (window.PyViz instanceof HTMLElement)) {\n  window.PyViz = {comms: {}, comm_status:{}, kernels:{}, receivers: {}, plot_index: []}\n}\n\n\n    function JupyterCommManager() {\n    }\n\n    JupyterCommManager.prototype.register_target = function(plot_id, comm_id, msg_handler) {\n      if (window.comm_manager || ((window.Jupyter !== undefined) && (Jupyter.notebook.kernel != null))) {\n        var comm_manager = window.comm_manager || Jupyter.notebook.kernel.comm_manager;\n        comm_manager.register_target(comm_id, function(comm) {\n          comm.on_msg(msg_handler);\n        });\n      } else if ((plot_id in window.PyViz.kernels) && (window.PyViz.kernels[plot_id])) {\n        window.PyViz.kernels[plot_id].registerCommTarget(comm_id, function(comm) {\n          comm.onMsg = msg_handler;\n        });\n      } else if (typeof google != 'undefined' && google.colab.kernel != null) {\n        google.colab.kernel.comms.registerTarget(comm_id, (comm) => {\n          var messages = comm.messages[Symbol.asyncIterator]();\n          function processIteratorResult(result) {\n            var message = result.value;\n            console.log(message)\n            var content = {data: message.data, comm_id};\n            var buffers = []\n            for (var buffer of message.buffers || []) {\n              buffers.push(new DataView(buffer))\n            }\n            var metadata = message.metadata || {};\n            var msg = {content, buffers, metadata}\n            msg_handler(msg);\n            return messages.next().then(processIteratorResult);\n          }\n          return messages.next().then(processIteratorResult);\n        })\n      }\n    }\n\n    JupyterCommManager.prototype.get_client_comm = function(plot_id, comm_id, msg_handler) {\n      if (comm_id in window.PyViz.comms) {\n        return window.PyViz.comms[comm_id];\n      } else if (window.comm_manager || ((window.Jupyter !== undefined) && (Jupyter.notebook.kernel != null))) {\n        var comm_manager = window.comm_manager || Jupyter.notebook.kernel.comm_manager;\n        var comm = comm_manager.new_comm(comm_id, {}, {}, {}, comm_id);\n        if (msg_handler) {\n          comm.on_msg(msg_handler);\n        }\n      } else if ((plot_id in window.PyViz.kernels) && (window.PyViz.kernels[plot_id])) {\n        var comm = window.PyViz.kernels[plot_id].connectToComm(comm_id);\n        comm.open();\n        if (msg_handler) {\n          comm.onMsg = msg_handler;\n        }\n      } else if (typeof google != 'undefined' && google.colab.kernel != null) {\n        var comm_promise = google.colab.kernel.comms.open(comm_id)\n        comm_promise.then((comm) => {\n          window.PyViz.comms[comm_id] = comm;\n          if (msg_handler) {\n            var messages = comm.messages[Symbol.asyncIterator]();\n            function processIteratorResult(result) {\n              var message = result.value;\n              var content = {data: message.data};\n              var metadata = message.metadata || {comm_id};\n              var msg = {content, metadata}\n              msg_handler(msg);\n              return messages.next().then(processIteratorResult);\n            }\n            return messages.next().then(processIteratorResult);\n          }\n        }) \n        var sendClosure = (data, metadata, buffers, disposeOnDone) => {\n          return comm_promise.then((comm) => {\n            comm.send(data, metadata, buffers, disposeOnDone);\n          });\n        };\n        var comm = {\n          send: sendClosure\n        };\n      }\n      window.PyViz.comms[comm_id] = comm;\n      return comm;\n    }\n    window.PyViz.comm_manager = new JupyterCommManager();\n    \n\n\nvar JS_MIME_TYPE = 'application/javascript';\nvar HTML_MIME_TYPE = 'text/html';\nvar EXEC_MIME_TYPE = 'application/vnd.holoviews_exec.v0+json';\nvar CLASS_NAME = 'output';\n\n/**\n * Render data to the DOM node\n */\nfunction render(props, node) {\n  var div = document.createElement(\"div\");\n  var script = document.createElement(\"script\");\n  node.appendChild(div);\n  node.appendChild(script);\n}\n\n/**\n * Handle when a new output is added\n */\nfunction handle_add_output(event, handle) {\n  var output_area = handle.output_area;\n  var output = handle.output;\n  if ((output.data == undefined) || (!output.data.hasOwnProperty(EXEC_MIME_TYPE))) {\n    return\n  }\n  var id = output.metadata[EXEC_MIME_TYPE][\"id\"];\n  var toinsert = output_area.element.find(\".\" + CLASS_NAME.split(' ')[0]);\n  if (id !== undefined) {\n    var nchildren = toinsert.length;\n    var html_node = toinsert[nchildren-1].children[0];\n    html_node.innerHTML = output.data[HTML_MIME_TYPE];\n    var scripts = [];\n    var nodelist = html_node.querySelectorAll(\"script\");\n    for (var i in nodelist) {\n      if (nodelist.hasOwnProperty(i)) {\n        scripts.push(nodelist[i])\n      }\n    }\n\n    scripts.forEach( function (oldScript) {\n      var newScript = document.createElement(\"script\");\n      var attrs = [];\n      var nodemap = oldScript.attributes;\n      for (var j in nodemap) {\n        if (nodemap.hasOwnProperty(j)) {\n          attrs.push(nodemap[j])\n        }\n      }\n      attrs.forEach(function(attr) { newScript.setAttribute(attr.name, attr.value) });\n      newScript.appendChild(document.createTextNode(oldScript.innerHTML));\n      oldScript.parentNode.replaceChild(newScript, oldScript);\n    });\n    if (JS_MIME_TYPE in output.data) {\n      toinsert[nchildren-1].children[1].textContent = output.data[JS_MIME_TYPE];\n    }\n    output_area._hv_plot_id = id;\n    if ((window.Bokeh !== undefined) && (id in Bokeh.index)) {\n      window.PyViz.plot_index[id] = Bokeh.index[id];\n    } else {\n      window.PyViz.plot_index[id] = null;\n    }\n  } else if (output.metadata[EXEC_MIME_TYPE][\"server_id\"] !== undefined) {\n    var bk_div = document.createElement(\"div\");\n    bk_div.innerHTML = output.data[HTML_MIME_TYPE];\n    var script_attrs = bk_div.children[0].attributes;\n    for (var i = 0; i < script_attrs.length; i++) {\n      toinsert[toinsert.length - 1].childNodes[1].setAttribute(script_attrs[i].name, script_attrs[i].value);\n    }\n    // store reference to server id on output_area\n    output_area._bokeh_server_id = output.metadata[EXEC_MIME_TYPE][\"server_id\"];\n  }\n}\n\n/**\n * Handle when an output is cleared or removed\n */\nfunction handle_clear_output(event, handle) {\n  var id = handle.cell.output_area._hv_plot_id;\n  var server_id = handle.cell.output_area._bokeh_server_id;\n  if (((id === undefined) || !(id in PyViz.plot_index)) && (server_id !== undefined)) { return; }\n  var comm = window.PyViz.comm_manager.get_client_comm(\"hv-extension-comm\", \"hv-extension-comm\", function () {});\n  if (server_id !== null) {\n    comm.send({event_type: 'server_delete', 'id': server_id});\n    return;\n  } else if (comm !== null) {\n    comm.send({event_type: 'delete', 'id': id});\n  }\n  delete PyViz.plot_index[id];\n  if ((window.Bokeh !== undefined) & (id in window.Bokeh.index)) {\n    var doc = window.Bokeh.index[id].model.document\n    doc.clear();\n    const i = window.Bokeh.documents.indexOf(doc);\n    if (i > -1) {\n      window.Bokeh.documents.splice(i, 1);\n    }\n  }\n}\n\n/**\n * Handle kernel restart event\n */\nfunction handle_kernel_cleanup(event, handle) {\n  delete PyViz.comms[\"hv-extension-comm\"];\n  window.PyViz.plot_index = {}\n}\n\n/**\n * Handle update_display_data messages\n */\nfunction handle_update_output(event, handle) {\n  handle_clear_output(event, {cell: {output_area: handle.output_area}})\n  handle_add_output(event, handle)\n}\n\nfunction register_renderer(events, OutputArea) {\n  function append_mime(data, metadata, element) {\n    // create a DOM node to render to\n    var toinsert = this.create_output_subarea(\n    metadata,\n    CLASS_NAME,\n    EXEC_MIME_TYPE\n    );\n    this.keyboard_manager.register_events(toinsert);\n    // Render to node\n    var props = {data: data, metadata: metadata[EXEC_MIME_TYPE]};\n    render(props, toinsert[0]);\n    element.append(toinsert);\n    return toinsert\n  }\n\n  events.on('output_added.OutputArea', handle_add_output);\n  events.on('output_updated.OutputArea', handle_update_output);\n  events.on('clear_output.CodeCell', handle_clear_output);\n  events.on('delete.Cell', handle_clear_output);\n  events.on('kernel_ready.Kernel', handle_kernel_cleanup);\n\n  OutputArea.prototype.register_mime_type(EXEC_MIME_TYPE, append_mime, {\n    safe: true,\n    index: 0\n  });\n}\n\nif (window.Jupyter !== undefined) {\n  try {\n    var events = require('base/js/events');\n    var OutputArea = require('notebook/js/outputarea').OutputArea;\n    if (OutputArea.prototype.mime_types().indexOf(EXEC_MIME_TYPE) == -1) {\n      register_renderer(events, OutputArea);\n    }\n  } catch(err) {\n  }\n}\n",
      "application/vnd.holoviews_load.v0+json": ""
     },
     "metadata": {},
     "output_type": "display_data"
    },
    {
     "data": {
      "text/html": [
       "<style>*[data-root-id],\n",
       "*[data-root-id] > * {\n",
       "  box-sizing: border-box;\n",
       "  font-family: var(--jp-ui-font-family);\n",
       "  font-size: var(--jp-ui-font-size1);\n",
       "  color: var(--vscode-editor-foreground, var(--jp-ui-font-color1));\n",
       "}\n",
       "\n",
       "/* Override VSCode background color */\n",
       ".cell-output-ipywidget-background:has(\n",
       "    > .cell-output-ipywidget-background > .lm-Widget > *[data-root-id]\n",
       "  ),\n",
       ".cell-output-ipywidget-background:has(> .lm-Widget > *[data-root-id]) {\n",
       "  background-color: transparent !important;\n",
       "}\n",
       "</style>"
      ]
     },
     "metadata": {},
     "output_type": "display_data"
    }
   ],
   "source": [
    "# Import the modules\n",
    "import pandas as pd\n",
    "import hvplot.pandas\n",
    "from pathlib import Path"
   ]
  },
  {
   "cell_type": "markdown",
   "metadata": {},
   "source": [
    "## Part 1: Create a Pandas DataFrame"
   ]
  },
  {
   "cell_type": "code",
   "execution_count": 2,
   "metadata": {},
   "outputs": [
    {
     "data": {
      "text/html": [
       "<div>\n",
       "<style scoped>\n",
       "    .dataframe tbody tr th:only-of-type {\n",
       "        vertical-align: middle;\n",
       "    }\n",
       "\n",
       "    .dataframe tbody tr th {\n",
       "        vertical-align: top;\n",
       "    }\n",
       "\n",
       "    .dataframe thead th {\n",
       "        text-align: right;\n",
       "    }\n",
       "</style>\n",
       "<table border=\"1\" class=\"dataframe\">\n",
       "  <thead>\n",
       "    <tr style=\"text-align: right;\">\n",
       "      <th></th>\n",
       "      <th>feature_1</th>\n",
       "      <th>feature_2</th>\n",
       "      <th>feature_3</th>\n",
       "      <th>feature_4</th>\n",
       "      <th>feature_5</th>\n",
       "      <th>feature_6</th>\n",
       "      <th>feature_7</th>\n",
       "      <th>feature_8</th>\n",
       "      <th>feature_9</th>\n",
       "      <th>feature_10</th>\n",
       "    </tr>\n",
       "  </thead>\n",
       "  <tbody>\n",
       "    <tr>\n",
       "      <th>0</th>\n",
       "      <td>1.148534</td>\n",
       "      <td>4.606077</td>\n",
       "      <td>2.699069</td>\n",
       "      <td>-2.661824</td>\n",
       "      <td>1.526433</td>\n",
       "      <td>1.236671</td>\n",
       "      <td>0.211421</td>\n",
       "      <td>1.482896</td>\n",
       "      <td>-4.445627</td>\n",
       "      <td>-1.936831</td>\n",
       "    </tr>\n",
       "    <tr>\n",
       "      <th>1</th>\n",
       "      <td>-1.149410</td>\n",
       "      <td>-1.650549</td>\n",
       "      <td>2.530167</td>\n",
       "      <td>-3.227088</td>\n",
       "      <td>0.572138</td>\n",
       "      <td>4.162600</td>\n",
       "      <td>-0.291679</td>\n",
       "      <td>-1.237575</td>\n",
       "      <td>3.604765</td>\n",
       "      <td>-1.635689</td>\n",
       "    </tr>\n",
       "    <tr>\n",
       "      <th>2</th>\n",
       "      <td>0.332427</td>\n",
       "      <td>-0.887985</td>\n",
       "      <td>-0.309216</td>\n",
       "      <td>0.399891</td>\n",
       "      <td>0.828492</td>\n",
       "      <td>3.641945</td>\n",
       "      <td>-0.916946</td>\n",
       "      <td>-1.978024</td>\n",
       "      <td>1.056772</td>\n",
       "      <td>-1.882747</td>\n",
       "    </tr>\n",
       "    <tr>\n",
       "      <th>3</th>\n",
       "      <td>2.245599</td>\n",
       "      <td>3.826309</td>\n",
       "      <td>0.264039</td>\n",
       "      <td>0.095471</td>\n",
       "      <td>1.984380</td>\n",
       "      <td>0.373991</td>\n",
       "      <td>-0.280279</td>\n",
       "      <td>1.602786</td>\n",
       "      <td>-5.993331</td>\n",
       "      <td>-2.258925</td>\n",
       "    </tr>\n",
       "    <tr>\n",
       "      <th>4</th>\n",
       "      <td>0.705503</td>\n",
       "      <td>-1.312329</td>\n",
       "      <td>0.895406</td>\n",
       "      <td>-0.405408</td>\n",
       "      <td>1.116187</td>\n",
       "      <td>3.699562</td>\n",
       "      <td>-1.427985</td>\n",
       "      <td>-1.494409</td>\n",
       "      <td>1.156908</td>\n",
       "      <td>-1.434964</td>\n",
       "    </tr>\n",
       "  </tbody>\n",
       "</table>\n",
       "</div>"
      ],
      "text/plain": [
       "   feature_1  feature_2  feature_3  feature_4  feature_5  feature_6  \\\n",
       "0   1.148534   4.606077   2.699069  -2.661824   1.526433   1.236671   \n",
       "1  -1.149410  -1.650549   2.530167  -3.227088   0.572138   4.162600   \n",
       "2   0.332427  -0.887985  -0.309216   0.399891   0.828492   3.641945   \n",
       "3   2.245599   3.826309   0.264039   0.095471   1.984380   0.373991   \n",
       "4   0.705503  -1.312329   0.895406  -0.405408   1.116187   3.699562   \n",
       "\n",
       "   feature_7  feature_8  feature_9  feature_10  \n",
       "0   0.211421   1.482896  -4.445627   -1.936831  \n",
       "1  -0.291679  -1.237575   3.604765   -1.635689  \n",
       "2  -0.916946  -1.978024   1.056772   -1.882747  \n",
       "3  -0.280279   1.602786  -5.993331   -2.258925  \n",
       "4  -1.427985  -1.494409   1.156908   -1.434964  "
      ]
     },
     "execution_count": 2,
     "metadata": {},
     "output_type": "execute_result"
    }
   ],
   "source": [
    "# Set the file path\n",
    "path = Path(\"../Resources/customers.csv\")\n",
    "\n",
    "\n",
    "# Read the csv file into a pandas DataFrame\n",
    "customers_data = pd.read_csv(path)\n",
    "\n",
    "# Review the DataFrame\n",
    "customers_data.head()\n"
   ]
  },
  {
   "cell_type": "code",
   "execution_count": 3,
   "metadata": {},
   "outputs": [
    {
     "name": "stdout",
     "output_type": "stream",
     "text": [
      "<class 'pandas.core.frame.DataFrame'>\n",
      "RangeIndex: 1000 entries, 0 to 999\n",
      "Data columns (total 10 columns):\n",
      " #   Column      Non-Null Count  Dtype  \n",
      "---  ------      --------------  -----  \n",
      " 0   feature_1   1000 non-null   float64\n",
      " 1   feature_2   1000 non-null   float64\n",
      " 2   feature_3   1000 non-null   float64\n",
      " 3   feature_4   1000 non-null   float64\n",
      " 4   feature_5   1000 non-null   float64\n",
      " 5   feature_6   1000 non-null   float64\n",
      " 6   feature_7   1000 non-null   float64\n",
      " 7   feature_8   1000 non-null   float64\n",
      " 8   feature_9   1000 non-null   float64\n",
      " 9   feature_10  1000 non-null   float64\n",
      "dtypes: float64(10)\n",
      "memory usage: 78.2 KB\n"
     ]
    }
   ],
   "source": [
    "# Use the \"info()\" Pandas function to validate data types and null values\n",
    "customers_data.info()\n"
   ]
  },
  {
   "cell_type": "code",
   "execution_count": 4,
   "metadata": {},
   "outputs": [
    {
     "data": {
      "text/html": [
       "<div>\n",
       "<style scoped>\n",
       "    .dataframe tbody tr th:only-of-type {\n",
       "        vertical-align: middle;\n",
       "    }\n",
       "\n",
       "    .dataframe tbody tr th {\n",
       "        vertical-align: top;\n",
       "    }\n",
       "\n",
       "    .dataframe thead th {\n",
       "        text-align: right;\n",
       "    }\n",
       "</style>\n",
       "<table border=\"1\" class=\"dataframe\">\n",
       "  <thead>\n",
       "    <tr style=\"text-align: right;\">\n",
       "      <th></th>\n",
       "      <th>feature_1</th>\n",
       "      <th>feature_2</th>\n",
       "      <th>feature_3</th>\n",
       "      <th>feature_4</th>\n",
       "      <th>feature_5</th>\n",
       "      <th>feature_6</th>\n",
       "      <th>feature_7</th>\n",
       "      <th>feature_8</th>\n",
       "      <th>feature_9</th>\n",
       "      <th>feature_10</th>\n",
       "    </tr>\n",
       "  </thead>\n",
       "  <tbody>\n",
       "    <tr>\n",
       "      <th>count</th>\n",
       "      <td>1000.000000</td>\n",
       "      <td>1000.000000</td>\n",
       "      <td>1000.000000</td>\n",
       "      <td>1000.000000</td>\n",
       "      <td>1000.000000</td>\n",
       "      <td>1000.000000</td>\n",
       "      <td>1000.000000</td>\n",
       "      <td>1000.000000</td>\n",
       "      <td>1000.000000</td>\n",
       "      <td>1000.000000</td>\n",
       "    </tr>\n",
       "    <tr>\n",
       "      <th>mean</th>\n",
       "      <td>-0.022428</td>\n",
       "      <td>0.805748</td>\n",
       "      <td>1.942896</td>\n",
       "      <td>-2.364030</td>\n",
       "      <td>0.854980</td>\n",
       "      <td>1.232422</td>\n",
       "      <td>0.146269</td>\n",
       "      <td>0.833486</td>\n",
       "      <td>-0.534320</td>\n",
       "      <td>-1.219393</td>\n",
       "    </tr>\n",
       "    <tr>\n",
       "      <th>std</th>\n",
       "      <td>2.382021</td>\n",
       "      <td>2.335796</td>\n",
       "      <td>1.411307</td>\n",
       "      <td>1.716566</td>\n",
       "      <td>1.742986</td>\n",
       "      <td>3.250231</td>\n",
       "      <td>1.635576</td>\n",
       "      <td>2.039563</td>\n",
       "      <td>4.211831</td>\n",
       "      <td>1.979172</td>\n",
       "    </tr>\n",
       "    <tr>\n",
       "      <th>min</th>\n",
       "      <td>-6.259471</td>\n",
       "      <td>-4.649286</td>\n",
       "      <td>-2.894995</td>\n",
       "      <td>-8.735778</td>\n",
       "      <td>-4.641509</td>\n",
       "      <td>-9.111470</td>\n",
       "      <td>-4.260013</td>\n",
       "      <td>-4.911903</td>\n",
       "      <td>-9.522425</td>\n",
       "      <td>-6.083462</td>\n",
       "    </tr>\n",
       "    <tr>\n",
       "      <th>25%</th>\n",
       "      <td>-2.091657</td>\n",
       "      <td>-1.214774</td>\n",
       "      <td>1.026128</td>\n",
       "      <td>-3.438149</td>\n",
       "      <td>-0.235310</td>\n",
       "      <td>-0.333722</td>\n",
       "      <td>-0.967569</td>\n",
       "      <td>-0.894817</td>\n",
       "      <td>-4.129561</td>\n",
       "      <td>-2.505366</td>\n",
       "    </tr>\n",
       "    <tr>\n",
       "      <th>50%</th>\n",
       "      <td>0.161670</td>\n",
       "      <td>1.096439</td>\n",
       "      <td>1.905107</td>\n",
       "      <td>-2.437602</td>\n",
       "      <td>1.084556</td>\n",
       "      <td>1.367371</td>\n",
       "      <td>-0.222299</td>\n",
       "      <td>1.519069</td>\n",
       "      <td>-0.536849</td>\n",
       "      <td>-1.706372</td>\n",
       "    </tr>\n",
       "    <tr>\n",
       "      <th>75%</th>\n",
       "      <td>2.030005</td>\n",
       "      <td>2.513648</td>\n",
       "      <td>2.851613</td>\n",
       "      <td>-1.229730</td>\n",
       "      <td>2.287268</td>\n",
       "      <td>3.637304</td>\n",
       "      <td>1.061269</td>\n",
       "      <td>2.298862</td>\n",
       "      <td>2.626514</td>\n",
       "      <td>-0.553571</td>\n",
       "    </tr>\n",
       "    <tr>\n",
       "      <th>max</th>\n",
       "      <td>6.275723</td>\n",
       "      <td>7.955158</td>\n",
       "      <td>5.897102</td>\n",
       "      <td>4.296552</td>\n",
       "      <td>4.741350</td>\n",
       "      <td>8.705423</td>\n",
       "      <td>7.123969</td>\n",
       "      <td>5.789222</td>\n",
       "      <td>10.047819</td>\n",
       "      <td>5.413623</td>\n",
       "    </tr>\n",
       "  </tbody>\n",
       "</table>\n",
       "</div>"
      ],
      "text/plain": [
       "         feature_1    feature_2    feature_3    feature_4    feature_5  \\\n",
       "count  1000.000000  1000.000000  1000.000000  1000.000000  1000.000000   \n",
       "mean     -0.022428     0.805748     1.942896    -2.364030     0.854980   \n",
       "std       2.382021     2.335796     1.411307     1.716566     1.742986   \n",
       "min      -6.259471    -4.649286    -2.894995    -8.735778    -4.641509   \n",
       "25%      -2.091657    -1.214774     1.026128    -3.438149    -0.235310   \n",
       "50%       0.161670     1.096439     1.905107    -2.437602     1.084556   \n",
       "75%       2.030005     2.513648     2.851613    -1.229730     2.287268   \n",
       "max       6.275723     7.955158     5.897102     4.296552     4.741350   \n",
       "\n",
       "         feature_6    feature_7    feature_8    feature_9   feature_10  \n",
       "count  1000.000000  1000.000000  1000.000000  1000.000000  1000.000000  \n",
       "mean      1.232422     0.146269     0.833486    -0.534320    -1.219393  \n",
       "std       3.250231     1.635576     2.039563     4.211831     1.979172  \n",
       "min      -9.111470    -4.260013    -4.911903    -9.522425    -6.083462  \n",
       "25%      -0.333722    -0.967569    -0.894817    -4.129561    -2.505366  \n",
       "50%       1.367371    -0.222299     1.519069    -0.536849    -1.706372  \n",
       "75%       3.637304     1.061269     2.298862     2.626514    -0.553571  \n",
       "max       8.705423     7.123969     5.789222    10.047819     5.413623  "
      ]
     },
     "execution_count": 4,
     "metadata": {},
     "output_type": "execute_result"
    }
   ],
   "source": [
    "# Use the Pandas \"describe()\" function to compute summary statistics\n",
    "customers_data.describe()\n",
    "\n"
   ]
  },
  {
   "cell_type": "markdown",
   "metadata": {},
   "source": [
    "## Part 2. Use the Elbow Method to determine the optimal number of clusters for KMeans."
   ]
  },
  {
   "cell_type": "code",
   "execution_count": 5,
   "metadata": {},
   "outputs": [],
   "source": [
    "# Import the KMeans, Birch, and AgglomerativeClustering modules from SKLearn\n",
    "from sklearn.cluster import KMeans, AgglomerativeClustering, Birch"
   ]
  },
  {
   "cell_type": "code",
   "execution_count": 6,
   "metadata": {},
   "outputs": [],
   "source": [
    "# Create a list to store inertia values and the values of k\n",
    "inertia = []\n",
    "\n",
    "# Create a list to set the range of k values to test\n",
    "k = list(range(1, 11))\n",
    "\n"
   ]
  },
  {
   "cell_type": "code",
   "execution_count": 7,
   "metadata": {},
   "outputs": [
    {
     "name": "stderr",
     "output_type": "stream",
     "text": [
      "c:\\Users\\vinay\\anaconda3\\envs\\dev\\lib\\site-packages\\sklearn\\cluster\\_kmeans.py:1412: FutureWarning: The default value of `n_init` will change from 10 to 'auto' in 1.4. Set the value of `n_init` explicitly to suppress the warning\n",
      "  super()._check_params_vs_input(X, default_n_init=10)\n",
      "c:\\Users\\vinay\\anaconda3\\envs\\dev\\lib\\site-packages\\sklearn\\cluster\\_kmeans.py:1412: FutureWarning: The default value of `n_init` will change from 10 to 'auto' in 1.4. Set the value of `n_init` explicitly to suppress the warning\n",
      "  super()._check_params_vs_input(X, default_n_init=10)\n",
      "c:\\Users\\vinay\\anaconda3\\envs\\dev\\lib\\site-packages\\sklearn\\cluster\\_kmeans.py:1412: FutureWarning: The default value of `n_init` will change from 10 to 'auto' in 1.4. Set the value of `n_init` explicitly to suppress the warning\n",
      "  super()._check_params_vs_input(X, default_n_init=10)\n",
      "c:\\Users\\vinay\\anaconda3\\envs\\dev\\lib\\site-packages\\sklearn\\cluster\\_kmeans.py:1412: FutureWarning: The default value of `n_init` will change from 10 to 'auto' in 1.4. Set the value of `n_init` explicitly to suppress the warning\n",
      "  super()._check_params_vs_input(X, default_n_init=10)\n",
      "c:\\Users\\vinay\\anaconda3\\envs\\dev\\lib\\site-packages\\sklearn\\cluster\\_kmeans.py:1412: FutureWarning: The default value of `n_init` will change from 10 to 'auto' in 1.4. Set the value of `n_init` explicitly to suppress the warning\n",
      "  super()._check_params_vs_input(X, default_n_init=10)\n",
      "c:\\Users\\vinay\\anaconda3\\envs\\dev\\lib\\site-packages\\sklearn\\cluster\\_kmeans.py:1412: FutureWarning: The default value of `n_init` will change from 10 to 'auto' in 1.4. Set the value of `n_init` explicitly to suppress the warning\n",
      "  super()._check_params_vs_input(X, default_n_init=10)\n",
      "c:\\Users\\vinay\\anaconda3\\envs\\dev\\lib\\site-packages\\sklearn\\cluster\\_kmeans.py:1412: FutureWarning: The default value of `n_init` will change from 10 to 'auto' in 1.4. Set the value of `n_init` explicitly to suppress the warning\n",
      "  super()._check_params_vs_input(X, default_n_init=10)\n",
      "c:\\Users\\vinay\\anaconda3\\envs\\dev\\lib\\site-packages\\sklearn\\cluster\\_kmeans.py:1412: FutureWarning: The default value of `n_init` will change from 10 to 'auto' in 1.4. Set the value of `n_init` explicitly to suppress the warning\n",
      "  super()._check_params_vs_input(X, default_n_init=10)\n",
      "c:\\Users\\vinay\\anaconda3\\envs\\dev\\lib\\site-packages\\sklearn\\cluster\\_kmeans.py:1412: FutureWarning: The default value of `n_init` will change from 10 to 'auto' in 1.4. Set the value of `n_init` explicitly to suppress the warning\n",
      "  super()._check_params_vs_input(X, default_n_init=10)\n",
      "c:\\Users\\vinay\\anaconda3\\envs\\dev\\lib\\site-packages\\sklearn\\cluster\\_kmeans.py:1412: FutureWarning: The default value of `n_init` will change from 10 to 'auto' in 1.4. Set the value of `n_init` explicitly to suppress the warning\n",
      "  super()._check_params_vs_input(X, default_n_init=10)\n"
     ]
    }
   ],
   "source": [
    "# Create a for loop where each value of k is evaluated using the K-means algorithm\n",
    "# Fit the model using the \"customers_df\" DataFrame\n",
    "# Append the value of the computed inertia from the `inertia_` attribute of the KMeans model instance\n",
    "for i in k:\n",
    "    k_model = KMeans(n_clusters=i, random_state=0)\n",
    "    k_model.fit(customers_data)\n",
    "    inertia.append(k_model.inertia_)\n",
    "\n",
    "\n"
   ]
  },
  {
   "cell_type": "code",
   "execution_count": 8,
   "metadata": {},
   "outputs": [
    {
     "data": {
      "text/html": [
       "<div>\n",
       "<style scoped>\n",
       "    .dataframe tbody tr th:only-of-type {\n",
       "        vertical-align: middle;\n",
       "    }\n",
       "\n",
       "    .dataframe tbody tr th {\n",
       "        vertical-align: top;\n",
       "    }\n",
       "\n",
       "    .dataframe thead th {\n",
       "        text-align: right;\n",
       "    }\n",
       "</style>\n",
       "<table border=\"1\" class=\"dataframe\">\n",
       "  <thead>\n",
       "    <tr style=\"text-align: right;\">\n",
       "      <th></th>\n",
       "      <th>k</th>\n",
       "      <th>inertia</th>\n",
       "    </tr>\n",
       "  </thead>\n",
       "  <tbody>\n",
       "    <tr>\n",
       "      <th>0</th>\n",
       "      <td>1</td>\n",
       "      <td>58103.759171</td>\n",
       "    </tr>\n",
       "    <tr>\n",
       "      <th>1</th>\n",
       "      <td>2</td>\n",
       "      <td>32183.537923</td>\n",
       "    </tr>\n",
       "    <tr>\n",
       "      <th>2</th>\n",
       "      <td>3</td>\n",
       "      <td>17080.936423</td>\n",
       "    </tr>\n",
       "    <tr>\n",
       "      <th>3</th>\n",
       "      <td>4</td>\n",
       "      <td>14891.150622</td>\n",
       "    </tr>\n",
       "    <tr>\n",
       "      <th>4</th>\n",
       "      <td>5</td>\n",
       "      <td>12815.783939</td>\n",
       "    </tr>\n",
       "  </tbody>\n",
       "</table>\n",
       "</div>"
      ],
      "text/plain": [
       "   k       inertia\n",
       "0  1  58103.759171\n",
       "1  2  32183.537923\n",
       "2  3  17080.936423\n",
       "3  4  14891.150622\n",
       "4  5  12815.783939"
      ]
     },
     "execution_count": 8,
     "metadata": {},
     "output_type": "execute_result"
    }
   ],
   "source": [
    "# Define a DataFrame to hold the values for k and the corresponding inertia\n",
    "elbow_data = {\"k\": k, \"inertia\": inertia}\n",
    "\n",
    "elbow_data_df = pd.DataFrame(elbow_data)\n",
    "\n",
    "# Review the DataFrame\n",
    "elbow_data_df.head()\n",
    "\n",
    "\n"
   ]
  },
  {
   "cell_type": "code",
   "execution_count": 9,
   "metadata": {},
   "outputs": [
    {
     "data": {},
     "metadata": {},
     "output_type": "display_data"
    },
    {
     "data": {
      "application/vnd.holoviews_exec.v0+json": "",
      "text/html": [
       "<div id='p1002'>\n",
       "  <div id=\"cba181c7-cdcb-4772-a62b-10d3fb694e8b\" data-root-id=\"p1002\" style=\"display: contents;\"></div>\n",
       "</div>\n",
       "<script type=\"application/javascript\">(function(root) {\n",
       "  var docs_json = {\"f2376bd2-397c-4bba-88fa-9c3f7bf1ba4b\":{\"version\":\"3.2.1\",\"title\":\"Bokeh Application\",\"roots\":[{\"type\":\"object\",\"name\":\"Row\",\"id\":\"p1002\",\"attributes\":{\"name\":\"Row00871\",\"tags\":[\"embedded\"],\"stylesheets\":[\"\\n:host(.pn-loading.pn-arc):before, .pn-loading.pn-arc:before {\\n  background-image: url(\\\"data:image/svg+xml;base64,PHN2ZyB4bWxucz0iaHR0cDovL3d3dy53My5vcmcvMjAwMC9zdmciIHN0eWxlPSJtYXJnaW46IGF1dG87IGJhY2tncm91bmQ6IG5vbmU7IGRpc3BsYXk6IGJsb2NrOyBzaGFwZS1yZW5kZXJpbmc6IGF1dG87IiB2aWV3Qm94PSIwIDAgMTAwIDEwMCIgcHJlc2VydmVBc3BlY3RSYXRpbz0ieE1pZFlNaWQiPiAgPGNpcmNsZSBjeD0iNTAiIGN5PSI1MCIgZmlsbD0ibm9uZSIgc3Ryb2tlPSIjYzNjM2MzIiBzdHJva2Utd2lkdGg9IjEwIiByPSIzNSIgc3Ryb2tlLWRhc2hhcnJheT0iMTY0LjkzMzYxNDMxMzQ2NDE1IDU2Ljk3Nzg3MTQzNzgyMTM4Ij4gICAgPGFuaW1hdGVUcmFuc2Zvcm0gYXR0cmlidXRlTmFtZT0idHJhbnNmb3JtIiB0eXBlPSJyb3RhdGUiIHJlcGVhdENvdW50PSJpbmRlZmluaXRlIiBkdXI9IjFzIiB2YWx1ZXM9IjAgNTAgNTA7MzYwIDUwIDUwIiBrZXlUaW1lcz0iMDsxIj48L2FuaW1hdGVUcmFuc2Zvcm0+ICA8L2NpcmNsZT48L3N2Zz4=\\\");\\n  background-size: auto calc(min(50%, 400px));\\n}\",{\"type\":\"object\",\"name\":\"ImportedStyleSheet\",\"id\":\"p1005\",\"attributes\":{\"url\":\"https://cdn.holoviz.org/panel/1.2.3/dist/css/loading.css\"}},{\"type\":\"object\",\"name\":\"ImportedStyleSheet\",\"id\":\"p1058\",\"attributes\":{\"url\":\"https://cdn.holoviz.org/panel/1.2.3/dist/css/listpanel.css\"}},{\"type\":\"object\",\"name\":\"ImportedStyleSheet\",\"id\":\"p1003\",\"attributes\":{\"url\":\"https://cdn.holoviz.org/panel/1.2.3/dist/bundled/theme/default.css\"}},{\"type\":\"object\",\"name\":\"ImportedStyleSheet\",\"id\":\"p1004\",\"attributes\":{\"url\":\"https://cdn.holoviz.org/panel/1.2.3/dist/bundled/theme/native.css\"}}],\"min_width\":700,\"margin\":0,\"sizing_mode\":\"stretch_width\",\"align\":\"start\",\"children\":[{\"type\":\"object\",\"name\":\"Spacer\",\"id\":\"p1006\",\"attributes\":{\"name\":\"HSpacer00882\",\"stylesheets\":[\"\\n:host(.pn-loading.pn-arc):before, .pn-loading.pn-arc:before {\\n  background-image: url(\\\"data:image/svg+xml;base64,PHN2ZyB4bWxucz0iaHR0cDovL3d3dy53My5vcmcvMjAwMC9zdmciIHN0eWxlPSJtYXJnaW46IGF1dG87IGJhY2tncm91bmQ6IG5vbmU7IGRpc3BsYXk6IGJsb2NrOyBzaGFwZS1yZW5kZXJpbmc6IGF1dG87IiB2aWV3Qm94PSIwIDAgMTAwIDEwMCIgcHJlc2VydmVBc3BlY3RSYXRpbz0ieE1pZFlNaWQiPiAgPGNpcmNsZSBjeD0iNTAiIGN5PSI1MCIgZmlsbD0ibm9uZSIgc3Ryb2tlPSIjYzNjM2MzIiBzdHJva2Utd2lkdGg9IjEwIiByPSIzNSIgc3Ryb2tlLWRhc2hhcnJheT0iMTY0LjkzMzYxNDMxMzQ2NDE1IDU2Ljk3Nzg3MTQzNzgyMTM4Ij4gICAgPGFuaW1hdGVUcmFuc2Zvcm0gYXR0cmlidXRlTmFtZT0idHJhbnNmb3JtIiB0eXBlPSJyb3RhdGUiIHJlcGVhdENvdW50PSJpbmRlZmluaXRlIiBkdXI9IjFzIiB2YWx1ZXM9IjAgNTAgNTA7MzYwIDUwIDUwIiBrZXlUaW1lcz0iMDsxIj48L2FuaW1hdGVUcmFuc2Zvcm0+ICA8L2NpcmNsZT48L3N2Zz4=\\\");\\n  background-size: auto calc(min(50%, 400px));\\n}\",{\"id\":\"p1005\"},{\"id\":\"p1003\"},{\"id\":\"p1004\"}],\"margin\":0,\"sizing_mode\":\"stretch_width\",\"align\":\"start\"}},{\"type\":\"object\",\"name\":\"Figure\",\"id\":\"p1014\",\"attributes\":{\"width\":700,\"height\":300,\"margin\":[5,10],\"sizing_mode\":\"fixed\",\"align\":\"start\",\"x_range\":{\"type\":\"object\",\"name\":\"Range1d\",\"id\":\"p1007\",\"attributes\":{\"tags\":[[[\"k\",\"k\",null]],[]],\"start\":1.0,\"end\":10.0,\"reset_start\":1.0,\"reset_end\":10.0}},\"y_range\":{\"type\":\"object\",\"name\":\"Range1d\",\"id\":\"p1008\",\"attributes\":{\"tags\":[[[\"inertia\",\"inertia\",null]],{\"type\":\"map\",\"entries\":[[\"invert_yaxis\",false],[\"autorange\",false]]}],\"start\":4018.5916924657395,\"end\":63020.59257814254,\"reset_start\":4018.5916924657395,\"reset_end\":63020.59257814254}},\"x_scale\":{\"type\":\"object\",\"name\":\"LinearScale\",\"id\":\"p1024\"},\"y_scale\":{\"type\":\"object\",\"name\":\"LinearScale\",\"id\":\"p1025\"},\"title\":{\"type\":\"object\",\"name\":\"Title\",\"id\":\"p1017\",\"attributes\":{\"text\":\"Elbow Curve\",\"text_color\":\"black\",\"text_font_size\":\"12pt\"}},\"renderers\":[{\"type\":\"object\",\"name\":\"GlyphRenderer\",\"id\":\"p1050\",\"attributes\":{\"data_source\":{\"type\":\"object\",\"name\":\"ColumnDataSource\",\"id\":\"p1041\",\"attributes\":{\"selected\":{\"type\":\"object\",\"name\":\"Selection\",\"id\":\"p1042\",\"attributes\":{\"indices\":[],\"line_indices\":[]}},\"selection_policy\":{\"type\":\"object\",\"name\":\"UnionRenderers\",\"id\":\"p1043\"},\"data\":{\"type\":\"map\",\"entries\":[[\"k\",{\"type\":\"ndarray\",\"array\":{\"type\":\"bytes\",\"data\":\"AQAAAAIAAAADAAAABAAAAAUAAAAGAAAABwAAAAgAAAAJAAAACgAAAA==\"},\"shape\":[10],\"dtype\":\"int32\",\"order\":\"little\"}],[\"inertia\",{\"type\":\"ndarray\",\"array\":{\"type\":\"bytes\",\"data\":\"pPwgS/he7ECT4FNt4m3fQIXBW+47rtBA9MuYR5MVzUAJlRtY5AfJQOldz87pA8dAcm+wZm0pxUCyus1P5aLDQECs63oGs8JAhvOpabZzwUA=\"},\"shape\":[10],\"dtype\":\"float64\",\"order\":\"little\"}]]}}},\"view\":{\"type\":\"object\",\"name\":\"CDSView\",\"id\":\"p1051\",\"attributes\":{\"filter\":{\"type\":\"object\",\"name\":\"AllIndices\",\"id\":\"p1052\"}}},\"glyph\":{\"type\":\"object\",\"name\":\"Line\",\"id\":\"p1047\",\"attributes\":{\"tags\":[\"apply_ranges\"],\"x\":{\"type\":\"field\",\"field\":\"k\"},\"y\":{\"type\":\"field\",\"field\":\"inertia\"},\"line_color\":\"#30a2da\",\"line_width\":2}},\"selection_glyph\":{\"type\":\"object\",\"name\":\"Line\",\"id\":\"p1053\",\"attributes\":{\"tags\":[\"apply_ranges\"],\"x\":{\"type\":\"field\",\"field\":\"k\"},\"y\":{\"type\":\"field\",\"field\":\"inertia\"},\"line_color\":\"#30a2da\",\"line_width\":2}},\"nonselection_glyph\":{\"type\":\"object\",\"name\":\"Line\",\"id\":\"p1048\",\"attributes\":{\"tags\":[\"apply_ranges\"],\"x\":{\"type\":\"field\",\"field\":\"k\"},\"y\":{\"type\":\"field\",\"field\":\"inertia\"},\"line_color\":\"#30a2da\",\"line_alpha\":0.1,\"line_width\":2}},\"muted_glyph\":{\"type\":\"object\",\"name\":\"Line\",\"id\":\"p1049\",\"attributes\":{\"tags\":[\"apply_ranges\"],\"x\":{\"type\":\"field\",\"field\":\"k\"},\"y\":{\"type\":\"field\",\"field\":\"inertia\"},\"line_color\":\"#30a2da\",\"line_alpha\":0.2,\"line_width\":2}}}}],\"toolbar\":{\"type\":\"object\",\"name\":\"Toolbar\",\"id\":\"p1023\",\"attributes\":{\"tools\":[{\"type\":\"object\",\"name\":\"WheelZoomTool\",\"id\":\"p1012\",\"attributes\":{\"tags\":[\"hv_created\"],\"zoom_together\":\"none\"}},{\"type\":\"object\",\"name\":\"HoverTool\",\"id\":\"p1013\",\"attributes\":{\"tags\":[\"hv_created\"],\"renderers\":[{\"id\":\"p1050\"}],\"tooltips\":[[\"k\",\"@{k}\"],[\"inertia\",\"@{inertia}\"]]}},{\"type\":\"object\",\"name\":\"SaveTool\",\"id\":\"p1036\"},{\"type\":\"object\",\"name\":\"PanTool\",\"id\":\"p1037\"},{\"type\":\"object\",\"name\":\"BoxZoomTool\",\"id\":\"p1038\",\"attributes\":{\"overlay\":{\"type\":\"object\",\"name\":\"BoxAnnotation\",\"id\":\"p1039\",\"attributes\":{\"syncable\":false,\"level\":\"overlay\",\"visible\":false,\"left_units\":\"canvas\",\"right_units\":\"canvas\",\"bottom_units\":\"canvas\",\"top_units\":\"canvas\",\"line_color\":\"black\",\"line_alpha\":1.0,\"line_width\":2,\"line_dash\":[4,4],\"fill_color\":\"lightgrey\",\"fill_alpha\":0.5}}}},{\"type\":\"object\",\"name\":\"ResetTool\",\"id\":\"p1040\"}],\"active_drag\":{\"id\":\"p1037\"},\"active_scroll\":{\"id\":\"p1012\"}}},\"left\":[{\"type\":\"object\",\"name\":\"LinearAxis\",\"id\":\"p1031\",\"attributes\":{\"ticker\":{\"type\":\"object\",\"name\":\"BasicTicker\",\"id\":\"p1032\",\"attributes\":{\"mantissas\":[1,2,5]}},\"formatter\":{\"type\":\"object\",\"name\":\"BasicTickFormatter\",\"id\":\"p1033\"},\"axis_label\":\"inertia\",\"major_label_policy\":{\"type\":\"object\",\"name\":\"AllLabels\",\"id\":\"p1034\"}}}],\"below\":[{\"type\":\"object\",\"name\":\"LinearAxis\",\"id\":\"p1026\",\"attributes\":{\"ticker\":{\"type\":\"object\",\"name\":\"FixedTicker\",\"id\":\"p1054\",\"attributes\":{\"ticks\":[1,2,3,4,5,6,7,8,9,10],\"minor_ticks\":[]}},\"formatter\":{\"type\":\"object\",\"name\":\"BasicTickFormatter\",\"id\":\"p1028\"},\"axis_label\":\"k\",\"major_label_policy\":{\"type\":\"object\",\"name\":\"AllLabels\",\"id\":\"p1029\"}}}],\"center\":[{\"type\":\"object\",\"name\":\"Grid\",\"id\":\"p1030\",\"attributes\":{\"axis\":{\"id\":\"p1026\"},\"grid_line_color\":null}},{\"type\":\"object\",\"name\":\"Grid\",\"id\":\"p1035\",\"attributes\":{\"dimension\":1,\"axis\":{\"id\":\"p1031\"},\"grid_line_color\":null}}],\"min_border_top\":10,\"min_border_bottom\":10,\"min_border_left\":10,\"min_border_right\":10,\"output_backend\":\"webgl\"}},{\"type\":\"object\",\"name\":\"Spacer\",\"id\":\"p1056\",\"attributes\":{\"name\":\"HSpacer00885\",\"stylesheets\":[\"\\n:host(.pn-loading.pn-arc):before, .pn-loading.pn-arc:before {\\n  background-image: url(\\\"data:image/svg+xml;base64,PHN2ZyB4bWxucz0iaHR0cDovL3d3dy53My5vcmcvMjAwMC9zdmciIHN0eWxlPSJtYXJnaW46IGF1dG87IGJhY2tncm91bmQ6IG5vbmU7IGRpc3BsYXk6IGJsb2NrOyBzaGFwZS1yZW5kZXJpbmc6IGF1dG87IiB2aWV3Qm94PSIwIDAgMTAwIDEwMCIgcHJlc2VydmVBc3BlY3RSYXRpbz0ieE1pZFlNaWQiPiAgPGNpcmNsZSBjeD0iNTAiIGN5PSI1MCIgZmlsbD0ibm9uZSIgc3Ryb2tlPSIjYzNjM2MzIiBzdHJva2Utd2lkdGg9IjEwIiByPSIzNSIgc3Ryb2tlLWRhc2hhcnJheT0iMTY0LjkzMzYxNDMxMzQ2NDE1IDU2Ljk3Nzg3MTQzNzgyMTM4Ij4gICAgPGFuaW1hdGVUcmFuc2Zvcm0gYXR0cmlidXRlTmFtZT0idHJhbnNmb3JtIiB0eXBlPSJyb3RhdGUiIHJlcGVhdENvdW50PSJpbmRlZmluaXRlIiBkdXI9IjFzIiB2YWx1ZXM9IjAgNTAgNTA7MzYwIDUwIDUwIiBrZXlUaW1lcz0iMDsxIj48L2FuaW1hdGVUcmFuc2Zvcm0+ICA8L2NpcmNsZT48L3N2Zz4=\\\");\\n  background-size: auto calc(min(50%, 400px));\\n}\",{\"id\":\"p1005\"},{\"id\":\"p1003\"},{\"id\":\"p1004\"}],\"margin\":0,\"sizing_mode\":\"stretch_width\",\"align\":\"start\"}}]}}],\"defs\":[{\"type\":\"model\",\"name\":\"ReactiveHTML1\"},{\"type\":\"model\",\"name\":\"FlexBox1\",\"properties\":[{\"name\":\"align_content\",\"kind\":\"Any\",\"default\":\"flex-start\"},{\"name\":\"align_items\",\"kind\":\"Any\",\"default\":\"flex-start\"},{\"name\":\"flex_direction\",\"kind\":\"Any\",\"default\":\"row\"},{\"name\":\"flex_wrap\",\"kind\":\"Any\",\"default\":\"wrap\"},{\"name\":\"justify_content\",\"kind\":\"Any\",\"default\":\"flex-start\"}]},{\"type\":\"model\",\"name\":\"FloatPanel1\",\"properties\":[{\"name\":\"config\",\"kind\":\"Any\",\"default\":{\"type\":\"map\"}},{\"name\":\"contained\",\"kind\":\"Any\",\"default\":true},{\"name\":\"position\",\"kind\":\"Any\",\"default\":\"right-top\"},{\"name\":\"offsetx\",\"kind\":\"Any\",\"default\":null},{\"name\":\"offsety\",\"kind\":\"Any\",\"default\":null},{\"name\":\"theme\",\"kind\":\"Any\",\"default\":\"primary\"},{\"name\":\"status\",\"kind\":\"Any\",\"default\":\"normalized\"}]},{\"type\":\"model\",\"name\":\"GridStack1\",\"properties\":[{\"name\":\"mode\",\"kind\":\"Any\",\"default\":\"warn\"},{\"name\":\"ncols\",\"kind\":\"Any\",\"default\":null},{\"name\":\"nrows\",\"kind\":\"Any\",\"default\":null},{\"name\":\"allow_resize\",\"kind\":\"Any\",\"default\":true},{\"name\":\"allow_drag\",\"kind\":\"Any\",\"default\":true},{\"name\":\"state\",\"kind\":\"Any\",\"default\":[]}]},{\"type\":\"model\",\"name\":\"drag1\",\"properties\":[{\"name\":\"slider_width\",\"kind\":\"Any\",\"default\":5},{\"name\":\"slider_color\",\"kind\":\"Any\",\"default\":\"black\"},{\"name\":\"value\",\"kind\":\"Any\",\"default\":50}]},{\"type\":\"model\",\"name\":\"click1\",\"properties\":[{\"name\":\"terminal_output\",\"kind\":\"Any\",\"default\":\"\"},{\"name\":\"debug_name\",\"kind\":\"Any\",\"default\":\"\"},{\"name\":\"clears\",\"kind\":\"Any\",\"default\":0}]},{\"type\":\"model\",\"name\":\"FastWrapper1\",\"properties\":[{\"name\":\"object\",\"kind\":\"Any\",\"default\":null},{\"name\":\"style\",\"kind\":\"Any\",\"default\":null}]},{\"type\":\"model\",\"name\":\"NotificationAreaBase1\",\"properties\":[{\"name\":\"js_events\",\"kind\":\"Any\",\"default\":{\"type\":\"map\"}},{\"name\":\"position\",\"kind\":\"Any\",\"default\":\"bottom-right\"},{\"name\":\"_clear\",\"kind\":\"Any\",\"default\":0}]},{\"type\":\"model\",\"name\":\"NotificationArea1\",\"properties\":[{\"name\":\"js_events\",\"kind\":\"Any\",\"default\":{\"type\":\"map\"}},{\"name\":\"notifications\",\"kind\":\"Any\",\"default\":[]},{\"name\":\"position\",\"kind\":\"Any\",\"default\":\"bottom-right\"},{\"name\":\"_clear\",\"kind\":\"Any\",\"default\":0},{\"name\":\"types\",\"kind\":\"Any\",\"default\":[{\"type\":\"map\",\"entries\":[[\"type\",\"warning\"],[\"background\",\"#ffc107\"],[\"icon\",{\"type\":\"map\",\"entries\":[[\"className\",\"fas fa-exclamation-triangle\"],[\"tagName\",\"i\"],[\"color\",\"white\"]]}]]},{\"type\":\"map\",\"entries\":[[\"type\",\"info\"],[\"background\",\"#007bff\"],[\"icon\",{\"type\":\"map\",\"entries\":[[\"className\",\"fas fa-info-circle\"],[\"tagName\",\"i\"],[\"color\",\"white\"]]}]]}]}]},{\"type\":\"model\",\"name\":\"Notification\",\"properties\":[{\"name\":\"background\",\"kind\":\"Any\",\"default\":null},{\"name\":\"duration\",\"kind\":\"Any\",\"default\":3000},{\"name\":\"icon\",\"kind\":\"Any\",\"default\":null},{\"name\":\"message\",\"kind\":\"Any\",\"default\":\"\"},{\"name\":\"notification_type\",\"kind\":\"Any\",\"default\":null},{\"name\":\"_destroyed\",\"kind\":\"Any\",\"default\":false}]},{\"type\":\"model\",\"name\":\"TemplateActions1\",\"properties\":[{\"name\":\"open_modal\",\"kind\":\"Any\",\"default\":0},{\"name\":\"close_modal\",\"kind\":\"Any\",\"default\":0}]},{\"type\":\"model\",\"name\":\"BootstrapTemplateActions1\",\"properties\":[{\"name\":\"open_modal\",\"kind\":\"Any\",\"default\":0},{\"name\":\"close_modal\",\"kind\":\"Any\",\"default\":0}]},{\"type\":\"model\",\"name\":\"MaterialTemplateActions1\",\"properties\":[{\"name\":\"open_modal\",\"kind\":\"Any\",\"default\":0},{\"name\":\"close_modal\",\"kind\":\"Any\",\"default\":0}]}]}};\n",
       "  var render_items = [{\"docid\":\"f2376bd2-397c-4bba-88fa-9c3f7bf1ba4b\",\"roots\":{\"p1002\":\"cba181c7-cdcb-4772-a62b-10d3fb694e8b\"},\"root_ids\":[\"p1002\"]}];\n",
       "  var docs = Object.values(docs_json)\n",
       "  if (!docs) {\n",
       "    return\n",
       "  }\n",
       "  const py_version = docs[0].version.replace('rc', '-rc.').replace('.dev', '-dev.')\n",
       "  const is_dev = py_version.indexOf(\"+\") !== -1 || py_version.indexOf(\"-\") !== -1\n",
       "  function embed_document(root) {\n",
       "    var Bokeh = get_bokeh(root)\n",
       "    Bokeh.embed.embed_items_notebook(docs_json, render_items);\n",
       "    for (const render_item of render_items) {\n",
       "      for (const root_id of render_item.root_ids) {\n",
       "\tconst id_el = document.getElementById(root_id)\n",
       "\tif (id_el.children.length && (id_el.children[0].className === 'bk-root')) {\n",
       "\t  const root_el = id_el.children[0]\n",
       "\t  root_el.id = root_el.id + '-rendered'\n",
       "\t}\n",
       "      }\n",
       "    }\n",
       "  }\n",
       "  function get_bokeh(root) {\n",
       "    if (root.Bokeh === undefined) {\n",
       "      return null\n",
       "    } else if (root.Bokeh.version !== py_version && !is_dev) {\n",
       "      if (root.Bokeh.versions === undefined || !root.Bokeh.versions.has(py_version)) {\n",
       "\treturn null\n",
       "      }\n",
       "      return root.Bokeh.versions.get(py_version);\n",
       "    } else if (root.Bokeh.version === py_version) {\n",
       "      return root.Bokeh\n",
       "    }\n",
       "    return null\n",
       "  }\n",
       "  function is_loaded(root) {\n",
       "    var Bokeh = get_bokeh(root)\n",
       "    return (Bokeh != null && Bokeh.Panel !== undefined)\n",
       "  }\n",
       "  if (is_loaded(root)) {\n",
       "    embed_document(root);\n",
       "  } else {\n",
       "    var attempts = 0;\n",
       "    var timer = setInterval(function(root) {\n",
       "      if (is_loaded(root)) {\n",
       "        clearInterval(timer);\n",
       "        embed_document(root);\n",
       "      } else if (document.readyState == \"complete\") {\n",
       "        attempts++;\n",
       "        if (attempts > 200) {\n",
       "          clearInterval(timer);\n",
       "\t  var Bokeh = get_bokeh(root)\n",
       "\t  if (Bokeh == null || Bokeh.Panel == null) {\n",
       "            console.warn(\"Panel: ERROR: Unable to run Panel code because Bokeh or Panel library is missing\");\n",
       "\t  } else {\n",
       "\t    console.warn(\"Panel: WARNING: Attempting to render but not all required libraries could be resolved.\")\n",
       "\t    embed_document(root)\n",
       "\t  }\n",
       "        }\n",
       "      }\n",
       "    }, 25, root)\n",
       "  }\n",
       "})(window);</script>"
      ],
      "text/plain": [
       ":Curve   [k]   (inertia)"
      ]
     },
     "execution_count": 9,
     "metadata": {
      "application/vnd.holoviews_exec.v0+json": {
       "id": "p1002"
      }
     },
     "output_type": "execute_result"
    }
   ],
   "source": [
    "# Plot the DataFrame to identify the optimal value for k\n",
    "elbow_data_df.hvplot.line(x=\"k\", y=\"inertia\", title=\"Elbow Curve\", xticks=k)\n",
    "\n"
   ]
  },
  {
   "cell_type": "markdown",
   "metadata": {},
   "source": [
    "## Part 3: Segment the data with K-means using the optimal number of clusters"
   ]
  },
  {
   "cell_type": "code",
   "execution_count": 10,
   "metadata": {},
   "outputs": [
    {
     "name": "stderr",
     "output_type": "stream",
     "text": [
      "c:\\Users\\vinay\\anaconda3\\envs\\dev\\lib\\site-packages\\sklearn\\cluster\\_kmeans.py:1412: FutureWarning: The default value of `n_init` will change from 10 to 'auto' in 1.4. Set the value of `n_init` explicitly to suppress the warning\n",
      "  super()._check_params_vs_input(X, default_n_init=10)\n"
     ]
    }
   ],
   "source": [
    "# Define the model with optimal number of clusters\n",
    "model = KMeans(n_clusters=2, random_state=0)\n",
    "\n",
    "\n",
    "# Fit the model\n",
    "model.fit(customers_data)\n",
    "\n",
    "# Make predictions\n",
    "k_3_predictions = model.predict(customers_data)\n"
   ]
  },
  {
   "cell_type": "markdown",
   "metadata": {},
   "source": [
    "## Part 4. Cluster the data using AgglomerativeClustering and Birch\n",
    "\n",
    "Using your optimal number of clusters found above, additionally estimate clusters by using both `AgglomerativeClustering` and `Birch`. Save each of these models and their results for comparison."
   ]
  },
  {
   "cell_type": "code",
   "execution_count": 11,
   "metadata": {},
   "outputs": [],
   "source": [
    "# Cluster data using the AgglomerativeClustering algorithm\n",
    "agg_model = AgglomerativeClustering(n_clusters=2)\n",
    "agg_model.fit(customers_data)\n",
    "agg_predictions = agg_model.labels_\n"
   ]
  },
  {
   "cell_type": "code",
   "execution_count": 12,
   "metadata": {},
   "outputs": [],
   "source": [
    "# cluster data using the Birch algorithm\n",
    "birch_model = Birch(n_clusters=2)\n",
    "birch_model.fit(customers_data)\n",
    "birch_predictions = birch_model.predict(customers_data)\n",
    "\n",
    "\n"
   ]
  },
  {
   "cell_type": "code",
   "execution_count": 16,
   "metadata": {},
   "outputs": [
    {
     "data": {
      "text/plain": [
       "array([0, 1, 1, 0, 1, 1, 0, 0, 0, 1], dtype=int64)"
      ]
     },
     "execution_count": 16,
     "metadata": {},
     "output_type": "execute_result"
    }
   ],
   "source": [
    "# Previewing the predicted customer classifcations for Birch\n",
    "birch_predictions[:10]"
   ]
  },
  {
   "cell_type": "markdown",
   "metadata": {},
   "source": [
    "## Part 5. Compare the cluster results from using Kmeans, AgglomerativeClustering, Birch"
   ]
  },
  {
   "cell_type": "code",
   "execution_count": 24,
   "metadata": {},
   "outputs": [
    {
     "data": {
      "text/html": [
       "<div>\n",
       "<style scoped>\n",
       "    .dataframe tbody tr th:only-of-type {\n",
       "        vertical-align: middle;\n",
       "    }\n",
       "\n",
       "    .dataframe tbody tr th {\n",
       "        vertical-align: top;\n",
       "    }\n",
       "\n",
       "    .dataframe thead th {\n",
       "        text-align: right;\n",
       "    }\n",
       "</style>\n",
       "<table border=\"1\" class=\"dataframe\">\n",
       "  <thead>\n",
       "    <tr style=\"text-align: right;\">\n",
       "      <th></th>\n",
       "      <th>feature_1</th>\n",
       "      <th>feature_2</th>\n",
       "      <th>feature_3</th>\n",
       "      <th>feature_4</th>\n",
       "      <th>feature_5</th>\n",
       "      <th>feature_6</th>\n",
       "      <th>feature_7</th>\n",
       "      <th>feature_8</th>\n",
       "      <th>feature_9</th>\n",
       "      <th>feature_10</th>\n",
       "      <th>kmeans-segments</th>\n",
       "      <th>agglomerative-segments</th>\n",
       "      <th>birch-segments</th>\n",
       "    </tr>\n",
       "  </thead>\n",
       "  <tbody>\n",
       "    <tr>\n",
       "      <th>0</th>\n",
       "      <td>1.148534</td>\n",
       "      <td>4.606077</td>\n",
       "      <td>2.699069</td>\n",
       "      <td>-2.661824</td>\n",
       "      <td>1.526433</td>\n",
       "      <td>1.236671</td>\n",
       "      <td>0.211421</td>\n",
       "      <td>1.482896</td>\n",
       "      <td>-4.445627</td>\n",
       "      <td>-1.936831</td>\n",
       "      <td>0</td>\n",
       "      <td>0</td>\n",
       "      <td>0</td>\n",
       "    </tr>\n",
       "    <tr>\n",
       "      <th>1</th>\n",
       "      <td>-1.149410</td>\n",
       "      <td>-1.650549</td>\n",
       "      <td>2.530167</td>\n",
       "      <td>-3.227088</td>\n",
       "      <td>0.572138</td>\n",
       "      <td>4.162600</td>\n",
       "      <td>-0.291679</td>\n",
       "      <td>-1.237575</td>\n",
       "      <td>3.604765</td>\n",
       "      <td>-1.635689</td>\n",
       "      <td>1</td>\n",
       "      <td>1</td>\n",
       "      <td>1</td>\n",
       "    </tr>\n",
       "    <tr>\n",
       "      <th>2</th>\n",
       "      <td>0.332427</td>\n",
       "      <td>-0.887985</td>\n",
       "      <td>-0.309216</td>\n",
       "      <td>0.399891</td>\n",
       "      <td>0.828492</td>\n",
       "      <td>3.641945</td>\n",
       "      <td>-0.916946</td>\n",
       "      <td>-1.978024</td>\n",
       "      <td>1.056772</td>\n",
       "      <td>-1.882747</td>\n",
       "      <td>1</td>\n",
       "      <td>1</td>\n",
       "      <td>1</td>\n",
       "    </tr>\n",
       "    <tr>\n",
       "      <th>3</th>\n",
       "      <td>2.245599</td>\n",
       "      <td>3.826309</td>\n",
       "      <td>0.264039</td>\n",
       "      <td>0.095471</td>\n",
       "      <td>1.984380</td>\n",
       "      <td>0.373991</td>\n",
       "      <td>-0.280279</td>\n",
       "      <td>1.602786</td>\n",
       "      <td>-5.993331</td>\n",
       "      <td>-2.258925</td>\n",
       "      <td>0</td>\n",
       "      <td>0</td>\n",
       "      <td>0</td>\n",
       "    </tr>\n",
       "    <tr>\n",
       "      <th>4</th>\n",
       "      <td>0.705503</td>\n",
       "      <td>-1.312329</td>\n",
       "      <td>0.895406</td>\n",
       "      <td>-0.405408</td>\n",
       "      <td>1.116187</td>\n",
       "      <td>3.699562</td>\n",
       "      <td>-1.427985</td>\n",
       "      <td>-1.494409</td>\n",
       "      <td>1.156908</td>\n",
       "      <td>-1.434964</td>\n",
       "      <td>1</td>\n",
       "      <td>1</td>\n",
       "      <td>1</td>\n",
       "    </tr>\n",
       "  </tbody>\n",
       "</table>\n",
       "</div>"
      ],
      "text/plain": [
       "   feature_1  feature_2  feature_3  feature_4  feature_5  feature_6  \\\n",
       "0   1.148534   4.606077   2.699069  -2.661824   1.526433   1.236671   \n",
       "1  -1.149410  -1.650549   2.530167  -3.227088   0.572138   4.162600   \n",
       "2   0.332427  -0.887985  -0.309216   0.399891   0.828492   3.641945   \n",
       "3   2.245599   3.826309   0.264039   0.095471   1.984380   0.373991   \n",
       "4   0.705503  -1.312329   0.895406  -0.405408   1.116187   3.699562   \n",
       "\n",
       "   feature_7  feature_8  feature_9  feature_10  kmeans-segments  \\\n",
       "0   0.211421   1.482896  -4.445627   -1.936831                0   \n",
       "1  -0.291679  -1.237575   3.604765   -1.635689                1   \n",
       "2  -0.916946  -1.978024   1.056772   -1.882747                1   \n",
       "3  -0.280279   1.602786  -5.993331   -2.258925                0   \n",
       "4  -1.427985  -1.494409   1.156908   -1.434964                1   \n",
       "\n",
       "   agglomerative-segments  birch-segments  \n",
       "0                       0               0  \n",
       "1                       1               1  \n",
       "2                       1               1  \n",
       "3                       0               0  \n",
       "4                       1               1  "
      ]
     },
     "execution_count": 24,
     "metadata": {},
     "output_type": "execute_result"
    }
   ],
   "source": [
    "# Create a copy of the customers_df DataFrame\n",
    "customers_predictions_df = customers_data.copy()\n",
    "\n",
    "# Add class columns with the labels to the new DataFrame\n",
    "customers_predictions_df[\"kmeans-segments\"] = model.labels_\n",
    "customers_predictions_df[\"agglomerative-segments\"] = agg_model.labels_\n",
    "customers_predictions_df[\"birch-segments\"] = birch_model.labels_\n",
    "\n",
    "# Review the DataFrame\n",
    "customers_predictions_df.head()\n",
    "\n",
    "\n"
   ]
  },
  {
   "cell_type": "code",
   "execution_count": 25,
   "metadata": {},
   "outputs": [
    {
     "data": {},
     "metadata": {},
     "output_type": "display_data"
    },
    {
     "data": {
      "application/vnd.holoviews_exec.v0+json": "",
      "text/html": [
       "<div id='p1302'>\n",
       "  <div id=\"c1c3c91e-9c5b-46e8-8ae0-6f26fdab0623\" data-root-id=\"p1302\" style=\"display: contents;\"></div>\n",
       "</div>\n",
       "<script type=\"application/javascript\">(function(root) {\n",
       "  var docs_json = {\"f502c333-095c-4b35-8697-7024b53a0677\":{\"version\":\"3.2.1\",\"title\":\"Bokeh Application\",\"roots\":[{\"type\":\"object\",\"name\":\"Row\",\"id\":\"p1302\",\"attributes\":{\"name\":\"Row01588\",\"tags\":[\"embedded\"],\"stylesheets\":[\"\\n:host(.pn-loading.pn-arc):before, .pn-loading.pn-arc:before {\\n  background-image: url(\\\"data:image/svg+xml;base64,PHN2ZyB4bWxucz0iaHR0cDovL3d3dy53My5vcmcvMjAwMC9zdmciIHN0eWxlPSJtYXJnaW46IGF1dG87IGJhY2tncm91bmQ6IG5vbmU7IGRpc3BsYXk6IGJsb2NrOyBzaGFwZS1yZW5kZXJpbmc6IGF1dG87IiB2aWV3Qm94PSIwIDAgMTAwIDEwMCIgcHJlc2VydmVBc3BlY3RSYXRpbz0ieE1pZFlNaWQiPiAgPGNpcmNsZSBjeD0iNTAiIGN5PSI1MCIgZmlsbD0ibm9uZSIgc3Ryb2tlPSIjYzNjM2MzIiBzdHJva2Utd2lkdGg9IjEwIiByPSIzNSIgc3Ryb2tlLWRhc2hhcnJheT0iMTY0LjkzMzYxNDMxMzQ2NDE1IDU2Ljk3Nzg3MTQzNzgyMTM4Ij4gICAgPGFuaW1hdGVUcmFuc2Zvcm0gYXR0cmlidXRlTmFtZT0idHJhbnNmb3JtIiB0eXBlPSJyb3RhdGUiIHJlcGVhdENvdW50PSJpbmRlZmluaXRlIiBkdXI9IjFzIiB2YWx1ZXM9IjAgNTAgNTA7MzYwIDUwIDUwIiBrZXlUaW1lcz0iMDsxIj48L2FuaW1hdGVUcmFuc2Zvcm0+ICA8L2NpcmNsZT48L3N2Zz4=\\\");\\n  background-size: auto calc(min(50%, 400px));\\n}\",{\"type\":\"object\",\"name\":\"ImportedStyleSheet\",\"id\":\"p1305\",\"attributes\":{\"url\":\"https://cdn.holoviz.org/panel/1.2.3/dist/css/loading.css\"}},{\"type\":\"object\",\"name\":\"ImportedStyleSheet\",\"id\":\"p1376\",\"attributes\":{\"url\":\"https://cdn.holoviz.org/panel/1.2.3/dist/css/listpanel.css\"}},{\"type\":\"object\",\"name\":\"ImportedStyleSheet\",\"id\":\"p1303\",\"attributes\":{\"url\":\"https://cdn.holoviz.org/panel/1.2.3/dist/bundled/theme/default.css\"}},{\"type\":\"object\",\"name\":\"ImportedStyleSheet\",\"id\":\"p1304\",\"attributes\":{\"url\":\"https://cdn.holoviz.org/panel/1.2.3/dist/bundled/theme/native.css\"}}],\"min_width\":700,\"margin\":0,\"sizing_mode\":\"stretch_width\",\"align\":\"start\",\"children\":[{\"type\":\"object\",\"name\":\"Spacer\",\"id\":\"p1306\",\"attributes\":{\"name\":\"HSpacer01599\",\"stylesheets\":[\"\\n:host(.pn-loading.pn-arc):before, .pn-loading.pn-arc:before {\\n  background-image: url(\\\"data:image/svg+xml;base64,PHN2ZyB4bWxucz0iaHR0cDovL3d3dy53My5vcmcvMjAwMC9zdmciIHN0eWxlPSJtYXJnaW46IGF1dG87IGJhY2tncm91bmQ6IG5vbmU7IGRpc3BsYXk6IGJsb2NrOyBzaGFwZS1yZW5kZXJpbmc6IGF1dG87IiB2aWV3Qm94PSIwIDAgMTAwIDEwMCIgcHJlc2VydmVBc3BlY3RSYXRpbz0ieE1pZFlNaWQiPiAgPGNpcmNsZSBjeD0iNTAiIGN5PSI1MCIgZmlsbD0ibm9uZSIgc3Ryb2tlPSIjYzNjM2MzIiBzdHJva2Utd2lkdGg9IjEwIiByPSIzNSIgc3Ryb2tlLWRhc2hhcnJheT0iMTY0LjkzMzYxNDMxMzQ2NDE1IDU2Ljk3Nzg3MTQzNzgyMTM4Ij4gICAgPGFuaW1hdGVUcmFuc2Zvcm0gYXR0cmlidXRlTmFtZT0idHJhbnNmb3JtIiB0eXBlPSJyb3RhdGUiIHJlcGVhdENvdW50PSJpbmRlZmluaXRlIiBkdXI9IjFzIiB2YWx1ZXM9IjAgNTAgNTA7MzYwIDUwIDUwIiBrZXlUaW1lcz0iMDsxIj48L2FuaW1hdGVUcmFuc2Zvcm0+ICA8L2NpcmNsZT48L3N2Zz4=\\\");\\n  background-size: auto calc(min(50%, 400px));\\n}\",{\"id\":\"p1305\"},{\"id\":\"p1303\"},{\"id\":\"p1304\"}],\"margin\":0,\"sizing_mode\":\"stretch_width\",\"align\":\"start\"}},{\"type\":\"object\",\"name\":\"Figure\",\"id\":\"p1317\",\"attributes\":{\"width\":700,\"height\":300,\"margin\":[5,10],\"sizing_mode\":\"fixed\",\"align\":\"start\",\"x_range\":{\"type\":\"object\",\"name\":\"Range1d\",\"id\":\"p1307\",\"attributes\":{\"tags\":[[[\"feature_1\",\"feature_1\",null]],[]],\"start\":-6.796693307805908,\"end\":6.812945338442532,\"reset_start\":-6.796693307805908,\"reset_end\":6.812945338442532}},\"y_range\":{\"type\":\"object\",\"name\":\"Range1d\",\"id\":\"p1308\",\"attributes\":{\"tags\":[[[\"feature_2\",\"feature_2\",null]],{\"type\":\"map\",\"entries\":[[\"invert_yaxis\",false],[\"autorange\",false]]}],\"start\":-5.909730475924883,\"end\":9.215602229847773,\"reset_start\":-5.909730475924883,\"reset_end\":9.215602229847773}},\"x_scale\":{\"type\":\"object\",\"name\":\"LinearScale\",\"id\":\"p1327\"},\"y_scale\":{\"type\":\"object\",\"name\":\"LinearScale\",\"id\":\"p1328\"},\"title\":{\"type\":\"object\",\"name\":\"Title\",\"id\":\"p1320\",\"attributes\":{\"text\":\"K-Means Clusters\",\"text_color\":\"black\",\"text_font_size\":\"12pt\"}},\"renderers\":[{\"type\":\"object\",\"name\":\"GlyphRenderer\",\"id\":\"p1353\",\"attributes\":{\"name\":\"0\",\"data_source\":{\"type\":\"object\",\"name\":\"ColumnDataSource\",\"id\":\"p1344\",\"attributes\":{\"selected\":{\"type\":\"object\",\"name\":\"Selection\",\"id\":\"p1345\",\"attributes\":{\"indices\":[],\"line_indices\":[]}},\"selection_policy\":{\"type\":\"object\",\"name\":\"UnionRenderers\",\"id\":\"p1346\"},\"data\":{\"type\":\"map\",\"entries\":[[\"feature_1\",{\"type\":\"ndarray\",\"array\":{\"type\":\"bytes\",\"data\":\"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\"},\"shape\":[709],\"dtype\":\"float64\",\"order\":\"little\"}],[\"feature_2\",{\"type\":\"ndarray\",\"array\":{\"type\":\"bytes\",\"data\":\"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\"},\"shape\":[709],\"dtype\":\"float64\",\"order\":\"little\"}],[\"kmeans_hyphen_minus_segments\",[0,0,0,0,0,0,0,0,0,0,0,0,0,0,0,0,0,0,0,0,0,0,0,0,0,0,0,0,0,0,0,0,0,0,0,0,0,0,0,0,0,0,0,0,0,0,0,0,0,0,0,0,0,0,0,0,0,0,0,0,0,0,0,0,0,0,0,0,0,0,0,0,0,0,0,0,0,0,0,0,0,0,0,0,0,0,0,0,0,0,0,0,0,0,0,0,0,0,0,0,0,0,0,0,0,0,0,0,0,0,0,0,0,0,0,0,0,0,0,0,0,0,0,0,0,0,0,0,0,0,0,0,0,0,0,0,0,0,0,0,0,0,0,0,0,0,0,0,0,0,0,0,0,0,0,0,0,0,0,0,0,0,0,0,0,0,0,0,0,0,0,0,0,0,0,0,0,0,0,0,0,0,0,0,0,0,0,0,0,0,0,0,0,0,0,0,0,0,0,0,0,0,0,0,0,0,0,0,0,0,0,0,0,0,0,0,0,0,0,0,0,0,0,0,0,0,0,0,0,0,0,0,0,0,0,0,0,0,0,0,0,0,0,0,0,0,0,0,0,0,0,0,0,0,0,0,0,0,0,0,0,0,0,0,0,0,0,0,0,0,0,0,0,0,0,0,0,0,0,0,0,0,0,0,0,0,0,0,0,0,0,0,0,0,0,0,0,0,0,0,0,0,0,0,0,0,0,0,0,0,0,0,0,0,0,0,0,0,0,0,0,0,0,0,0,0,0,0,0,0,0,0,0,0,0,0,0,0,0,0,0,0,0,0,0,0,0,0,0,0,0,0,0,0,0,0,0,0,0,0,0,0,0,0,0,0,0,0,0,0,0,0,0,0,0,0,0,0,0,0,0,0,0,0,0,0,0,0,0,0,0,0,0,0,0,0,0,0,0,0,0,0,0,0,0,0,0,0,0,0,0,0,0,0,0,0,0,0,0,0,0,0,0,0,0,0,0,0,0,0,0,0,0,0,0,0,0,0,0,0,0,0,0,0,0,0,0,0,0,0,0,0,0,0,0,0,0,0,0,0,0,0,0,0,0,0,0,0,0,0,0,0,0,0,0,0,0,0,0,0,0,0,0,0,0,0,0,0,0,0,0,0,0,0,0,0,0,0,0,0,0,0,0,0,0,0,0,0,0,0,0,0,0,0,0,0,0,0,0,0,0,0,0,0,0,0,0,0,0,0,0,0,0,0,0,0,0,0,0,0,0,0,0,0,0,0,0,0,0,0,0,0,0,0,0,0,0,0,0,0,0,0,0,0,0,0,0,0,0,0,0,0,0,0,0,0,0,0,0,0,0,0,0,0,0,0,0,0,0,0,0,0,0,0,0,0,0,0,0,0,0,0,0,0,0,0,0,0,0,0,0,0,0,0,0,0,0,0,0,0,0,0,0,0,0,0,0,0,0,0,0,0,0,0,0,0,0,0,0,0,0,0,0,0,0,0,0,0,0,0,0,0,0,0,0,0,0,0,0,0,0,0,0,0,0,0,0,0,0,0,0,0,0,0,0,0,0,0,0,0,0,0,0,0,0,0,0,0,0,0,0,0,0,0,0,0,0,0,0,0,0,0,0,0,0,0,0,0,0]]]}}},\"view\":{\"type\":\"object\",\"name\":\"CDSView\",\"id\":\"p1354\",\"attributes\":{\"filter\":{\"type\":\"object\",\"name\":\"AllIndices\",\"id\":\"p1355\"}}},\"glyph\":{\"type\":\"object\",\"name\":\"Scatter\",\"id\":\"p1350\",\"attributes\":{\"tags\":[\"apply_ranges\"],\"x\":{\"type\":\"field\",\"field\":\"feature_1\"},\"y\":{\"type\":\"field\",\"field\":\"feature_2\"},\"size\":{\"type\":\"value\",\"value\":5.477225575051661},\"line_color\":{\"type\":\"value\",\"value\":\"#30a2da\"},\"fill_color\":{\"type\":\"value\",\"value\":\"#30a2da\"},\"hatch_color\":{\"type\":\"value\",\"value\":\"#30a2da\"}}},\"selection_glyph\":{\"type\":\"object\",\"name\":\"Scatter\",\"id\":\"p1358\",\"attributes\":{\"tags\":[\"apply_ranges\"],\"x\":{\"type\":\"field\",\"field\":\"feature_1\"},\"y\":{\"type\":\"field\",\"field\":\"feature_2\"},\"size\":{\"type\":\"value\",\"value\":5.477225575051661},\"angle\":{\"type\":\"value\",\"value\":0.0},\"line_color\":{\"type\":\"value\",\"value\":\"#30a2da\"},\"line_alpha\":{\"type\":\"value\",\"value\":1.0},\"line_width\":{\"type\":\"value\",\"value\":1},\"line_join\":{\"type\":\"value\",\"value\":\"bevel\"},\"line_cap\":{\"type\":\"value\",\"value\":\"butt\"},\"line_dash\":{\"type\":\"value\",\"value\":[]},\"line_dash_offset\":{\"type\":\"value\",\"value\":0},\"fill_color\":{\"type\":\"value\",\"value\":\"#30a2da\"},\"fill_alpha\":{\"type\":\"value\",\"value\":1.0},\"hatch_color\":{\"type\":\"value\",\"value\":\"#30a2da\"},\"hatch_alpha\":{\"type\":\"value\",\"value\":1.0},\"hatch_scale\":{\"type\":\"value\",\"value\":12.0},\"hatch_pattern\":{\"type\":\"value\",\"value\":null},\"hatch_weight\":{\"type\":\"value\",\"value\":1.0},\"marker\":{\"type\":\"value\",\"value\":\"circle\"}}},\"nonselection_glyph\":{\"type\":\"object\",\"name\":\"Scatter\",\"id\":\"p1351\",\"attributes\":{\"tags\":[\"apply_ranges\"],\"x\":{\"type\":\"field\",\"field\":\"feature_1\"},\"y\":{\"type\":\"field\",\"field\":\"feature_2\"},\"size\":{\"type\":\"value\",\"value\":5.477225575051661},\"line_color\":{\"type\":\"value\",\"value\":\"#30a2da\"},\"line_alpha\":{\"type\":\"value\",\"value\":0.1},\"fill_color\":{\"type\":\"value\",\"value\":\"#30a2da\"},\"fill_alpha\":{\"type\":\"value\",\"value\":0.1},\"hatch_color\":{\"type\":\"value\",\"value\":\"#30a2da\"},\"hatch_alpha\":{\"type\":\"value\",\"value\":0.1}}},\"muted_glyph\":{\"type\":\"object\",\"name\":\"Scatter\",\"id\":\"p1352\",\"attributes\":{\"tags\":[\"apply_ranges\"],\"x\":{\"type\":\"field\",\"field\":\"feature_1\"},\"y\":{\"type\":\"field\",\"field\":\"feature_2\"},\"size\":{\"type\":\"value\",\"value\":5.477225575051661},\"line_color\":{\"type\":\"value\",\"value\":\"#30a2da\"},\"line_alpha\":{\"type\":\"value\",\"value\":0.2},\"fill_color\":{\"type\":\"value\",\"value\":\"#30a2da\"},\"fill_alpha\":{\"type\":\"value\",\"value\":0.2},\"hatch_color\":{\"type\":\"value\",\"value\":\"#30a2da\"},\"hatch_alpha\":{\"type\":\"value\",\"value\":0.2}}}}},{\"type\":\"object\",\"name\":\"GlyphRenderer\",\"id\":\"p1368\",\"attributes\":{\"name\":\"1\",\"data_source\":{\"type\":\"object\",\"name\":\"ColumnDataSource\",\"id\":\"p1359\",\"attributes\":{\"selected\":{\"type\":\"object\",\"name\":\"Selection\",\"id\":\"p1360\",\"attributes\":{\"indices\":[],\"line_indices\":[]}},\"selection_policy\":{\"type\":\"object\",\"name\":\"UnionRenderers\",\"id\":\"p1361\"},\"data\":{\"type\":\"map\",\"entries\":[[\"feature_1\",{\"type\":\"ndarray\",\"array\":{\"type\":\"bytes\",\"data\":\"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\"},\"shape\":[291],\"dtype\":\"float64\",\"order\":\"little\"}],[\"feature_2\",{\"type\":\"ndarray\",\"array\":{\"type\":\"bytes\",\"data\":\"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\"},\"shape\":[291],\"dtype\":\"float64\",\"order\":\"little\"}],[\"kmeans_hyphen_minus_segments\",[1,1,1,1,1,1,1,1,1,1,1,1,1,1,1,1,1,1,1,1,1,1,1,1,1,1,1,1,1,1,1,1,1,1,1,1,1,1,1,1,1,1,1,1,1,1,1,1,1,1,1,1,1,1,1,1,1,1,1,1,1,1,1,1,1,1,1,1,1,1,1,1,1,1,1,1,1,1,1,1,1,1,1,1,1,1,1,1,1,1,1,1,1,1,1,1,1,1,1,1,1,1,1,1,1,1,1,1,1,1,1,1,1,1,1,1,1,1,1,1,1,1,1,1,1,1,1,1,1,1,1,1,1,1,1,1,1,1,1,1,1,1,1,1,1,1,1,1,1,1,1,1,1,1,1,1,1,1,1,1,1,1,1,1,1,1,1,1,1,1,1,1,1,1,1,1,1,1,1,1,1,1,1,1,1,1,1,1,1,1,1,1,1,1,1,1,1,1,1,1,1,1,1,1,1,1,1,1,1,1,1,1,1,1,1,1,1,1,1,1,1,1,1,1,1,1,1,1,1,1,1,1,1,1,1,1,1,1,1,1,1,1,1,1,1,1,1,1,1,1,1,1,1,1,1,1,1,1,1,1,1,1,1,1,1,1,1,1,1,1,1,1,1,1,1,1,1,1,1,1,1,1,1,1,1,1,1,1,1,1,1]]]}}},\"view\":{\"type\":\"object\",\"name\":\"CDSView\",\"id\":\"p1369\",\"attributes\":{\"filter\":{\"type\":\"object\",\"name\":\"AllIndices\",\"id\":\"p1370\"}}},\"glyph\":{\"type\":\"object\",\"name\":\"Scatter\",\"id\":\"p1365\",\"attributes\":{\"tags\":[\"apply_ranges\"],\"x\":{\"type\":\"field\",\"field\":\"feature_1\"},\"y\":{\"type\":\"field\",\"field\":\"feature_2\"},\"size\":{\"type\":\"value\",\"value\":5.477225575051661},\"line_color\":{\"type\":\"value\",\"value\":\"#fc4f30\"},\"fill_color\":{\"type\":\"value\",\"value\":\"#fc4f30\"},\"hatch_color\":{\"type\":\"value\",\"value\":\"#fc4f30\"}}},\"selection_glyph\":{\"type\":\"object\",\"name\":\"Scatter\",\"id\":\"p1372\",\"attributes\":{\"tags\":[\"apply_ranges\"],\"x\":{\"type\":\"field\",\"field\":\"feature_1\"},\"y\":{\"type\":\"field\",\"field\":\"feature_2\"},\"size\":{\"type\":\"value\",\"value\":5.477225575051661},\"angle\":{\"type\":\"value\",\"value\":0.0},\"line_color\":{\"type\":\"value\",\"value\":\"#fc4f30\"},\"line_alpha\":{\"type\":\"value\",\"value\":1.0},\"line_width\":{\"type\":\"value\",\"value\":1},\"line_join\":{\"type\":\"value\",\"value\":\"bevel\"},\"line_cap\":{\"type\":\"value\",\"value\":\"butt\"},\"line_dash\":{\"type\":\"value\",\"value\":[]},\"line_dash_offset\":{\"type\":\"value\",\"value\":0},\"fill_color\":{\"type\":\"value\",\"value\":\"#fc4f30\"},\"fill_alpha\":{\"type\":\"value\",\"value\":1.0},\"hatch_color\":{\"type\":\"value\",\"value\":\"#fc4f30\"},\"hatch_alpha\":{\"type\":\"value\",\"value\":1.0},\"hatch_scale\":{\"type\":\"value\",\"value\":12.0},\"hatch_pattern\":{\"type\":\"value\",\"value\":null},\"hatch_weight\":{\"type\":\"value\",\"value\":1.0},\"marker\":{\"type\":\"value\",\"value\":\"circle\"}}},\"nonselection_glyph\":{\"type\":\"object\",\"name\":\"Scatter\",\"id\":\"p1366\",\"attributes\":{\"tags\":[\"apply_ranges\"],\"x\":{\"type\":\"field\",\"field\":\"feature_1\"},\"y\":{\"type\":\"field\",\"field\":\"feature_2\"},\"size\":{\"type\":\"value\",\"value\":5.477225575051661},\"line_color\":{\"type\":\"value\",\"value\":\"#fc4f30\"},\"line_alpha\":{\"type\":\"value\",\"value\":0.1},\"fill_color\":{\"type\":\"value\",\"value\":\"#fc4f30\"},\"fill_alpha\":{\"type\":\"value\",\"value\":0.1},\"hatch_color\":{\"type\":\"value\",\"value\":\"#fc4f30\"},\"hatch_alpha\":{\"type\":\"value\",\"value\":0.1}}},\"muted_glyph\":{\"type\":\"object\",\"name\":\"Scatter\",\"id\":\"p1367\",\"attributes\":{\"tags\":[\"apply_ranges\"],\"x\":{\"type\":\"field\",\"field\":\"feature_1\"},\"y\":{\"type\":\"field\",\"field\":\"feature_2\"},\"size\":{\"type\":\"value\",\"value\":5.477225575051661},\"line_color\":{\"type\":\"value\",\"value\":\"#fc4f30\"},\"line_alpha\":{\"type\":\"value\",\"value\":0.2},\"fill_color\":{\"type\":\"value\",\"value\":\"#fc4f30\"},\"fill_alpha\":{\"type\":\"value\",\"value\":0.2},\"hatch_color\":{\"type\":\"value\",\"value\":\"#fc4f30\"},\"hatch_alpha\":{\"type\":\"value\",\"value\":0.2}}}}}],\"toolbar\":{\"type\":\"object\",\"name\":\"Toolbar\",\"id\":\"p1326\",\"attributes\":{\"tools\":[{\"type\":\"object\",\"name\":\"WheelZoomTool\",\"id\":\"p1312\",\"attributes\":{\"tags\":[\"hv_created\"],\"zoom_together\":\"none\"}},{\"type\":\"object\",\"name\":\"HoverTool\",\"id\":\"p1313\",\"attributes\":{\"tags\":[\"hv_created\"],\"renderers\":[{\"id\":\"p1353\"},{\"id\":\"p1368\"}],\"tooltips\":[[\"kmeans-segments\",\"@{kmeans_hyphen_minus_segments}\"],[\"feature_1\",\"@{feature_1}\"],[\"feature_2\",\"@{feature_2}\"]]}},{\"type\":\"object\",\"name\":\"SaveTool\",\"id\":\"p1339\"},{\"type\":\"object\",\"name\":\"PanTool\",\"id\":\"p1340\"},{\"type\":\"object\",\"name\":\"BoxZoomTool\",\"id\":\"p1341\",\"attributes\":{\"overlay\":{\"type\":\"object\",\"name\":\"BoxAnnotation\",\"id\":\"p1342\",\"attributes\":{\"syncable\":false,\"level\":\"overlay\",\"visible\":false,\"left_units\":\"canvas\",\"right_units\":\"canvas\",\"bottom_units\":\"canvas\",\"top_units\":\"canvas\",\"line_color\":\"black\",\"line_alpha\":1.0,\"line_width\":2,\"line_dash\":[4,4],\"fill_color\":\"lightgrey\",\"fill_alpha\":0.5}}}},{\"type\":\"object\",\"name\":\"ResetTool\",\"id\":\"p1343\"}],\"active_drag\":{\"id\":\"p1340\"},\"active_scroll\":{\"id\":\"p1312\"}}},\"left\":[{\"type\":\"object\",\"name\":\"LinearAxis\",\"id\":\"p1334\",\"attributes\":{\"ticker\":{\"type\":\"object\",\"name\":\"BasicTicker\",\"id\":\"p1335\",\"attributes\":{\"mantissas\":[1,2,5]}},\"formatter\":{\"type\":\"object\",\"name\":\"BasicTickFormatter\",\"id\":\"p1336\"},\"axis_label\":\"feature_2\",\"major_label_policy\":{\"type\":\"object\",\"name\":\"AllLabels\",\"id\":\"p1337\"}}}],\"right\":[{\"type\":\"object\",\"name\":\"Legend\",\"id\":\"p1356\",\"attributes\":{\"location\":[0,0],\"title\":\"kmeans-segments\",\"click_policy\":\"mute\",\"items\":[{\"type\":\"object\",\"name\":\"LegendItem\",\"id\":\"p1357\",\"attributes\":{\"label\":{\"type\":\"value\",\"value\":\"0\"},\"renderers\":[{\"id\":\"p1353\"}]}},{\"type\":\"object\",\"name\":\"LegendItem\",\"id\":\"p1371\",\"attributes\":{\"label\":{\"type\":\"value\",\"value\":\"1\"},\"renderers\":[{\"id\":\"p1368\"}]}}]}}],\"below\":[{\"type\":\"object\",\"name\":\"LinearAxis\",\"id\":\"p1329\",\"attributes\":{\"ticker\":{\"type\":\"object\",\"name\":\"BasicTicker\",\"id\":\"p1330\",\"attributes\":{\"mantissas\":[1,2,5]}},\"formatter\":{\"type\":\"object\",\"name\":\"BasicTickFormatter\",\"id\":\"p1331\"},\"axis_label\":\"feature_1\",\"major_label_policy\":{\"type\":\"object\",\"name\":\"AllLabels\",\"id\":\"p1332\"}}}],\"center\":[{\"type\":\"object\",\"name\":\"Grid\",\"id\":\"p1333\",\"attributes\":{\"axis\":{\"id\":\"p1329\"},\"grid_line_color\":null}},{\"type\":\"object\",\"name\":\"Grid\",\"id\":\"p1338\",\"attributes\":{\"dimension\":1,\"axis\":{\"id\":\"p1334\"},\"grid_line_color\":null}}],\"min_border_top\":10,\"min_border_bottom\":10,\"min_border_left\":10,\"min_border_right\":10,\"output_backend\":\"webgl\"}},{\"type\":\"object\",\"name\":\"Spacer\",\"id\":\"p1374\",\"attributes\":{\"name\":\"HSpacer01602\",\"stylesheets\":[\"\\n:host(.pn-loading.pn-arc):before, .pn-loading.pn-arc:before {\\n  background-image: url(\\\"data:image/svg+xml;base64,PHN2ZyB4bWxucz0iaHR0cDovL3d3dy53My5vcmcvMjAwMC9zdmciIHN0eWxlPSJtYXJnaW46IGF1dG87IGJhY2tncm91bmQ6IG5vbmU7IGRpc3BsYXk6IGJsb2NrOyBzaGFwZS1yZW5kZXJpbmc6IGF1dG87IiB2aWV3Qm94PSIwIDAgMTAwIDEwMCIgcHJlc2VydmVBc3BlY3RSYXRpbz0ieE1pZFlNaWQiPiAgPGNpcmNsZSBjeD0iNTAiIGN5PSI1MCIgZmlsbD0ibm9uZSIgc3Ryb2tlPSIjYzNjM2MzIiBzdHJva2Utd2lkdGg9IjEwIiByPSIzNSIgc3Ryb2tlLWRhc2hhcnJheT0iMTY0LjkzMzYxNDMxMzQ2NDE1IDU2Ljk3Nzg3MTQzNzgyMTM4Ij4gICAgPGFuaW1hdGVUcmFuc2Zvcm0gYXR0cmlidXRlTmFtZT0idHJhbnNmb3JtIiB0eXBlPSJyb3RhdGUiIHJlcGVhdENvdW50PSJpbmRlZmluaXRlIiBkdXI9IjFzIiB2YWx1ZXM9IjAgNTAgNTA7MzYwIDUwIDUwIiBrZXlUaW1lcz0iMDsxIj48L2FuaW1hdGVUcmFuc2Zvcm0+ICA8L2NpcmNsZT48L3N2Zz4=\\\");\\n  background-size: auto calc(min(50%, 400px));\\n}\",{\"id\":\"p1305\"},{\"id\":\"p1303\"},{\"id\":\"p1304\"}],\"margin\":0,\"sizing_mode\":\"stretch_width\",\"align\":\"start\"}}]}}],\"defs\":[{\"type\":\"model\",\"name\":\"ReactiveHTML1\"},{\"type\":\"model\",\"name\":\"FlexBox1\",\"properties\":[{\"name\":\"align_content\",\"kind\":\"Any\",\"default\":\"flex-start\"},{\"name\":\"align_items\",\"kind\":\"Any\",\"default\":\"flex-start\"},{\"name\":\"flex_direction\",\"kind\":\"Any\",\"default\":\"row\"},{\"name\":\"flex_wrap\",\"kind\":\"Any\",\"default\":\"wrap\"},{\"name\":\"justify_content\",\"kind\":\"Any\",\"default\":\"flex-start\"}]},{\"type\":\"model\",\"name\":\"FloatPanel1\",\"properties\":[{\"name\":\"config\",\"kind\":\"Any\",\"default\":{\"type\":\"map\"}},{\"name\":\"contained\",\"kind\":\"Any\",\"default\":true},{\"name\":\"position\",\"kind\":\"Any\",\"default\":\"right-top\"},{\"name\":\"offsetx\",\"kind\":\"Any\",\"default\":null},{\"name\":\"offsety\",\"kind\":\"Any\",\"default\":null},{\"name\":\"theme\",\"kind\":\"Any\",\"default\":\"primary\"},{\"name\":\"status\",\"kind\":\"Any\",\"default\":\"normalized\"}]},{\"type\":\"model\",\"name\":\"GridStack1\",\"properties\":[{\"name\":\"mode\",\"kind\":\"Any\",\"default\":\"warn\"},{\"name\":\"ncols\",\"kind\":\"Any\",\"default\":null},{\"name\":\"nrows\",\"kind\":\"Any\",\"default\":null},{\"name\":\"allow_resize\",\"kind\":\"Any\",\"default\":true},{\"name\":\"allow_drag\",\"kind\":\"Any\",\"default\":true},{\"name\":\"state\",\"kind\":\"Any\",\"default\":[]}]},{\"type\":\"model\",\"name\":\"drag1\",\"properties\":[{\"name\":\"slider_width\",\"kind\":\"Any\",\"default\":5},{\"name\":\"slider_color\",\"kind\":\"Any\",\"default\":\"black\"},{\"name\":\"value\",\"kind\":\"Any\",\"default\":50}]},{\"type\":\"model\",\"name\":\"click1\",\"properties\":[{\"name\":\"terminal_output\",\"kind\":\"Any\",\"default\":\"\"},{\"name\":\"debug_name\",\"kind\":\"Any\",\"default\":\"\"},{\"name\":\"clears\",\"kind\":\"Any\",\"default\":0}]},{\"type\":\"model\",\"name\":\"FastWrapper1\",\"properties\":[{\"name\":\"object\",\"kind\":\"Any\",\"default\":null},{\"name\":\"style\",\"kind\":\"Any\",\"default\":null}]},{\"type\":\"model\",\"name\":\"NotificationAreaBase1\",\"properties\":[{\"name\":\"js_events\",\"kind\":\"Any\",\"default\":{\"type\":\"map\"}},{\"name\":\"position\",\"kind\":\"Any\",\"default\":\"bottom-right\"},{\"name\":\"_clear\",\"kind\":\"Any\",\"default\":0}]},{\"type\":\"model\",\"name\":\"NotificationArea1\",\"properties\":[{\"name\":\"js_events\",\"kind\":\"Any\",\"default\":{\"type\":\"map\"}},{\"name\":\"notifications\",\"kind\":\"Any\",\"default\":[]},{\"name\":\"position\",\"kind\":\"Any\",\"default\":\"bottom-right\"},{\"name\":\"_clear\",\"kind\":\"Any\",\"default\":0},{\"name\":\"types\",\"kind\":\"Any\",\"default\":[{\"type\":\"map\",\"entries\":[[\"type\",\"warning\"],[\"background\",\"#ffc107\"],[\"icon\",{\"type\":\"map\",\"entries\":[[\"className\",\"fas fa-exclamation-triangle\"],[\"tagName\",\"i\"],[\"color\",\"white\"]]}]]},{\"type\":\"map\",\"entries\":[[\"type\",\"info\"],[\"background\",\"#007bff\"],[\"icon\",{\"type\":\"map\",\"entries\":[[\"className\",\"fas fa-info-circle\"],[\"tagName\",\"i\"],[\"color\",\"white\"]]}]]}]}]},{\"type\":\"model\",\"name\":\"Notification\",\"properties\":[{\"name\":\"background\",\"kind\":\"Any\",\"default\":null},{\"name\":\"duration\",\"kind\":\"Any\",\"default\":3000},{\"name\":\"icon\",\"kind\":\"Any\",\"default\":null},{\"name\":\"message\",\"kind\":\"Any\",\"default\":\"\"},{\"name\":\"notification_type\",\"kind\":\"Any\",\"default\":null},{\"name\":\"_destroyed\",\"kind\":\"Any\",\"default\":false}]},{\"type\":\"model\",\"name\":\"TemplateActions1\",\"properties\":[{\"name\":\"open_modal\",\"kind\":\"Any\",\"default\":0},{\"name\":\"close_modal\",\"kind\":\"Any\",\"default\":0}]},{\"type\":\"model\",\"name\":\"BootstrapTemplateActions1\",\"properties\":[{\"name\":\"open_modal\",\"kind\":\"Any\",\"default\":0},{\"name\":\"close_modal\",\"kind\":\"Any\",\"default\":0}]},{\"type\":\"model\",\"name\":\"MaterialTemplateActions1\",\"properties\":[{\"name\":\"open_modal\",\"kind\":\"Any\",\"default\":0},{\"name\":\"close_modal\",\"kind\":\"Any\",\"default\":0}]}]}};\n",
       "  var render_items = [{\"docid\":\"f502c333-095c-4b35-8697-7024b53a0677\",\"roots\":{\"p1302\":\"c1c3c91e-9c5b-46e8-8ae0-6f26fdab0623\"},\"root_ids\":[\"p1302\"]}];\n",
       "  var docs = Object.values(docs_json)\n",
       "  if (!docs) {\n",
       "    return\n",
       "  }\n",
       "  const py_version = docs[0].version.replace('rc', '-rc.').replace('.dev', '-dev.')\n",
       "  const is_dev = py_version.indexOf(\"+\") !== -1 || py_version.indexOf(\"-\") !== -1\n",
       "  function embed_document(root) {\n",
       "    var Bokeh = get_bokeh(root)\n",
       "    Bokeh.embed.embed_items_notebook(docs_json, render_items);\n",
       "    for (const render_item of render_items) {\n",
       "      for (const root_id of render_item.root_ids) {\n",
       "\tconst id_el = document.getElementById(root_id)\n",
       "\tif (id_el.children.length && (id_el.children[0].className === 'bk-root')) {\n",
       "\t  const root_el = id_el.children[0]\n",
       "\t  root_el.id = root_el.id + '-rendered'\n",
       "\t}\n",
       "      }\n",
       "    }\n",
       "  }\n",
       "  function get_bokeh(root) {\n",
       "    if (root.Bokeh === undefined) {\n",
       "      return null\n",
       "    } else if (root.Bokeh.version !== py_version && !is_dev) {\n",
       "      if (root.Bokeh.versions === undefined || !root.Bokeh.versions.has(py_version)) {\n",
       "\treturn null\n",
       "      }\n",
       "      return root.Bokeh.versions.get(py_version);\n",
       "    } else if (root.Bokeh.version === py_version) {\n",
       "      return root.Bokeh\n",
       "    }\n",
       "    return null\n",
       "  }\n",
       "  function is_loaded(root) {\n",
       "    var Bokeh = get_bokeh(root)\n",
       "    return (Bokeh != null && Bokeh.Panel !== undefined)\n",
       "  }\n",
       "  if (is_loaded(root)) {\n",
       "    embed_document(root);\n",
       "  } else {\n",
       "    var attempts = 0;\n",
       "    var timer = setInterval(function(root) {\n",
       "      if (is_loaded(root)) {\n",
       "        clearInterval(timer);\n",
       "        embed_document(root);\n",
       "      } else if (document.readyState == \"complete\") {\n",
       "        attempts++;\n",
       "        if (attempts > 200) {\n",
       "          clearInterval(timer);\n",
       "\t  var Bokeh = get_bokeh(root)\n",
       "\t  if (Bokeh == null || Bokeh.Panel == null) {\n",
       "            console.warn(\"Panel: ERROR: Unable to run Panel code because Bokeh or Panel library is missing\");\n",
       "\t  } else {\n",
       "\t    console.warn(\"Panel: WARNING: Attempting to render but not all required libraries could be resolved.\")\n",
       "\t    embed_document(root)\n",
       "\t  }\n",
       "        }\n",
       "      }\n",
       "    }, 25, root)\n",
       "  }\n",
       "})(window);</script>"
      ],
      "text/plain": [
       ":NdOverlay   [kmeans-segments]\n",
       "   :Scatter   [feature_1]   (feature_2)"
      ]
     },
     "execution_count": 25,
     "metadata": {
      "application/vnd.holoviews_exec.v0+json": {
       "id": "p1302"
      }
     },
     "output_type": "execute_result"
    }
   ],
   "source": [
    "# Plot the kmeans clusters using the \"feature_1\" and \"feature_2\" columns\n",
    "customers_predictions_df.hvplot.scatter(\n",
    "    x=\"feature_1\",\n",
    "    y=\"feature_2\",\n",
    "    by=\"kmeans-segments\",\n",
    "    hover_cols=[\"customer_name\"],\n",
    "    title=\"K-Means Clusters\",\n",
    ")\n",
    "\n"
   ]
  },
  {
   "cell_type": "code",
   "execution_count": 26,
   "metadata": {
    "scrolled": true
   },
   "outputs": [
    {
     "data": {},
     "metadata": {},
     "output_type": "display_data"
    },
    {
     "data": {
      "application/vnd.holoviews_exec.v0+json": "",
      "text/html": [
       "<div id='p1382'>\n",
       "  <div id=\"e8c84733-3046-42b3-9f0e-e1a4844aefb3\" data-root-id=\"p1382\" style=\"display: contents;\"></div>\n",
       "</div>\n",
       "<script type=\"application/javascript\">(function(root) {\n",
       "  var docs_json = {\"c6ad7a3c-7e06-417c-9203-0ac0db8ec0d5\":{\"version\":\"3.2.1\",\"title\":\"Bokeh Application\",\"roots\":[{\"type\":\"object\",\"name\":\"Row\",\"id\":\"p1382\",\"attributes\":{\"name\":\"Row01773\",\"tags\":[\"embedded\"],\"stylesheets\":[\"\\n:host(.pn-loading.pn-arc):before, .pn-loading.pn-arc:before {\\n  background-image: url(\\\"data:image/svg+xml;base64,PHN2ZyB4bWxucz0iaHR0cDovL3d3dy53My5vcmcvMjAwMC9zdmciIHN0eWxlPSJtYXJnaW46IGF1dG87IGJhY2tncm91bmQ6IG5vbmU7IGRpc3BsYXk6IGJsb2NrOyBzaGFwZS1yZW5kZXJpbmc6IGF1dG87IiB2aWV3Qm94PSIwIDAgMTAwIDEwMCIgcHJlc2VydmVBc3BlY3RSYXRpbz0ieE1pZFlNaWQiPiAgPGNpcmNsZSBjeD0iNTAiIGN5PSI1MCIgZmlsbD0ibm9uZSIgc3Ryb2tlPSIjYzNjM2MzIiBzdHJva2Utd2lkdGg9IjEwIiByPSIzNSIgc3Ryb2tlLWRhc2hhcnJheT0iMTY0LjkzMzYxNDMxMzQ2NDE1IDU2Ljk3Nzg3MTQzNzgyMTM4Ij4gICAgPGFuaW1hdGVUcmFuc2Zvcm0gYXR0cmlidXRlTmFtZT0idHJhbnNmb3JtIiB0eXBlPSJyb3RhdGUiIHJlcGVhdENvdW50PSJpbmRlZmluaXRlIiBkdXI9IjFzIiB2YWx1ZXM9IjAgNTAgNTA7MzYwIDUwIDUwIiBrZXlUaW1lcz0iMDsxIj48L2FuaW1hdGVUcmFuc2Zvcm0+ICA8L2NpcmNsZT48L3N2Zz4=\\\");\\n  background-size: auto calc(min(50%, 400px));\\n}\",{\"type\":\"object\",\"name\":\"ImportedStyleSheet\",\"id\":\"p1385\",\"attributes\":{\"url\":\"https://cdn.holoviz.org/panel/1.2.3/dist/css/loading.css\"}},{\"type\":\"object\",\"name\":\"ImportedStyleSheet\",\"id\":\"p1456\",\"attributes\":{\"url\":\"https://cdn.holoviz.org/panel/1.2.3/dist/css/listpanel.css\"}},{\"type\":\"object\",\"name\":\"ImportedStyleSheet\",\"id\":\"p1383\",\"attributes\":{\"url\":\"https://cdn.holoviz.org/panel/1.2.3/dist/bundled/theme/default.css\"}},{\"type\":\"object\",\"name\":\"ImportedStyleSheet\",\"id\":\"p1384\",\"attributes\":{\"url\":\"https://cdn.holoviz.org/panel/1.2.3/dist/bundled/theme/native.css\"}}],\"min_width\":700,\"margin\":0,\"sizing_mode\":\"stretch_width\",\"align\":\"start\",\"children\":[{\"type\":\"object\",\"name\":\"Spacer\",\"id\":\"p1386\",\"attributes\":{\"name\":\"HSpacer01784\",\"stylesheets\":[\"\\n:host(.pn-loading.pn-arc):before, .pn-loading.pn-arc:before {\\n  background-image: url(\\\"data:image/svg+xml;base64,PHN2ZyB4bWxucz0iaHR0cDovL3d3dy53My5vcmcvMjAwMC9zdmciIHN0eWxlPSJtYXJnaW46IGF1dG87IGJhY2tncm91bmQ6IG5vbmU7IGRpc3BsYXk6IGJsb2NrOyBzaGFwZS1yZW5kZXJpbmc6IGF1dG87IiB2aWV3Qm94PSIwIDAgMTAwIDEwMCIgcHJlc2VydmVBc3BlY3RSYXRpbz0ieE1pZFlNaWQiPiAgPGNpcmNsZSBjeD0iNTAiIGN5PSI1MCIgZmlsbD0ibm9uZSIgc3Ryb2tlPSIjYzNjM2MzIiBzdHJva2Utd2lkdGg9IjEwIiByPSIzNSIgc3Ryb2tlLWRhc2hhcnJheT0iMTY0LjkzMzYxNDMxMzQ2NDE1IDU2Ljk3Nzg3MTQzNzgyMTM4Ij4gICAgPGFuaW1hdGVUcmFuc2Zvcm0gYXR0cmlidXRlTmFtZT0idHJhbnNmb3JtIiB0eXBlPSJyb3RhdGUiIHJlcGVhdENvdW50PSJpbmRlZmluaXRlIiBkdXI9IjFzIiB2YWx1ZXM9IjAgNTAgNTA7MzYwIDUwIDUwIiBrZXlUaW1lcz0iMDsxIj48L2FuaW1hdGVUcmFuc2Zvcm0+ICA8L2NpcmNsZT48L3N2Zz4=\\\");\\n  background-size: auto calc(min(50%, 400px));\\n}\",{\"id\":\"p1385\"},{\"id\":\"p1383\"},{\"id\":\"p1384\"}],\"margin\":0,\"sizing_mode\":\"stretch_width\",\"align\":\"start\"}},{\"type\":\"object\",\"name\":\"Figure\",\"id\":\"p1397\",\"attributes\":{\"width\":700,\"height\":300,\"margin\":[5,10],\"sizing_mode\":\"fixed\",\"align\":\"start\",\"x_range\":{\"type\":\"object\",\"name\":\"Range1d\",\"id\":\"p1387\",\"attributes\":{\"tags\":[[[\"feature_1\",\"feature_1\",null]],[]],\"start\":-6.796693307805908,\"end\":6.812945338442532,\"reset_start\":-6.796693307805908,\"reset_end\":6.812945338442532}},\"y_range\":{\"type\":\"object\",\"name\":\"Range1d\",\"id\":\"p1388\",\"attributes\":{\"tags\":[[[\"feature_2\",\"feature_2\",null]],{\"type\":\"map\",\"entries\":[[\"invert_yaxis\",false],[\"autorange\",false]]}],\"start\":-5.909730475924883,\"end\":9.215602229847773,\"reset_start\":-5.909730475924883,\"reset_end\":9.215602229847773}},\"x_scale\":{\"type\":\"object\",\"name\":\"LinearScale\",\"id\":\"p1407\"},\"y_scale\":{\"type\":\"object\",\"name\":\"LinearScale\",\"id\":\"p1408\"},\"title\":{\"type\":\"object\",\"name\":\"Title\",\"id\":\"p1400\",\"attributes\":{\"text\":\"Agglomerative Clusters\",\"text_color\":\"black\",\"text_font_size\":\"12pt\"}},\"renderers\":[{\"type\":\"object\",\"name\":\"GlyphRenderer\",\"id\":\"p1433\",\"attributes\":{\"name\":\"0\",\"data_source\":{\"type\":\"object\",\"name\":\"ColumnDataSource\",\"id\":\"p1424\",\"attributes\":{\"selected\":{\"type\":\"object\",\"name\":\"Selection\",\"id\":\"p1425\",\"attributes\":{\"indices\":[],\"line_indices\":[]}},\"selection_policy\":{\"type\":\"object\",\"name\":\"UnionRenderers\",\"id\":\"p1426\"},\"data\":{\"type\":\"map\",\"entries\":[[\"feature_1\",{\"type\":\"ndarray\",\"array\":{\"type\":\"bytes\",\"data\":\"gy2eG2Vg8j+GbXzT/PYBQJCObNBjG/c/Zcqvn08/9j9GvNcRpTDvPxQ+I0ABdwBA8uG/SBAo9z+kL4DLQyHlP/wDVv2tZuc/8ITm11VfEMCAbXsiIOz+PwOQazw25QZAxxrSrlKCib9G2ffSnZECwPD5CxBTpAtAUu4DEY2r9D9ncnGciV33P7imyBnwAd8/i6NxbNwdAUBqJz9MpTUGQHnLP13fPvU/QHZo318eBkCsCaMBsOP7P1bJLI42iPc/T4rQjQnuzz/IYrhtDMgFQMOcT+sNfu2/qA3ixp1O/T+96Iu/asL1vz6C8QTrM/E/nB3YuLeeDUALaOgVmJILwBYhcX3OvQlA+58HzAhkBECD/RbMYOvyv9RWLtZm7QNAmmf2Ks9lDcDCt2PxMIgEwDbERAo6cRFAZZpLKdw0w79uUVMZCD0AQCRPhn0qefw/KpNKUuhoBMDo5elUy0oKQJ+a+4ZzcgNAtZ90J5bFA0CRDg5OwX0AQALWrUl47O0/LxM34j4SA0ACvf3pAPLrPwXQbTySaAFABmXbUE8Z/b/O1sfUyQ75P6BtuGeKrwdAmCUCnA3sCMBUUNNcRrEIwLgckqlOAvk/NE/uyhfZ2z/1u+heJ8cDQLCbtCrd2gNABYyR3UkPBMCgmgwuU9v5v3hwFMtamgJAuVl24PoNAcDvRE7OAxP9P43U4rzprAtAkTPzvbXeAkBCz0RQwef2P0yZNOPEFus/GTR730ZI+r8067oXwYDTP512x+/E/P4/lP/t9soiBEBVXGA2iUYEQK7AaMWyMv6/Zp9TfZU35z+ltGkHzuoAQMtwwHOHpwZAXrUMowFJ4r8eAf1zhH4BQJLrIYINiQjAMpeyTpNeBkDOeLXI+N0IwBcz3sUIZgXAYFk4APmiEMBMEysIPkcCwOj0cdJxOwjAIo2SgQSmB0Aahj7o+csFwPaUE489PwNAPg6p4IYyFECkzP7yz1XQv/TzzW5onRZAlNwQBgUJ9j96w7WEi0zgP0rYm+zVZg9AHHkm0K/7AMD2Okd/Zs8DwK5Ist76XwlALYqgbXiGCsCGlRrRmgAKQEl7cbwrYP0/JlLJRS5eEED4qi3kxBP3P9OoiWRAcwHAAkM/6CtX7T+o3O5YZfTvP36KTE+SMAJAjINft9i9/D+CwutWRN7jPxjkJIuIe+Q/Yga03xS9DEBq2x2zKt4BwEz1tEn5PvQ/L5SlivUJB8AeyqwVhUL9P3Q6Nn3CKfo/XVVSlbw6AEBtub7B94f8P2kO8YQQ2/g/jqtFvwA/8D9VZht1ILsFQOqFlQD4cQTAzhgc5liXAUB4DLqrPZwEQALEGLscn/S/V02DUcC8CEDm6ZQryE71P4T9+V7UqAHAlMSvLAO13L8eDACI0JsFwMWzbMf1c/E/r0LgNwFNwb/PqyjKLTUFwPICUz0KLgZAKCdGXBM//T/IVcIu8dvtvwC8kFL5vPc/uItR+DSu5D9qPzZKauHxv85tWDc/owXASviNyoANBUBA0QzG8sD6Pz+6ahw7BAfAmA0AESRUCcB0KyEBjrAIQFLdph8IzgDAZlZnDorw9D/tSeo3uhUDQLN7Z5qX2ts/OahFK5hr/D9mFY5IoLLlPz7Xwzylv/Q/OqL6q+nS+D/QqCEOp1IRQLCo4ySuHwnAE6XzXWW9EkDcSk/O+1nbPxDwWBtNiBBAl9+ei+isD0A5ekpHELkDQERHKKUXAwRA90Vc6ZPvAUBmL1IWlrb2vwZLo+v/pgRALunM76mpEsBzbVHHL6oEQEJvVdGtAAVAyGrsW54rBUBwUGmhyloPQEOBAGGQJxPA2RZap8WYCUCARJZLqXEAQCsYrYDzJ90/D2RYE7FD+D+MlBvR+hACQEkW37cnBwdAOjTF/TXZBsC/302jndr5P7g+PUSpBwLAnzE37Hit9z8TfqEXPUP9P5Jx2aST7g1AADuySziS+T+OqcMcNhDzv0dIaCHMU8g/8c9AxeZ88T/u45j3i5Pvv+kwHr/Bn/w/SwF7M3lUBEDi6ZxZAO8MwK97rdkDtdC/OEN/8mM44z8tbaupixMEQEq4j2zzfw1AvLnXkGemDEAJLKXDuJIBQGfPOjqpQf6/TzukaVibCkAX+BicssvCP1VvlfCAqAZAdJnTgBixBUBtuNg5537+v45k/nEnIgpAXthojbFzAkAKUrqrYTD5P7LvOnC1Qam/r9+3//1fB0B+eDJzZNX4v67MS1dOWADArlOz9NC84T+uVOTRsFoLQM5SQpQCoOQ/xJPiK9EiBED2rmGRJjoLQFg43qcX4wvAsdHkVls1BsCg8tdD0YbzPyb/YKDIHANAFyVnfkGgAUDY86rWNuz0v7Cr/p3LWPc/JFAQWvso6L/WyAaEolkGQKHRlpecmgBAAIVsfb9wwb/rDS0iRa8AQIC3aiL6JgZAyL9qZM/h5r/NQ66phTADQNkBBCoHbAXA5AUMtjFY2j+Qx7MbTt7RP8X88zZAcvQ/awyeNtP2GMAKSY2cjr8SwNq/jTpIkaA/XdJ2phB0EUAEatwm0GQNQGe93dkzfwXAsLUMGC5UAUDnnygwejgDwJP8pqubOAzADB+IKg720j/8jDlQIdwCwJFbM6FhaAFAK6UwTJzU+z8/ZTc0cgTSP16sMco5MATArHe5V6cTBUC3WWaT/fH8v83vm+DoVwPAFyKTfHZdAcDS75RCnzcJQD6GeVD/6cI/ZhNBTBnA7b/UmrT/9x8EQCzbNwm+LPU/DmZFWvd/AEA4HznXtGoHQCCLevGWk8s/rsQGKtVVAUAGRDftB3/qP6aZYiexrwBAhVoU5szz7L80fkpgnqL8P2XXw/8AHgzArdoegdyfzT/tkNVxA2YDQLycsxIcOey/0Z6l6sQf/r9K1v1u/7HiPxq8NoBEnQFAvOiZiZs50r+bcXYOXwzuv3FhXN+8cApA1i1Javk+BUDHq7k9XeT+Pzsk6OsOSJg/CpJnj69bEMArt468tUv5v+ecnDENQtG/Bjws8WInC0CBK3HueAIRQOgzIWAL4gHAAo78Ao6uAUDuUXg6A0cEQIWHtqZLew/AcYsItcYhAEAi9Z8Tc5z2v93IZt+HYfg/NLcyniHY+j9UGIUjrS3+P5nkEjfG3/0/fnhYfrMMC0BETTaKZ9reP5xgvos8twjAuOBwjbkzAEAoYDJG4lAEQGJSLZ+ze/U/5ox3PgJk/z/G0ECW1VkBQKr7r75X6glAonnaNDcVDkANb4YhsHP2vz4ACW3PM+A/yKAN0zsYE0CzioWFp0EBwGiio9qX+APAFDjQQvcSCkBZxA8I05cEQOEgoP1PawVA4M9AZkc+9D8NQDvg/9vIv5OWO7yd6AbAiIAEYyY/0j/0PjzAILHjP9xUJE6J2wrAZkkaznbw9L8fjxOyzDALwKr6z7YghXC/AjMPvLwY5j9M1ntBHEYHQNU3cfOPp8E/oU2dBHrnAEBRxO2nW5oLQAamFbUQdAFAYDf+CK2XBkDO46d0/tsGQF+n5phinP4/0OvdZgmtBUCR1RIanWsJQN3jUwd/EwJAwnXHb7OC/T/WcjjHCZj+P6hCknwbMPM/o/PQDBSpAED0pIotgw0TQI7Lq/Sydfo/n3eTxJ+q7b94YmxWqkfVP5ZI3oAzghDAKI6xmYJh5T+0eoIJCVv5P+ZKFjRUvAfAUvC8ch96B8A3ZUxEehbyv4NFpQ7lr+6/Nn+Zs2zFAkC4leHhLTz/P11qPXxlzwJAcPW+t0vvBUCsu7y324Tjv9BRl55BOdY/aWDMBO5A/T9ly5gtNRgEQGIv06ko6wVA9XL/+GEfAEAda8jyeXDzP9tV4ouzbwhAVA2jA0xs4L/YIUbQB+3YP0fre+g9IN0/DBLNsjOP8j/IQNxczAQKQLI36HGrdQJATHWaeoMy7L9bq3y7Ee8HQIfBueUQ7gBA5z/UITSe+j8rgk/n16UCwJKdz3mxn/O/lUPS3i0a+j+OccQ5FUELwIc7fuv9I88/p5zQISN+AkAUSx3+5xXqP+vPhUG1PgBAlnwcd00t+z8Yyk5VQUjlP3QXahq+FgpAh4zcPXBm1z+V7JT4ev3vP5RgwphBHtG/MlvOIBaVD0B+O69HINkLwNz+Aegh7eW/kO29UF0x3D+9FCwD4WAFwNymWUtnINg/c0mcgsPvBUApWLXm3gsCQLZzRk42IQVA6MkOMgFFA0BPocfCyVMLwGpQxP3nXug/ic48hsZg8D+Z73BtkWr+v8MPqzS0fgHAXK2eFW3k3z+o0Lj+1W8GQL4scnUcQgJAVVL5GMJb8z+kEvyDKX3vP8SSqXgI2QtAHteN8m0B9b9bSewyzrHaPzJe33bq++Q/s9r5Hh8WDsCvT75c9+sLQJ4PEqGp8Ou/mj34qB7gE0B/E9/Qu+gAQLAJVVhXhQVARpdpXYfhDkC/9rqA/Qb6v3P0Z9yCggRAJ0PDiP6++7/4yaZxChn+Pw2CHT9AvgVApWoGWcCLCEBMH5SMSaHyP0ApW3/1SuC/vH3FupshEUCwfAqfYqf6PybDNRWKoPs/ZnfDP8QU8j8s69nzJl7sP9gs4yqhtQpATwPbrhKqwj/46h3LIAbdv5Ccax5iEwJA3o4oOXI6EECprrrTauwFQHQ46QrQ59Q/17Y2A/h60D9pWdYqUM8KQHkNX14a3wlATA/sr6HWAUAKhHChVLIAwJ3EN5MlCPg/Ks4Su8mIBsD4Pw1EHHvxv0kUbuZEiQDA/BPVfWm0BkD568smwsb+P9A9CZMxhQBA6en0dOLMC0AkZcVbevv9P+2hv3hCqfk/NgUkhw244j9bEFQjXVK9vxrAnjhZ4+M/800aIbwa/L8ifEFF4AMMQBVRuzYnFgDAMT70qyH5A0C3yiM42Ef7Pxah2cWIxvg/gcHpjW92AMDRrWOZwBYDwHQjiVCvgAlABG7I9MUoCUCkSguyBIsBQHtWIHLBa5i/6RDA9TvICMDsgQsN7Uvzvy7j66gAewJA2iVIs6Yv+T8ikEmm9wUIQEtBoux1i/E/avrmnETDAMChQViVjAoAQFa5xEW69wVA03D6OJP/+z/ohzABNDjSP9vPKUwzWbu/msYqtvuc7D952sQumLD/P3xK9FTYzfc/HckCWozR/D/XnC8JwiL+v8CrlYWUqgHAFyTw4uaTCUCV5A6Txg4AwADi3mdFtQFASVa0hXO2AUD6xqpHu3AJQO8Ao3hxywDAHC0K3k+U/z+HTsdWtor3P8betxLaN+w/0h5LH0nw9j/4a0BPl9vZvyS1eNH1RwxAltVsj3C0AsBPacbEKhL7Pz1Xk0XB8QnAL0vJpWcpBEBInyQWdtTdP0Tu30GVOd6/+uqs22wr+79qBGEy5nTgP7RCX18xSeY/qhT4T3wI+j+iPx6K58X+P5xHoSfyYr2/o3FhojGRCsBcxV7VCnHyP/BwqRAtS9e/mxfVsD0GBUCESnP9/yH7P5t6WIHSWw1A4ry7R99iB8DMAO2onQQNQIBL8EJ+C/w/hmpf7ovE579+D2KOIXwCQMQZlq2Jjvg/pZNAov0ZDMBMFdEoGAvqv4rYqpJwYgvAxPSG897jC8BQQB36TnsGQK3qdpz6HP8/mp+pPZY8uD9gZmUfPvvGPyfxsMv4aQpA4pHW5gAXB8B4fV+XsYvwP1lPSL8js/E/9wau0iWB3b9zWKZUQ/AHQNJbhjW4lgFASLaWwbyE9D8bs9/leibSP+WAWB2KvQXA/KmylZgOBUArAstlmCL8P7m3fQ4SzALAhXNeuxxgAEBQEq+F+G/jv23DDzfDrAJAQAcG4pcy1r+JNWbW+RL+P+11Zj47WgJAMTUFBjiV9T9rBjkRVxoZQKqivcmZ1fQ/8G8MCrkd/79uEiWhAz4CQFgnrjdGWQNAUiJv7O4PCUAK4cNZLIcCQLgPkzi3LwzAhxGjsU7T/j82tHP1RhGrv6UCCmxC/AHAUdYJWghQ9D+rFsx2JEwGQFBy6C+Q6va/O40TDmivtj+k6KPwlFgDQCo7CLTdAPA/WCMg5zC9A0D4lueW2y4MQOJ6Vij0og5AbDT2lUFuA8C3NvTCFXkPQIHBYjhSowBAqnELt87t9D8nsb7cv9kJQNOJ7zwAJQzAmlON50AAAUCcjlBOR4kBQAdg8gPIhwJAuNDUCYAO+z/3xCGfiQAOwL68s3/PwQdAF8GRf29HBsDJwYI8+rAFQNe7RF1VyQ1A1BSUNxmb+D/yloy0MbkAwF5DQLlt0w3A2uyevKSiCMCLNFqJNDkAwDJrUCqCuQ5Ad0dueubkAcBYDCM65338P5EhltSZ1u8/cAMngSY/BUBQyC/LHwvGP8Z2VyIU+fo/FplIPbUtzL/PQITV0ubTv/5ij+RWewjAvHiLbMdH6z/A/ws3kA/8P76nDrANWuQ/xQzD8FqeA0CqzFKM657zP0CxKm2VXPc/k9DwXd8MBEAGvP9ylQULQGNj6yF34ALAhblT1dRTAECfsS41QwUAQPaP21THvPs/sc4/jvbKDEDLNq5SjyD+v/S2MBBz4OG/UOCUkirY87/6bAsEA1u3v9bGw1aHlfu/qaE0paDR/r/JEbX30Gn4vzhZUE4Ieso/2pUqzXjA9L9PcUs33UkFQBTdCh7Y3gVAJL4HpjpT2D9DD+AjqtgDQNd00k3kUQhADcUE7zlNDEDj9lBu+dT8vzrD5EPK1AbAFvEju1pP9r84rxD1oVzzP/JWphu0JPC/GhgDy7v6AUDy/SwcOLIGwI88aLhDbva/S0QDFkqB/T++Od8jNgsLwHzP9uJDdAVAKaGdkhG/BUANUYWz8L7vPwQjXaKu0vQ/sFFuLRUaBMAAPOsjT50EQMSGby1m5wDAF9Z/BAze/z/VhGSpf5wBQMr1mtbuzwxAkK1RdtAr6j88rR8ZZ5/uP/SZiBaWxPM/JK/TQLTLCEC0GUazcZkDQKpCYT1vGOK/7PHO1BYbvL9baXfjfUYKQMNvpFD//fg/3G8Daweu6L8eCEM2TY72P+oQNeG7pQPANmSmfuWfAEDGLHlaPVIHQI7wrTfgsP6//n1bc6ddEMCchP5VOfcKQG8X4KXJNgHA2/z4u3BNAEB9I0+91unyP6TuO4+DmQPAanVr7ECj+j9F3HGt6kjxv2RmjCPXl/Q/1REA45RDAsBxCLrVZYsCQHaiWtwzYgRAdVrbekfvBUAh0HWtE2XzPygE116XrA5Aloe8dnmu+z9TIHZ/g5AJQKPt3mgpjwvA4WJmDuzR/T+8UKp83HHzP9cpqWpL1fg/z7wJef5qAEBX9p0f2GPyP0PoVMFAsPo/je1xq2Ws9j9vlRfkdm33vxVMoqN52Pw/iKSTDtRF9D+nVhQiKmAEQGCEUQ/n0AXABJhrGUZIEUCSWg5D1rDjP6QIgQ6qQ+I/UrPm1oOf+j8g3yqK4SgHQG6IEoBWFxFAmyZH9MPmCUB4xcayo5EDQHxOCZ5S5gxAfhtHvAO1BkC0nNrUuMb+Pz68DKTnJPQ/\"},\"shape\":[702],\"dtype\":\"float64\",\"order\":\"little\"}],[\"feature_2\",{\"type\":\"ndarray\",\"array\":{\"type\":\"bytes\",\"data\":\"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\"},\"shape\":[702],\"dtype\":\"float64\",\"order\":\"little\"}],[\"agglomerative_hyphen_minus_segments\",[0,0,0,0,0,0,0,0,0,0,0,0,0,0,0,0,0,0,0,0,0,0,0,0,0,0,0,0,0,0,0,0,0,0,0,0,0,0,0,0,0,0,0,0,0,0,0,0,0,0,0,0,0,0,0,0,0,0,0,0,0,0,0,0,0,0,0,0,0,0,0,0,0,0,0,0,0,0,0,0,0,0,0,0,0,0,0,0,0,0,0,0,0,0,0,0,0,0,0,0,0,0,0,0,0,0,0,0,0,0,0,0,0,0,0,0,0,0,0,0,0,0,0,0,0,0,0,0,0,0,0,0,0,0,0,0,0,0,0,0,0,0,0,0,0,0,0,0,0,0,0,0,0,0,0,0,0,0,0,0,0,0,0,0,0,0,0,0,0,0,0,0,0,0,0,0,0,0,0,0,0,0,0,0,0,0,0,0,0,0,0,0,0,0,0,0,0,0,0,0,0,0,0,0,0,0,0,0,0,0,0,0,0,0,0,0,0,0,0,0,0,0,0,0,0,0,0,0,0,0,0,0,0,0,0,0,0,0,0,0,0,0,0,0,0,0,0,0,0,0,0,0,0,0,0,0,0,0,0,0,0,0,0,0,0,0,0,0,0,0,0,0,0,0,0,0,0,0,0,0,0,0,0,0,0,0,0,0,0,0,0,0,0,0,0,0,0,0,0,0,0,0,0,0,0,0,0,0,0,0,0,0,0,0,0,0,0,0,0,0,0,0,0,0,0,0,0,0,0,0,0,0,0,0,0,0,0,0,0,0,0,0,0,0,0,0,0,0,0,0,0,0,0,0,0,0,0,0,0,0,0,0,0,0,0,0,0,0,0,0,0,0,0,0,0,0,0,0,0,0,0,0,0,0,0,0,0,0,0,0,0,0,0,0,0,0,0,0,0,0,0,0,0,0,0,0,0,0,0,0,0,0,0,0,0,0,0,0,0,0,0,0,0,0,0,0,0,0,0,0,0,0,0,0,0,0,0,0,0,0,0,0,0,0,0,0,0,0,0,0,0,0,0,0,0,0,0,0,0,0,0,0,0,0,0,0,0,0,0,0,0,0,0,0,0,0,0,0,0,0,0,0,0,0,0,0,0,0,0,0,0,0,0,0,0,0,0,0,0,0,0,0,0,0,0,0,0,0,0,0,0,0,0,0,0,0,0,0,0,0,0,0,0,0,0,0,0,0,0,0,0,0,0,0,0,0,0,0,0,0,0,0,0,0,0,0,0,0,0,0,0,0,0,0,0,0,0,0,0,0,0,0,0,0,0,0,0,0,0,0,0,0,0,0,0,0,0,0,0,0,0,0,0,0,0,0,0,0,0,0,0,0,0,0,0,0,0,0,0,0,0,0,0,0,0,0,0,0,0,0,0,0,0,0,0,0,0,0,0,0,0,0,0,0,0,0,0,0,0,0,0,0,0,0,0,0,0,0,0,0,0,0,0,0,0,0,0,0,0,0,0,0,0,0,0,0,0,0,0,0,0,0,0,0,0,0,0,0,0,0,0,0,0,0,0,0,0,0,0,0,0,0,0,0,0,0,0,0,0,0,0,0,0,0,0,0,0,0,0,0,0,0]]]}}},\"view\":{\"type\":\"object\",\"name\":\"CDSView\",\"id\":\"p1434\",\"attributes\":{\"filter\":{\"type\":\"object\",\"name\":\"AllIndices\",\"id\":\"p1435\"}}},\"glyph\":{\"type\":\"object\",\"name\":\"Scatter\",\"id\":\"p1430\",\"attributes\":{\"tags\":[\"apply_ranges\"],\"x\":{\"type\":\"field\",\"field\":\"feature_1\"},\"y\":{\"type\":\"field\",\"field\":\"feature_2\"},\"size\":{\"type\":\"value\",\"value\":5.477225575051661},\"line_color\":{\"type\":\"value\",\"value\":\"#30a2da\"},\"fill_color\":{\"type\":\"value\",\"value\":\"#30a2da\"},\"hatch_color\":{\"type\":\"value\",\"value\":\"#30a2da\"}}},\"selection_glyph\":{\"type\":\"object\",\"name\":\"Scatter\",\"id\":\"p1438\",\"attributes\":{\"tags\":[\"apply_ranges\"],\"x\":{\"type\":\"field\",\"field\":\"feature_1\"},\"y\":{\"type\":\"field\",\"field\":\"feature_2\"},\"size\":{\"type\":\"value\",\"value\":5.477225575051661},\"angle\":{\"type\":\"value\",\"value\":0.0},\"line_color\":{\"type\":\"value\",\"value\":\"#30a2da\"},\"line_alpha\":{\"type\":\"value\",\"value\":1.0},\"line_width\":{\"type\":\"value\",\"value\":1},\"line_join\":{\"type\":\"value\",\"value\":\"bevel\"},\"line_cap\":{\"type\":\"value\",\"value\":\"butt\"},\"line_dash\":{\"type\":\"value\",\"value\":[]},\"line_dash_offset\":{\"type\":\"value\",\"value\":0},\"fill_color\":{\"type\":\"value\",\"value\":\"#30a2da\"},\"fill_alpha\":{\"type\":\"value\",\"value\":1.0},\"hatch_color\":{\"type\":\"value\",\"value\":\"#30a2da\"},\"hatch_alpha\":{\"type\":\"value\",\"value\":1.0},\"hatch_scale\":{\"type\":\"value\",\"value\":12.0},\"hatch_pattern\":{\"type\":\"value\",\"value\":null},\"hatch_weight\":{\"type\":\"value\",\"value\":1.0},\"marker\":{\"type\":\"value\",\"value\":\"circle\"}}},\"nonselection_glyph\":{\"type\":\"object\",\"name\":\"Scatter\",\"id\":\"p1431\",\"attributes\":{\"tags\":[\"apply_ranges\"],\"x\":{\"type\":\"field\",\"field\":\"feature_1\"},\"y\":{\"type\":\"field\",\"field\":\"feature_2\"},\"size\":{\"type\":\"value\",\"value\":5.477225575051661},\"line_color\":{\"type\":\"value\",\"value\":\"#30a2da\"},\"line_alpha\":{\"type\":\"value\",\"value\":0.1},\"fill_color\":{\"type\":\"value\",\"value\":\"#30a2da\"},\"fill_alpha\":{\"type\":\"value\",\"value\":0.1},\"hatch_color\":{\"type\":\"value\",\"value\":\"#30a2da\"},\"hatch_alpha\":{\"type\":\"value\",\"value\":0.1}}},\"muted_glyph\":{\"type\":\"object\",\"name\":\"Scatter\",\"id\":\"p1432\",\"attributes\":{\"tags\":[\"apply_ranges\"],\"x\":{\"type\":\"field\",\"field\":\"feature_1\"},\"y\":{\"type\":\"field\",\"field\":\"feature_2\"},\"size\":{\"type\":\"value\",\"value\":5.477225575051661},\"line_color\":{\"type\":\"value\",\"value\":\"#30a2da\"},\"line_alpha\":{\"type\":\"value\",\"value\":0.2},\"fill_color\":{\"type\":\"value\",\"value\":\"#30a2da\"},\"fill_alpha\":{\"type\":\"value\",\"value\":0.2},\"hatch_color\":{\"type\":\"value\",\"value\":\"#30a2da\"},\"hatch_alpha\":{\"type\":\"value\",\"value\":0.2}}}}},{\"type\":\"object\",\"name\":\"GlyphRenderer\",\"id\":\"p1448\",\"attributes\":{\"name\":\"1\",\"data_source\":{\"type\":\"object\",\"name\":\"ColumnDataSource\",\"id\":\"p1439\",\"attributes\":{\"selected\":{\"type\":\"object\",\"name\":\"Selection\",\"id\":\"p1440\",\"attributes\":{\"indices\":[],\"line_indices\":[]}},\"selection_policy\":{\"type\":\"object\",\"name\":\"UnionRenderers\",\"id\":\"p1441\"},\"data\":{\"type\":\"map\",\"entries\":[[\"feature_1\",{\"type\":\"ndarray\",\"array\":{\"type\":\"bytes\",\"data\":\"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\"},\"shape\":[298],\"dtype\":\"float64\",\"order\":\"little\"}],[\"feature_2\",{\"type\":\"ndarray\",\"array\":{\"type\":\"bytes\",\"data\":\"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\"},\"shape\":[298],\"dtype\":\"float64\",\"order\":\"little\"}],[\"agglomerative_hyphen_minus_segments\",[1,1,1,1,1,1,1,1,1,1,1,1,1,1,1,1,1,1,1,1,1,1,1,1,1,1,1,1,1,1,1,1,1,1,1,1,1,1,1,1,1,1,1,1,1,1,1,1,1,1,1,1,1,1,1,1,1,1,1,1,1,1,1,1,1,1,1,1,1,1,1,1,1,1,1,1,1,1,1,1,1,1,1,1,1,1,1,1,1,1,1,1,1,1,1,1,1,1,1,1,1,1,1,1,1,1,1,1,1,1,1,1,1,1,1,1,1,1,1,1,1,1,1,1,1,1,1,1,1,1,1,1,1,1,1,1,1,1,1,1,1,1,1,1,1,1,1,1,1,1,1,1,1,1,1,1,1,1,1,1,1,1,1,1,1,1,1,1,1,1,1,1,1,1,1,1,1,1,1,1,1,1,1,1,1,1,1,1,1,1,1,1,1,1,1,1,1,1,1,1,1,1,1,1,1,1,1,1,1,1,1,1,1,1,1,1,1,1,1,1,1,1,1,1,1,1,1,1,1,1,1,1,1,1,1,1,1,1,1,1,1,1,1,1,1,1,1,1,1,1,1,1,1,1,1,1,1,1,1,1,1,1,1,1,1,1,1,1,1,1,1,1,1,1,1,1,1,1,1,1,1,1,1,1,1,1,1,1,1,1,1,1,1,1,1,1,1,1]]]}}},\"view\":{\"type\":\"object\",\"name\":\"CDSView\",\"id\":\"p1449\",\"attributes\":{\"filter\":{\"type\":\"object\",\"name\":\"AllIndices\",\"id\":\"p1450\"}}},\"glyph\":{\"type\":\"object\",\"name\":\"Scatter\",\"id\":\"p1445\",\"attributes\":{\"tags\":[\"apply_ranges\"],\"x\":{\"type\":\"field\",\"field\":\"feature_1\"},\"y\":{\"type\":\"field\",\"field\":\"feature_2\"},\"size\":{\"type\":\"value\",\"value\":5.477225575051661},\"line_color\":{\"type\":\"value\",\"value\":\"#fc4f30\"},\"fill_color\":{\"type\":\"value\",\"value\":\"#fc4f30\"},\"hatch_color\":{\"type\":\"value\",\"value\":\"#fc4f30\"}}},\"selection_glyph\":{\"type\":\"object\",\"name\":\"Scatter\",\"id\":\"p1452\",\"attributes\":{\"tags\":[\"apply_ranges\"],\"x\":{\"type\":\"field\",\"field\":\"feature_1\"},\"y\":{\"type\":\"field\",\"field\":\"feature_2\"},\"size\":{\"type\":\"value\",\"value\":5.477225575051661},\"angle\":{\"type\":\"value\",\"value\":0.0},\"line_color\":{\"type\":\"value\",\"value\":\"#fc4f30\"},\"line_alpha\":{\"type\":\"value\",\"value\":1.0},\"line_width\":{\"type\":\"value\",\"value\":1},\"line_join\":{\"type\":\"value\",\"value\":\"bevel\"},\"line_cap\":{\"type\":\"value\",\"value\":\"butt\"},\"line_dash\":{\"type\":\"value\",\"value\":[]},\"line_dash_offset\":{\"type\":\"value\",\"value\":0},\"fill_color\":{\"type\":\"value\",\"value\":\"#fc4f30\"},\"fill_alpha\":{\"type\":\"value\",\"value\":1.0},\"hatch_color\":{\"type\":\"value\",\"value\":\"#fc4f30\"},\"hatch_alpha\":{\"type\":\"value\",\"value\":1.0},\"hatch_scale\":{\"type\":\"value\",\"value\":12.0},\"hatch_pattern\":{\"type\":\"value\",\"value\":null},\"hatch_weight\":{\"type\":\"value\",\"value\":1.0},\"marker\":{\"type\":\"value\",\"value\":\"circle\"}}},\"nonselection_glyph\":{\"type\":\"object\",\"name\":\"Scatter\",\"id\":\"p1446\",\"attributes\":{\"tags\":[\"apply_ranges\"],\"x\":{\"type\":\"field\",\"field\":\"feature_1\"},\"y\":{\"type\":\"field\",\"field\":\"feature_2\"},\"size\":{\"type\":\"value\",\"value\":5.477225575051661},\"line_color\":{\"type\":\"value\",\"value\":\"#fc4f30\"},\"line_alpha\":{\"type\":\"value\",\"value\":0.1},\"fill_color\":{\"type\":\"value\",\"value\":\"#fc4f30\"},\"fill_alpha\":{\"type\":\"value\",\"value\":0.1},\"hatch_color\":{\"type\":\"value\",\"value\":\"#fc4f30\"},\"hatch_alpha\":{\"type\":\"value\",\"value\":0.1}}},\"muted_glyph\":{\"type\":\"object\",\"name\":\"Scatter\",\"id\":\"p1447\",\"attributes\":{\"tags\":[\"apply_ranges\"],\"x\":{\"type\":\"field\",\"field\":\"feature_1\"},\"y\":{\"type\":\"field\",\"field\":\"feature_2\"},\"size\":{\"type\":\"value\",\"value\":5.477225575051661},\"line_color\":{\"type\":\"value\",\"value\":\"#fc4f30\"},\"line_alpha\":{\"type\":\"value\",\"value\":0.2},\"fill_color\":{\"type\":\"value\",\"value\":\"#fc4f30\"},\"fill_alpha\":{\"type\":\"value\",\"value\":0.2},\"hatch_color\":{\"type\":\"value\",\"value\":\"#fc4f30\"},\"hatch_alpha\":{\"type\":\"value\",\"value\":0.2}}}}}],\"toolbar\":{\"type\":\"object\",\"name\":\"Toolbar\",\"id\":\"p1406\",\"attributes\":{\"tools\":[{\"type\":\"object\",\"name\":\"WheelZoomTool\",\"id\":\"p1392\",\"attributes\":{\"tags\":[\"hv_created\"],\"zoom_together\":\"none\"}},{\"type\":\"object\",\"name\":\"HoverTool\",\"id\":\"p1393\",\"attributes\":{\"tags\":[\"hv_created\"],\"renderers\":[{\"id\":\"p1433\"},{\"id\":\"p1448\"}],\"tooltips\":[[\"agglomerative-segments\",\"@{agglomerative_hyphen_minus_segments}\"],[\"feature_1\",\"@{feature_1}\"],[\"feature_2\",\"@{feature_2}\"]]}},{\"type\":\"object\",\"name\":\"SaveTool\",\"id\":\"p1419\"},{\"type\":\"object\",\"name\":\"PanTool\",\"id\":\"p1420\"},{\"type\":\"object\",\"name\":\"BoxZoomTool\",\"id\":\"p1421\",\"attributes\":{\"overlay\":{\"type\":\"object\",\"name\":\"BoxAnnotation\",\"id\":\"p1422\",\"attributes\":{\"syncable\":false,\"level\":\"overlay\",\"visible\":false,\"left_units\":\"canvas\",\"right_units\":\"canvas\",\"bottom_units\":\"canvas\",\"top_units\":\"canvas\",\"line_color\":\"black\",\"line_alpha\":1.0,\"line_width\":2,\"line_dash\":[4,4],\"fill_color\":\"lightgrey\",\"fill_alpha\":0.5}}}},{\"type\":\"object\",\"name\":\"ResetTool\",\"id\":\"p1423\"}],\"active_drag\":{\"id\":\"p1420\"},\"active_scroll\":{\"id\":\"p1392\"}}},\"left\":[{\"type\":\"object\",\"name\":\"LinearAxis\",\"id\":\"p1414\",\"attributes\":{\"ticker\":{\"type\":\"object\",\"name\":\"BasicTicker\",\"id\":\"p1415\",\"attributes\":{\"mantissas\":[1,2,5]}},\"formatter\":{\"type\":\"object\",\"name\":\"BasicTickFormatter\",\"id\":\"p1416\"},\"axis_label\":\"feature_2\",\"major_label_policy\":{\"type\":\"object\",\"name\":\"AllLabels\",\"id\":\"p1417\"}}}],\"right\":[{\"type\":\"object\",\"name\":\"Legend\",\"id\":\"p1436\",\"attributes\":{\"location\":[0,0],\"title\":\"agglomerative-segments\",\"click_policy\":\"mute\",\"items\":[{\"type\":\"object\",\"name\":\"LegendItem\",\"id\":\"p1437\",\"attributes\":{\"label\":{\"type\":\"value\",\"value\":\"0\"},\"renderers\":[{\"id\":\"p1433\"}]}},{\"type\":\"object\",\"name\":\"LegendItem\",\"id\":\"p1451\",\"attributes\":{\"label\":{\"type\":\"value\",\"value\":\"1\"},\"renderers\":[{\"id\":\"p1448\"}]}}]}}],\"below\":[{\"type\":\"object\",\"name\":\"LinearAxis\",\"id\":\"p1409\",\"attributes\":{\"ticker\":{\"type\":\"object\",\"name\":\"BasicTicker\",\"id\":\"p1410\",\"attributes\":{\"mantissas\":[1,2,5]}},\"formatter\":{\"type\":\"object\",\"name\":\"BasicTickFormatter\",\"id\":\"p1411\"},\"axis_label\":\"feature_1\",\"major_label_policy\":{\"type\":\"object\",\"name\":\"AllLabels\",\"id\":\"p1412\"}}}],\"center\":[{\"type\":\"object\",\"name\":\"Grid\",\"id\":\"p1413\",\"attributes\":{\"axis\":{\"id\":\"p1409\"},\"grid_line_color\":null}},{\"type\":\"object\",\"name\":\"Grid\",\"id\":\"p1418\",\"attributes\":{\"dimension\":1,\"axis\":{\"id\":\"p1414\"},\"grid_line_color\":null}}],\"min_border_top\":10,\"min_border_bottom\":10,\"min_border_left\":10,\"min_border_right\":10,\"output_backend\":\"webgl\"}},{\"type\":\"object\",\"name\":\"Spacer\",\"id\":\"p1454\",\"attributes\":{\"name\":\"HSpacer01787\",\"stylesheets\":[\"\\n:host(.pn-loading.pn-arc):before, .pn-loading.pn-arc:before {\\n  background-image: url(\\\"data:image/svg+xml;base64,PHN2ZyB4bWxucz0iaHR0cDovL3d3dy53My5vcmcvMjAwMC9zdmciIHN0eWxlPSJtYXJnaW46IGF1dG87IGJhY2tncm91bmQ6IG5vbmU7IGRpc3BsYXk6IGJsb2NrOyBzaGFwZS1yZW5kZXJpbmc6IGF1dG87IiB2aWV3Qm94PSIwIDAgMTAwIDEwMCIgcHJlc2VydmVBc3BlY3RSYXRpbz0ieE1pZFlNaWQiPiAgPGNpcmNsZSBjeD0iNTAiIGN5PSI1MCIgZmlsbD0ibm9uZSIgc3Ryb2tlPSIjYzNjM2MzIiBzdHJva2Utd2lkdGg9IjEwIiByPSIzNSIgc3Ryb2tlLWRhc2hhcnJheT0iMTY0LjkzMzYxNDMxMzQ2NDE1IDU2Ljk3Nzg3MTQzNzgyMTM4Ij4gICAgPGFuaW1hdGVUcmFuc2Zvcm0gYXR0cmlidXRlTmFtZT0idHJhbnNmb3JtIiB0eXBlPSJyb3RhdGUiIHJlcGVhdENvdW50PSJpbmRlZmluaXRlIiBkdXI9IjFzIiB2YWx1ZXM9IjAgNTAgNTA7MzYwIDUwIDUwIiBrZXlUaW1lcz0iMDsxIj48L2FuaW1hdGVUcmFuc2Zvcm0+ICA8L2NpcmNsZT48L3N2Zz4=\\\");\\n  background-size: auto calc(min(50%, 400px));\\n}\",{\"id\":\"p1385\"},{\"id\":\"p1383\"},{\"id\":\"p1384\"}],\"margin\":0,\"sizing_mode\":\"stretch_width\",\"align\":\"start\"}}]}}],\"defs\":[{\"type\":\"model\",\"name\":\"ReactiveHTML1\"},{\"type\":\"model\",\"name\":\"FlexBox1\",\"properties\":[{\"name\":\"align_content\",\"kind\":\"Any\",\"default\":\"flex-start\"},{\"name\":\"align_items\",\"kind\":\"Any\",\"default\":\"flex-start\"},{\"name\":\"flex_direction\",\"kind\":\"Any\",\"default\":\"row\"},{\"name\":\"flex_wrap\",\"kind\":\"Any\",\"default\":\"wrap\"},{\"name\":\"justify_content\",\"kind\":\"Any\",\"default\":\"flex-start\"}]},{\"type\":\"model\",\"name\":\"FloatPanel1\",\"properties\":[{\"name\":\"config\",\"kind\":\"Any\",\"default\":{\"type\":\"map\"}},{\"name\":\"contained\",\"kind\":\"Any\",\"default\":true},{\"name\":\"position\",\"kind\":\"Any\",\"default\":\"right-top\"},{\"name\":\"offsetx\",\"kind\":\"Any\",\"default\":null},{\"name\":\"offsety\",\"kind\":\"Any\",\"default\":null},{\"name\":\"theme\",\"kind\":\"Any\",\"default\":\"primary\"},{\"name\":\"status\",\"kind\":\"Any\",\"default\":\"normalized\"}]},{\"type\":\"model\",\"name\":\"GridStack1\",\"properties\":[{\"name\":\"mode\",\"kind\":\"Any\",\"default\":\"warn\"},{\"name\":\"ncols\",\"kind\":\"Any\",\"default\":null},{\"name\":\"nrows\",\"kind\":\"Any\",\"default\":null},{\"name\":\"allow_resize\",\"kind\":\"Any\",\"default\":true},{\"name\":\"allow_drag\",\"kind\":\"Any\",\"default\":true},{\"name\":\"state\",\"kind\":\"Any\",\"default\":[]}]},{\"type\":\"model\",\"name\":\"drag1\",\"properties\":[{\"name\":\"slider_width\",\"kind\":\"Any\",\"default\":5},{\"name\":\"slider_color\",\"kind\":\"Any\",\"default\":\"black\"},{\"name\":\"value\",\"kind\":\"Any\",\"default\":50}]},{\"type\":\"model\",\"name\":\"click1\",\"properties\":[{\"name\":\"terminal_output\",\"kind\":\"Any\",\"default\":\"\"},{\"name\":\"debug_name\",\"kind\":\"Any\",\"default\":\"\"},{\"name\":\"clears\",\"kind\":\"Any\",\"default\":0}]},{\"type\":\"model\",\"name\":\"FastWrapper1\",\"properties\":[{\"name\":\"object\",\"kind\":\"Any\",\"default\":null},{\"name\":\"style\",\"kind\":\"Any\",\"default\":null}]},{\"type\":\"model\",\"name\":\"NotificationAreaBase1\",\"properties\":[{\"name\":\"js_events\",\"kind\":\"Any\",\"default\":{\"type\":\"map\"}},{\"name\":\"position\",\"kind\":\"Any\",\"default\":\"bottom-right\"},{\"name\":\"_clear\",\"kind\":\"Any\",\"default\":0}]},{\"type\":\"model\",\"name\":\"NotificationArea1\",\"properties\":[{\"name\":\"js_events\",\"kind\":\"Any\",\"default\":{\"type\":\"map\"}},{\"name\":\"notifications\",\"kind\":\"Any\",\"default\":[]},{\"name\":\"position\",\"kind\":\"Any\",\"default\":\"bottom-right\"},{\"name\":\"_clear\",\"kind\":\"Any\",\"default\":0},{\"name\":\"types\",\"kind\":\"Any\",\"default\":[{\"type\":\"map\",\"entries\":[[\"type\",\"warning\"],[\"background\",\"#ffc107\"],[\"icon\",{\"type\":\"map\",\"entries\":[[\"className\",\"fas fa-exclamation-triangle\"],[\"tagName\",\"i\"],[\"color\",\"white\"]]}]]},{\"type\":\"map\",\"entries\":[[\"type\",\"info\"],[\"background\",\"#007bff\"],[\"icon\",{\"type\":\"map\",\"entries\":[[\"className\",\"fas fa-info-circle\"],[\"tagName\",\"i\"],[\"color\",\"white\"]]}]]}]}]},{\"type\":\"model\",\"name\":\"Notification\",\"properties\":[{\"name\":\"background\",\"kind\":\"Any\",\"default\":null},{\"name\":\"duration\",\"kind\":\"Any\",\"default\":3000},{\"name\":\"icon\",\"kind\":\"Any\",\"default\":null},{\"name\":\"message\",\"kind\":\"Any\",\"default\":\"\"},{\"name\":\"notification_type\",\"kind\":\"Any\",\"default\":null},{\"name\":\"_destroyed\",\"kind\":\"Any\",\"default\":false}]},{\"type\":\"model\",\"name\":\"TemplateActions1\",\"properties\":[{\"name\":\"open_modal\",\"kind\":\"Any\",\"default\":0},{\"name\":\"close_modal\",\"kind\":\"Any\",\"default\":0}]},{\"type\":\"model\",\"name\":\"BootstrapTemplateActions1\",\"properties\":[{\"name\":\"open_modal\",\"kind\":\"Any\",\"default\":0},{\"name\":\"close_modal\",\"kind\":\"Any\",\"default\":0}]},{\"type\":\"model\",\"name\":\"MaterialTemplateActions1\",\"properties\":[{\"name\":\"open_modal\",\"kind\":\"Any\",\"default\":0},{\"name\":\"close_modal\",\"kind\":\"Any\",\"default\":0}]}]}};\n",
       "  var render_items = [{\"docid\":\"c6ad7a3c-7e06-417c-9203-0ac0db8ec0d5\",\"roots\":{\"p1382\":\"e8c84733-3046-42b3-9f0e-e1a4844aefb3\"},\"root_ids\":[\"p1382\"]}];\n",
       "  var docs = Object.values(docs_json)\n",
       "  if (!docs) {\n",
       "    return\n",
       "  }\n",
       "  const py_version = docs[0].version.replace('rc', '-rc.').replace('.dev', '-dev.')\n",
       "  const is_dev = py_version.indexOf(\"+\") !== -1 || py_version.indexOf(\"-\") !== -1\n",
       "  function embed_document(root) {\n",
       "    var Bokeh = get_bokeh(root)\n",
       "    Bokeh.embed.embed_items_notebook(docs_json, render_items);\n",
       "    for (const render_item of render_items) {\n",
       "      for (const root_id of render_item.root_ids) {\n",
       "\tconst id_el = document.getElementById(root_id)\n",
       "\tif (id_el.children.length && (id_el.children[0].className === 'bk-root')) {\n",
       "\t  const root_el = id_el.children[0]\n",
       "\t  root_el.id = root_el.id + '-rendered'\n",
       "\t}\n",
       "      }\n",
       "    }\n",
       "  }\n",
       "  function get_bokeh(root) {\n",
       "    if (root.Bokeh === undefined) {\n",
       "      return null\n",
       "    } else if (root.Bokeh.version !== py_version && !is_dev) {\n",
       "      if (root.Bokeh.versions === undefined || !root.Bokeh.versions.has(py_version)) {\n",
       "\treturn null\n",
       "      }\n",
       "      return root.Bokeh.versions.get(py_version);\n",
       "    } else if (root.Bokeh.version === py_version) {\n",
       "      return root.Bokeh\n",
       "    }\n",
       "    return null\n",
       "  }\n",
       "  function is_loaded(root) {\n",
       "    var Bokeh = get_bokeh(root)\n",
       "    return (Bokeh != null && Bokeh.Panel !== undefined)\n",
       "  }\n",
       "  if (is_loaded(root)) {\n",
       "    embed_document(root);\n",
       "  } else {\n",
       "    var attempts = 0;\n",
       "    var timer = setInterval(function(root) {\n",
       "      if (is_loaded(root)) {\n",
       "        clearInterval(timer);\n",
       "        embed_document(root);\n",
       "      } else if (document.readyState == \"complete\") {\n",
       "        attempts++;\n",
       "        if (attempts > 200) {\n",
       "          clearInterval(timer);\n",
       "\t  var Bokeh = get_bokeh(root)\n",
       "\t  if (Bokeh == null || Bokeh.Panel == null) {\n",
       "            console.warn(\"Panel: ERROR: Unable to run Panel code because Bokeh or Panel library is missing\");\n",
       "\t  } else {\n",
       "\t    console.warn(\"Panel: WARNING: Attempting to render but not all required libraries could be resolved.\")\n",
       "\t    embed_document(root)\n",
       "\t  }\n",
       "        }\n",
       "      }\n",
       "    }, 25, root)\n",
       "  }\n",
       "})(window);</script>"
      ],
      "text/plain": [
       ":NdOverlay   [agglomerative-segments]\n",
       "   :Scatter   [feature_1]   (feature_2)"
      ]
     },
     "execution_count": 26,
     "metadata": {
      "application/vnd.holoviews_exec.v0+json": {
       "id": "p1382"
      }
     },
     "output_type": "execute_result"
    }
   ],
   "source": [
    "# Plot the agglomerative clusters using the \"feature_1\" and \"feature_2\" columns\n",
    "customers_predictions_df.hvplot.scatter(\n",
    "    x=\"feature_1\",\n",
    "    y=\"feature_2\",\n",
    "    by=\"agglomerative-segments\",\n",
    "    hover_cols=[\"customer_name\"],\n",
    "    title=\"Agglomerative Clusters\",\n",
    ")\n",
    "\n"
   ]
  },
  {
   "cell_type": "code",
   "execution_count": 27,
   "metadata": {},
   "outputs": [
    {
     "data": {},
     "metadata": {},
     "output_type": "display_data"
    },
    {
     "data": {
      "application/vnd.holoviews_exec.v0+json": "",
      "text/html": [
       "<div id='p1462'>\n",
       "  <div id=\"d7a476dc-f87e-4b88-ba00-f9a73d74a22e\" data-root-id=\"p1462\" style=\"display: contents;\"></div>\n",
       "</div>\n",
       "<script type=\"application/javascript\">(function(root) {\n",
       "  var docs_json = {\"fca234f7-dc65-4971-86f5-ca9fbc40d529\":{\"version\":\"3.2.1\",\"title\":\"Bokeh Application\",\"roots\":[{\"type\":\"object\",\"name\":\"Row\",\"id\":\"p1462\",\"attributes\":{\"name\":\"Row01958\",\"tags\":[\"embedded\"],\"stylesheets\":[\"\\n:host(.pn-loading.pn-arc):before, .pn-loading.pn-arc:before {\\n  background-image: url(\\\"data:image/svg+xml;base64,PHN2ZyB4bWxucz0iaHR0cDovL3d3dy53My5vcmcvMjAwMC9zdmciIHN0eWxlPSJtYXJnaW46IGF1dG87IGJhY2tncm91bmQ6IG5vbmU7IGRpc3BsYXk6IGJsb2NrOyBzaGFwZS1yZW5kZXJpbmc6IGF1dG87IiB2aWV3Qm94PSIwIDAgMTAwIDEwMCIgcHJlc2VydmVBc3BlY3RSYXRpbz0ieE1pZFlNaWQiPiAgPGNpcmNsZSBjeD0iNTAiIGN5PSI1MCIgZmlsbD0ibm9uZSIgc3Ryb2tlPSIjYzNjM2MzIiBzdHJva2Utd2lkdGg9IjEwIiByPSIzNSIgc3Ryb2tlLWRhc2hhcnJheT0iMTY0LjkzMzYxNDMxMzQ2NDE1IDU2Ljk3Nzg3MTQzNzgyMTM4Ij4gICAgPGFuaW1hdGVUcmFuc2Zvcm0gYXR0cmlidXRlTmFtZT0idHJhbnNmb3JtIiB0eXBlPSJyb3RhdGUiIHJlcGVhdENvdW50PSJpbmRlZmluaXRlIiBkdXI9IjFzIiB2YWx1ZXM9IjAgNTAgNTA7MzYwIDUwIDUwIiBrZXlUaW1lcz0iMDsxIj48L2FuaW1hdGVUcmFuc2Zvcm0+ICA8L2NpcmNsZT48L3N2Zz4=\\\");\\n  background-size: auto calc(min(50%, 400px));\\n}\",{\"type\":\"object\",\"name\":\"ImportedStyleSheet\",\"id\":\"p1465\",\"attributes\":{\"url\":\"https://cdn.holoviz.org/panel/1.2.3/dist/css/loading.css\"}},{\"type\":\"object\",\"name\":\"ImportedStyleSheet\",\"id\":\"p1536\",\"attributes\":{\"url\":\"https://cdn.holoviz.org/panel/1.2.3/dist/css/listpanel.css\"}},{\"type\":\"object\",\"name\":\"ImportedStyleSheet\",\"id\":\"p1463\",\"attributes\":{\"url\":\"https://cdn.holoviz.org/panel/1.2.3/dist/bundled/theme/default.css\"}},{\"type\":\"object\",\"name\":\"ImportedStyleSheet\",\"id\":\"p1464\",\"attributes\":{\"url\":\"https://cdn.holoviz.org/panel/1.2.3/dist/bundled/theme/native.css\"}}],\"min_width\":700,\"margin\":0,\"sizing_mode\":\"stretch_width\",\"align\":\"start\",\"children\":[{\"type\":\"object\",\"name\":\"Spacer\",\"id\":\"p1466\",\"attributes\":{\"name\":\"HSpacer01969\",\"stylesheets\":[\"\\n:host(.pn-loading.pn-arc):before, .pn-loading.pn-arc:before {\\n  background-image: url(\\\"data:image/svg+xml;base64,PHN2ZyB4bWxucz0iaHR0cDovL3d3dy53My5vcmcvMjAwMC9zdmciIHN0eWxlPSJtYXJnaW46IGF1dG87IGJhY2tncm91bmQ6IG5vbmU7IGRpc3BsYXk6IGJsb2NrOyBzaGFwZS1yZW5kZXJpbmc6IGF1dG87IiB2aWV3Qm94PSIwIDAgMTAwIDEwMCIgcHJlc2VydmVBc3BlY3RSYXRpbz0ieE1pZFlNaWQiPiAgPGNpcmNsZSBjeD0iNTAiIGN5PSI1MCIgZmlsbD0ibm9uZSIgc3Ryb2tlPSIjYzNjM2MzIiBzdHJva2Utd2lkdGg9IjEwIiByPSIzNSIgc3Ryb2tlLWRhc2hhcnJheT0iMTY0LjkzMzYxNDMxMzQ2NDE1IDU2Ljk3Nzg3MTQzNzgyMTM4Ij4gICAgPGFuaW1hdGVUcmFuc2Zvcm0gYXR0cmlidXRlTmFtZT0idHJhbnNmb3JtIiB0eXBlPSJyb3RhdGUiIHJlcGVhdENvdW50PSJpbmRlZmluaXRlIiBkdXI9IjFzIiB2YWx1ZXM9IjAgNTAgNTA7MzYwIDUwIDUwIiBrZXlUaW1lcz0iMDsxIj48L2FuaW1hdGVUcmFuc2Zvcm0+ICA8L2NpcmNsZT48L3N2Zz4=\\\");\\n  background-size: auto calc(min(50%, 400px));\\n}\",{\"id\":\"p1465\"},{\"id\":\"p1463\"},{\"id\":\"p1464\"}],\"margin\":0,\"sizing_mode\":\"stretch_width\",\"align\":\"start\"}},{\"type\":\"object\",\"name\":\"Figure\",\"id\":\"p1477\",\"attributes\":{\"width\":700,\"height\":300,\"margin\":[5,10],\"sizing_mode\":\"fixed\",\"align\":\"start\",\"x_range\":{\"type\":\"object\",\"name\":\"Range1d\",\"id\":\"p1467\",\"attributes\":{\"tags\":[[[\"feature_1\",\"feature_1\",null]],[]],\"start\":-6.796693307805908,\"end\":6.812945338442532,\"reset_start\":-6.796693307805908,\"reset_end\":6.812945338442532}},\"y_range\":{\"type\":\"object\",\"name\":\"Range1d\",\"id\":\"p1468\",\"attributes\":{\"tags\":[[[\"feature_2\",\"feature_2\",null]],{\"type\":\"map\",\"entries\":[[\"invert_yaxis\",false],[\"autorange\",false]]}],\"start\":-5.909730475924883,\"end\":9.215602229847773,\"reset_start\":-5.909730475924883,\"reset_end\":9.215602229847773}},\"x_scale\":{\"type\":\"object\",\"name\":\"LinearScale\",\"id\":\"p1487\"},\"y_scale\":{\"type\":\"object\",\"name\":\"LinearScale\",\"id\":\"p1488\"},\"title\":{\"type\":\"object\",\"name\":\"Title\",\"id\":\"p1480\",\"attributes\":{\"text\":\"Birch Clusters\",\"text_color\":\"black\",\"text_font_size\":\"12pt\"}},\"renderers\":[{\"type\":\"object\",\"name\":\"GlyphRenderer\",\"id\":\"p1513\",\"attributes\":{\"name\":\"0\",\"data_source\":{\"type\":\"object\",\"name\":\"ColumnDataSource\",\"id\":\"p1504\",\"attributes\":{\"selected\":{\"type\":\"object\",\"name\":\"Selection\",\"id\":\"p1505\",\"attributes\":{\"indices\":[],\"line_indices\":[]}},\"selection_policy\":{\"type\":\"object\",\"name\":\"UnionRenderers\",\"id\":\"p1506\"},\"data\":{\"type\":\"map\",\"entries\":[[\"feature_1\",{\"type\":\"ndarray\",\"array\":{\"type\":\"bytes\",\"data\":\"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\"},\"shape\":[701],\"dtype\":\"float64\",\"order\":\"little\"}],[\"feature_2\",{\"type\":\"ndarray\",\"array\":{\"type\":\"bytes\",\"data\":\"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\"},\"shape\":[701],\"dtype\":\"float64\",\"order\":\"little\"}],[\"birch_hyphen_minus_segments\",[0,0,0,0,0,0,0,0,0,0,0,0,0,0,0,0,0,0,0,0,0,0,0,0,0,0,0,0,0,0,0,0,0,0,0,0,0,0,0,0,0,0,0,0,0,0,0,0,0,0,0,0,0,0,0,0,0,0,0,0,0,0,0,0,0,0,0,0,0,0,0,0,0,0,0,0,0,0,0,0,0,0,0,0,0,0,0,0,0,0,0,0,0,0,0,0,0,0,0,0,0,0,0,0,0,0,0,0,0,0,0,0,0,0,0,0,0,0,0,0,0,0,0,0,0,0,0,0,0,0,0,0,0,0,0,0,0,0,0,0,0,0,0,0,0,0,0,0,0,0,0,0,0,0,0,0,0,0,0,0,0,0,0,0,0,0,0,0,0,0,0,0,0,0,0,0,0,0,0,0,0,0,0,0,0,0,0,0,0,0,0,0,0,0,0,0,0,0,0,0,0,0,0,0,0,0,0,0,0,0,0,0,0,0,0,0,0,0,0,0,0,0,0,0,0,0,0,0,0,0,0,0,0,0,0,0,0,0,0,0,0,0,0,0,0,0,0,0,0,0,0,0,0,0,0,0,0,0,0,0,0,0,0,0,0,0,0,0,0,0,0,0,0,0,0,0,0,0,0,0,0,0,0,0,0,0,0,0,0,0,0,0,0,0,0,0,0,0,0,0,0,0,0,0,0,0,0,0,0,0,0,0,0,0,0,0,0,0,0,0,0,0,0,0,0,0,0,0,0,0,0,0,0,0,0,0,0,0,0,0,0,0,0,0,0,0,0,0,0,0,0,0,0,0,0,0,0,0,0,0,0,0,0,0,0,0,0,0,0,0,0,0,0,0,0,0,0,0,0,0,0,0,0,0,0,0,0,0,0,0,0,0,0,0,0,0,0,0,0,0,0,0,0,0,0,0,0,0,0,0,0,0,0,0,0,0,0,0,0,0,0,0,0,0,0,0,0,0,0,0,0,0,0,0,0,0,0,0,0,0,0,0,0,0,0,0,0,0,0,0,0,0,0,0,0,0,0,0,0,0,0,0,0,0,0,0,0,0,0,0,0,0,0,0,0,0,0,0,0,0,0,0,0,0,0,0,0,0,0,0,0,0,0,0,0,0,0,0,0,0,0,0,0,0,0,0,0,0,0,0,0,0,0,0,0,0,0,0,0,0,0,0,0,0,0,0,0,0,0,0,0,0,0,0,0,0,0,0,0,0,0,0,0,0,0,0,0,0,0,0,0,0,0,0,0,0,0,0,0,0,0,0,0,0,0,0,0,0,0,0,0,0,0,0,0,0,0,0,0,0,0,0,0,0,0,0,0,0,0,0,0,0,0,0,0,0,0,0,0,0,0,0,0,0,0,0,0,0,0,0,0,0,0,0,0,0,0,0,0,0,0,0,0,0,0,0,0,0,0,0,0,0,0,0,0,0,0,0,0,0,0,0,0,0,0,0,0,0,0,0,0,0,0,0,0,0,0,0,0,0,0,0,0,0,0,0,0,0,0,0,0,0,0,0,0,0,0,0,0,0,0,0,0,0,0,0,0,0,0,0,0,0,0,0,0,0,0,0,0,0,0]]]}}},\"view\":{\"type\":\"object\",\"name\":\"CDSView\",\"id\":\"p1514\",\"attributes\":{\"filter\":{\"type\":\"object\",\"name\":\"AllIndices\",\"id\":\"p1515\"}}},\"glyph\":{\"type\":\"object\",\"name\":\"Scatter\",\"id\":\"p1510\",\"attributes\":{\"tags\":[\"apply_ranges\"],\"x\":{\"type\":\"field\",\"field\":\"feature_1\"},\"y\":{\"type\":\"field\",\"field\":\"feature_2\"},\"size\":{\"type\":\"value\",\"value\":5.477225575051661},\"line_color\":{\"type\":\"value\",\"value\":\"#30a2da\"},\"fill_color\":{\"type\":\"value\",\"value\":\"#30a2da\"},\"hatch_color\":{\"type\":\"value\",\"value\":\"#30a2da\"}}},\"selection_glyph\":{\"type\":\"object\",\"name\":\"Scatter\",\"id\":\"p1518\",\"attributes\":{\"tags\":[\"apply_ranges\"],\"x\":{\"type\":\"field\",\"field\":\"feature_1\"},\"y\":{\"type\":\"field\",\"field\":\"feature_2\"},\"size\":{\"type\":\"value\",\"value\":5.477225575051661},\"angle\":{\"type\":\"value\",\"value\":0.0},\"line_color\":{\"type\":\"value\",\"value\":\"#30a2da\"},\"line_alpha\":{\"type\":\"value\",\"value\":1.0},\"line_width\":{\"type\":\"value\",\"value\":1},\"line_join\":{\"type\":\"value\",\"value\":\"bevel\"},\"line_cap\":{\"type\":\"value\",\"value\":\"butt\"},\"line_dash\":{\"type\":\"value\",\"value\":[]},\"line_dash_offset\":{\"type\":\"value\",\"value\":0},\"fill_color\":{\"type\":\"value\",\"value\":\"#30a2da\"},\"fill_alpha\":{\"type\":\"value\",\"value\":1.0},\"hatch_color\":{\"type\":\"value\",\"value\":\"#30a2da\"},\"hatch_alpha\":{\"type\":\"value\",\"value\":1.0},\"hatch_scale\":{\"type\":\"value\",\"value\":12.0},\"hatch_pattern\":{\"type\":\"value\",\"value\":null},\"hatch_weight\":{\"type\":\"value\",\"value\":1.0},\"marker\":{\"type\":\"value\",\"value\":\"circle\"}}},\"nonselection_glyph\":{\"type\":\"object\",\"name\":\"Scatter\",\"id\":\"p1511\",\"attributes\":{\"tags\":[\"apply_ranges\"],\"x\":{\"type\":\"field\",\"field\":\"feature_1\"},\"y\":{\"type\":\"field\",\"field\":\"feature_2\"},\"size\":{\"type\":\"value\",\"value\":5.477225575051661},\"line_color\":{\"type\":\"value\",\"value\":\"#30a2da\"},\"line_alpha\":{\"type\":\"value\",\"value\":0.1},\"fill_color\":{\"type\":\"value\",\"value\":\"#30a2da\"},\"fill_alpha\":{\"type\":\"value\",\"value\":0.1},\"hatch_color\":{\"type\":\"value\",\"value\":\"#30a2da\"},\"hatch_alpha\":{\"type\":\"value\",\"value\":0.1}}},\"muted_glyph\":{\"type\":\"object\",\"name\":\"Scatter\",\"id\":\"p1512\",\"attributes\":{\"tags\":[\"apply_ranges\"],\"x\":{\"type\":\"field\",\"field\":\"feature_1\"},\"y\":{\"type\":\"field\",\"field\":\"feature_2\"},\"size\":{\"type\":\"value\",\"value\":5.477225575051661},\"line_color\":{\"type\":\"value\",\"value\":\"#30a2da\"},\"line_alpha\":{\"type\":\"value\",\"value\":0.2},\"fill_color\":{\"type\":\"value\",\"value\":\"#30a2da\"},\"fill_alpha\":{\"type\":\"value\",\"value\":0.2},\"hatch_color\":{\"type\":\"value\",\"value\":\"#30a2da\"},\"hatch_alpha\":{\"type\":\"value\",\"value\":0.2}}}}},{\"type\":\"object\",\"name\":\"GlyphRenderer\",\"id\":\"p1528\",\"attributes\":{\"name\":\"1\",\"data_source\":{\"type\":\"object\",\"name\":\"ColumnDataSource\",\"id\":\"p1519\",\"attributes\":{\"selected\":{\"type\":\"object\",\"name\":\"Selection\",\"id\":\"p1520\",\"attributes\":{\"indices\":[],\"line_indices\":[]}},\"selection_policy\":{\"type\":\"object\",\"name\":\"UnionRenderers\",\"id\":\"p1521\"},\"data\":{\"type\":\"map\",\"entries\":[[\"feature_1\",{\"type\":\"ndarray\",\"array\":{\"type\":\"bytes\",\"data\":\"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\"},\"shape\":[299],\"dtype\":\"float64\",\"order\":\"little\"}],[\"feature_2\",{\"type\":\"ndarray\",\"array\":{\"type\":\"bytes\",\"data\":\"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\"},\"shape\":[299],\"dtype\":\"float64\",\"order\":\"little\"}],[\"birch_hyphen_minus_segments\",[1,1,1,1,1,1,1,1,1,1,1,1,1,1,1,1,1,1,1,1,1,1,1,1,1,1,1,1,1,1,1,1,1,1,1,1,1,1,1,1,1,1,1,1,1,1,1,1,1,1,1,1,1,1,1,1,1,1,1,1,1,1,1,1,1,1,1,1,1,1,1,1,1,1,1,1,1,1,1,1,1,1,1,1,1,1,1,1,1,1,1,1,1,1,1,1,1,1,1,1,1,1,1,1,1,1,1,1,1,1,1,1,1,1,1,1,1,1,1,1,1,1,1,1,1,1,1,1,1,1,1,1,1,1,1,1,1,1,1,1,1,1,1,1,1,1,1,1,1,1,1,1,1,1,1,1,1,1,1,1,1,1,1,1,1,1,1,1,1,1,1,1,1,1,1,1,1,1,1,1,1,1,1,1,1,1,1,1,1,1,1,1,1,1,1,1,1,1,1,1,1,1,1,1,1,1,1,1,1,1,1,1,1,1,1,1,1,1,1,1,1,1,1,1,1,1,1,1,1,1,1,1,1,1,1,1,1,1,1,1,1,1,1,1,1,1,1,1,1,1,1,1,1,1,1,1,1,1,1,1,1,1,1,1,1,1,1,1,1,1,1,1,1,1,1,1,1,1,1,1,1,1,1,1,1,1,1,1,1,1,1,1,1,1,1,1,1,1,1]]]}}},\"view\":{\"type\":\"object\",\"name\":\"CDSView\",\"id\":\"p1529\",\"attributes\":{\"filter\":{\"type\":\"object\",\"name\":\"AllIndices\",\"id\":\"p1530\"}}},\"glyph\":{\"type\":\"object\",\"name\":\"Scatter\",\"id\":\"p1525\",\"attributes\":{\"tags\":[\"apply_ranges\"],\"x\":{\"type\":\"field\",\"field\":\"feature_1\"},\"y\":{\"type\":\"field\",\"field\":\"feature_2\"},\"size\":{\"type\":\"value\",\"value\":5.477225575051661},\"line_color\":{\"type\":\"value\",\"value\":\"#fc4f30\"},\"fill_color\":{\"type\":\"value\",\"value\":\"#fc4f30\"},\"hatch_color\":{\"type\":\"value\",\"value\":\"#fc4f30\"}}},\"selection_glyph\":{\"type\":\"object\",\"name\":\"Scatter\",\"id\":\"p1532\",\"attributes\":{\"tags\":[\"apply_ranges\"],\"x\":{\"type\":\"field\",\"field\":\"feature_1\"},\"y\":{\"type\":\"field\",\"field\":\"feature_2\"},\"size\":{\"type\":\"value\",\"value\":5.477225575051661},\"angle\":{\"type\":\"value\",\"value\":0.0},\"line_color\":{\"type\":\"value\",\"value\":\"#fc4f30\"},\"line_alpha\":{\"type\":\"value\",\"value\":1.0},\"line_width\":{\"type\":\"value\",\"value\":1},\"line_join\":{\"type\":\"value\",\"value\":\"bevel\"},\"line_cap\":{\"type\":\"value\",\"value\":\"butt\"},\"line_dash\":{\"type\":\"value\",\"value\":[]},\"line_dash_offset\":{\"type\":\"value\",\"value\":0},\"fill_color\":{\"type\":\"value\",\"value\":\"#fc4f30\"},\"fill_alpha\":{\"type\":\"value\",\"value\":1.0},\"hatch_color\":{\"type\":\"value\",\"value\":\"#fc4f30\"},\"hatch_alpha\":{\"type\":\"value\",\"value\":1.0},\"hatch_scale\":{\"type\":\"value\",\"value\":12.0},\"hatch_pattern\":{\"type\":\"value\",\"value\":null},\"hatch_weight\":{\"type\":\"value\",\"value\":1.0},\"marker\":{\"type\":\"value\",\"value\":\"circle\"}}},\"nonselection_glyph\":{\"type\":\"object\",\"name\":\"Scatter\",\"id\":\"p1526\",\"attributes\":{\"tags\":[\"apply_ranges\"],\"x\":{\"type\":\"field\",\"field\":\"feature_1\"},\"y\":{\"type\":\"field\",\"field\":\"feature_2\"},\"size\":{\"type\":\"value\",\"value\":5.477225575051661},\"line_color\":{\"type\":\"value\",\"value\":\"#fc4f30\"},\"line_alpha\":{\"type\":\"value\",\"value\":0.1},\"fill_color\":{\"type\":\"value\",\"value\":\"#fc4f30\"},\"fill_alpha\":{\"type\":\"value\",\"value\":0.1},\"hatch_color\":{\"type\":\"value\",\"value\":\"#fc4f30\"},\"hatch_alpha\":{\"type\":\"value\",\"value\":0.1}}},\"muted_glyph\":{\"type\":\"object\",\"name\":\"Scatter\",\"id\":\"p1527\",\"attributes\":{\"tags\":[\"apply_ranges\"],\"x\":{\"type\":\"field\",\"field\":\"feature_1\"},\"y\":{\"type\":\"field\",\"field\":\"feature_2\"},\"size\":{\"type\":\"value\",\"value\":5.477225575051661},\"line_color\":{\"type\":\"value\",\"value\":\"#fc4f30\"},\"line_alpha\":{\"type\":\"value\",\"value\":0.2},\"fill_color\":{\"type\":\"value\",\"value\":\"#fc4f30\"},\"fill_alpha\":{\"type\":\"value\",\"value\":0.2},\"hatch_color\":{\"type\":\"value\",\"value\":\"#fc4f30\"},\"hatch_alpha\":{\"type\":\"value\",\"value\":0.2}}}}}],\"toolbar\":{\"type\":\"object\",\"name\":\"Toolbar\",\"id\":\"p1486\",\"attributes\":{\"tools\":[{\"type\":\"object\",\"name\":\"WheelZoomTool\",\"id\":\"p1472\",\"attributes\":{\"tags\":[\"hv_created\"],\"zoom_together\":\"none\"}},{\"type\":\"object\",\"name\":\"HoverTool\",\"id\":\"p1473\",\"attributes\":{\"tags\":[\"hv_created\"],\"renderers\":[{\"id\":\"p1513\"},{\"id\":\"p1528\"}],\"tooltips\":[[\"birch-segments\",\"@{birch_hyphen_minus_segments}\"],[\"feature_1\",\"@{feature_1}\"],[\"feature_2\",\"@{feature_2}\"]]}},{\"type\":\"object\",\"name\":\"SaveTool\",\"id\":\"p1499\"},{\"type\":\"object\",\"name\":\"PanTool\",\"id\":\"p1500\"},{\"type\":\"object\",\"name\":\"BoxZoomTool\",\"id\":\"p1501\",\"attributes\":{\"overlay\":{\"type\":\"object\",\"name\":\"BoxAnnotation\",\"id\":\"p1502\",\"attributes\":{\"syncable\":false,\"level\":\"overlay\",\"visible\":false,\"left_units\":\"canvas\",\"right_units\":\"canvas\",\"bottom_units\":\"canvas\",\"top_units\":\"canvas\",\"line_color\":\"black\",\"line_alpha\":1.0,\"line_width\":2,\"line_dash\":[4,4],\"fill_color\":\"lightgrey\",\"fill_alpha\":0.5}}}},{\"type\":\"object\",\"name\":\"ResetTool\",\"id\":\"p1503\"}],\"active_drag\":{\"id\":\"p1500\"},\"active_scroll\":{\"id\":\"p1472\"}}},\"left\":[{\"type\":\"object\",\"name\":\"LinearAxis\",\"id\":\"p1494\",\"attributes\":{\"ticker\":{\"type\":\"object\",\"name\":\"BasicTicker\",\"id\":\"p1495\",\"attributes\":{\"mantissas\":[1,2,5]}},\"formatter\":{\"type\":\"object\",\"name\":\"BasicTickFormatter\",\"id\":\"p1496\"},\"axis_label\":\"feature_2\",\"major_label_policy\":{\"type\":\"object\",\"name\":\"AllLabels\",\"id\":\"p1497\"}}}],\"right\":[{\"type\":\"object\",\"name\":\"Legend\",\"id\":\"p1516\",\"attributes\":{\"location\":[0,0],\"title\":\"birch-segments\",\"click_policy\":\"mute\",\"items\":[{\"type\":\"object\",\"name\":\"LegendItem\",\"id\":\"p1517\",\"attributes\":{\"label\":{\"type\":\"value\",\"value\":\"0\"},\"renderers\":[{\"id\":\"p1513\"}]}},{\"type\":\"object\",\"name\":\"LegendItem\",\"id\":\"p1531\",\"attributes\":{\"label\":{\"type\":\"value\",\"value\":\"1\"},\"renderers\":[{\"id\":\"p1528\"}]}}]}}],\"below\":[{\"type\":\"object\",\"name\":\"LinearAxis\",\"id\":\"p1489\",\"attributes\":{\"ticker\":{\"type\":\"object\",\"name\":\"BasicTicker\",\"id\":\"p1490\",\"attributes\":{\"mantissas\":[1,2,5]}},\"formatter\":{\"type\":\"object\",\"name\":\"BasicTickFormatter\",\"id\":\"p1491\"},\"axis_label\":\"feature_1\",\"major_label_policy\":{\"type\":\"object\",\"name\":\"AllLabels\",\"id\":\"p1492\"}}}],\"center\":[{\"type\":\"object\",\"name\":\"Grid\",\"id\":\"p1493\",\"attributes\":{\"axis\":{\"id\":\"p1489\"},\"grid_line_color\":null}},{\"type\":\"object\",\"name\":\"Grid\",\"id\":\"p1498\",\"attributes\":{\"dimension\":1,\"axis\":{\"id\":\"p1494\"},\"grid_line_color\":null}}],\"min_border_top\":10,\"min_border_bottom\":10,\"min_border_left\":10,\"min_border_right\":10,\"output_backend\":\"webgl\"}},{\"type\":\"object\",\"name\":\"Spacer\",\"id\":\"p1534\",\"attributes\":{\"name\":\"HSpacer01972\",\"stylesheets\":[\"\\n:host(.pn-loading.pn-arc):before, .pn-loading.pn-arc:before {\\n  background-image: url(\\\"data:image/svg+xml;base64,PHN2ZyB4bWxucz0iaHR0cDovL3d3dy53My5vcmcvMjAwMC9zdmciIHN0eWxlPSJtYXJnaW46IGF1dG87IGJhY2tncm91bmQ6IG5vbmU7IGRpc3BsYXk6IGJsb2NrOyBzaGFwZS1yZW5kZXJpbmc6IGF1dG87IiB2aWV3Qm94PSIwIDAgMTAwIDEwMCIgcHJlc2VydmVBc3BlY3RSYXRpbz0ieE1pZFlNaWQiPiAgPGNpcmNsZSBjeD0iNTAiIGN5PSI1MCIgZmlsbD0ibm9uZSIgc3Ryb2tlPSIjYzNjM2MzIiBzdHJva2Utd2lkdGg9IjEwIiByPSIzNSIgc3Ryb2tlLWRhc2hhcnJheT0iMTY0LjkzMzYxNDMxMzQ2NDE1IDU2Ljk3Nzg3MTQzNzgyMTM4Ij4gICAgPGFuaW1hdGVUcmFuc2Zvcm0gYXR0cmlidXRlTmFtZT0idHJhbnNmb3JtIiB0eXBlPSJyb3RhdGUiIHJlcGVhdENvdW50PSJpbmRlZmluaXRlIiBkdXI9IjFzIiB2YWx1ZXM9IjAgNTAgNTA7MzYwIDUwIDUwIiBrZXlUaW1lcz0iMDsxIj48L2FuaW1hdGVUcmFuc2Zvcm0+ICA8L2NpcmNsZT48L3N2Zz4=\\\");\\n  background-size: auto calc(min(50%, 400px));\\n}\",{\"id\":\"p1465\"},{\"id\":\"p1463\"},{\"id\":\"p1464\"}],\"margin\":0,\"sizing_mode\":\"stretch_width\",\"align\":\"start\"}}]}}],\"defs\":[{\"type\":\"model\",\"name\":\"ReactiveHTML1\"},{\"type\":\"model\",\"name\":\"FlexBox1\",\"properties\":[{\"name\":\"align_content\",\"kind\":\"Any\",\"default\":\"flex-start\"},{\"name\":\"align_items\",\"kind\":\"Any\",\"default\":\"flex-start\"},{\"name\":\"flex_direction\",\"kind\":\"Any\",\"default\":\"row\"},{\"name\":\"flex_wrap\",\"kind\":\"Any\",\"default\":\"wrap\"},{\"name\":\"justify_content\",\"kind\":\"Any\",\"default\":\"flex-start\"}]},{\"type\":\"model\",\"name\":\"FloatPanel1\",\"properties\":[{\"name\":\"config\",\"kind\":\"Any\",\"default\":{\"type\":\"map\"}},{\"name\":\"contained\",\"kind\":\"Any\",\"default\":true},{\"name\":\"position\",\"kind\":\"Any\",\"default\":\"right-top\"},{\"name\":\"offsetx\",\"kind\":\"Any\",\"default\":null},{\"name\":\"offsety\",\"kind\":\"Any\",\"default\":null},{\"name\":\"theme\",\"kind\":\"Any\",\"default\":\"primary\"},{\"name\":\"status\",\"kind\":\"Any\",\"default\":\"normalized\"}]},{\"type\":\"model\",\"name\":\"GridStack1\",\"properties\":[{\"name\":\"mode\",\"kind\":\"Any\",\"default\":\"warn\"},{\"name\":\"ncols\",\"kind\":\"Any\",\"default\":null},{\"name\":\"nrows\",\"kind\":\"Any\",\"default\":null},{\"name\":\"allow_resize\",\"kind\":\"Any\",\"default\":true},{\"name\":\"allow_drag\",\"kind\":\"Any\",\"default\":true},{\"name\":\"state\",\"kind\":\"Any\",\"default\":[]}]},{\"type\":\"model\",\"name\":\"drag1\",\"properties\":[{\"name\":\"slider_width\",\"kind\":\"Any\",\"default\":5},{\"name\":\"slider_color\",\"kind\":\"Any\",\"default\":\"black\"},{\"name\":\"value\",\"kind\":\"Any\",\"default\":50}]},{\"type\":\"model\",\"name\":\"click1\",\"properties\":[{\"name\":\"terminal_output\",\"kind\":\"Any\",\"default\":\"\"},{\"name\":\"debug_name\",\"kind\":\"Any\",\"default\":\"\"},{\"name\":\"clears\",\"kind\":\"Any\",\"default\":0}]},{\"type\":\"model\",\"name\":\"FastWrapper1\",\"properties\":[{\"name\":\"object\",\"kind\":\"Any\",\"default\":null},{\"name\":\"style\",\"kind\":\"Any\",\"default\":null}]},{\"type\":\"model\",\"name\":\"NotificationAreaBase1\",\"properties\":[{\"name\":\"js_events\",\"kind\":\"Any\",\"default\":{\"type\":\"map\"}},{\"name\":\"position\",\"kind\":\"Any\",\"default\":\"bottom-right\"},{\"name\":\"_clear\",\"kind\":\"Any\",\"default\":0}]},{\"type\":\"model\",\"name\":\"NotificationArea1\",\"properties\":[{\"name\":\"js_events\",\"kind\":\"Any\",\"default\":{\"type\":\"map\"}},{\"name\":\"notifications\",\"kind\":\"Any\",\"default\":[]},{\"name\":\"position\",\"kind\":\"Any\",\"default\":\"bottom-right\"},{\"name\":\"_clear\",\"kind\":\"Any\",\"default\":0},{\"name\":\"types\",\"kind\":\"Any\",\"default\":[{\"type\":\"map\",\"entries\":[[\"type\",\"warning\"],[\"background\",\"#ffc107\"],[\"icon\",{\"type\":\"map\",\"entries\":[[\"className\",\"fas fa-exclamation-triangle\"],[\"tagName\",\"i\"],[\"color\",\"white\"]]}]]},{\"type\":\"map\",\"entries\":[[\"type\",\"info\"],[\"background\",\"#007bff\"],[\"icon\",{\"type\":\"map\",\"entries\":[[\"className\",\"fas fa-info-circle\"],[\"tagName\",\"i\"],[\"color\",\"white\"]]}]]}]}]},{\"type\":\"model\",\"name\":\"Notification\",\"properties\":[{\"name\":\"background\",\"kind\":\"Any\",\"default\":null},{\"name\":\"duration\",\"kind\":\"Any\",\"default\":3000},{\"name\":\"icon\",\"kind\":\"Any\",\"default\":null},{\"name\":\"message\",\"kind\":\"Any\",\"default\":\"\"},{\"name\":\"notification_type\",\"kind\":\"Any\",\"default\":null},{\"name\":\"_destroyed\",\"kind\":\"Any\",\"default\":false}]},{\"type\":\"model\",\"name\":\"TemplateActions1\",\"properties\":[{\"name\":\"open_modal\",\"kind\":\"Any\",\"default\":0},{\"name\":\"close_modal\",\"kind\":\"Any\",\"default\":0}]},{\"type\":\"model\",\"name\":\"BootstrapTemplateActions1\",\"properties\":[{\"name\":\"open_modal\",\"kind\":\"Any\",\"default\":0},{\"name\":\"close_modal\",\"kind\":\"Any\",\"default\":0}]},{\"type\":\"model\",\"name\":\"MaterialTemplateActions1\",\"properties\":[{\"name\":\"open_modal\",\"kind\":\"Any\",\"default\":0},{\"name\":\"close_modal\",\"kind\":\"Any\",\"default\":0}]}]}};\n",
       "  var render_items = [{\"docid\":\"fca234f7-dc65-4971-86f5-ca9fbc40d529\",\"roots\":{\"p1462\":\"d7a476dc-f87e-4b88-ba00-f9a73d74a22e\"},\"root_ids\":[\"p1462\"]}];\n",
       "  var docs = Object.values(docs_json)\n",
       "  if (!docs) {\n",
       "    return\n",
       "  }\n",
       "  const py_version = docs[0].version.replace('rc', '-rc.').replace('.dev', '-dev.')\n",
       "  const is_dev = py_version.indexOf(\"+\") !== -1 || py_version.indexOf(\"-\") !== -1\n",
       "  function embed_document(root) {\n",
       "    var Bokeh = get_bokeh(root)\n",
       "    Bokeh.embed.embed_items_notebook(docs_json, render_items);\n",
       "    for (const render_item of render_items) {\n",
       "      for (const root_id of render_item.root_ids) {\n",
       "\tconst id_el = document.getElementById(root_id)\n",
       "\tif (id_el.children.length && (id_el.children[0].className === 'bk-root')) {\n",
       "\t  const root_el = id_el.children[0]\n",
       "\t  root_el.id = root_el.id + '-rendered'\n",
       "\t}\n",
       "      }\n",
       "    }\n",
       "  }\n",
       "  function get_bokeh(root) {\n",
       "    if (root.Bokeh === undefined) {\n",
       "      return null\n",
       "    } else if (root.Bokeh.version !== py_version && !is_dev) {\n",
       "      if (root.Bokeh.versions === undefined || !root.Bokeh.versions.has(py_version)) {\n",
       "\treturn null\n",
       "      }\n",
       "      return root.Bokeh.versions.get(py_version);\n",
       "    } else if (root.Bokeh.version === py_version) {\n",
       "      return root.Bokeh\n",
       "    }\n",
       "    return null\n",
       "  }\n",
       "  function is_loaded(root) {\n",
       "    var Bokeh = get_bokeh(root)\n",
       "    return (Bokeh != null && Bokeh.Panel !== undefined)\n",
       "  }\n",
       "  if (is_loaded(root)) {\n",
       "    embed_document(root);\n",
       "  } else {\n",
       "    var attempts = 0;\n",
       "    var timer = setInterval(function(root) {\n",
       "      if (is_loaded(root)) {\n",
       "        clearInterval(timer);\n",
       "        embed_document(root);\n",
       "      } else if (document.readyState == \"complete\") {\n",
       "        attempts++;\n",
       "        if (attempts > 200) {\n",
       "          clearInterval(timer);\n",
       "\t  var Bokeh = get_bokeh(root)\n",
       "\t  if (Bokeh == null || Bokeh.Panel == null) {\n",
       "            console.warn(\"Panel: ERROR: Unable to run Panel code because Bokeh or Panel library is missing\");\n",
       "\t  } else {\n",
       "\t    console.warn(\"Panel: WARNING: Attempting to render but not all required libraries could be resolved.\")\n",
       "\t    embed_document(root)\n",
       "\t  }\n",
       "        }\n",
       "      }\n",
       "    }, 25, root)\n",
       "  }\n",
       "})(window);</script>"
      ],
      "text/plain": [
       ":NdOverlay   [birch-segments]\n",
       "   :Scatter   [feature_1]   (feature_2)"
      ]
     },
     "execution_count": 27,
     "metadata": {
      "application/vnd.holoviews_exec.v0+json": {
       "id": "p1462"
      }
     },
     "output_type": "execute_result"
    }
   ],
   "source": [
    "# Plot the birch clusters using the \"feature_1\" and \"feature_2\" columns\n",
    "customers_predictions_df.hvplot.scatter(\n",
    "    x=\"feature_1\",\n",
    "    y=\"feature_2\",\n",
    "    by=\"birch-segments\",\n",
    "    hover_cols=[\"customer_name\"],\n",
    "    title=\"Birch Clusters\",\n",
    ")\n",
    "\n"
   ]
  },
  {
   "cell_type": "code",
   "execution_count": 28,
   "metadata": {},
   "outputs": [
    {
     "data": {
      "text/html": [
       "<div>\n",
       "<style scoped>\n",
       "    .dataframe tbody tr th:only-of-type {\n",
       "        vertical-align: middle;\n",
       "    }\n",
       "\n",
       "    .dataframe tbody tr th {\n",
       "        vertical-align: top;\n",
       "    }\n",
       "\n",
       "    .dataframe thead th {\n",
       "        text-align: right;\n",
       "    }\n",
       "</style>\n",
       "<table border=\"1\" class=\"dataframe\">\n",
       "  <thead>\n",
       "    <tr style=\"text-align: right;\">\n",
       "      <th></th>\n",
       "      <th>kmeans-segments</th>\n",
       "      <th>agglomerative-segments</th>\n",
       "      <th>birch-segments</th>\n",
       "    </tr>\n",
       "  </thead>\n",
       "  <tbody>\n",
       "    <tr>\n",
       "      <th>kmeans-segments</th>\n",
       "      <td>1.000000</td>\n",
       "      <td>0.978482</td>\n",
       "      <td>0.976141</td>\n",
       "    </tr>\n",
       "    <tr>\n",
       "      <th>agglomerative-segments</th>\n",
       "      <td>0.978482</td>\n",
       "      <td>1.000000</td>\n",
       "      <td>0.997615</td>\n",
       "    </tr>\n",
       "    <tr>\n",
       "      <th>birch-segments</th>\n",
       "      <td>0.976141</td>\n",
       "      <td>0.997615</td>\n",
       "      <td>1.000000</td>\n",
       "    </tr>\n",
       "  </tbody>\n",
       "</table>\n",
       "</div>"
      ],
      "text/plain": [
       "                        kmeans-segments  agglomerative-segments  \\\n",
       "kmeans-segments                1.000000                0.978482   \n",
       "agglomerative-segments         0.978482                1.000000   \n",
       "birch-segments                 0.976141                0.997615   \n",
       "\n",
       "                        birch-segments  \n",
       "kmeans-segments               0.976141  \n",
       "agglomerative-segments        0.997615  \n",
       "birch-segments                1.000000  "
      ]
     },
     "execution_count": 28,
     "metadata": {},
     "output_type": "execute_result"
    }
   ],
   "source": [
    "customers_predictions_df[['kmeans-segments','agglomerative-segments', 'birch-segments']].corr()"
   ]
  },
  {
   "cell_type": "markdown",
   "metadata": {},
   "source": [
    "### Bonus"
   ]
  },
  {
   "cell_type": "code",
   "execution_count": 29,
   "metadata": {},
   "outputs": [
    {
     "data": {
      "text/plain": [
       "array([0, 1, 1, 0, 1, 1, 0, 0, 0, 1], dtype=int64)"
      ]
     },
     "execution_count": 29,
     "metadata": {},
     "output_type": "execute_result"
    }
   ],
   "source": [
    "# Preview the predictions for one of the algorithms\n",
    "agg_predictions[:10]\n",
    "\n"
   ]
  },
  {
   "cell_type": "code",
   "execution_count": 30,
   "metadata": {},
   "outputs": [
    {
     "data": {
      "text/plain": [
       "array([0, 1, 1, 0, 1, 1, 0, 0, 0, 1], dtype=int64)"
      ]
     },
     "execution_count": 30,
     "metadata": {},
     "output_type": "execute_result"
    }
   ],
   "source": [
    "# Equivalently, preview the labels_ attribute for one of the algorithms\n",
    "agg_model.labels_[:10]\n",
    "\n"
   ]
  },
  {
   "cell_type": "code",
   "execution_count": 31,
   "metadata": {},
   "outputs": [],
   "source": [
    "# Create a list to store values and the values of k\n",
    "inertia = []\n",
    "\n",
    "# Create a list to set the range of k values to test\n",
    "k = list(range(1, 3))\n"
   ]
  },
  {
   "cell_type": "code",
   "execution_count": 32,
   "metadata": {},
   "outputs": [
    {
     "name": "stderr",
     "output_type": "stream",
     "text": [
      "c:\\Users\\vinay\\anaconda3\\envs\\dev\\lib\\site-packages\\sklearn\\cluster\\_kmeans.py:1412: FutureWarning: The default value of `n_init` will change from 10 to 'auto' in 1.4. Set the value of `n_init` explicitly to suppress the warning\n",
      "  super()._check_params_vs_input(X, default_n_init=10)\n",
      "c:\\Users\\vinay\\anaconda3\\envs\\dev\\lib\\site-packages\\sklearn\\cluster\\_kmeans.py:1412: FutureWarning: The default value of `n_init` will change from 10 to 'auto' in 1.4. Set the value of `n_init` explicitly to suppress the warning\n",
      "  super()._check_params_vs_input(X, default_n_init=10)\n"
     ]
    }
   ],
   "source": [
    "for i in k:\n",
    "    k_model = KMeans(n_clusters=i, random_state=0)\n",
    "    k_model.fit(customers_data)\n",
    "    inertia.append(k_model.inertia_)"
   ]
  },
  {
   "cell_type": "code",
   "execution_count": 23,
   "metadata": {},
   "outputs": [
    {
     "data": {
      "text/plain": [
       "[803.7767901000836,\n",
       " 1197.233959136461,\n",
       " 963.5244943567245,\n",
       " 878.984431645905,\n",
       " 781.1913330352697,\n",
       " 722.008246754843,\n",
       " 678.3825232189985,\n",
       " 638.9870291772176,\n",
       " 603.5166505532344]"
      ]
     },
     "metadata": {},
     "output_type": "display_data"
    }
   ],
   "source": [
    "# When fitting the clustering algorithms in the loop, estimate the [variance ratio criterion (Calinski-Harabasz index)`]\n",
    "# (https://scikit-learn.org/stable/modules/generated/sklearn.metrics.calinski_harabasz_score.html#sklearn.metrics.calinski_harabasz_score)\n",
    "# for each value of k and append the value to the list of scores\n",
    "from sklearn import metrics\n",
    "from sklearn.metrics import pairwise_distances\n",
    "from sklearn import datasets\n",
    "from sklearn.metrics import calinski_harabasz_score\n"
   ]
  },
  {
   "cell_type": "code",
   "execution_count": 24,
   "metadata": {},
   "outputs": [
    {
     "data": {
      "text/plain": [
       "[793.1761769443771,\n",
       " 1173.3765904855773,\n",
       " 920.4304074355512,\n",
       " 783.1374540348882,\n",
       " 698.312451312524,\n",
       " 642.0342150282687,\n",
       " 609.5331449471877,\n",
       " 573.5727292902812,\n",
       " 542.4260224059782]"
      ]
     },
     "execution_count": 24,
     "metadata": {},
     "output_type": "execute_result"
    }
   ],
   "source": []
  },
  {
   "cell_type": "code",
   "execution_count": 25,
   "metadata": {},
   "outputs": [
    {
     "data": {
      "text/plain": [
       "[792.7549736617844,\n",
       " 1172.1940395784056,\n",
       " 905.8303632361597,\n",
       " 807.3524405928957,\n",
       " 710.2991031558391,\n",
       " 650.134014299598,\n",
       " 601.7209094043105,\n",
       " 569.5499222834262,\n",
       " 533.4727554559031]"
      ]
     },
     "execution_count": 25,
     "metadata": {},
     "output_type": "execute_result"
    }
   ],
   "source": []
  },
  {
   "cell_type": "markdown",
   "metadata": {},
   "source": [
    "**Bonus Question:**If larger metric values indicate a better number of clusters, what cluster count is best? Does it vary by the algorithm selected?\n",
    "\n",
    ">**Sample Answer**: Based on each of the three lists, the highest value for each of the three algorithms appears to be at the two-cluster count. Based on this metric, two clusters would actually be sufficient to classify these customers, regardless of which of these three algorithms were used."
   ]
  },
  {
   "cell_type": "code",
   "execution_count": null,
   "metadata": {},
   "outputs": [],
   "source": []
  }
 ],
 "metadata": {
  "kernelspec": {
   "display_name": "Python 3 (ipykernel)",
   "language": "python",
   "name": "python3"
  },
  "language_info": {
   "codemirror_mode": {
    "name": "ipython",
    "version": 3
   },
   "file_extension": ".py",
   "mimetype": "text/x-python",
   "name": "python",
   "nbconvert_exporter": "python",
   "pygments_lexer": "ipython3",
   "version": "3.10.13"
  }
 },
 "nbformat": 4,
 "nbformat_minor": 4
}
